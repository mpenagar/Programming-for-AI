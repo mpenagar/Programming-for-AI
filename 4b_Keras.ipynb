{
 "cells": [
  {
   "cell_type": "markdown",
   "id": "3379ffe4-58ac-43f0-91fd-81b53a9155da",
   "metadata": {},
   "source": [
    "# Keras"
   ]
  },
  {
   "cell_type": "markdown",
   "id": "add79610-1da7-4280-ad0e-8ceacd73d3eb",
   "metadata": {},
   "source": [
    "## 1. Introduction\n",
    "\n",
    "* High-Level library to build, train, and evaluate **Neural Networks** (**Deep Learning** models).\n",
    "* Built-in data handling and preprocessing (i.e. image and text)\n",
    "* Integration with different backends (**JAX**, **TensorFlow** or **PyTorch**).\n",
    "* Various Neural Network architectures:\n",
    "    * **Sequential Models**: Linear stacks of layers (most common for many standard deep learning tasks).\n",
    "    * **Functional API**: More complex model (multi-input/multi-output, directed acyclic graphs DAGs or models with shared layers).\n",
    "    * **Subclassing API**: Greater customization by implementing your own layers.\n",
    "* Simple model interface:\n",
    "    * `model = XXX()...` &rarr; `model.fit(X, y)` &rarr; `model.predict(X_new)` , `model.evaluate(X_new, y_new)`"
   ]
  },
  {
   "cell_type": "markdown",
   "id": "d96e84d0-9090-4d4a-84ff-f856f3d4c3ee",
   "metadata": {},
   "source": [
    "### Neural Networks (Artificial Neural Networks)\n",
    "\n",
    "* Fundamental tools in Machine Learning\n",
    "* Consists of interconnected nodes (neurons) organized into layers.\n",
    "* Each neuron:\n",
    "    1. Receives input signals\n",
    "    1. Performs a computation on them (tipically a sum)\n",
    "    1. Applyes an (non linear) activation function\n",
    "    1. Produces an output signal that may be passed to other neurons\n",
    "\n",
    "<center><img src=\"img/neuron.png\" alt=\"neuron\" style=\"width: 90%;\"/></center>"
   ]
  },
  {
   "cell_type": "markdown",
   "id": "cfb51191-f5dc-4007-8101-7b01c676adb0",
   "metadata": {},
   "source": [
    "* **Input Layer**: Receives the raw input data. The number of neurons corresponds to the number of features in the data.\n",
    "* **Hidden Layers**: One or more (*deep*) intermediate layers. They extract increasingly complex features.\n",
    "* **Output Layer**: Produces the final prediction or classification. The number of neurons and the activation function in this layer depend on the task (1 for regression, N for classification)\n",
    "\n",
    "<center><img src=\"img/mlp.jpeg\" alt=\"mlp\" style=\"width: 80%;\"/></center>"
   ]
  },
  {
   "cell_type": "code",
   "execution_count": 1,
   "id": "9d0b5790-7d00-4ed0-a3bf-98825afc57d5",
   "metadata": {},
   "outputs": [],
   "source": [
    "import numpy as np\n",
    "import pandas as pd\n",
    "import matplotlib as mpl\n",
    "import matplotlib.pyplot as plt\n",
    "import seaborn as sns\n",
    "\n",
    "sns.set()\n",
    "mpl.rcParams['figure.figsize'] = (5.33,4)\n",
    "mpl.rcParams['axes.labelsize'] = 10  # Example: 14 points\n",
    "mpl.rcParams['xtick.labelsize'] = 8  # Example: 12 points for x-axis ticks\n",
    "mpl.rcParams['ytick.labelsize'] = 8  # Example: 12 points for y-axis ticks"
   ]
  },
  {
   "cell_type": "markdown",
   "id": "5fa73c88-040b-4c31-acc3-d1ab19af9c09",
   "metadata": {},
   "source": [
    "### Fashion MNIST"
   ]
  },
  {
   "cell_type": "code",
   "execution_count": 2,
   "id": "29310742-5949-4658-9c92-e069806e5263",
   "metadata": {},
   "outputs": [
    {
     "name": "stdout",
     "output_type": "stream",
     "text": [
      "Warning: Looks like you're using an outdated `kagglehub` version (installed: 0.3.10), please consider upgrading to the latest version (0.3.12).\n"
     ]
    }
   ],
   "source": [
    "import kagglehub\n",
    "path = kagglehub.dataset_download(\"zalando-research/fashionmnist\")\n",
    "train_df = pd.read_csv(path + '/fashion-mnist_train.csv')\n",
    "test_df = pd.read_csv(path + '/fashion-mnist_test.csv')"
   ]
  },
  {
   "cell_type": "code",
   "execution_count": 3,
   "id": "5d5c0f32-70bf-41cf-ac6f-2e0945ad19a3",
   "metadata": {},
   "outputs": [
    {
     "name": "stdout",
     "output_type": "stream",
     "text": [
      "X_train.shape=(60000, 784)\n",
      "y_train.shape=(60000,)\n",
      "X_train.shape=(60000, 784)\n",
      "y_train.shape=(60000,)\n",
      "X_test.shape=(10000, 784)\n",
      "y_test.shape=(10000,)\n",
      "X_train.max()=255\n",
      "X_train.min()=0\n",
      "X_test.max()=255\n",
      "X_test.min()=0\n",
      "[0 1 2 3 4 5 6 7 8 9]\n"
     ]
    }
   ],
   "source": [
    "X_train = train_df.drop('label', axis=1).to_numpy()\n",
    "y_train = train_df['label'].to_numpy()\n",
    "X_test = test_df.drop('label', axis=1).to_numpy()\n",
    "y_test = test_df['label'].to_numpy()\n",
    "print(f'{X_train.shape=}\\n{y_train.shape=}')\n",
    "print(f'{X_train.shape=}\\n{y_train.shape=}')\n",
    "print(f'{X_test.shape=}\\n{y_test.shape=}')\n",
    "print(f'{X_train.max()=}\\n{X_train.min()=}')\n",
    "print(f'{X_test.max()=}\\n{X_test.min()=}')\n",
    "print(f'{np.unique(y_train)}')"
   ]
  },
  {
   "cell_type": "code",
   "execution_count": 4,
   "id": "5216f6d6-3e0b-46d0-88f7-40904764aac3",
   "metadata": {},
   "outputs": [
    {
     "data": {
      "image/png": "[encoded data removed]",
      "text/plain": [
       "<Figure size 533x400 with 4 Axes>"
      ]
     },
     "metadata": {},
     "output_type": "display_data"
    }
   ],
   "source": [
    "with sns.axes_style('white'):\n",
    "    for i,idx in enumerate(np.random.randint(0,X_train.shape[0],4)):\n",
    "        plt.subplot(1, 4, i+1)\n",
    "        plt.imshow(X_train[idx].reshape(28,28), cmap=plt.cm.gray_r)\n",
    "        plt.title(f'{y_train[idx]}')\n",
    "        plt.xticks([]) \n",
    "        plt.yticks([]) "
   ]
  },
  {
   "cell_type": "code",
   "execution_count": 5,
   "id": "8805677a-85fd-4070-a42f-670d74865eed",
   "metadata": {},
   "outputs": [
    {
     "name": "stdout",
     "output_type": "stream",
     "text": [
      "X_train.shape=(60000, 784)\n",
      "y_train.shape=(60000,)\n",
      "X_test.shape=(10000, 784)\n",
      "y_test.shape=(10000,)\n",
      "X_train.max()=1.0\n",
      "X_train.min()=0.0\n",
      "X_test.max()=1.0\n",
      "X_test.min()=0.0\n",
      "[0 1 2 3 4 5 6 7 8 9]\n"
     ]
    }
   ],
   "source": [
    "X_train = X_train / X_train.max()\n",
    "X_test = X_test / X_test.max()\n",
    "# shuffle training data...\n",
    "rindex = np.arange(X_train.shape[0])\n",
    "np.random.shuffle(rindex)\n",
    "X_train = X_train[rindex].copy()\n",
    "y_train = y_train[rindex].copy()\n",
    "print(f'{X_train.shape=}\\n{y_train.shape=}')\n",
    "print(f'{X_test.shape=}\\n{y_test.shape=}')\n",
    "print(f'{X_train.max()=}\\n{X_train.min()=}')\n",
    "print(f'{X_test.max()=}\\n{X_test.min()=}')\n",
    "print(f'{np.unique(y_train)}')"
   ]
  },
  {
   "cell_type": "markdown",
   "id": "15f19c0b-28d6-48d3-bfa4-9d7d84020e5a",
   "metadata": {},
   "source": [
    "## 2. `Sequential` model\n",
    "\n",
    "* Linear Stack of Layers\n",
    "* The output (tensor) of a layer is the input (tensor) of the next layer\n",
    "* `model = Sequential([ A(), B(), C()... ])`\n",
    "* Core Layers:\n",
    "    * `Input`. Often the first one, is a simple placeholder for the input tensor.\n",
    "    * `Dense`. Fully Connected Layer ($~\\mathbf{y} = \\mathbf{W} \\mathbf{x} + \\mathbf{b}$). Every neuron in the layer receives input (a weighted sum + offset) from all the neurons in the preceding layer.\n",
    "    * `Activation` . Applies an activation function to the output of the preceding layer. Can often be specified directly within other layers\n",
    "    * `Flatten` . Converts a multi-dimensional input tensor into a one-dimensional tensor."
   ]
  },
  {
   "cell_type": "markdown",
   "id": "4567b37e-ea64-4159-8587-ef673c7feb8e",
   "metadata": {},
   "source": [
    "### Activation Functions\n",
    "* `sigmoid` . Outputs values between 0 and 1. Can suffer from vanishing gradients\n",
    "$$f(x)=\\frac{1}{1+e^{-x}}$$\n",
    "* `tanh` (Hyperbolic Tangent): Similar to sigmoid but centered around zero. Can also suffer from vanishing gradients\n",
    "$$f(x)=\\frac{e^x - e^{-x}}{e^x + e^{-x}} = 2 \\cdot sigmoid(2x) - 1$$\n",
    "* `relu` (Rectified Linear Unit). Simple, efficient, and helps with the vanishing gradient problem. Can suffer from the \"dying ReLU\" problem (get stuck in the negative side).\n",
    "$$f(x)=\\max(0,x)$$\n",
    "* `softmax` . Converts a vector of raw scores into a probability distribution over multiple classes. \n",
    "$$f(x)_i=\\frac{e^{x_i}}{\\sum_{j}e^{-x_j}}$$\n",
    "\n",
    "<center><img src=\"img/relu-tanh-sigmoid.png\" alt=\"relu tanh sigmoid\" style=\"width: 90%;\"/></center>"
   ]
  },
  {
   "cell_type": "markdown",
   "id": "8b59cfaf-82b0-4c7b-a860-70754c6d3b2e",
   "metadata": {},
   "source": [
    "An example sequential model for fmnist data:"
   ]
  },
  {
   "cell_type": "code",
   "execution_count": 6,
   "id": "63397427-0e64-4fbb-a62b-7bec1a629ef4",
   "metadata": {},
   "outputs": [],
   "source": [
    "#Configuration of Keras backend (JAX) using only CPU\n",
    "import os\n",
    "os.environ[\"KERAS_BACKEND\"] = \"jax\"\n",
    "os.environ[\"JAX_PLATFORMS\"] = \"cpu\""
   ]
  },
  {
   "cell_type": "code",
   "execution_count": 7,
   "id": "8b20f8bb-4439-4f92-b7e7-c2bc39a572d4",
   "metadata": {},
   "outputs": [
    {
     "data": {
      "text/html": [
       "<pre style=\"white-space:pre;overflow-x:auto;line-height:normal;font-family:Menlo,'DejaVu Sans Mono',consolas,'Courier New',monospace\"><span style=\"font-weight: bold\">Model: \"sequential\"</span>\n",
       "</pre>\n"
      ],
      "text/plain": [
       "\u001b[1mModel: \"sequential\"\u001b[0m\n"
      ]
     },
     "metadata": {},
     "output_type": "display_data"
    },
    {
     "data": {
      "text/html": [
       "<pre style=\"white-space:pre;overflow-x:auto;line-height:normal;font-family:Menlo,'DejaVu Sans Mono',consolas,'Courier New',monospace\">┏━━━━━━━━━━━━━━━━━━━━━━━━━━━━━━━━━┳━━━━━━━━━━━━━━━━━━━━━━━━┳━━━━━━━━━━━━━━━┓\n",
       "┃<span style=\"font-weight: bold\"> Layer (type)                    </span>┃<span style=\"font-weight: bold\"> Output Shape           </span>┃<span style=\"font-weight: bold\">       Param # </span>┃\n",
       "┡━━━━━━━━━━━━━━━━━━━━━━━━━━━━━━━━━╇━━━━━━━━━━━━━━━━━━━━━━━━╇━━━━━━━━━━━━━━━┩\n",
       "│ dense (<span style=\"color: #0087ff; text-decoration-color: #0087ff\">Dense</span>)                   │ (<span style=\"color: #00d7ff; text-decoration-color: #00d7ff\">None</span>, <span style=\"color: #00af00; text-decoration-color: #00af00\">512</span>)            │       <span style=\"color: #00af00; text-decoration-color: #00af00\">401,920</span> │\n",
       "├─────────────────────────────────┼────────────────────────┼───────────────┤\n",
       "│ activation (<span style=\"color: #0087ff; text-decoration-color: #0087ff\">Activation</span>)         │ (<span style=\"color: #00d7ff; text-decoration-color: #00d7ff\">None</span>, <span style=\"color: #00af00; text-decoration-color: #00af00\">512</span>)            │             <span style=\"color: #00af00; text-decoration-color: #00af00\">0</span> │\n",
       "├─────────────────────────────────┼────────────────────────┼───────────────┤\n",
       "│ dense_1 (<span style=\"color: #0087ff; text-decoration-color: #0087ff\">Dense</span>)                 │ (<span style=\"color: #00d7ff; text-decoration-color: #00d7ff\">None</span>, <span style=\"color: #00af00; text-decoration-color: #00af00\">128</span>)            │        <span style=\"color: #00af00; text-decoration-color: #00af00\">65,664</span> │\n",
       "├─────────────────────────────────┼────────────────────────┼───────────────┤\n",
       "│ activation_1 (<span style=\"color: #0087ff; text-decoration-color: #0087ff\">Activation</span>)       │ (<span style=\"color: #00d7ff; text-decoration-color: #00d7ff\">None</span>, <span style=\"color: #00af00; text-decoration-color: #00af00\">128</span>)            │             <span style=\"color: #00af00; text-decoration-color: #00af00\">0</span> │\n",
       "├─────────────────────────────────┼────────────────────────┼───────────────┤\n",
       "│ dense_2 (<span style=\"color: #0087ff; text-decoration-color: #0087ff\">Dense</span>)                 │ (<span style=\"color: #00d7ff; text-decoration-color: #00d7ff\">None</span>, <span style=\"color: #00af00; text-decoration-color: #00af00\">32</span>)             │         <span style=\"color: #00af00; text-decoration-color: #00af00\">4,128</span> │\n",
       "├─────────────────────────────────┼────────────────────────┼───────────────┤\n",
       "│ activation_2 (<span style=\"color: #0087ff; text-decoration-color: #0087ff\">Activation</span>)       │ (<span style=\"color: #00d7ff; text-decoration-color: #00d7ff\">None</span>, <span style=\"color: #00af00; text-decoration-color: #00af00\">32</span>)             │             <span style=\"color: #00af00; text-decoration-color: #00af00\">0</span> │\n",
       "├─────────────────────────────────┼────────────────────────┼───────────────┤\n",
       "│ dense_3 (<span style=\"color: #0087ff; text-decoration-color: #0087ff\">Dense</span>)                 │ (<span style=\"color: #00d7ff; text-decoration-color: #00d7ff\">None</span>, <span style=\"color: #00af00; text-decoration-color: #00af00\">10</span>)             │           <span style=\"color: #00af00; text-decoration-color: #00af00\">330</span> │\n",
       "├─────────────────────────────────┼────────────────────────┼───────────────┤\n",
       "│ activation_3 (<span style=\"color: #0087ff; text-decoration-color: #0087ff\">Activation</span>)       │ (<span style=\"color: #00d7ff; text-decoration-color: #00d7ff\">None</span>, <span style=\"color: #00af00; text-decoration-color: #00af00\">10</span>)             │             <span style=\"color: #00af00; text-decoration-color: #00af00\">0</span> │\n",
       "└─────────────────────────────────┴────────────────────────┴───────────────┘\n",
       "</pre>\n"
      ],
      "text/plain": [
       "┏━━━━━━━━━━━━━━━━━━━━━━━━━━━━━━━━━┳━━━━━━━━━━━━━━━━━━━━━━━━┳━━━━━━━━━━━━━━━┓\n",
       "┃\u001b[1m \u001b[0m\u001b[1mLayer (type)                   \u001b[0m\u001b[1m \u001b[0m┃\u001b[1m \u001b[0m\u001b[1mOutput Shape          \u001b[0m\u001b[1m \u001b[0m┃\u001b[1m \u001b[0m\u001b[1m      Param #\u001b[0m\u001b[1m \u001b[0m┃\n",
       "┡━━━━━━━━━━━━━━━━━━━━━━━━━━━━━━━━━╇━━━━━━━━━━━━━━━━━━━━━━━━╇━━━━━━━━━━━━━━━┩\n",
       "│ dense (\u001b[38;5;33mDense\u001b[0m)                   │ (\u001b[38;5;45mNone\u001b[0m, \u001b[38;5;34m512\u001b[0m)            │       \u001b[38;5;34m401,920\u001b[0m │\n",
       "├─────────────────────────────────┼────────────────────────┼───────────────┤\n",
       "│ activation (\u001b[38;5;33mActivation\u001b[0m)         │ (\u001b[38;5;45mNone\u001b[0m, \u001b[38;5;34m512\u001b[0m)            │             \u001b[38;5;34m0\u001b[0m │\n",
       "├─────────────────────────────────┼────────────────────────┼───────────────┤\n",
       "│ dense_1 (\u001b[38;5;33mDense\u001b[0m)                 │ (\u001b[38;5;45mNone\u001b[0m, \u001b[38;5;34m128\u001b[0m)            │        \u001b[38;5;34m65,664\u001b[0m │\n",
       "├─────────────────────────────────┼────────────────────────┼───────────────┤\n",
       "│ activation_1 (\u001b[38;5;33mActivation\u001b[0m)       │ (\u001b[38;5;45mNone\u001b[0m, \u001b[38;5;34m128\u001b[0m)            │             \u001b[38;5;34m0\u001b[0m │\n",
       "├─────────────────────────────────┼────────────────────────┼───────────────┤\n",
       "│ dense_2 (\u001b[38;5;33mDense\u001b[0m)                 │ (\u001b[38;5;45mNone\u001b[0m, \u001b[38;5;34m32\u001b[0m)             │         \u001b[38;5;34m4,128\u001b[0m │\n",
       "├─────────────────────────────────┼────────────────────────┼───────────────┤\n",
       "│ activation_2 (\u001b[38;5;33mActivation\u001b[0m)       │ (\u001b[38;5;45mNone\u001b[0m, \u001b[38;5;34m32\u001b[0m)             │             \u001b[38;5;34m0\u001b[0m │\n",
       "├─────────────────────────────────┼────────────────────────┼───────────────┤\n",
       "│ dense_3 (\u001b[38;5;33mDense\u001b[0m)                 │ (\u001b[38;5;45mNone\u001b[0m, \u001b[38;5;34m10\u001b[0m)             │           \u001b[38;5;34m330\u001b[0m │\n",
       "├─────────────────────────────────┼────────────────────────┼───────────────┤\n",
       "│ activation_3 (\u001b[38;5;33mActivation\u001b[0m)       │ (\u001b[38;5;45mNone\u001b[0m, \u001b[38;5;34m10\u001b[0m)             │             \u001b[38;5;34m0\u001b[0m │\n",
       "└─────────────────────────────────┴────────────────────────┴───────────────┘\n"
      ]
     },
     "metadata": {},
     "output_type": "display_data"
    },
    {
     "data": {
      "text/html": [
       "<pre style=\"white-space:pre;overflow-x:auto;line-height:normal;font-family:Menlo,'DejaVu Sans Mono',consolas,'Courier New',monospace\"><span style=\"font-weight: bold\"> Total params: </span><span style=\"color: #00af00; text-decoration-color: #00af00\">472,042</span> (1.80 MB)\n",
       "</pre>\n"
      ],
      "text/plain": [
       "\u001b[1m Total params: \u001b[0m\u001b[38;5;34m472,042\u001b[0m (1.80 MB)\n"
      ]
     },
     "metadata": {},
     "output_type": "display_data"
    },
    {
     "data": {
      "text/html": [
       "<pre style=\"white-space:pre;overflow-x:auto;line-height:normal;font-family:Menlo,'DejaVu Sans Mono',consolas,'Courier New',monospace\"><span style=\"font-weight: bold\"> Trainable params: </span><span style=\"color: #00af00; text-decoration-color: #00af00\">472,042</span> (1.80 MB)\n",
       "</pre>\n"
      ],
      "text/plain": [
       "\u001b[1m Trainable params: \u001b[0m\u001b[38;5;34m472,042\u001b[0m (1.80 MB)\n"
      ]
     },
     "metadata": {},
     "output_type": "display_data"
    },
    {
     "data": {
      "text/html": [
       "<pre style=\"white-space:pre;overflow-x:auto;line-height:normal;font-family:Menlo,'DejaVu Sans Mono',consolas,'Courier New',monospace\"><span style=\"font-weight: bold\"> Non-trainable params: </span><span style=\"color: #00af00; text-decoration-color: #00af00\">0</span> (0.00 B)\n",
       "</pre>\n"
      ],
      "text/plain": [
       "\u001b[1m Non-trainable params: \u001b[0m\u001b[38;5;34m0\u001b[0m (0.00 B)\n"
      ]
     },
     "metadata": {},
     "output_type": "display_data"
    }
   ],
   "source": [
    "from keras import Sequential\n",
    "from keras.layers import Input, Dense, Activation\n",
    "\n",
    "model = Sequential([\n",
    "        Input(shape=(784,)),\n",
    "        Dense(512),\n",
    "        Activation('sigmoid'),\n",
    "        Dense(128),\n",
    "        Activation('tanh'),\n",
    "        Dense(32),\n",
    "        Activation('relu'),\n",
    "        Dense(10),\n",
    "        Activation('softmax')\n",
    "])\n",
    "model.summary()"
   ]
  },
  {
   "cell_type": "markdown",
   "id": "c70c610a-6f32-4f26-b3c5-ea90b7b02152",
   "metadata": {},
   "source": [
    "Activations can often be specified directly within other layers:"
   ]
  },
  {
   "cell_type": "code",
   "execution_count": 8,
   "id": "9d346d7b-e14e-4865-851e-1918e916bf2c",
   "metadata": {},
   "outputs": [
    {
     "data": {
      "text/html": [
       "<pre style=\"white-space:pre;overflow-x:auto;line-height:normal;font-family:Menlo,'DejaVu Sans Mono',consolas,'Courier New',monospace\"><span style=\"font-weight: bold\">Model: \"sequential_1\"</span>\n",
       "</pre>\n"
      ],
      "text/plain": [
       "\u001b[1mModel: \"sequential_1\"\u001b[0m\n"
      ]
     },
     "metadata": {},
     "output_type": "display_data"
    },
    {
     "data": {
      "text/html": [
       "<pre style=\"white-space:pre;overflow-x:auto;line-height:normal;font-family:Menlo,'DejaVu Sans Mono',consolas,'Courier New',monospace\">┏━━━━━━━━━━━━━━━━━━━━━━━━━━━━━━━━━┳━━━━━━━━━━━━━━━━━━━━━━━━┳━━━━━━━━━━━━━━━┓\n",
       "┃<span style=\"font-weight: bold\"> Layer (type)                    </span>┃<span style=\"font-weight: bold\"> Output Shape           </span>┃<span style=\"font-weight: bold\">       Param # </span>┃\n",
       "┡━━━━━━━━━━━━━━━━━━━━━━━━━━━━━━━━━╇━━━━━━━━━━━━━━━━━━━━━━━━╇━━━━━━━━━━━━━━━┩\n",
       "│ dense_4 (<span style=\"color: #0087ff; text-decoration-color: #0087ff\">Dense</span>)                 │ (<span style=\"color: #00d7ff; text-decoration-color: #00d7ff\">None</span>, <span style=\"color: #00af00; text-decoration-color: #00af00\">512</span>)            │       <span style=\"color: #00af00; text-decoration-color: #00af00\">401,920</span> │\n",
       "├─────────────────────────────────┼────────────────────────┼───────────────┤\n",
       "│ dense_5 (<span style=\"color: #0087ff; text-decoration-color: #0087ff\">Dense</span>)                 │ (<span style=\"color: #00d7ff; text-decoration-color: #00d7ff\">None</span>, <span style=\"color: #00af00; text-decoration-color: #00af00\">128</span>)            │        <span style=\"color: #00af00; text-decoration-color: #00af00\">65,664</span> │\n",
       "├─────────────────────────────────┼────────────────────────┼───────────────┤\n",
       "│ dense_6 (<span style=\"color: #0087ff; text-decoration-color: #0087ff\">Dense</span>)                 │ (<span style=\"color: #00d7ff; text-decoration-color: #00d7ff\">None</span>, <span style=\"color: #00af00; text-decoration-color: #00af00\">32</span>)             │         <span style=\"color: #00af00; text-decoration-color: #00af00\">4,128</span> │\n",
       "├─────────────────────────────────┼────────────────────────┼───────────────┤\n",
       "│ dense_7 (<span style=\"color: #0087ff; text-decoration-color: #0087ff\">Dense</span>)                 │ (<span style=\"color: #00d7ff; text-decoration-color: #00d7ff\">None</span>, <span style=\"color: #00af00; text-decoration-color: #00af00\">10</span>)             │           <span style=\"color: #00af00; text-decoration-color: #00af00\">330</span> │\n",
       "└─────────────────────────────────┴────────────────────────┴───────────────┘\n",
       "</pre>\n"
      ],
      "text/plain": [
       "┏━━━━━━━━━━━━━━━━━━━━━━━━━━━━━━━━━┳━━━━━━━━━━━━━━━━━━━━━━━━┳━━━━━━━━━━━━━━━┓\n",
       "┃\u001b[1m \u001b[0m\u001b[1mLayer (type)                   \u001b[0m\u001b[1m \u001b[0m┃\u001b[1m \u001b[0m\u001b[1mOutput Shape          \u001b[0m\u001b[1m \u001b[0m┃\u001b[1m \u001b[0m\u001b[1m      Param #\u001b[0m\u001b[1m \u001b[0m┃\n",
       "┡━━━━━━━━━━━━━━━━━━━━━━━━━━━━━━━━━╇━━━━━━━━━━━━━━━━━━━━━━━━╇━━━━━━━━━━━━━━━┩\n",
       "│ dense_4 (\u001b[38;5;33mDense\u001b[0m)                 │ (\u001b[38;5;45mNone\u001b[0m, \u001b[38;5;34m512\u001b[0m)            │       \u001b[38;5;34m401,920\u001b[0m │\n",
       "├─────────────────────────────────┼────────────────────────┼───────────────┤\n",
       "│ dense_5 (\u001b[38;5;33mDense\u001b[0m)                 │ (\u001b[38;5;45mNone\u001b[0m, \u001b[38;5;34m128\u001b[0m)            │        \u001b[38;5;34m65,664\u001b[0m │\n",
       "├─────────────────────────────────┼────────────────────────┼───────────────┤\n",
       "│ dense_6 (\u001b[38;5;33mDense\u001b[0m)                 │ (\u001b[38;5;45mNone\u001b[0m, \u001b[38;5;34m32\u001b[0m)             │         \u001b[38;5;34m4,128\u001b[0m │\n",
       "├─────────────────────────────────┼────────────────────────┼───────────────┤\n",
       "│ dense_7 (\u001b[38;5;33mDense\u001b[0m)                 │ (\u001b[38;5;45mNone\u001b[0m, \u001b[38;5;34m10\u001b[0m)             │           \u001b[38;5;34m330\u001b[0m │\n",
       "└─────────────────────────────────┴────────────────────────┴───────────────┘\n"
      ]
     },
     "metadata": {},
     "output_type": "display_data"
    },
    {
     "data": {
      "text/html": [
       "<pre style=\"white-space:pre;overflow-x:auto;line-height:normal;font-family:Menlo,'DejaVu Sans Mono',consolas,'Courier New',monospace\"><span style=\"font-weight: bold\"> Total params: </span><span style=\"color: #00af00; text-decoration-color: #00af00\">472,042</span> (1.80 MB)\n",
       "</pre>\n"
      ],
      "text/plain": [
       "\u001b[1m Total params: \u001b[0m\u001b[38;5;34m472,042\u001b[0m (1.80 MB)\n"
      ]
     },
     "metadata": {},
     "output_type": "display_data"
    },
    {
     "data": {
      "text/html": [
       "<pre style=\"white-space:pre;overflow-x:auto;line-height:normal;font-family:Menlo,'DejaVu Sans Mono',consolas,'Courier New',monospace\"><span style=\"font-weight: bold\"> Trainable params: </span><span style=\"color: #00af00; text-decoration-color: #00af00\">472,042</span> (1.80 MB)\n",
       "</pre>\n"
      ],
      "text/plain": [
       "\u001b[1m Trainable params: \u001b[0m\u001b[38;5;34m472,042\u001b[0m (1.80 MB)\n"
      ]
     },
     "metadata": {},
     "output_type": "display_data"
    },
    {
     "data": {
      "text/html": [
       "<pre style=\"white-space:pre;overflow-x:auto;line-height:normal;font-family:Menlo,'DejaVu Sans Mono',consolas,'Courier New',monospace\"><span style=\"font-weight: bold\"> Non-trainable params: </span><span style=\"color: #00af00; text-decoration-color: #00af00\">0</span> (0.00 B)\n",
       "</pre>\n"
      ],
      "text/plain": [
       "\u001b[1m Non-trainable params: \u001b[0m\u001b[38;5;34m0\u001b[0m (0.00 B)\n"
      ]
     },
     "metadata": {},
     "output_type": "display_data"
    }
   ],
   "source": [
    "model = Sequential([\n",
    "        Input(shape=(784,)),\n",
    "        Dense(512, activation='sigmoid'),\n",
    "        Dense(128, activation='tanh'),\n",
    "        Dense(32, activation='relu'),\n",
    "        Dense(10, activation='softmax'),\n",
    "])\n",
    "model.summary()"
   ]
  },
  {
   "cell_type": "code",
   "execution_count": 9,
   "id": "7ab73235-10f0-47f4-9691-5f3fc652519e",
   "metadata": {},
   "outputs": [
    {
     "name": "stdout",
     "output_type": "stream",
     "text": [
      "input_shape =(784,)\n",
      "num_classes = 10\n"
     ]
    },
    {
     "data": {
      "text/html": [
       "<pre style=\"white-space:pre;overflow-x:auto;line-height:normal;font-family:Menlo,'DejaVu Sans Mono',consolas,'Courier New',monospace\"><span style=\"font-weight: bold\">Model: \"sequential_2\"</span>\n",
       "</pre>\n"
      ],
      "text/plain": [
       "\u001b[1mModel: \"sequential_2\"\u001b[0m\n"
      ]
     },
     "metadata": {},
     "output_type": "display_data"
    },
    {
     "data": {
      "text/html": [
       "<pre style=\"white-space:pre;overflow-x:auto;line-height:normal;font-family:Menlo,'DejaVu Sans Mono',consolas,'Courier New',monospace\">┏━━━━━━━━━━━━━━━━━━━━━━━━━━━━━━━━━┳━━━━━━━━━━━━━━━━━━━━━━━━┳━━━━━━━━━━━━━━━┓\n",
       "┃<span style=\"font-weight: bold\"> Layer (type)                    </span>┃<span style=\"font-weight: bold\"> Output Shape           </span>┃<span style=\"font-weight: bold\">       Param # </span>┃\n",
       "┡━━━━━━━━━━━━━━━━━━━━━━━━━━━━━━━━━╇━━━━━━━━━━━━━━━━━━━━━━━━╇━━━━━━━━━━━━━━━┩\n",
       "│ dense_8 (<span style=\"color: #0087ff; text-decoration-color: #0087ff\">Dense</span>)                 │ (<span style=\"color: #00d7ff; text-decoration-color: #00d7ff\">None</span>, <span style=\"color: #00af00; text-decoration-color: #00af00\">512</span>)            │       <span style=\"color: #00af00; text-decoration-color: #00af00\">401,920</span> │\n",
       "├─────────────────────────────────┼────────────────────────┼───────────────┤\n",
       "│ dense_9 (<span style=\"color: #0087ff; text-decoration-color: #0087ff\">Dense</span>)                 │ (<span style=\"color: #00d7ff; text-decoration-color: #00d7ff\">None</span>, <span style=\"color: #00af00; text-decoration-color: #00af00\">128</span>)            │        <span style=\"color: #00af00; text-decoration-color: #00af00\">65,664</span> │\n",
       "├─────────────────────────────────┼────────────────────────┼───────────────┤\n",
       "│ dense_10 (<span style=\"color: #0087ff; text-decoration-color: #0087ff\">Dense</span>)                │ (<span style=\"color: #00d7ff; text-decoration-color: #00d7ff\">None</span>, <span style=\"color: #00af00; text-decoration-color: #00af00\">32</span>)             │         <span style=\"color: #00af00; text-decoration-color: #00af00\">4,128</span> │\n",
       "├─────────────────────────────────┼────────────────────────┼───────────────┤\n",
       "│ dense_11 (<span style=\"color: #0087ff; text-decoration-color: #0087ff\">Dense</span>)                │ (<span style=\"color: #00d7ff; text-decoration-color: #00d7ff\">None</span>, <span style=\"color: #00af00; text-decoration-color: #00af00\">10</span>)             │           <span style=\"color: #00af00; text-decoration-color: #00af00\">330</span> │\n",
       "└─────────────────────────────────┴────────────────────────┴───────────────┘\n",
       "</pre>\n"
      ],
      "text/plain": [
       "┏━━━━━━━━━━━━━━━━━━━━━━━━━━━━━━━━━┳━━━━━━━━━━━━━━━━━━━━━━━━┳━━━━━━━━━━━━━━━┓\n",
       "┃\u001b[1m \u001b[0m\u001b[1mLayer (type)                   \u001b[0m\u001b[1m \u001b[0m┃\u001b[1m \u001b[0m\u001b[1mOutput Shape          \u001b[0m\u001b[1m \u001b[0m┃\u001b[1m \u001b[0m\u001b[1m      Param #\u001b[0m\u001b[1m \u001b[0m┃\n",
       "┡━━━━━━━━━━━━━━━━━━━━━━━━━━━━━━━━━╇━━━━━━━━━━━━━━━━━━━━━━━━╇━━━━━━━━━━━━━━━┩\n",
       "│ dense_8 (\u001b[38;5;33mDense\u001b[0m)                 │ (\u001b[38;5;45mNone\u001b[0m, \u001b[38;5;34m512\u001b[0m)            │       \u001b[38;5;34m401,920\u001b[0m │\n",
       "├─────────────────────────────────┼────────────────────────┼───────────────┤\n",
       "│ dense_9 (\u001b[38;5;33mDense\u001b[0m)                 │ (\u001b[38;5;45mNone\u001b[0m, \u001b[38;5;34m128\u001b[0m)            │        \u001b[38;5;34m65,664\u001b[0m │\n",
       "├─────────────────────────────────┼────────────────────────┼───────────────┤\n",
       "│ dense_10 (\u001b[38;5;33mDense\u001b[0m)                │ (\u001b[38;5;45mNone\u001b[0m, \u001b[38;5;34m32\u001b[0m)             │         \u001b[38;5;34m4,128\u001b[0m │\n",
       "├─────────────────────────────────┼────────────────────────┼───────────────┤\n",
       "│ dense_11 (\u001b[38;5;33mDense\u001b[0m)                │ (\u001b[38;5;45mNone\u001b[0m, \u001b[38;5;34m10\u001b[0m)             │           \u001b[38;5;34m330\u001b[0m │\n",
       "└─────────────────────────────────┴────────────────────────┴───────────────┘\n"
      ]
     },
     "metadata": {},
     "output_type": "display_data"
    },
    {
     "data": {
      "text/html": [
       "<pre style=\"white-space:pre;overflow-x:auto;line-height:normal;font-family:Menlo,'DejaVu Sans Mono',consolas,'Courier New',monospace\"><span style=\"font-weight: bold\"> Total params: </span><span style=\"color: #00af00; text-decoration-color: #00af00\">472,042</span> (1.80 MB)\n",
       "</pre>\n"
      ],
      "text/plain": [
       "\u001b[1m Total params: \u001b[0m\u001b[38;5;34m472,042\u001b[0m (1.80 MB)\n"
      ]
     },
     "metadata": {},
     "output_type": "display_data"
    },
    {
     "data": {
      "text/html": [
       "<pre style=\"white-space:pre;overflow-x:auto;line-height:normal;font-family:Menlo,'DejaVu Sans Mono',consolas,'Courier New',monospace\"><span style=\"font-weight: bold\"> Trainable params: </span><span style=\"color: #00af00; text-decoration-color: #00af00\">472,042</span> (1.80 MB)\n",
       "</pre>\n"
      ],
      "text/plain": [
       "\u001b[1m Trainable params: \u001b[0m\u001b[38;5;34m472,042\u001b[0m (1.80 MB)\n"
      ]
     },
     "metadata": {},
     "output_type": "display_data"
    },
    {
     "data": {
      "text/html": [
       "<pre style=\"white-space:pre;overflow-x:auto;line-height:normal;font-family:Menlo,'DejaVu Sans Mono',consolas,'Courier New',monospace\"><span style=\"font-weight: bold\"> Non-trainable params: </span><span style=\"color: #00af00; text-decoration-color: #00af00\">0</span> (0.00 B)\n",
       "</pre>\n"
      ],
      "text/plain": [
       "\u001b[1m Non-trainable params: \u001b[0m\u001b[38;5;34m0\u001b[0m (0.00 B)\n"
      ]
     },
     "metadata": {},
     "output_type": "display_data"
    }
   ],
   "source": [
    "input_shape = X_train[0].shape\n",
    "num_classes = np.unique(y_train).size\n",
    "print(f'{input_shape =}\\n{num_classes = }')\n",
    "\n",
    "model = Sequential([\n",
    "        Input(shape=input_shape),\n",
    "        Dense(512, activation=\"relu\"),\n",
    "        Dense(128, activation=\"relu\"),\n",
    "        Dense(32, activation=\"relu\"),\n",
    "        Dense(num_classes, activation=\"softmax\")\n",
    "])\n",
    "model.summary()"
   ]
  },
  {
   "cell_type": "markdown",
   "id": "6559cf9f-092c-45eb-aa51-c0912803fa15",
   "metadata": {},
   "source": [
    " Configure the learning process of the neural networkbefore training it:"
   ]
  },
  {
   "cell_type": "code",
   "execution_count": 10,
   "id": "c8f1445c-8461-4578-af2a-4f7ca63bc3e2",
   "metadata": {},
   "outputs": [],
   "source": [
    "from keras.optimizers import Adam\n",
    "from keras.losses import SparseCategoricalCrossentropy\n",
    "from keras.metrics import Accuracy\n",
    "\n",
    "model.compile(optimizer=Adam(),\n",
    "              loss=SparseCategoricalCrossentropy(),\n",
    "              metrics=['accuracy'])"
   ]
  },
  {
   "cell_type": "markdown",
   "id": "fc2aee49-18d7-4655-9ab7-ed257c897aa4",
   "metadata": {},
   "source": [
    "If we are using the default arguments, many parameters can be set with their correspondent names: "
   ]
  },
  {
   "cell_type": "code",
   "execution_count": 11,
   "id": "7db6d490-551d-4e0f-8fac-6546ddae4480",
   "metadata": {},
   "outputs": [
    {
     "name": "stdout",
     "output_type": "stream",
     "text": [
      "Adam().name = 'adam'\n",
      "SparseCategoricalCrossentropy().name = 'sparse_categorical_crossentropy'\n"
     ]
    }
   ],
   "source": [
    "print(f'{Adam().name = }')\n",
    "print(f'{SparseCategoricalCrossentropy().name = }')"
   ]
  },
  {
   "cell_type": "code",
   "execution_count": 12,
   "id": "4d759f9b-6374-4711-b849-c1e57f4f65ed",
   "metadata": {},
   "outputs": [],
   "source": [
    "model.compile(optimizer=\"adam\",\n",
    "              loss=\"sparse_categorical_crossentropy\",\n",
    "              metrics=['accuracy'])"
   ]
  },
  {
   "cell_type": "markdown",
   "id": "e7e4ff61-e83f-46fd-83ad-fb95fc1d5597",
   "metadata": {},
   "source": [
    "Fit the model and get a callback that records events that happen during the training process:"
   ]
  },
  {
   "cell_type": "code",
   "execution_count": 13,
   "id": "82a44fa3-b601-4cdc-a67e-ffbf91d1d5c7",
   "metadata": {},
   "outputs": [
    {
     "name": "stdout",
     "output_type": "stream",
     "text": [
      "Epoch 1/10\n",
      "\u001b[1m1500/1500\u001b[0m \u001b[32m━━━━━━━━━━━━━━━━━━━━\u001b[0m\u001b[37m\u001b[0m \u001b[1m6s\u001b[0m 4ms/step - accuracy: 0.7730 - loss: 0.6492 - val_accuracy: 0.8405 - val_loss: 0.4306\n",
      "Epoch 2/10\n",
      "\u001b[1m1500/1500\u001b[0m \u001b[32m━━━━━━━━━━━━━━━━━━━━\u001b[0m\u001b[37m\u001b[0m \u001b[1m5s\u001b[0m 3ms/step - accuracy: 0.8587 - loss: 0.3845 - val_accuracy: 0.8696 - val_loss: 0.3578\n",
      "Epoch 3/10\n",
      "\u001b[1m1500/1500\u001b[0m \u001b[32m━━━━━━━━━━━━━━━━━━━━\u001b[0m\u001b[37m\u001b[0m \u001b[1m6s\u001b[0m 4ms/step - accuracy: 0.8724 - loss: 0.3495 - val_accuracy: 0.8781 - val_loss: 0.3323\n",
      "Epoch 4/10\n",
      "\u001b[1m1500/1500\u001b[0m \u001b[32m━━━━━━━━━━━━━━━━━━━━\u001b[0m\u001b[37m\u001b[0m \u001b[1m8s\u001b[0m 5ms/step - accuracy: 0.8804 - loss: 0.3192 - val_accuracy: 0.8863 - val_loss: 0.3161\n",
      "Epoch 5/10\n",
      "\u001b[1m1500/1500\u001b[0m \u001b[32m━━━━━━━━━━━━━━━━━━━━\u001b[0m\u001b[37m\u001b[0m \u001b[1m7s\u001b[0m 5ms/step - accuracy: 0.8903 - loss: 0.2988 - val_accuracy: 0.8842 - val_loss: 0.3237\n",
      "Epoch 6/10\n",
      "\u001b[1m1500/1500\u001b[0m \u001b[32m━━━━━━━━━━━━━━━━━━━━\u001b[0m\u001b[37m\u001b[0m \u001b[1m8s\u001b[0m 5ms/step - accuracy: 0.8955 - loss: 0.2841 - val_accuracy: 0.8913 - val_loss: 0.3062\n",
      "Epoch 7/10\n",
      "\u001b[1m1500/1500\u001b[0m \u001b[32m━━━━━━━━━━━━━━━━━━━━\u001b[0m\u001b[37m\u001b[0m \u001b[1m7s\u001b[0m 4ms/step - accuracy: 0.8990 - loss: 0.2706 - val_accuracy: 0.8798 - val_loss: 0.3240\n",
      "Epoch 8/10\n",
      "\u001b[1m1500/1500\u001b[0m \u001b[32m━━━━━━━━━━━━━━━━━━━━\u001b[0m\u001b[37m\u001b[0m \u001b[1m6s\u001b[0m 4ms/step - accuracy: 0.9033 - loss: 0.2578 - val_accuracy: 0.8878 - val_loss: 0.3121\n",
      "Epoch 9/10\n",
      "\u001b[1m1500/1500\u001b[0m \u001b[32m━━━━━━━━━━━━━━━━━━━━\u001b[0m\u001b[37m\u001b[0m \u001b[1m7s\u001b[0m 5ms/step - accuracy: 0.9072 - loss: 0.2467 - val_accuracy: 0.8876 - val_loss: 0.3282\n",
      "Epoch 10/10\n",
      "\u001b[1m1500/1500\u001b[0m \u001b[32m━━━━━━━━━━━━━━━━━━━━\u001b[0m\u001b[37m\u001b[0m \u001b[1m6s\u001b[0m 4ms/step - accuracy: 0.9110 - loss: 0.2356 - val_accuracy: 0.8962 - val_loss: 0.2985\n"
     ]
    }
   ],
   "source": [
    "callback = model.fit(X_train, y_train, validation_split=0.2, epochs=10)"
   ]
  },
  {
   "cell_type": "markdown",
   "id": "176dd7ba-b9ff-4b08-a2ef-894a527f850f",
   "metadata": {},
   "source": [
    "`callback.history` contains a dictionary with the losses and metrics for each epoch:"
   ]
  },
  {
   "cell_type": "code",
   "execution_count": 14,
   "id": "70ba6ca1-ef72-43b9-a460-16b4057cf3c6",
   "metadata": {},
   "outputs": [
    {
     "data": {
      "text/plain": [
       "{'accuracy': [0.8171666860580444,\n",
       "  0.8606041669845581,\n",
       "  0.8730624914169312,\n",
       "  0.8818541765213013,\n",
       "  0.8890833258628845,\n",
       "  0.893708348274231,\n",
       "  0.8989999890327454,\n",
       "  0.9024375081062317,\n",
       "  0.9065208435058594,\n",
       "  0.9096458554267883],\n",
       " 'loss': [0.5117257237434387,\n",
       "  0.37997451424598694,\n",
       "  0.34792351722717285,\n",
       "  0.3206142485141754,\n",
       "  0.30075812339782715,\n",
       "  0.28705742955207825,\n",
       "  0.2732927203178406,\n",
       "  0.26102137565612793,\n",
       "  0.24958518147468567,\n",
       "  0.23922961950302124],\n",
       " 'val_accuracy': [0.840499997138977,\n",
       "  0.8695833086967468,\n",
       "  0.878083348274231,\n",
       "  0.8862500190734863,\n",
       "  0.8842499852180481,\n",
       "  0.8912500143051147,\n",
       "  0.8797500133514404,\n",
       "  0.8878333568572998,\n",
       "  0.887583315372467,\n",
       "  0.8961666822433472],\n",
       " 'val_loss': [0.4305688142776489,\n",
       "  0.3577728271484375,\n",
       "  0.332341730594635,\n",
       "  0.31607750058174133,\n",
       "  0.3237145245075226,\n",
       "  0.30622008442878723,\n",
       "  0.3240238130092621,\n",
       "  0.3120673894882202,\n",
       "  0.32815074920654297,\n",
       "  0.29852965474128723]}"
      ]
     },
     "execution_count": 14,
     "metadata": {},
     "output_type": "execute_result"
    }
   ],
   "source": [
    "callback.history"
   ]
  },
  {
   "cell_type": "code",
   "execution_count": 15,
   "id": "266c8e09-7b8e-41f9-9c15-3ce406d631e3",
   "metadata": {},
   "outputs": [
    {
     "data": {
      "text/html": [
       "<div>\n",
       "<style scoped>\n",
       "    .dataframe tbody tr th:only-of-type {\n",
       "        vertical-align: middle;\n",
       "    }\n",
       "\n",
       "    .dataframe tbody tr th {\n",
       "        vertical-align: top;\n",
       "    }\n",
       "\n",
       "    .dataframe thead th {\n",
       "        text-align: right;\n",
       "    }\n",
       "</style>\n",
       "<table border=\"1\" class=\"dataframe\">\n",
       "  <thead>\n",
       "    <tr style=\"text-align: right;\">\n",
       "      <th></th>\n",
       "      <th>accuracy</th>\n",
       "      <th>loss</th>\n",
       "      <th>val_accuracy</th>\n",
       "      <th>val_loss</th>\n",
       "    </tr>\n",
       "  </thead>\n",
       "  <tbody>\n",
       "    <tr>\n",
       "      <th>0</th>\n",
       "      <td>0.817167</td>\n",
       "      <td>0.511726</td>\n",
       "      <td>0.840500</td>\n",
       "      <td>0.430569</td>\n",
       "    </tr>\n",
       "    <tr>\n",
       "      <th>1</th>\n",
       "      <td>0.860604</td>\n",
       "      <td>0.379975</td>\n",
       "      <td>0.869583</td>\n",
       "      <td>0.357773</td>\n",
       "    </tr>\n",
       "    <tr>\n",
       "      <th>2</th>\n",
       "      <td>0.873062</td>\n",
       "      <td>0.347924</td>\n",
       "      <td>0.878083</td>\n",
       "      <td>0.332342</td>\n",
       "    </tr>\n",
       "    <tr>\n",
       "      <th>3</th>\n",
       "      <td>0.881854</td>\n",
       "      <td>0.320614</td>\n",
       "      <td>0.886250</td>\n",
       "      <td>0.316078</td>\n",
       "    </tr>\n",
       "    <tr>\n",
       "      <th>4</th>\n",
       "      <td>0.889083</td>\n",
       "      <td>0.300758</td>\n",
       "      <td>0.884250</td>\n",
       "      <td>0.323715</td>\n",
       "    </tr>\n",
       "  </tbody>\n",
       "</table>\n",
       "</div>"
      ],
      "text/plain": [
       "   accuracy      loss  val_accuracy  val_loss\n",
       "0  0.817167  0.511726      0.840500  0.430569\n",
       "1  0.860604  0.379975      0.869583  0.357773\n",
       "2  0.873062  0.347924      0.878083  0.332342\n",
       "3  0.881854  0.320614      0.886250  0.316078\n",
       "4  0.889083  0.300758      0.884250  0.323715"
      ]
     },
     "execution_count": 15,
     "metadata": {},
     "output_type": "execute_result"
    }
   ],
   "source": [
    "hist = pd.DataFrame(callback.history)\n",
    "hist.head()"
   ]
  },
  {
   "cell_type": "code",
   "execution_count": 16,
   "id": "4228855e-cae2-4056-8997-59b5699da71e",
   "metadata": {},
   "outputs": [
    {
     "data": {
      "text/html": [
       "<div>\n",
       "<style scoped>\n",
       "    .dataframe tbody tr th:only-of-type {\n",
       "        vertical-align: middle;\n",
       "    }\n",
       "\n",
       "    .dataframe tbody tr th {\n",
       "        vertical-align: top;\n",
       "    }\n",
       "\n",
       "    .dataframe thead th {\n",
       "        text-align: right;\n",
       "    }\n",
       "</style>\n",
       "<table border=\"1\" class=\"dataframe\">\n",
       "  <thead>\n",
       "    <tr style=\"text-align: right;\">\n",
       "      <th></th>\n",
       "      <th>accuracy</th>\n",
       "      <th>loss</th>\n",
       "      <th>val_accuracy</th>\n",
       "      <th>val_loss</th>\n",
       "    </tr>\n",
       "    <tr>\n",
       "      <th>epoch</th>\n",
       "      <th></th>\n",
       "      <th></th>\n",
       "      <th></th>\n",
       "      <th></th>\n",
       "    </tr>\n",
       "  </thead>\n",
       "  <tbody>\n",
       "    <tr>\n",
       "      <th>1</th>\n",
       "      <td>0.817167</td>\n",
       "      <td>0.511726</td>\n",
       "      <td>0.840500</td>\n",
       "      <td>0.430569</td>\n",
       "    </tr>\n",
       "    <tr>\n",
       "      <th>2</th>\n",
       "      <td>0.860604</td>\n",
       "      <td>0.379975</td>\n",
       "      <td>0.869583</td>\n",
       "      <td>0.357773</td>\n",
       "    </tr>\n",
       "    <tr>\n",
       "      <th>3</th>\n",
       "      <td>0.873062</td>\n",
       "      <td>0.347924</td>\n",
       "      <td>0.878083</td>\n",
       "      <td>0.332342</td>\n",
       "    </tr>\n",
       "    <tr>\n",
       "      <th>4</th>\n",
       "      <td>0.881854</td>\n",
       "      <td>0.320614</td>\n",
       "      <td>0.886250</td>\n",
       "      <td>0.316078</td>\n",
       "    </tr>\n",
       "    <tr>\n",
       "      <th>5</th>\n",
       "      <td>0.889083</td>\n",
       "      <td>0.300758</td>\n",
       "      <td>0.884250</td>\n",
       "      <td>0.323715</td>\n",
       "    </tr>\n",
       "  </tbody>\n",
       "</table>\n",
       "</div>"
      ],
      "text/plain": [
       "       accuracy      loss  val_accuracy  val_loss\n",
       "epoch                                            \n",
       "1      0.817167  0.511726      0.840500  0.430569\n",
       "2      0.860604  0.379975      0.869583  0.357773\n",
       "3      0.873062  0.347924      0.878083  0.332342\n",
       "4      0.881854  0.320614      0.886250  0.316078\n",
       "5      0.889083  0.300758      0.884250  0.323715"
      ]
     },
     "execution_count": 16,
     "metadata": {},
     "output_type": "execute_result"
    }
   ],
   "source": [
    "hist = pd.DataFrame(callback.history)\n",
    "hist.index += 1\n",
    "hist.index.name = 'epoch'\n",
    "hist.head()"
   ]
  },
  {
   "cell_type": "code",
   "execution_count": 17,
   "id": "e437d040-0562-4b88-9c4e-b55a23cf2972",
   "metadata": {},
   "outputs": [
    {
     "data": {
      "image/png": "[encoded data removed]",
      "text/plain": [
       "<Figure size 1200x500 with 2 Axes>"
      ]
     },
     "metadata": {},
     "output_type": "display_data"
    }
   ],
   "source": [
    "fig, (ax1,ax2) = plt.subplots(1, 2, figsize=(12, 5))\n",
    "hist[['loss','val_loss']].plot(ax=ax1)\n",
    "hist[['accuracy','val_accuracy']].plot(ax=ax2);"
   ]
  },
  {
   "cell_type": "code",
   "execution_count": 18,
   "id": "458543b5-a69c-4c9e-a1eb-1bfb1785e13c",
   "metadata": {},
   "outputs": [
    {
     "data": {
      "image/png": "[encoded data removed]",
      "text/plain": [
       "<Figure size 1200x500 with 2 Axes>"
      ]
     },
     "metadata": {},
     "output_type": "display_data"
    }
   ],
   "source": [
    "def plot_callback(callback):\n",
    "    hist = pd.DataFrame(callback.history)\n",
    "    hist.index += 1\n",
    "    hist.index.name = 'epoch'\n",
    "    hist.head()\n",
    "    fig, (ax1,ax2) = plt.subplots(1, 2, figsize=(12, 5))\n",
    "    hist[['loss','val_loss']].plot(ax=ax1)\n",
    "    hist[['accuracy','val_accuracy']].plot(ax=ax2)\n",
    "\n",
    "plot_callback(callback)"
   ]
  },
  {
   "cell_type": "markdown",
   "id": "1c770fcd-7c7a-49ab-8df1-771202a59e47",
   "metadata": {},
   "source": [
    "Increasing the complexity of the model (more neurons per layer and more layers) or training too much epoch could lead to overfitting. Running 80 epochs:\n",
    "\n",
    "<center><img src=\"img/80epochs.png\" alt=\"80 epochs\" style=\"width: 90%;\"/></center>"
   ]
  },
  {
   "cell_type": "markdown",
   "id": "b2c47fef-de8a-41d0-ba6d-1a3a3cf37df6",
   "metadata": {},
   "source": [
    "### Regularizations\n",
    "\n",
    "* **Weight Regularization**: Adds a penalty to the loss function based on the weights. Tends to sparsity in the weights.\n",
    "    * L1 (Lasso), L2 (Ridge) or L1L2 (Elastic Net)\n",
    "* **Activity Regularization**: Adds a penalty to the loss function based on the activations of a layer.\n",
    "* **Dropout**: Randomly sets a fraction of the input units to 0 (during training). Encourages the network to learn more robust representations\n",
    "* **Batch Normalization**: Normalizes the activations of a layer across the batch. Improves training stability and speed.\n",
    "* **Early Stopping**: Stops the training process when the validation performance starts to degrade. Prevents overfitting\n"
   ]
  },
  {
   "cell_type": "code",
   "execution_count": 19,
   "id": "76a8b9d1-9533-43b3-bd2b-3014c59dde7c",
   "metadata": {},
   "outputs": [
    {
     "name": "stdout",
     "output_type": "stream",
     "text": [
      "input_shape =(784,)\n",
      "num_classes = 10\n"
     ]
    },
    {
     "data": {
      "text/html": [
       "<pre style=\"white-space:pre;overflow-x:auto;line-height:normal;font-family:Menlo,'DejaVu Sans Mono',consolas,'Courier New',monospace\"><span style=\"font-weight: bold\">Model: \"sequential_3\"</span>\n",
       "</pre>\n"
      ],
      "text/plain": [
       "\u001b[1mModel: \"sequential_3\"\u001b[0m\n"
      ]
     },
     "metadata": {},
     "output_type": "display_data"
    },
    {
     "data": {
      "text/html": [
       "<pre style=\"white-space:pre;overflow-x:auto;line-height:normal;font-family:Menlo,'DejaVu Sans Mono',consolas,'Courier New',monospace\">┏━━━━━━━━━━━━━━━━━━━━━━━━━━━━━━━━━┳━━━━━━━━━━━━━━━━━━━━━━━━┳━━━━━━━━━━━━━━━┓\n",
       "┃<span style=\"font-weight: bold\"> Layer (type)                    </span>┃<span style=\"font-weight: bold\"> Output Shape           </span>┃<span style=\"font-weight: bold\">       Param # </span>┃\n",
       "┡━━━━━━━━━━━━━━━━━━━━━━━━━━━━━━━━━╇━━━━━━━━━━━━━━━━━━━━━━━━╇━━━━━━━━━━━━━━━┩\n",
       "│ dense_12 (<span style=\"color: #0087ff; text-decoration-color: #0087ff\">Dense</span>)                │ (<span style=\"color: #00d7ff; text-decoration-color: #00d7ff\">None</span>, <span style=\"color: #00af00; text-decoration-color: #00af00\">512</span>)            │       <span style=\"color: #00af00; text-decoration-color: #00af00\">401,920</span> │\n",
       "├─────────────────────────────────┼────────────────────────┼───────────────┤\n",
       "│ dropout (<span style=\"color: #0087ff; text-decoration-color: #0087ff\">Dropout</span>)               │ (<span style=\"color: #00d7ff; text-decoration-color: #00d7ff\">None</span>, <span style=\"color: #00af00; text-decoration-color: #00af00\">512</span>)            │             <span style=\"color: #00af00; text-decoration-color: #00af00\">0</span> │\n",
       "├─────────────────────────────────┼────────────────────────┼───────────────┤\n",
       "│ dense_13 (<span style=\"color: #0087ff; text-decoration-color: #0087ff\">Dense</span>)                │ (<span style=\"color: #00d7ff; text-decoration-color: #00d7ff\">None</span>, <span style=\"color: #00af00; text-decoration-color: #00af00\">128</span>)            │        <span style=\"color: #00af00; text-decoration-color: #00af00\">65,664</span> │\n",
       "├─────────────────────────────────┼────────────────────────┼───────────────┤\n",
       "│ dropout_1 (<span style=\"color: #0087ff; text-decoration-color: #0087ff\">Dropout</span>)             │ (<span style=\"color: #00d7ff; text-decoration-color: #00d7ff\">None</span>, <span style=\"color: #00af00; text-decoration-color: #00af00\">128</span>)            │             <span style=\"color: #00af00; text-decoration-color: #00af00\">0</span> │\n",
       "├─────────────────────────────────┼────────────────────────┼───────────────┤\n",
       "│ dense_14 (<span style=\"color: #0087ff; text-decoration-color: #0087ff\">Dense</span>)                │ (<span style=\"color: #00d7ff; text-decoration-color: #00d7ff\">None</span>, <span style=\"color: #00af00; text-decoration-color: #00af00\">32</span>)             │         <span style=\"color: #00af00; text-decoration-color: #00af00\">4,128</span> │\n",
       "├─────────────────────────────────┼────────────────────────┼───────────────┤\n",
       "│ dropout_2 (<span style=\"color: #0087ff; text-decoration-color: #0087ff\">Dropout</span>)             │ (<span style=\"color: #00d7ff; text-decoration-color: #00d7ff\">None</span>, <span style=\"color: #00af00; text-decoration-color: #00af00\">32</span>)             │             <span style=\"color: #00af00; text-decoration-color: #00af00\">0</span> │\n",
       "├─────────────────────────────────┼────────────────────────┼───────────────┤\n",
       "│ dense_15 (<span style=\"color: #0087ff; text-decoration-color: #0087ff\">Dense</span>)                │ (<span style=\"color: #00d7ff; text-decoration-color: #00d7ff\">None</span>, <span style=\"color: #00af00; text-decoration-color: #00af00\">10</span>)             │           <span style=\"color: #00af00; text-decoration-color: #00af00\">330</span> │\n",
       "└─────────────────────────────────┴────────────────────────┴───────────────┘\n",
       "</pre>\n"
      ],
      "text/plain": [
       "┏━━━━━━━━━━━━━━━━━━━━━━━━━━━━━━━━━┳━━━━━━━━━━━━━━━━━━━━━━━━┳━━━━━━━━━━━━━━━┓\n",
       "┃\u001b[1m \u001b[0m\u001b[1mLayer (type)                   \u001b[0m\u001b[1m \u001b[0m┃\u001b[1m \u001b[0m\u001b[1mOutput Shape          \u001b[0m\u001b[1m \u001b[0m┃\u001b[1m \u001b[0m\u001b[1m      Param #\u001b[0m\u001b[1m \u001b[0m┃\n",
       "┡━━━━━━━━━━━━━━━━━━━━━━━━━━━━━━━━━╇━━━━━━━━━━━━━━━━━━━━━━━━╇━━━━━━━━━━━━━━━┩\n",
       "│ dense_12 (\u001b[38;5;33mDense\u001b[0m)                │ (\u001b[38;5;45mNone\u001b[0m, \u001b[38;5;34m512\u001b[0m)            │       \u001b[38;5;34m401,920\u001b[0m │\n",
       "├─────────────────────────────────┼────────────────────────┼───────────────┤\n",
       "│ dropout (\u001b[38;5;33mDropout\u001b[0m)               │ (\u001b[38;5;45mNone\u001b[0m, \u001b[38;5;34m512\u001b[0m)            │             \u001b[38;5;34m0\u001b[0m │\n",
       "├─────────────────────────────────┼────────────────────────┼───────────────┤\n",
       "│ dense_13 (\u001b[38;5;33mDense\u001b[0m)                │ (\u001b[38;5;45mNone\u001b[0m, \u001b[38;5;34m128\u001b[0m)            │        \u001b[38;5;34m65,664\u001b[0m │\n",
       "├─────────────────────────────────┼────────────────────────┼───────────────┤\n",
       "│ dropout_1 (\u001b[38;5;33mDropout\u001b[0m)             │ (\u001b[38;5;45mNone\u001b[0m, \u001b[38;5;34m128\u001b[0m)            │             \u001b[38;5;34m0\u001b[0m │\n",
       "├─────────────────────────────────┼────────────────────────┼───────────────┤\n",
       "│ dense_14 (\u001b[38;5;33mDense\u001b[0m)                │ (\u001b[38;5;45mNone\u001b[0m, \u001b[38;5;34m32\u001b[0m)             │         \u001b[38;5;34m4,128\u001b[0m │\n",
       "├─────────────────────────────────┼────────────────────────┼───────────────┤\n",
       "│ dropout_2 (\u001b[38;5;33mDropout\u001b[0m)             │ (\u001b[38;5;45mNone\u001b[0m, \u001b[38;5;34m32\u001b[0m)             │             \u001b[38;5;34m0\u001b[0m │\n",
       "├─────────────────────────────────┼────────────────────────┼───────────────┤\n",
       "│ dense_15 (\u001b[38;5;33mDense\u001b[0m)                │ (\u001b[38;5;45mNone\u001b[0m, \u001b[38;5;34m10\u001b[0m)             │           \u001b[38;5;34m330\u001b[0m │\n",
       "└─────────────────────────────────┴────────────────────────┴───────────────┘\n"
      ]
     },
     "metadata": {},
     "output_type": "display_data"
    },
    {
     "data": {
      "text/html": [
       "<pre style=\"white-space:pre;overflow-x:auto;line-height:normal;font-family:Menlo,'DejaVu Sans Mono',consolas,'Courier New',monospace\"><span style=\"font-weight: bold\"> Total params: </span><span style=\"color: #00af00; text-decoration-color: #00af00\">472,042</span> (1.80 MB)\n",
       "</pre>\n"
      ],
      "text/plain": [
       "\u001b[1m Total params: \u001b[0m\u001b[38;5;34m472,042\u001b[0m (1.80 MB)\n"
      ]
     },
     "metadata": {},
     "output_type": "display_data"
    },
    {
     "data": {
      "text/html": [
       "<pre style=\"white-space:pre;overflow-x:auto;line-height:normal;font-family:Menlo,'DejaVu Sans Mono',consolas,'Courier New',monospace\"><span style=\"font-weight: bold\"> Trainable params: </span><span style=\"color: #00af00; text-decoration-color: #00af00\">472,042</span> (1.80 MB)\n",
       "</pre>\n"
      ],
      "text/plain": [
       "\u001b[1m Trainable params: \u001b[0m\u001b[38;5;34m472,042\u001b[0m (1.80 MB)\n"
      ]
     },
     "metadata": {},
     "output_type": "display_data"
    },
    {
     "data": {
      "text/html": [
       "<pre style=\"white-space:pre;overflow-x:auto;line-height:normal;font-family:Menlo,'DejaVu Sans Mono',consolas,'Courier New',monospace\"><span style=\"font-weight: bold\"> Non-trainable params: </span><span style=\"color: #00af00; text-decoration-color: #00af00\">0</span> (0.00 B)\n",
       "</pre>\n"
      ],
      "text/plain": [
       "\u001b[1m Non-trainable params: \u001b[0m\u001b[38;5;34m0\u001b[0m (0.00 B)\n"
      ]
     },
     "metadata": {},
     "output_type": "display_data"
    }
   ],
   "source": [
    "from keras.layers import Dropout\n",
    "\n",
    "input_shape = X_train[0].shape\n",
    "num_classes = np.unique(y_train).size\n",
    "print(f'{input_shape =}\\n{num_classes = }')\n",
    "\n",
    "model = Sequential([\n",
    "        Input(shape=input_shape),\n",
    "        Dense(512, activation=\"relu\"),\n",
    "        Dropout(0.4),\n",
    "        Dense(128, activation=\"relu\"),\n",
    "        Dropout(0.4),\n",
    "        Dense(32, activation=\"relu\"),\n",
    "        Dropout(0.4),\n",
    "        Dense(num_classes, activation=\"softmax\")\n",
    "])\n",
    "model.summary()"
   ]
  },
  {
   "cell_type": "code",
   "execution_count": null,
   "id": "47496d78-01cd-417a-9848-b61b8b45c6db",
   "metadata": {},
   "outputs": [
    {
     "name": "stdout",
     "output_type": "stream",
     "text": [
      "Epoch 1/10\n",
      "\u001b[1m1500/1500\u001b[0m \u001b[32m━━━━━━━━━━━━━━━━━━━━\u001b[0m\u001b[37m\u001b[0m \u001b[1m12s\u001b[0m 7ms/step - accuracy: 0.5724 - loss: 1.1795 - val_accuracy: 0.8104 - val_loss: 0.4898\n",
      "Epoch 2/10\n",
      "\u001b[1m1500/1500\u001b[0m \u001b[32m━━━━━━━━━━━━━━━━━━━━\u001b[0m\u001b[37m\u001b[0m \u001b[1m12s\u001b[0m 8ms/step - accuracy: 0.7786 - loss: 0.6186 - val_accuracy: 0.8393 - val_loss: 0.4366\n",
      "Epoch 3/10\n",
      "\u001b[1m1062/1500\u001b[0m \u001b[32m━━━━━━━━━━━━━━\u001b[0m\u001b[37m━━━━━━\u001b[0m \u001b[1m2s\u001b[0m 6ms/step - accuracy: 0.8146 - loss: 0.5445"
     ]
    }
   ],
   "source": [
    "model.compile(optimizer=\"adam\",\n",
    "              loss=\"sparse_categorical_crossentropy\",\n",
    "              metrics=['accuracy'])\n",
    "callback = model.fit(X_train, y_train, validation_split=0.2, epochs=10)"
   ]
  },
  {
   "cell_type": "markdown",
   "id": "72b94f58-d6c9-4159-b01a-db965bae145c",
   "metadata": {},
   "source": [
    "Fit the model and get a callback that records events that happen during the training process:"
   ]
  },
  {
   "cell_type": "code",
   "execution_count": null,
   "id": "6919071c-5dc6-40fa-a922-b97b87db2f93",
   "metadata": {},
   "outputs": [],
   "source": [
    "plot_callback(callback)"
   ]
  },
  {
   "cell_type": "markdown",
   "id": "aad77c5d-ab03-48bb-876b-fabb6ca24538",
   "metadata": {},
   "source": [
    "Running 80 epochs:\n",
    "\n",
    "<center><img src=\"img/80epochs-dropout.png\" alt=\"80 epochs + dropout\" style=\"width: 90%;\"/></center>"
   ]
  },
  {
   "cell_type": "markdown",
   "id": "7d394882-574d-491a-b4eb-3eab9d51b956",
   "metadata": {},
   "source": [
    "## 3. Convolutional Neural Network CNN\n",
    "\n",
    "* Work on two (or more) dimensional data\n",
    "* **Convolutional Layer**\n",
    "    * Each neuron is conectet to a small, local region (neurons) of the previous layer through a **filter** (kernel).\n",
    "    * Filters slide across the input data, performing element-wise multiplication and summing the results.\n",
    "    * Each filter learns to identify a particular **pattern**\n",
    "    * **Few parameters**: The same filter is used across the entire input map\n",
    "* **Pooling Layer**\n",
    "    * Reduces the size using aggregation functions (max, average...)\n",
    " \n",
    "<center><img src=\"img/cnn.webp\" alt=\"80 epochs\" style=\"width: 90%;\"/></center>"
   ]
  },
  {
   "cell_type": "markdown",
   "id": "4a622807-b57f-4d68-99fc-d0a2c3949965",
   "metadata": {},
   "source": [
    "`Conv2D(filters, kernel_size, strides=(1, 1), padding='valid', data_format=None, dilation_rate=(1, 1), groups=1, activation=None, use_bias=True, kernel_initializer='glorot_uniform', bias_initializer='zeros', kernel_regularizer=None, bias_regularizer=None, activity_regularizer=None, kernel_constraint=None, bias_constraint=None, **kwargs`\n",
    "\n",
    "* `filters: int` &rarr; number of filters\n",
    "* `kernel_size: int or tuple/list of 2 integer` &rarr; size of the convolution window.\n",
    "* `strides: int or tuple/list of 2 integer` &rarr; displacement (step size) of the kernel as it moves across the input.\n",
    "* `padding: string, either \"valid\" or \"same\"` &rarr; controls how the input tensor is padded with zeros (`\"valid\"` means no padding). When `padding=\"same\"` and `strides=1`, the output has the same size as the input."
   ]
  },
  {
   "cell_type": "markdown",
   "id": "ba8c762f-9723-42cc-b7a3-54be91eb7021",
   "metadata": {},
   "source": [
    "### Pooling layers\n",
    "* **Local Pooling**: uses a `pool_size` similar to Conv2D kernel_size.\n",
    "    * Keeps the number of dimensions of the data\n",
    "    * Purpose: downsampling, translation invariance\n",
    "    * **MaxPooling2D**, **AveragePooling2D**\n",
    "* **Local Pooling**: aplied over the entire spatial dimension (width/height)\n",
    "    * Reduces the number of dimensions of the data (with/height are collapsed)\n",
    "    * Purpose: global feature aggregation, Convolutional to Dense layers adptation\n",
    "    * **GlobalMaxPooling2D**, **GlobalAveragePooling2D**"
   ]
  },
  {
   "cell_type": "markdown",
   "id": "ce999842-13c0-4b01-8b00-6b6a821f705d",
   "metadata": {},
   "source": [
    "### Data preparation"
   ]
  },
  {
   "cell_type": "code",
   "execution_count": null,
   "id": "0f3b8155-3ba3-463a-bdab-36af72d3344f",
   "metadata": {},
   "outputs": [],
   "source": [
    "from math import isqrt\n",
    "new_dim = isqrt(X_train.shape[1])\n",
    "X_train = X_train.reshape((X_train.shape[0],new_dim,new_dim))\n",
    "X_test = X_test.reshape((X_test.shape[0],new_dim,new_dim))\n",
    "print(f'{X_train.shape=}\\n{y_train.shape=}')\n",
    "print(f'{X_test.shape=}\\n{y_test.shape=}')\n",
    "with sns.axes_style('white'):\n",
    "    for i,idx in enumerate(np.random.randint(0,X_train.shape[0],4)):\n",
    "        plt.subplot(1, 4, i+1)\n",
    "        plt.imshow(X_train[idx], cmap=plt.cm.gray_r)\n",
    "        plt.title(f'{y_train[idx]}')\n",
    "        plt.xticks([]) \n",
    "        plt.yticks([]) "
   ]
  },
  {
   "cell_type": "markdown",
   "id": "060497f4-7934-4163-bc08-51ff803e75ed",
   "metadata": {},
   "source": [
    "**Note**: We could have imported the data directly from keras.datasets, with the correct shapes:\n",
    "* `X_train.shape=(60000, 28, 28)`\n",
    "* `X_test.shape=(10000, 28, 28)`"
   ]
  },
  {
   "cell_type": "code",
   "execution_count": null,
   "id": "7062c213-84ca-405e-9dbb-9655d46dfe18",
   "metadata": {},
   "outputs": [],
   "source": [
    "#from keras.datasets import fashion_mnist\n",
    "#(X_train, y_train), (X_test, y_test) = fashion_mnist.load_data()"
   ]
  },
  {
   "cell_type": "markdown",
   "id": "c99871e9-7d0b-4e8a-a133-d6a9d6fd151d",
   "metadata": {},
   "source": [
    "### Defining the Model Architecture\n",
    "\n",
    "We will use some default parameters:\n",
    "\n",
    "* **Conv2D** &rarr; `strides=1` , padding='valid'\n",
    "* **MaxPooling2D** &rarr; `strides=None` (equal to `pool_size`)"
   ]
  },
  {
   "cell_type": "code",
   "execution_count": null,
   "id": "a26ec59f-5179-47f6-bc89-a95d79af4e09",
   "metadata": {},
   "outputs": [],
   "source": [
    "from keras.layers import Conv2D, MaxPooling2D, GlobalAveragePooling2D, BatchNormalization\n",
    "\n",
    "input_shape = *X_train[0].shape,1\n",
    "num_classes = np.unique(y_train).size\n",
    "print(f'{input_shape =}\\n{num_classes = }')\n",
    "\n",
    "model = Sequential([\n",
    "        Input(shape=input_shape),\n",
    "\n",
    "        Conv2D(32, kernel_size=(3, 3), activation='relu'),\n",
    "        Conv2D(32, kernel_size=(3, 3), activation='relu'),\n",
    "        MaxPooling2D(pool_size=(2, 2)),\n",
    "    \n",
    "        Conv2D(64, kernel_size=(3, 3), activation='relu'),\n",
    "        Conv2D(64, kernel_size=(3, 3), activation='relu'),\n",
    "        GlobalAveragePooling2D(),\n",
    "\n",
    "        Dense(256, activation=\"relu\"),\n",
    "        Dense(num_classes, activation=\"softmax\")\n",
    "])\n",
    "model.summary()"
   ]
  },
  {
   "cell_type": "markdown",
   "id": "df8c795b-b26d-40e1-93ab-5f12b1038684",
   "metadata": {},
   "source": [
    "This is gona be very slow on CPU, so just run 1 epoch..."
   ]
  },
  {
   "cell_type": "code",
   "execution_count": null,
   "id": "a51c9e81-e587-4d22-a96a-9bd4676eafae",
   "metadata": {},
   "outputs": [],
   "source": [
    "model.compile(optimizer=\"adam\",\n",
    "              loss=\"sparse_categorical_crossentropy\",\n",
    "              metrics=['accuracy'])\n",
    "callback = model.fit(X_train, y_train, validation_split=0.2, epochs=1)"
   ]
  },
  {
   "cell_type": "code",
   "execution_count": null,
   "id": "078d503b-4699-4ecb-9828-f879190d3263",
   "metadata": {},
   "outputs": [],
   "source": [
    "#plot_callback(callback)"
   ]
  },
  {
   "cell_type": "markdown",
   "id": "2a2274c5-63f0-4cd3-b208-f26049246048",
   "metadata": {},
   "source": [
    "How can we speed up execution:\n",
    "1. Download the notebook & upload it to [Google Colab](https://colab.research.google.com/)\n",
    "1. Change the line to `os.environ[\"JAX_PLATFORMS\"] = \"\"`\n",
    "1. Increase the number of epochs\n",
    "1. Connect to a **GPU** instance\n",
    "1. Run it!!!"
   ]
  },
  {
   "cell_type": "markdown",
   "id": "471eecfa-f270-44c1-8e84-d00813976b11",
   "metadata": {},
   "source": [
    "Result for 40 epochs:\n",
    "\n",
    "<center><img src=\"img/cnn1-gpu.png\" alt=\"cnn1-gpu\" style=\"width: 90%;\"/></center>"
   ]
  },
  {
   "cell_type": "code",
   "execution_count": null,
   "id": "3b00b243-3e5b-45e4-bfdb-80c54ee5baaf",
   "metadata": {},
   "outputs": [],
   "source": [
    "from keras import Sequential\n",
    "from keras.layers import Conv2D, MaxPooling2D, Flatten, BatchNormalization\n",
    "\n",
    "input_shape = *X_train[0].shape,1\n",
    "num_classes = np.unique(y_train).size\n",
    "print(f'{input_shape =}\\n{num_classes = }')\n",
    "\n",
    "conv2d_args = {'kernel_size':(3, 3), 'activation':'relu', 'strides':1, 'padding':'same'}\n",
    "maxp2d_args = {'pool_size':(2, 2), 'padding':'valid', 'strides':2}\n",
    "model = Sequential([\n",
    "        Input(shape=input_shape),\n",
    "\n",
    "        Conv2D(32, **conv2d_args),\n",
    "        BatchNormalization(),\n",
    "        Conv2D(32, **conv2d_args),\n",
    "        BatchNormalization(),\n",
    "        MaxPooling2D(**maxp2d_args),\n",
    "        Dropout(0.25),\n",
    "\n",
    "        Conv2D(64, **conv2d_args),\n",
    "        BatchNormalization(),\n",
    "        Conv2D(64, **conv2d_args),\n",
    "        BatchNormalization(),\n",
    "        MaxPooling2D(**maxp2d_args),\n",
    "        Dropout(0.25),\n",
    "\n",
    "        Conv2D(128, **conv2d_args),\n",
    "        BatchNormalization(),\n",
    "        Conv2D(128, **conv2d_args),\n",
    "        BatchNormalization(),\n",
    "        GlobalAveragePooling2D(),\n",
    "        Dropout(0.25),\n",
    "\n",
    "        Dense(256, activation='relu'),\n",
    "        BatchNormalization(),\n",
    "        Dropout(0.25),\n",
    "        Dense(128, activation='relu'),\n",
    "        BatchNormalization(),\n",
    "        Dropout(0.25),\n",
    "        Dense(64, activation='relu'),\n",
    "        BatchNormalization(),\n",
    "        Dropout(0.25),\n",
    "    \n",
    "        Dense(num_classes, activation='softmax'),\n",
    "])        \n",
    "\n",
    "model.summary()"
   ]
  },
  {
   "cell_type": "code",
   "execution_count": null,
   "id": "1eecd240-233e-4a93-8f3a-7c85aaf3f14b",
   "metadata": {},
   "outputs": [],
   "source": [
    "model.compile(optimizer=\"adam\",\n",
    "              loss=\"sparse_categorical_crossentropy\",\n",
    "              metrics=['accuracy'])\n",
    "callback = model.fit(X_train, y_train, validation_split=0.2, epochs=1)"
   ]
  },
  {
   "cell_type": "code",
   "execution_count": null,
   "id": "7cd49f08-f8da-49bf-ae74-645033b03c08",
   "metadata": {},
   "outputs": [],
   "source": [
    "#plot_callback(callback)"
   ]
  },
  {
   "cell_type": "markdown",
   "id": "b9fdd003-683a-4e2c-be12-6dae30971d35",
   "metadata": {},
   "source": [
    "Result for 40 epochs:\n",
    "\n",
    "<center><img src=\"img/cnn2-gpu.png\" alt=\"cnn2-gpu\" style=\"width: 90%;\"/></center>"
   ]
  }
 ],
 "metadata": {
  "kernelspec": {
   "display_name": "Python 3 (ipykernel)",
   "language": "python",
   "name": "python3"
  },
  "language_info": {
   "codemirror_mode": {
    "name": "ipython",
    "version": 3
   },
   "file_extension": ".py",
   "mimetype": "text/x-python",
   "name": "python",
   "nbconvert_exporter": "python",
   "pygments_lexer": "ipython3",
   "version": "3.12.6"
  }
 },
 "nbformat": 4,
 "nbformat_minor": 5
}
