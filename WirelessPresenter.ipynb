{
 "cells": [
  {
   "cell_type": "markdown",
   "id": "f9bd5563-f48f-4a05-880b-4f58c0070d51",
   "metadata": {},
   "source": [
    "### Customize PageUp/PageDown to work as Left/Right\n",
    "\n",
    "* Source: https://github.com/deathbeds/jupyterlab-deck/issues/50\n",
    "\n",
    "`Settings` &rarr; `Settings Editor` &rarr; `Keyboard Shortcuts` &rarr; `JSON Settings Editor`\n",
    "\n",
    "Add to `User Preferences`:"
   ]
  },
  {
   "cell_type": "markdown",
   "id": "1c83fa78-b44d-4e36-8f55-35b25cfa3a8e",
   "metadata": {},
   "source": [
    "```json\n",
    "{\n",
    "  \"shortcuts\": [\n",
    "    {\n",
    "      \"command\": \"deck:go\",\n",
    "      \"keys\": [\n",
    "        \"PageDown\"\n",
    "      ],\n",
    "      \"args\": {\n",
    "        \"direction\": \"forward\"\n",
    "      },\n",
    "      \"selector\": \".jp-Deck\"\n",
    "    },\n",
    "    {\n",
    "      \"command\": \"deck:go\",\n",
    "      \"keys\": [\n",
    "        \"PageUp\"\n",
    "      ],\n",
    "      \"args\": {\n",
    "        \"direction\": \"back\"\n",
    "      },\n",
    "      \"selector\": \".jp-Deck\"\n",
    "    }\n",
    "  ]\n",
    "}\n",
    "```"
   ]
  }
 ],
 "metadata": {
  "kernelspec": {
   "display_name": "Python 3 (ipykernel)",
   "language": "python",
   "name": "python3"
  },
  "language_info": {
   "codemirror_mode": {
    "name": "ipython",
    "version": 3
   },
   "file_extension": ".py",
   "mimetype": "text/x-python",
   "name": "python",
   "nbconvert_exporter": "python",
   "pygments_lexer": "ipython3",
   "version": "3.12.6"
  }
 },
 "nbformat": 4,
 "nbformat_minor": 5
}
