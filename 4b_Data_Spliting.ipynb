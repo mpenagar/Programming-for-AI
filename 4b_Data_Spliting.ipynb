{
 "cells": [
  {
   "cell_type": "markdown",
   "id": "93a71433-fc82-4ad1-a065-128b6094d2e9",
   "metadata": {},
   "source": [
    "# Data Spliting"
   ]
  },
  {
   "cell_type": "markdown",
   "id": "0421c11b-42e2-4f78-a52b-237b4a550002",
   "metadata": {},
   "source": [
    "Divide a dataset into two or more subsets to train, validate, and evaluate a *Machine Learning* model."
   ]
  },
  {
   "cell_type": "markdown",
   "id": "f11c8036-ab52-450a-b4b1-6df6452f99e6",
   "metadata": {},
   "source": [
    "* **Training Set**: The largest portion of the data (tipically 70-80%), used to train the model (learn **patterns and relationships** in the data)."
   ]
  },
  {
   "cell_type": "markdown",
   "id": "005d9af8-e4a4-4bf7-b93b-595d91e961a6",
   "metadata": {},
   "source": [
    "* **Validation/Development  Set**: A smaller portion of the data (tipically 10-15%), used to tune the model's hyperparameters and assess its performance during training. It helps prevent **overfitting** by providing an **unbiased** evaluation while adjusting the model."
   ]
  },
  {
   "cell_type": "markdown",
   "id": "c4408055-d602-4910-9731-5a3e24b35ea1",
   "metadata": {},
   "source": [
    "* **Test  Set**: Another smaller portion of the data (tipically 10-15%), used for the final evaluation of the trained model's performance. It provides an unbiased estimate of how well the model will perform on completely new, unseen data. The model **does not learn from this set** during training or hyperparameter tuning."
   ]
  },
  {
   "cell_type": "markdown",
   "id": "17843be1-20b3-481e-bf56-b3928890ad9e",
   "metadata": {},
   "source": [
    "### Importance of Data Spliting \n",
    "\n",
    "* **Prevent Overfitting**: By evaluating the model on data unseen during training (validation/test sets), we can check if the model has **learned generalizable patterns** (instead of **memorizing** the training data itself).\n",
    "  \n",
    "* **Model Selection and Hyperparameter Tuning**: The validation set allows us to compare different models and their configurations (hyperparameters) to choose the one that performs best on unseen data.\n",
    "\n",
    "* **Assess Generalization**: The test set provides a final, unbiased estimate of the model's **ability to generalize to new data**."
   ]
  },
  {
   "cell_type": "markdown",
   "id": "306e9d8d-0149-4c89-9230-5ac802550838",
   "metadata": {},
   "source": [
    "### Data Splitting Techniques"
   ]
  },
  {
   "cell_type": "markdown",
   "id": "6233d355-5bc6-4a38-be8a-c31903c89e8b",
   "metadata": {},
   "source": [
    "* **Train-Test Split**: The simplest (and possibly wrong) method. Does not allow hyperparameter tuning. "
   ]
  },
  {
   "cell_type": "markdown",
   "id": "bafdf1bb-de9b-4220-91f8-c874ecdd6e00",
   "metadata": {},
   "source": [
    "* **Train-Validation-Test Split**: The most common method. Divides the data into three sets for training, hyperparameter tuning, and final evaluation. "
   ]
  },
  {
   "cell_type": "markdown",
   "id": "6dd68620-b128-4d03-8762-5fa19394f9cb",
   "metadata": {},
   "source": [
    "* **K-Fold Cross-Validation**: The dataset is divided into $k$ equal-sized *folds*. The model is trained and evaluated $k$ times, with each fold serving as the test set once and the remaining k−1 folds used for training. The performance is then averaged across all k evaluations. This provides a more robust estimate of performance, especially with smaller datasets."
   ]
  },
  {
   "cell_type": "markdown",
   "id": "3adb5b64-55da-4db5-8af4-a7031ddbfad3",
   "metadata": {},
   "source": [
    "* **Time Series Split**: Used for time-dependent data, where the data is split chronologically. The training set consists of earlier time periods, and the test set consists of later time periods, preventing *looking into the future* during training. "
   ]
  },
  {
   "cell_type": "markdown",
   "id": "c47b96e5-dd64-4962-a373-a23ea385ce65",
   "metadata": {},
   "source": [
    "Datasets:\n",
    "\n",
    "* Multi-class Classification Task &rarr; Iris Dataset\n",
    "   * Number of Instances: 150\n",
    "   * Number of Features: 4 (sepal length, sepal width, petal length, petal width)\n",
    "   * Number of classes: 4\n",
    "* Binary Classification Task &rarr; Breast Cancer Wisconsin (Diagnostic) Dataset\n",
    "   * Number of Instances: 569\n",
    "   * Number of Features: 30 (real-valued features computed from digitized images of cell nuclei)\n",
    "   * Number of classes: 2 (Malignant/Benign)\n",
    "* Regression Task &rarr; Wine Quality Dataset\n",
    "   * Number of Instances: 4,900\n",
    "   * Number of Features: 11 (physicochemical tests)\n",
    "   * Prediction: quality score\n",
    "* "
   ]
  }
 ],
 "metadata": {
  "kernelspec": {
   "display_name": "Python 3 (ipykernel)",
   "language": "python",
   "name": "python3"
  },
  "language_info": {
   "codemirror_mode": {
    "name": "ipython",
    "version": 3
   },
   "file_extension": ".py",
   "mimetype": "text/x-python",
   "name": "python",
   "nbconvert_exporter": "python",
   "pygments_lexer": "ipython3",
   "version": "3.12.6"
  }
 },
 "nbformat": 4,
 "nbformat_minor": 5
}
