{
 "cells": [
  {
   "cell_type": "markdown",
   "id": "93a71433-fc82-4ad1-a065-128b6094d2e9",
   "metadata": {
    "editable": true,
    "slideshow": {
     "slide_type": "slide"
    },
    "tags": []
   },
   "source": [
    "# Data Spliting"
   ]
  },
  {
   "cell_type": "markdown",
   "id": "0421c11b-42e2-4f78-a52b-237b4a550002",
   "metadata": {
    "editable": true,
    "slideshow": {
     "slide_type": ""
    },
    "tags": []
   },
   "source": [
    "Divide a dataset into two or more subsets to train, validate, and evaluate a *Machine Learning* model."
   ]
  },
  {
   "cell_type": "markdown",
   "id": "f11c8036-ab52-450a-b4b1-6df6452f99e6",
   "metadata": {
    "editable": true,
    "slideshow": {
     "slide_type": "slide"
    },
    "tags": []
   },
   "source": [
    "* **Training Set**\n",
    "    * Largest portion (70-80%)\n",
    "    * **Goal**: Train the model (learn **patterns and relationships** in the data)."
   ]
  },
  {
   "cell_type": "markdown",
   "id": "005d9af8-e4a4-4bf7-b93b-595d91e961a6",
   "metadata": {
    "editable": true,
    "slideshow": {
     "slide_type": "fragment"
    },
    "tags": []
   },
   "source": [
    "* **Validation/Development  Set**\n",
    "    * Small portion (10-15%)\n",
    "    * **Goal**:\n",
    "        * Tune the model's hyperparameters and prevent **overfitting**."
   ]
  },
  {
   "cell_type": "markdown",
   "id": "c4408055-d602-4910-9731-5a3e24b35ea1",
   "metadata": {
    "editable": true,
    "slideshow": {
     "slide_type": "fragment"
    },
    "tags": []
   },
   "source": [
    "* **Test  Set**\n",
    "    * Small portion (10-15%)\n",
    "    * **Goal**:\n",
    "        * Final unbiased estimation of the trained model's performance.\n",
    "        * The model **does not learn anything** from this set."
   ]
  },
  {
   "cell_type": "markdown",
   "id": "17843be1-20b3-481e-bf56-b3928890ad9e",
   "metadata": {
    "editable": true,
    "slideshow": {
     "slide_type": "slide"
    },
    "tags": []
   },
   "source": [
    "### Importance of Data Spliting \n",
    "\n",
    "* **Prevent Overfitting**: By evaluating the model on data unseen during training (validation/test sets), we can check if the model has **learned generalizable patterns** (instead of **memorizing** the training data itself).\n",
    "  \n",
    "* **Model Selection and Hyperparameter Tuning**: The validation set allows us to compare different models and their configurations (hyperparameters) to choose the one that performs best on unseen data.\n",
    "\n",
    "* **Assess Generalization**: The test set provides a final, unbiased estimate of the model's **ability to generalize to new data**."
   ]
  },
  {
   "cell_type": "markdown",
   "id": "306e9d8d-0149-4c89-9230-5ac802550838",
   "metadata": {
    "editable": true,
    "slideshow": {
     "slide_type": "slide"
    },
    "tags": []
   },
   "source": [
    "#### Data Ordering Bias\n",
    "\n",
    "* Data might be ordered by class or any other feature.\n",
    "* If data was collected in batches, it might have inherent similarities within each batch.\n",
    "    * Data is ordered by collection time.\n",
    "\n",
    "To prevent bias from data ordering, data must be randomly shuffled prior to any data splitting.\n",
    "\n",
    "* **Shuffle first, then split**\n",
    "    * Or use a splitting function that does the shuffling.\n",
    "* Except for time series, where the temporal order is crucial."
   ]
  },
  {
   "cell_type": "markdown",
   "id": "2cdd5449-a244-47fc-8c58-ca41bf689ede",
   "metadata": {
    "editable": true,
    "slideshow": {
     "slide_type": "slide"
    },
    "tags": []
   },
   "source": [
    "### Data Splitting Techniques"
   ]
  },
  {
   "cell_type": "markdown",
   "id": "6233d355-5bc6-4a38-be8a-c31903c89e8b",
   "metadata": {
    "editable": true,
    "slideshow": {
     "slide_type": "slide"
    },
    "tags": []
   },
   "source": [
    "* **Train-Test Split**: The simplest (and possibly wrong) method. Does not allow hyperparameter tuning.\n",
    "\n",
    "<center><img src=\"img/split-train-test.png\" alt=\"train-test data split\" style=\"width: 60%;\"/></center>"
   ]
  },
  {
   "cell_type": "markdown",
   "id": "bafdf1bb-de9b-4220-91f8-c874ecdd6e00",
   "metadata": {
    "editable": true,
    "slideshow": {
     "slide_type": "slide"
    },
    "tags": []
   },
   "source": [
    "* **Train-Validation-Test Split**: The most common method. Divides the data into three sets for training, hyperparameter tuning, and final evaluation.\n",
    "\n",
    "<center><img src=\"img/split-train-valid-test.png\" alt=\"train-test data split\" style=\"width: 60%;\"/></center>"
   ]
  },
  {
   "cell_type": "markdown",
   "id": "abf98bc4-e1a3-47e7-9e21-3ce9a98bbb41",
   "metadata": {
    "editable": true,
    "slideshow": {
     "slide_type": "slide"
    },
    "tags": []
   },
   "source": [
    "* **K-Fold Cross-Validation**: The dataset is first divided into train and test data sets. Train dataset is then further divided into $k$ equal-sized *folds*.\n",
    "    * The model is trained and evaluated $k$ times, with each fold serving as the validation set once and the remaining folds used for training.\n",
    "    * The performance is <u>averaged</u> across all k evaluations.\n",
    "    * Provides a <u>more robust estimate</u> of performance, especially with smaller datasets.\n",
    "\n",
    "<center><img src=\"img/5-fold-cross-validation.png\" alt=\"5-fold-cross-validation\" style=\"width: 62%;\"/></center>"
   ]
  },
  {
   "cell_type": "markdown",
   "id": "549370ff-0844-4a2c-b5e9-bc373ec02abd",
   "metadata": {
    "editable": true,
    "slideshow": {
     "slide_type": "slide"
    },
    "tags": []
   },
   "source": [
    "Final evaluation:\n",
    "* Cross-validation is used to tune the model's hyperparameters (or select the best model)\n",
    "* The model is trained on the <u>entire training set</u>\n",
    "* Model is evaluated on the test set"
   ]
  },
  {
   "cell_type": "markdown",
   "id": "986ac03f-ae84-49c0-8233-6648340da1f1",
   "metadata": {
    "editable": true,
    "slideshow": {
     "slide_type": "slide"
    },
    "tags": []
   },
   "source": [
    "* **Nested Cross-Validation**: \n",
    "\n",
    "<center><img src=\"img/nested-cross-validation.png\" alt=\"nested cross-validation\" style=\"width: 60%;\"/></center>"
   ]
  },
  {
   "cell_type": "markdown",
   "id": "63f512a4-958d-4785-b9e7-27259dc539e7",
   "metadata": {
    "editable": true,
    "slideshow": {
     "slide_type": "slide"
    },
    "tags": []
   },
   "source": [
    "* **Time Series Split**: Used for time-dependent data\n",
    "    * The data is split chronologically (train &rarr; test)\n",
    "    * Avoid *Lookahead Bias*\n",
    "\n",
    "\n",
    "<center><img src=\"img/time-series-split.png\" alt=\"time-series split\" style=\"width: 60%;\"/></center>"
   ]
  },
  {
   "cell_type": "markdown",
   "id": "b8e9c368-cc85-4472-8567-1f90cbfa1731",
   "metadata": {
    "editable": true,
    "slideshow": {
     "slide_type": "slide"
    },
    "tags": []
   },
   "source": [
    "* **Time-Series Cross-Validation**\n",
    "    * Avoid Lookahead Bias\n",
    "    * Split data chronologically\n",
    "    * For each validation fold, use just previous training data\n",
    "\n",
    "<center><img src=\"img/time-series cross-validation.png\" alt=\"5-fold-cross-validation\" style=\"width: 62%;\"/></center>"
   ]
  },
  {
   "cell_type": "markdown",
   "id": "19d2d5d2-a213-42ad-9968-85794a62320a",
   "metadata": {
    "editable": true,
    "slideshow": {
     "slide_type": "slide"
    },
    "tags": []
   },
   "source": [
    "Time-Series Cross-Validation with overlapping:\n",
    "\n",
    "<center><img src=\"img/time-series cross-validation2.png\" alt=\"5-fold-cross-validation\" style=\"width: 62%;\"/></center>"
   ]
  },
  {
   "cell_type": "markdown",
   "id": "c47b96e5-dd64-4962-a373-a23ea385ce65",
   "metadata": {
    "editable": true,
    "slideshow": {
     "slide_type": ""
    },
    "tags": []
   },
   "source": [
    "Datasets:\n",
    "\n",
    "* Multi-class Classification Task &rarr; Iris Dataset\n",
    "   * Number of Instances: 150\n",
    "   * Number of Features: 4 (sepal length, sepal width, petal length, petal width)\n",
    "   * Number of classes: 4\n",
    "* Binary Classification Task &rarr; Breast Cancer Wisconsin (Diagnostic) Dataset\n",
    "   * Number of Instances: 569\n",
    "   * Number of Features: 30 (real-valued features computed from digitized images of cell nuclei)\n",
    "   * Number of classes: 2 (Malignant/Benign)\n",
    "* Regression Task &rarr; Wine Quality Dataset\n",
    "   * Number of Instances: 4,900\n",
    "   * Number of Features: 11 (physicochemical tests)\n",
    "   * Prediction: quality score\n",
    "* "
   ]
  }
 ],
 "metadata": {
  "kernelspec": {
   "display_name": "Python 3 (ipykernel)",
   "language": "python",
   "name": "python3"
  },
  "language_info": {
   "codemirror_mode": {
    "name": "ipython",
    "version": 3
   },
   "file_extension": ".py",
   "mimetype": "text/x-python",
   "name": "python",
   "nbconvert_exporter": "python",
   "pygments_lexer": "ipython3",
   "version": "3.12.6"
  }
 },
 "nbformat": 4,
 "nbformat_minor": 5
}
