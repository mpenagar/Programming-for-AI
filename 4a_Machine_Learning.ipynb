{
 "cells": [
  {
   "cell_type": "markdown",
   "id": "00d6a65d-3391-430d-9113-5ffbe6972fef",
   "metadata": {
    "editable": true,
    "slideshow": {
     "slide_type": "slide"
    },
    "tags": []
   },
   "source": [
    "# Introduction to Machine Learning"
   ]
  },
  {
   "cell_type": "markdown",
   "id": "0152331f-461a-4bda-817d-7e33159ddedd",
   "metadata": {
    "editable": true,
    "slideshow": {
     "slide_type": "slide"
    },
    "tags": []
   },
   "source": [
    "## Fundamentals of Machine Learning"
   ]
  },
  {
   "cell_type": "markdown",
   "id": "cee68866-a231-4147-95da-f6bc5617cd4d",
   "metadata": {
    "editable": true,
    "slideshow": {
     "slide_type": "slide"
    },
    "tags": []
   },
   "source": [
    "* **Learn from Data**. Computers can learn from data without being explicitly programmed for every specific task (<u>rule-based</u> &rarr; <u>data-driven</u>). "
   ]
  },
  {
   "cell_type": "markdown",
   "id": "7f5f6a22-bf4b-43b2-8a61-8f680b4d2361",
   "metadata": {
    "editable": true,
    "slideshow": {
     "slide_type": "fragment"
    },
    "tags": []
   },
   "source": [
    "* **Identify Patterns**. Algorithms can automatically find patterns, relationships, and insights within data."
   ]
  },
  {
   "cell_type": "markdown",
   "id": "f888b333-5881-44d9-ae4f-00e9354d7381",
   "metadata": {
    "editable": true,
    "slideshow": {
     "slide_type": "fragment"
    },
    "tags": []
   },
   "source": [
    "* **Generalization**. Ability to make predictions on new, unseen data"
   ]
  },
  {
   "cell_type": "markdown",
   "id": "d8c826b6-50a4-4ca6-993f-33d56e5226a2",
   "metadata": {
    "editable": true,
    "slideshow": {
     "slide_type": "fragment"
    },
    "tags": []
   },
   "source": [
    "* **Algorithms and Models**. Algorithms (sets of instructions) are used to build models (representations of the learned patterns)."
   ]
  },
  {
   "cell_type": "markdown",
   "id": "168170a3-91ed-4e2d-89cd-b4f387552d03",
   "metadata": {
    "editable": true,
    "slideshow": {
     "slide_type": "slide"
    },
    "tags": []
   },
   "source": [
    "## Learning Paradigms and Machine Learning Tasks\n",
    "\n",
    "Machine learning tasks can be categorized according to the learning paradigm and the specific goal they pursue:"
   ]
  },
  {
   "cell_type": "markdown",
   "id": "f8b50337-9f3f-4388-a6ac-2e319bed2a42",
   "metadata": {},
   "source": [
    "### Supervised Learning\n",
    "\n",
    "* Each input data is associated with a known output or target variable.\n",
    "* The goal is to learn a *mapping function* that can predict the output for new, unseen input data.\n",
    "\n",
    "Some common tasks: Classification & Regression"
   ]
  },
  {
   "cell_type": "markdown",
   "id": "66c59ba8-5c08-42bc-82e0-927c83111283",
   "metadata": {},
   "source": [
    "### Classification Task\n",
    "* **Goal**: Assign data points to <u>predefined</u> categories or classes.\n",
    "* The output variable is categorical.\n",
    "    * **Binary Classification**: Predicting one of two classes.\n",
    "    * **Multi-class Classification**: Predicting one of more than two classes.\n",
    "* Examples:\n",
    "    * <u>Image Classification</u>: Identifying objects in an image (e.g., cat, dog, car).   \n",
    "    * <u>Spam Detection</u>: Classifying emails as spam or not spam.   \n",
    "    * <u>Medical Diagnosis</u>: Determining if a patient has a certain disease based on symptoms and test results.   \n",
    "    * <u>Fraud Detection</u>: Identifying fraudulent transactions based on user behavior and transaction details.   "
   ]
  },
  {
   "cell_type": "markdown",
   "id": "0d0b59f1-0030-47ce-82d6-c1207813b822",
   "metadata": {},
   "source": [
    "A model that fits a task can be used <u>regardless of what the inputs and outputs represent</u>.\n",
    "\n",
    "* If a model fits a binary text classification "
   ]
  },
  {
   "cell_type": "markdown",
   "id": "762f814a-8ba9-4747-b45d-154046e67eb8",
   "metadata": {},
   "source": [
    "    * Sentiment Analysis: Classifying text (e.g., reviews, tweets) as positive, negative, or neutral.   "
   ]
  },
  {
   "cell_type": "markdown",
   "id": "8e7460d0-bc42-4f59-9beb-478e5b9aec74",
   "metadata": {},
   "source": [
    "* Unsupervised Learning:\n"
   ]
  },
  {
   "cell_type": "markdown",
   "id": "cf6a813a-0ae3-4c1d-9655-0b5eda762040",
   "metadata": {},
   "source": [
    "* Semi-Supervised Learning:\n"
   ]
  },
  {
   "cell_type": "markdown",
   "id": "89b0a291-ebfd-43b9-a3df-0d33e10846fe",
   "metadata": {},
   "source": [
    "* Self-Supervised Learning:\n"
   ]
  },
  {
   "cell_type": "markdown",
   "id": "0986429b-cefd-4228-923b-00b797c8f630",
   "metadata": {},
   "source": [
    "* Reinforcement Learning:\n"
   ]
  },
  {
   "cell_type": "markdown",
   "id": "f9e1d266-fd45-4cf4-9e7e-f17dd69c92d5",
   "metadata": {},
   "source": []
  },
  {
   "cell_type": "markdown",
   "id": "e0497289-f09e-4d3e-952d-8f5ad92cf633",
   "metadata": {},
   "source": [
    "There are several different types of tasks in machine learning, broadly categorized by the learning paradigm and the specific goal. Here's a breakdown of the main categories and some common tasks within them:   \n",
    "\n",
    "* Supervised Learning: In supervised learning, the algorithm learns from labeled data, meaning each data point is associated with a known output or target variable. The goal is to learn a mapping function that can predict the output for new, unseen input data.   \n",
    "\n",
    "   * Classification: The goal is to assign data points to predefined categories or classes. The output variable is discrete.\n",
    "      * Binary Classification: Predicting one of two classes (e.g., spam/not spam, cat/dog).   \n",
    "      * Multi-class Classification: Predicting one of more than two classes (e.g., identifying different types of flowers, classifying news articles into topics).   \n",
    "  \n",
    "   * Regression: The goal is to predict a continuous numerical value. The output variable is continuous.\n",
    "      *Linear Regression: Predicting a value based on a linear relationship with the input features (e.g., predicting house prices based on size).   \n",
    "      * Polynomial Regression: Predicting a value based on a polynomial relationship with the input features.   \n",
    "      * Time Series Forecasting: Predicting future values in a sequence based on past values (e.g., predicting stock prices, weather forecasting).   \n",
    "  \n",
    "* Unsupervised Learning: In unsupervised learning, the algorithm learns from unlabeled data, without any explicit output or target variable. The goal is to discover hidden patterns, structures, or relationships in the data.   \n",
    "\n",
    "   * Clustering: Grouping similar data points together based on their features without prior knowledge of the groups (e.g., customer segmentation, document analysis).\n",
    "      * K-Means Clustering: Partitioning data into k clusters based on distance to centroids.   \n",
    "      * Hierarchical Clustering: Creating a tree-like structure of clusters.   \n",
    "      * Density-Based Clustering: Identifying clusters based on the density of data points.   \n",
    "  \n",
    "   * Dimensionality Reduction: Reducing the number of features in a dataset while preserving its essential information (e.g., data visualization, feature extraction).\n",
    "      * Principal Component Analysis (PCA): Finding the principal components that capture the most variance in the data.   \n",
    "      * t-distributed Stochastic Neighbor Embedding (t-SNE): Reducing dimensionality for visualizing high-dimensional data.   \n",
    "  \n",
    "   * Association Rule Mining: Discovering interesting relationships or associations between variables in large datasets (e.g., market basket analysis).\n",
    "      * Apriori Algorithm: Finding frequent itemsets in transactional data.   \n",
    "      * Eclat Algorithm: Another algorithm for finding frequent itemsets.   \n",
    "  \n",
    "   * Anomaly Detection: Identifying data points that deviate significantly from the normal behavior or patterns in the data (e.g., fraud detection, fault detection).   \n",
    "\n",
    "* Reinforcement Learning: In reinforcement learning, an agent learns to interact with an environment by taking actions and receiving rewards or penalties. The goal is for the agent to learn an optimal policy (a mapping from states to actions) that maximizes the cumulative reward over time.   \n",
    "\n",
    "   * Control Tasks: Learning to control a system or agent to achieve a specific goal (e.g., robotics, autonomous driving).\n",
    "   * Game Playing: Training agents to play games against opponents (e.g., AlphaGo, Atari games).   \n",
    "   * Recommendation Systems: Optimizing recommendations based on user feedback and rewards.   \n",
    "   * Resource Management: Learning to allocate resources efficiently.   \n",
    "\n",
    "* Other Types of Machine Learning Tasks (Sometimes Considered Subcategories or Hybrid Approaches):\n",
    "\n",
    "   * Semi-Supervised Learning: Learning from a combination of labeled and unlabeled data. This is useful when labeling data is expensive or time-consuming.   \n",
    "   * Self-Supervised Learning: Learning from unlabeled data where the labels are generated from the data itself through a pretext task (e.g., predicting a missing part of an image). The learned representations can then be used for downstream supervised tasks.   \n",
    "   * Machine Translation: Translating text from one language to another. This can be approached with sequence-to-sequence models in supervised learning.   \n",
    "   * Transcription: Converting unstructured data like audio into a structured format like text (e.g., speech recognition).   \n",
    "Synthesis and Sampling: Generating new data samples that are similar to the training data (e.g., generating images, text, or music).\n",
    "\n",
    "The choice of machine learning task depends heavily on the nature of the data, the problem you are trying to solve, and the desired outcome. Understanding these different types of tasks is fundamental to applying machine learning effectively."
   ]
  }
 ],
 "metadata": {
  "kernelspec": {
   "display_name": "Python 3 (ipykernel)",
   "language": "python",
   "name": "python3"
  },
  "language_info": {
   "codemirror_mode": {
    "name": "ipython",
    "version": 3
   },
   "file_extension": ".py",
   "mimetype": "text/x-python",
   "name": "python",
   "nbconvert_exporter": "python",
   "pygments_lexer": "ipython3",
   "version": "3.12.6"
  }
 },
 "nbformat": 4,
 "nbformat_minor": 5
}
