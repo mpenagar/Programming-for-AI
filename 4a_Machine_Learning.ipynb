{
 "cells": [
  {
   "cell_type": "markdown",
   "id": "00d6a65d-3391-430d-9113-5ffbe6972fef",
   "metadata": {
    "editable": true,
    "slideshow": {
     "slide_type": "slide"
    },
    "tags": []
   },
   "source": [
    "# Introduction to Machine Learning"
   ]
  },
  {
   "cell_type": "markdown",
   "id": "0152331f-461a-4bda-817d-7e33159ddedd",
   "metadata": {
    "editable": true,
    "slideshow": {
     "slide_type": "slide"
    },
    "tags": []
   },
   "source": [
    "## Fundamentals of Machine Learning"
   ]
  },
  {
   "cell_type": "markdown",
   "id": "cee68866-a231-4147-95da-f6bc5617cd4d",
   "metadata": {
    "editable": true,
    "slideshow": {
     "slide_type": "fragment"
    },
    "tags": []
   },
   "source": [
    "* **Learn from Data**. Computers can learn from data without being explicitly programmed for every specific task (<u>rule-based</u> &rarr; <u>data-driven</u>). "
   ]
  },
  {
   "cell_type": "markdown",
   "id": "7f5f6a22-bf4b-43b2-8a61-8f680b4d2361",
   "metadata": {
    "editable": true,
    "slideshow": {
     "slide_type": "fragment"
    },
    "tags": []
   },
   "source": [
    "* **Identify Patterns**. Algorithms can automatically find patterns, relationships, and insights within data."
   ]
  },
  {
   "cell_type": "markdown",
   "id": "f888b333-5881-44d9-ae4f-00e9354d7381",
   "metadata": {
    "editable": true,
    "slideshow": {
     "slide_type": "fragment"
    },
    "tags": []
   },
   "source": [
    "* **Generalization**. Ability to make predictions on new, unseen data"
   ]
  },
  {
   "cell_type": "markdown",
   "id": "d8c826b6-50a4-4ca6-993f-33d56e5226a2",
   "metadata": {
    "editable": true,
    "slideshow": {
     "slide_type": "fragment"
    },
    "tags": []
   },
   "source": [
    "* **Algorithms and Models**. Algorithms (sets of instructions) are used to build models (representations of the learned patterns)."
   ]
  },
  {
   "cell_type": "markdown",
   "id": "168170a3-91ed-4e2d-89cd-b4f387552d03",
   "metadata": {
    "editable": true,
    "slideshow": {
     "slide_type": "slide"
    },
    "tags": []
   },
   "source": [
    "## Learning Paradigms and Machine Learning Tasks\n",
    "\n",
    "Machine learning tasks can be categorized according to the learning paradigm and the specific goal they pursue:\n",
    "* Supervised Learning\n",
    "* Unsupervised Learning\n",
    "* Self-Supervised Learning\n",
    "* Reinforcement Learning"
   ]
  },
  {
   "cell_type": "markdown",
   "id": "f8b50337-9f3f-4388-a6ac-2e319bed2a42",
   "metadata": {
    "editable": true,
    "slideshow": {
     "slide_type": "slide"
    },
    "tags": []
   },
   "source": [
    "### Supervised Learning\n",
    "\n",
    "* Each input data is associated with a known output or target variable.\n",
    "* **Goal**: Learn a *mapping* from input to output data.\n",
    "\n",
    "Some common tasks: Classification & Regression"
   ]
  },
  {
   "cell_type": "markdown",
   "id": "66c59ba8-5c08-42bc-82e0-927c83111283",
   "metadata": {
    "editable": true,
    "slideshow": {
     "slide_type": "slide"
    },
    "tags": []
   },
   "source": [
    "#### Classification Task\n",
    "* **Goal**: Assign data points to <u>predefined</u> categories or classes.\n",
    "* The output variable is categorical.\n",
    "    * **Binary Classification**: Predicting one of two classes.\n",
    "    * **Multi-class Classification**: Predicting one of more than two classes.\n",
    "* Examples:\n",
    "    * <u>Image Classification</u>: Identifying objects in an image (e.g., cat, dog, car).   \n",
    "    * <u>Spam Detection</u>: Classifying emails as spam or not spam.   \n",
    "    * <u>Medical Diagnosis</u>: Determining if a patient has a certain disease based on symptoms and test results.   \n",
    "    * <u>Fraud Detection</u>: Identifying fraudulent transactions based on user behavior and transaction details.   "
   ]
  },
  {
   "cell_type": "markdown",
   "id": "87f04bb6-373a-4af1-8de0-4cbe5cf43f1a",
   "metadata": {
    "editable": true,
    "slideshow": {
     "slide_type": "slide"
    },
    "tags": []
   },
   "source": [
    "A model that fits a type of task can be used <u>regardless of what the inputs and outputs represent</u>. \n",
    "\n",
    "* If a model fits a binary text classification task, it can be used for:\n",
    "    * Spam Detection: Spam &harr; Not Spam\n",
    "    * Topic Classification: Relevant &harr; Irrelevant\n",
    "    * Fake News Detection: Fake &harr; Real\n",
    "    * Bot Detection in Social Media: Bot &harr; Human\n",
    "    * Political Orientation Classification: right &harr; left political ideology"
   ]
  },
  {
   "cell_type": "markdown",
   "id": "6a62b5d6-2bee-4ff0-b33c-51c203a10486",
   "metadata": {
    "editable": true,
    "slideshow": {
     "slide_type": "slide"
    },
    "tags": []
   },
   "source": [
    "#### Regression Task\n",
    "* **Goal**: To predict a continuous numerical value.\n",
    "* The output variable is continuous.\n",
    "    * **Linear Regression**: Linear relationship with the input features.\n",
    "    * **Polynomial Regression**: Polynomial relationship with the input features.\n",
    "    * ...   \n",
    "    * **Time Series Forecasting**: Predicting future values based on past values\n",
    "* Examples:\n",
    "    * <u>Feature based Estimations</u>\n",
    "        * Predict a house selling price given features like the size of the house, number of bedrooms, location, and age.\n",
    "        * Insurance risk estimation based on customer demographics, driving history, and other risk factors\n",
    "    * <u>Feature & Time based Estimations</u> (Time Series Forecasting)\n",
    "        * Stock Market Prices estimation based on historical stock data, economic indicators, and company performance.\n",
    "        * Energy demand prediction based on weather patterns, time of day, and historical demand."
   ]
  },
  {
   "cell_type": "markdown",
   "id": "762f814a-8ba9-4747-b45d-154046e67eb8",
   "metadata": {
    "editable": true,
    "slideshow": {
     "slide_type": "slide"
    },
    "tags": []
   },
   "source": [
    "#### Categorical vs discrete output variables\n",
    "\n",
    "Output variable can be discrete, but not categorical:\n",
    "* <u>Sentiment Analysis</u>, e.g. classifying text (e.g., reviews, tweets) as positive, negative, or neutral.\n",
    "* <u>Rating Prediction</u>, e.g. predicting a song or movie rating on a scale of 1 to 5 stars\n",
    "    \n",
    "Different approaches:\n",
    "* Use a regression model an discretize the estimation\n",
    "* Use a classification model (with <u>loss of ordinal information or ignoring numerical relationships</u>)"
   ]
  },
  {
   "cell_type": "markdown",
   "id": "a5423a2f-ec17-44c1-bf12-6aa5166f6b5d",
   "metadata": {
    "editable": true,
    "slideshow": {
     "slide_type": "slide"
    },
    "tags": []
   },
   "source": [
    "### Unsupervised Learning\n",
    "\n",
    "* The algorithm learns from unlabeled data, without any explicit output or target variable.\n",
    "* **Goal**: Discover hidden patterns or structure in the (input) data\n",
    "\n",
    "Some common tasks: Clustering & Dimensionality Reduction (PCA, t-SNE, ...)"
   ]
  },
  {
   "cell_type": "markdown",
   "id": "5b3774af-90ea-4bde-a39f-6b0f937c9dab",
   "metadata": {
    "editable": true,
    "slideshow": {
     "slide_type": "slide"
    },
    "tags": []
   },
   "source": [
    "### Self-Supervised Learning\n",
    "\n",
    "* The algorithm learns useful representations of the data by creating \"artificial\" labels from the unlabeled data itself.\n",
    "    * E.g. a system that creates a lower-dimensional representation of the (corrupted) input data and tries to reconstruct the original (clean) input data.\n",
    "* **Goal**: Learn useful representations from the (input) data.\n",
    "\n",
    "Some common tasks: Word embeddings"
   ]
  },
  {
   "cell_type": "markdown",
   "id": "24175700-1dd2-4d6e-9cd6-878c26f8f101",
   "metadata": {
    "editable": true,
    "slideshow": {
     "slide_type": "slide"
    },
    "tags": []
   },
   "source": [
    "#### Word embeddings\n",
    "\n",
    "* Low-dimensional (50-300) numerical representation of words\n",
    "* Capture the semantic meaning and relationships between words\n",
    "    * Words with similar meanings are close in the embedding space\n",
    "* Mathematical operations reflect semantic relationships\n",
    "    * `vector(\"king\")` - `vector(\"man\")` + `vector(\"woman\")` ≈ `vector(\"queen\")`\n",
    "* Language dependent, already available for many languages "
   ]
  },
  {
   "cell_type": "markdown",
   "id": "4c98f875-b335-4060-b8a9-a91af6e15098",
   "metadata": {
    "editable": true,
    "slideshow": {
     "slide_type": "slide"
    },
    "tags": []
   },
   "source": [
    "### Reinforcement Learning\n",
    "\n",
    "* The algorithm (*agent*) learns through trial and error by interacting with the environment and observing the consequences of its actions (rewards/penalities).\n",
    "    * Like learning through experience\n",
    "* **Goal**: Learn an optimal policy to maximize cumulative reward.\n",
    "\n",
    "Some common tasks: Game Playing, Autonomous Driving, Chats"
   ]
  },
  {
   "cell_type": "markdown",
   "id": "d27cc549-5f64-4e79-8878-4402302f9da1",
   "metadata": {
    "jp-MarkdownHeadingCollapsed": true
   },
   "source": [
    "<hr>\n",
    "<hr>"
   ]
  },
  {
   "cell_type": "markdown",
   "id": "31a629c2-6c30-4d3d-8895-5a11fb295226",
   "metadata": {
    "jp-MarkdownHeadingCollapsed": true
   },
   "source": [
    "algo sobre que el modelo aprende de los datos. Si los datos representan otra tarea, no aprende a resolver la tarea."
   ]
  },
  {
   "cell_type": "markdown",
   "id": "6f63f22a-4ab6-4e30-8486-7dcce7c213d2",
   "metadata": {},
   "source": [
    "Performance metrics:\n",
    "accuracy, F1-score..."
   ]
  }
 ],
 "metadata": {
  "kernelspec": {
   "display_name": "Python 3 (ipykernel)",
   "language": "python",
   "name": "python3"
  },
  "language_info": {
   "codemirror_mode": {
    "name": "ipython",
    "version": 3
   },
   "file_extension": ".py",
   "mimetype": "text/x-python",
   "name": "python",
   "nbconvert_exporter": "python",
   "pygments_lexer": "ipython3",
   "version": "3.12.6"
  }
 },
 "nbformat": 4,
 "nbformat_minor": 5
}
