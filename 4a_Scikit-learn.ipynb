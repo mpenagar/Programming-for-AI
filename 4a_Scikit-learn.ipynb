{
 "cells": [
  {
   "cell_type": "markdown",
   "id": "eef88c4b-089a-451c-b177-6ad10dd58745",
   "metadata": {
    "editable": true,
    "slideshow": {
     "slide_type": "slide"
    },
    "tags": []
   },
   "source": [
    "# Scikit-learn (sklearn)\n",
    "\n",
    "* Jake VanderPlas. 2016. *Python Data Science Handbook: Essential Tools for Working with Data*. O'Reilly Media, Inc.\n",
    "* Chapter 5 - Machine Learning\n",
    "* https://github.com/jakevdp/PythonDataScienceHandbook"
   ]
  },
  {
   "cell_type": "markdown",
   "id": "a45e9f31-8cb7-4376-ae3b-1fa17c3f614a",
   "metadata": {
    "editable": true,
    "slideshow": {
     "slide_type": "slide"
    },
    "tags": []
   },
   "source": [
    "## 1. Scikit-learn - Introduction\n",
    "\n",
    "* Powerful free and open-source (BSD license) machine learning library.\n",
    "* Built on NumPy, SciPy, and matplotlib.\n",
    "* Comprehensive Algorithms: Classification, Regression, Clustering, Dimensionality Reduction, Preprocessing, Model Selection, Feature Selection...\n",
    "* Simple model interface:\n",
    "    * `model = XXX()` &rarr; `model.fit(X, y)` &rarr; `model.predict(X_new)`\n",
    "* Compatible with NumPy and Pandas data.\n",
    "* Includes some ready to use popular reference datasets."
   ]
  },
  {
   "cell_type": "markdown",
   "id": "5e3533e3-5641-428e-8936-369b49f5cad0",
   "metadata": {
    "editable": true,
    "slideshow": {
     "slide_type": "slide"
    },
    "tags": []
   },
   "source": [
    "* Scikit-learn expects the data to be in a tabular format\n",
    "    * Each **row** represents a single sample of the data.\n",
    "    * Each **column** represents a feature of the data.\n",
    "\n",
    "<center><img src=\"img/samples-features.png\" alt=\"data shape\" style=\"width: 60%;\"/></center>"
   ]
  },
  {
   "cell_type": "code",
   "execution_count": 5,
   "id": "96a10c41-efdf-453d-954a-ab35da92387b",
   "metadata": {
    "editable": true,
    "slideshow": {
     "slide_type": "slide"
    },
    "tags": []
   },
   "outputs": [],
   "source": [
    "import numpy as np\n",
    "import pandas as pd\n",
    "import matplotlib as mpl\n",
    "import matplotlib.pyplot as plt\n",
    "import seaborn as sns\n",
    "\n",
    "from IPython.display import HTML\n",
    "HTML(\"\"\"<style>.dataframe {font-size: 80% !important;}</style>\"\"\")\n",
    "\n",
    "sns.set()\n",
    "mpl.rcParams['figure.figsize'] = (5.33,4)\n",
    "mpl.rcParams['axes.labelsize'] = 10  # Example: 14 points\n",
    "mpl.rcParams['xtick.labelsize'] = 8  # Example: 12 points for x-axis ticks\n",
    "mpl.rcParams['ytick.labelsize'] = 8  # Example: 12 points for y-axis ticks"
   ]
  },
  {
   "cell_type": "markdown",
   "id": "ddbaa3b8-6b67-4483-9631-619da1ea4298",
   "metadata": {
    "editable": true,
    "slideshow": {
     "slide_type": "slide"
    },
    "tags": []
   },
   "source": [
    "## 2. Selecting a classification dataset"
   ]
  },
  {
   "cell_type": "markdown",
   "id": "d07f9854-b94b-4f94-9ded-ddd3d1a87c3f",
   "metadata": {
    "editable": true,
    "slideshow": {
     "slide_type": "slide"
    },
    "tags": []
   },
   "source": [
    "### MNIST database (Modified National Institute of Standards and Technology)\n",
    "<center><img src=\"img/MNIST.jpg\" alt=\"MNIST\" style=\"width: 60%;\"/></center>"
   ]
  },
  {
   "cell_type": "markdown",
   "id": "fb97cddb-5788-419d-bef0-fba6057dcb0b",
   "metadata": {
    "editable": true,
    "slideshow": {
     "slide_type": "slide"
    },
    "tags": []
   },
   "source": [
    "`fetch_openml`can be used to get some datasets:"
   ]
  },
  {
   "cell_type": "code",
   "execution_count": 6,
   "id": "619afdda-779e-4739-a971-7c7e1661bf18",
   "metadata": {
    "editable": true,
    "slideshow": {
     "slide_type": ""
    },
    "tags": []
   },
   "outputs": [],
   "source": [
    "from sklearn.datasets import fetch_openml\n",
    "mnist = fetch_openml(\"mnist_784\", data_home='~/.cache/scikit_learn_data', as_frame=False)"
   ]
  },
  {
   "cell_type": "code",
   "execution_count": 7,
   "id": "bac87f71-c0f5-43f9-b5e6-ebeb31f19759",
   "metadata": {
    "editable": true,
    "slideshow": {
     "slide_type": "fragment"
    },
    "tags": []
   },
   "outputs": [
    {
     "name": "stdout",
     "output_type": "stream",
     "text": [
      "type(mnist.data)=<class 'numpy.ndarray'>\n",
      "type(mnist.data)=<class 'numpy.ndarray'>\n",
      "mnist.data.shape=(70000, 784)\n",
      "mnist.target.shape=(70000,)\n",
      "mnist.data.max()=255\n",
      "mnist.data.min()=0\n",
      "np.unique(mnist.target)=array(['0', '1', '2', '3', '4', '5', '6', '7', '8', '9'], dtype=object)\n"
     ]
    }
   ],
   "source": [
    "print(f'{type(mnist.data)=}\\n{type(mnist.data)=}')\n",
    "print(f'{mnist.data.shape=}\\n{mnist.target.shape=}')\n",
    "print(f'{mnist.data.max()=}\\n{mnist.data.min()=}')\n",
    "print(f'{np.unique(mnist.target)=}')"
   ]
  },
  {
   "cell_type": "markdown",
   "id": "fe959e07-6967-4fe9-bf94-58d0da46af25",
   "metadata": {
    "editable": true,
    "slideshow": {
     "slide_type": "slide"
    },
    "tags": []
   },
   "source": [
    "The dataset is quite balanced:"
   ]
  },
  {
   "cell_type": "code",
   "execution_count": 8,
   "id": "e4c95eb2-ffdb-4473-9aec-975f5f181e83",
   "metadata": {
    "editable": true,
    "slideshow": {
     "slide_type": ""
    },
    "tags": []
   },
   "outputs": [
    {
     "data": {
      "image/png": "[encoded data removed]",
      "text/plain": [
       "<Figure size 533x400 with 1 Axes>"
      ]
     },
     "metadata": {},
     "output_type": "display_data"
    }
   ],
   "source": [
    "plt.hist(mnist.target);"
   ]
  },
  {
   "cell_type": "markdown",
   "id": "2baaf079-8a1c-4e76-aab3-4e01dae1f736",
   "metadata": {
    "editable": true,
    "slideshow": {
     "slide_type": "slide"
    },
    "tags": []
   },
   "source": [
    "Let's see some examples of the images:"
   ]
  },
  {
   "cell_type": "code",
   "execution_count": 9,
   "id": "c4166799-1e78-42a4-85b1-9c5697f81176",
   "metadata": {
    "editable": true,
    "slideshow": {
     "slide_type": ""
    },
    "tags": []
   },
   "outputs": [
    {
     "data": {
      "image/png": "[encoded data removed]",
      "text/plain": [
       "<Figure size 533x400 with 4 Axes>"
      ]
     },
     "metadata": {},
     "output_type": "display_data"
    }
   ],
   "source": [
    "with sns.axes_style('white'):\n",
    "    for i,idx in enumerate(np.random.randint(0,mnist.data.shape[0],4)):\n",
    "        plt.subplot(1, 4, i+1)\n",
    "        plt.imshow(mnist.data[idx].reshape(28,28), cmap=plt.cm.gray_r)\n",
    "        plt.title(mnist.target[idx])\n",
    "        plt.xticks([]) \n",
    "        plt.yticks([]) "
   ]
  },
  {
   "cell_type": "markdown",
   "id": "b7ee75a6-92da-455e-ac35-008c03dd71ca",
   "metadata": {
    "editable": true,
    "slideshow": {
     "slide_type": "slide"
    },
    "tags": []
   },
   "source": [
    "We can normalize (min-max scale) the values:"
   ]
  },
  {
   "cell_type": "code",
   "execution_count": 10,
   "id": "5d0f2583-a5ca-475b-b20b-0b0eb2e9bb2a",
   "metadata": {
    "editable": true,
    "slideshow": {
     "slide_type": ""
    },
    "tags": []
   },
   "outputs": [
    {
     "name": "stdout",
     "output_type": "stream",
     "text": [
      "mnist.data.shape=(70000, 784)\n",
      "mnist.target.shape=(70000,)\n",
      "mnist.data.max()=1.0\n",
      "mnist.data.min()=0.0\n",
      "np.unique(mnist.target)=array([0, 1, 2, 3, 4, 5, 6, 7, 8, 9])\n"
     ]
    }
   ],
   "source": [
    "mnist.data = mnist.data / mnist.data.max()\n",
    "mnist.target = mnist.target.astype('int')\n",
    "print(f'{mnist.data.shape=}\\n{mnist.target.shape=}')\n",
    "print(f'{mnist.data.max()=}\\n{mnist.data.min()=}')\n",
    "print(f'{np.unique(mnist.target)=}')"
   ]
  },
  {
   "cell_type": "markdown",
   "id": "0f8d0ca9-f19d-49be-be60-b6ed994e1bbe",
   "metadata": {
    "editable": true,
    "slideshow": {
     "slide_type": "slide"
    },
    "tags": []
   },
   "source": [
    "Split the data, create some model, fit it and get the performance:"
   ]
  },
  {
   "cell_type": "code",
   "execution_count": 11,
   "id": "7a781dc1-9ef4-4c08-8021-af17ebb2c557",
   "metadata": {
    "editable": true,
    "slideshow": {
     "slide_type": ""
    },
    "tags": []
   },
   "outputs": [],
   "source": [
    "from sklearn.model_selection import train_test_split\n",
    "\n",
    "X_train, X_test, y_train, y_test = \\\n",
    "    train_test_split(mnist.data, mnist.target, test_size=0.2, random_state=42)"
   ]
  },
  {
   "cell_type": "code",
   "execution_count": 12,
   "id": "8acabc8c-6e65-4fb6-9e71-b6bc6ec61e10",
   "metadata": {
    "editable": true,
    "slideshow": {
     "slide_type": "fragment"
    },
    "tags": []
   },
   "outputs": [
    {
     "name": "stdout",
     "output_type": "stream",
     "text": [
      "Accuracy: 92.0%\n"
     ]
    },
    {
     "name": "stderr",
     "output_type": "stream",
     "text": [
      "/opt/tljh/user/lib/python3.12/site-packages/sklearn/linear_model/_logistic.py:465: ConvergenceWarning: lbfgs failed to converge (status=1):\n",
      "STOP: TOTAL NO. OF ITERATIONS REACHED LIMIT.\n",
      "\n",
      "Increase the number of iterations (max_iter) or scale the data as shown in:\n",
      "    https://scikit-learn.org/stable/modules/preprocessing.html\n",
      "Please also refer to the documentation for alternative solver options:\n",
      "    https://scikit-learn.org/stable/modules/linear_model.html#logistic-regression\n",
      "  n_iter_i = _check_optimize_result(\n"
     ]
    }
   ],
   "source": [
    "from sklearn.linear_model import LogisticRegression\n",
    "from sklearn.metrics import accuracy_score\n",
    "\n",
    "model = LogisticRegression()\n",
    "model.fit(X_train, y_train)\n",
    "y_pred = model.predict(X_test)\n",
    "print(f'Accuracy: {accuracy_score(y_test, y_pred)*100:.1f}%')"
   ]
  },
  {
   "cell_type": "markdown",
   "id": "c1b0b6ce-4348-4ed2-a0e2-8e21f19703dc",
   "metadata": {
    "editable": true,
    "slideshow": {
     "slide_type": "slide"
    },
    "tags": []
   },
   "source": [
    "Create a function that does everything (ignoring convergence warnings):"
   ]
  },
  {
   "cell_type": "code",
   "execution_count": 13,
   "id": "a36dcd5a-c93a-4adf-b707-04b4a6a39bed",
   "metadata": {
    "editable": true,
    "slideshow": {
     "slide_type": ""
    },
    "tags": []
   },
   "outputs": [
    {
     "name": "stdout",
     "output_type": "stream",
     "text": [
      "Accuracy: 92.0%\n"
     ]
    }
   ],
   "source": [
    "from sklearn.utils._testing import ignore_warnings\n",
    "from sklearn.exceptions import ConvergenceWarning\n",
    "\n",
    "@ignore_warnings(category=ConvergenceWarning)\n",
    "def fit_score(X_train, X_test, y_train, y_test):\n",
    "    model = LogisticRegression()\n",
    "    model.fit(X_train, y_train)\n",
    "    y_pred = model.predict(X_test)\n",
    "    return accuracy_score(y_test, y_pred)\n",
    "\n",
    "print(f'Accuracy: {fit_score(X_train, X_test, y_train, y_test)*100:.1f}%')"
   ]
  },
  {
   "cell_type": "markdown",
   "id": "866e76cf-1d86-43e7-b13d-60f98dc0f36d",
   "metadata": {
    "editable": true,
    "slideshow": {
     "slide_type": "slide"
    },
    "tags": []
   },
   "source": [
    "### Fashion MNIST (Fashion Modified National Institute of Standards and Technology database)\n",
    "<center><img src=\"img/Fashion-MNIST.webp\" alt=\"Fashion MNIST\" style=\"width: 60%;\"/></center>"
   ]
  },
  {
   "cell_type": "markdown",
   "id": "99f8a13b-e553-46c6-b9b6-73e37374b847",
   "metadata": {
    "editable": true,
    "slideshow": {
     "slide_type": "slide"
    },
    "tags": []
   },
   "source": [
    "The dataset is accessible through Kaggle:"
   ]
  },
  {
   "cell_type": "code",
   "execution_count": 14,
   "id": "fdeb7187-e153-4397-8872-e1c9f4df0dac",
   "metadata": {
    "editable": true,
    "slideshow": {
     "slide_type": ""
    },
    "tags": []
   },
   "outputs": [
    {
     "name": "stdout",
     "output_type": "stream",
     "text": [
      "Warning: Looks like you're using an outdated `kagglehub` version (installed: 0.3.10), please consider upgrading to the latest version (0.3.12).\n",
      "/home/jupyter-mpenagaricano/.cache/kagglehub/datasets/zalando-research/fashionmnist/versions/4\n"
     ]
    }
   ],
   "source": [
    "#!pip install kagglehub\n",
    "import kagglehub\n",
    "path = kagglehub.dataset_download(\"zalando-research/fashionmnist\")\n",
    "print(path)"
   ]
  },
  {
   "cell_type": "code",
   "execution_count": 15,
   "id": "5e12662c-1747-4410-96c9-03c1f28c3f0f",
   "metadata": {
    "editable": true,
    "scrolled": true,
    "slideshow": {
     "slide_type": "fragment"
    },
    "tags": []
   },
   "outputs": [
    {
     "name": "stdout",
     "output_type": "stream",
     "text": [
      "(60000, 785) (10000, 785)\n"
     ]
    },
    {
     "data": {
      "text/html": [
       "<div>\n",
       "<style scoped>\n",
       "    .dataframe tbody tr th:only-of-type {\n",
       "        vertical-align: middle;\n",
       "    }\n",
       "\n",
       "    .dataframe tbody tr th {\n",
       "        vertical-align: top;\n",
       "    }\n",
       "\n",
       "    .dataframe thead th {\n",
       "        text-align: right;\n",
       "    }\n",
       "</style>\n",
       "<table border=\"1\" class=\"dataframe\">\n",
       "  <thead>\n",
       "    <tr style=\"text-align: right;\">\n",
       "      <th></th>\n",
       "      <th>label</th>\n",
       "      <th>pixel1</th>\n",
       "      <th>pixel2</th>\n",
       "      <th>pixel3</th>\n",
       "      <th>pixel4</th>\n",
       "      <th>pixel5</th>\n",
       "      <th>pixel6</th>\n",
       "      <th>pixel7</th>\n",
       "      <th>pixel8</th>\n",
       "      <th>pixel9</th>\n",
       "      <th>...</th>\n",
       "      <th>pixel775</th>\n",
       "      <th>pixel776</th>\n",
       "      <th>pixel777</th>\n",
       "      <th>pixel778</th>\n",
       "      <th>pixel779</th>\n",
       "      <th>pixel780</th>\n",
       "      <th>pixel781</th>\n",
       "      <th>pixel782</th>\n",
       "      <th>pixel783</th>\n",
       "      <th>pixel784</th>\n",
       "    </tr>\n",
       "  </thead>\n",
       "  <tbody>\n",
       "    <tr>\n",
       "      <th>0</th>\n",
       "      <td>2</td>\n",
       "      <td>0</td>\n",
       "      <td>0</td>\n",
       "      <td>0</td>\n",
       "      <td>0</td>\n",
       "      <td>0</td>\n",
       "      <td>0</td>\n",
       "      <td>0</td>\n",
       "      <td>0</td>\n",
       "      <td>0</td>\n",
       "      <td>...</td>\n",
       "      <td>0</td>\n",
       "      <td>0</td>\n",
       "      <td>0</td>\n",
       "      <td>0</td>\n",
       "      <td>0</td>\n",
       "      <td>0</td>\n",
       "      <td>0</td>\n",
       "      <td>0</td>\n",
       "      <td>0</td>\n",
       "      <td>0</td>\n",
       "    </tr>\n",
       "    <tr>\n",
       "      <th>1</th>\n",
       "      <td>9</td>\n",
       "      <td>0</td>\n",
       "      <td>0</td>\n",
       "      <td>0</td>\n",
       "      <td>0</td>\n",
       "      <td>0</td>\n",
       "      <td>0</td>\n",
       "      <td>0</td>\n",
       "      <td>0</td>\n",
       "      <td>0</td>\n",
       "      <td>...</td>\n",
       "      <td>0</td>\n",
       "      <td>0</td>\n",
       "      <td>0</td>\n",
       "      <td>0</td>\n",
       "      <td>0</td>\n",
       "      <td>0</td>\n",
       "      <td>0</td>\n",
       "      <td>0</td>\n",
       "      <td>0</td>\n",
       "      <td>0</td>\n",
       "    </tr>\n",
       "    <tr>\n",
       "      <th>2</th>\n",
       "      <td>6</td>\n",
       "      <td>0</td>\n",
       "      <td>0</td>\n",
       "      <td>0</td>\n",
       "      <td>0</td>\n",
       "      <td>0</td>\n",
       "      <td>0</td>\n",
       "      <td>0</td>\n",
       "      <td>5</td>\n",
       "      <td>0</td>\n",
       "      <td>...</td>\n",
       "      <td>0</td>\n",
       "      <td>0</td>\n",
       "      <td>0</td>\n",
       "      <td>30</td>\n",
       "      <td>43</td>\n",
       "      <td>0</td>\n",
       "      <td>0</td>\n",
       "      <td>0</td>\n",
       "      <td>0</td>\n",
       "      <td>0</td>\n",
       "    </tr>\n",
       "    <tr>\n",
       "      <th>3</th>\n",
       "      <td>0</td>\n",
       "      <td>0</td>\n",
       "      <td>0</td>\n",
       "      <td>0</td>\n",
       "      <td>1</td>\n",
       "      <td>2</td>\n",
       "      <td>0</td>\n",
       "      <td>0</td>\n",
       "      <td>0</td>\n",
       "      <td>0</td>\n",
       "      <td>...</td>\n",
       "      <td>3</td>\n",
       "      <td>0</td>\n",
       "      <td>0</td>\n",
       "      <td>0</td>\n",
       "      <td>0</td>\n",
       "      <td>1</td>\n",
       "      <td>0</td>\n",
       "      <td>0</td>\n",
       "      <td>0</td>\n",
       "      <td>0</td>\n",
       "    </tr>\n",
       "    <tr>\n",
       "      <th>4</th>\n",
       "      <td>3</td>\n",
       "      <td>0</td>\n",
       "      <td>0</td>\n",
       "      <td>0</td>\n",
       "      <td>0</td>\n",
       "      <td>0</td>\n",
       "      <td>0</td>\n",
       "      <td>0</td>\n",
       "      <td>0</td>\n",
       "      <td>0</td>\n",
       "      <td>...</td>\n",
       "      <td>0</td>\n",
       "      <td>0</td>\n",
       "      <td>0</td>\n",
       "      <td>0</td>\n",
       "      <td>0</td>\n",
       "      <td>0</td>\n",
       "      <td>0</td>\n",
       "      <td>0</td>\n",
       "      <td>0</td>\n",
       "      <td>0</td>\n",
       "    </tr>\n",
       "  </tbody>\n",
       "</table>\n",
       "<p>5 rows × 785 columns</p>\n",
       "</div>"
      ],
      "text/plain": [
       "   label  pixel1  pixel2  pixel3  pixel4  pixel5  pixel6  pixel7  pixel8  \\\n",
       "0      2       0       0       0       0       0       0       0       0   \n",
       "1      9       0       0       0       0       0       0       0       0   \n",
       "2      6       0       0       0       0       0       0       0       5   \n",
       "3      0       0       0       0       1       2       0       0       0   \n",
       "4      3       0       0       0       0       0       0       0       0   \n",
       "\n",
       "   pixel9  ...  pixel775  pixel776  pixel777  pixel778  pixel779  pixel780  \\\n",
       "0       0  ...         0         0         0         0         0         0   \n",
       "1       0  ...         0         0         0         0         0         0   \n",
       "2       0  ...         0         0         0        30        43         0   \n",
       "3       0  ...         3         0         0         0         0         1   \n",
       "4       0  ...         0         0         0         0         0         0   \n",
       "\n",
       "   pixel781  pixel782  pixel783  pixel784  \n",
       "0         0         0         0         0  \n",
       "1         0         0         0         0  \n",
       "2         0         0         0         0  \n",
       "3         0         0         0         0  \n",
       "4         0         0         0         0  \n",
       "\n",
       "[5 rows x 785 columns]"
      ]
     },
     "execution_count": 15,
     "metadata": {},
     "output_type": "execute_result"
    }
   ],
   "source": [
    "train_df = pd.read_csv(path + '/fashion-mnist_train.csv')\n",
    "test_df = pd.read_csv(path + '/fashion-mnist_test.csv')\n",
    "print(train_df.shape , test_df.shape)\n",
    "train_df.head()"
   ]
  },
  {
   "cell_type": "code",
   "execution_count": 16,
   "id": "786b367d-9b0c-4e9c-b118-ba1f36db2633",
   "metadata": {
    "editable": true,
    "slideshow": {
     "slide_type": "slide"
    },
    "tags": []
   },
   "outputs": [
    {
     "name": "stdout",
     "output_type": "stream",
     "text": [
      "X_train.shape=(60000, 784)\n",
      "y_train.shape=(60000,)\n",
      "X_train.shape=(60000, 784)\n",
      "y_train.shape=(60000,)\n",
      "X_test.shape=(10000, 784)\n",
      "y_test.shape=(10000,)\n",
      "X_train.max()=255\n",
      "X_train.min()=0\n",
      "X_test.max()=255\n",
      "X_test.min()=0\n",
      "[0 1 2 3 4 5 6 7 8 9]\n"
     ]
    }
   ],
   "source": [
    "X_train = train_df.drop('label', axis=1).to_numpy()\n",
    "y_train = train_df['label'].to_numpy()\n",
    "X_test = test_df.drop('label', axis=1).to_numpy()\n",
    "y_test = test_df['label'].to_numpy()\n",
    "print(f'{X_train.shape=}\\n{y_train.shape=}')\n",
    "print(f'{X_train.shape=}\\n{y_train.shape=}')\n",
    "print(f'{X_test.shape=}\\n{y_test.shape=}')\n",
    "print(f'{X_train.max()=}\\n{X_train.min()=}')\n",
    "print(f'{X_test.max()=}\\n{X_test.min()=}')\n",
    "print(f'{np.unique(y_train)}')"
   ]
  },
  {
   "cell_type": "markdown",
   "id": "b738cb53-1234-44de-8c2d-973de44972f8",
   "metadata": {
    "editable": true,
    "slideshow": {
     "slide_type": "slide"
    },
    "tags": []
   },
   "source": [
    "The dataset is perfectly balanced:"
   ]
  },
  {
   "cell_type": "code",
   "execution_count": 17,
   "id": "240b7a9b-0f40-40eb-b781-c70c38625767",
   "metadata": {
    "editable": true,
    "slideshow": {
     "slide_type": ""
    },
    "tags": []
   },
   "outputs": [
    {
     "data": {
      "text/plain": [
       "<Axes: >"
      ]
     },
     "execution_count": 17,
     "metadata": {},
     "output_type": "execute_result"
    },
    {
     "data": {
      "image/png": "[encoded data removed]",
      "text/plain": [
       "<Figure size 533x400 with 1 Axes>"
      ]
     },
     "metadata": {},
     "output_type": "display_data"
    }
   ],
   "source": [
    "train_df['label'].hist()"
   ]
  },
  {
   "cell_type": "code",
   "execution_count": 18,
   "id": "f76ae4b0-fb77-4ed6-85c8-1dc50933402b",
   "metadata": {
    "editable": true,
    "slideshow": {
     "slide_type": "slide"
    },
    "tags": []
   },
   "outputs": [
    {
     "data": {
      "text/plain": [
       "<Axes: >"
      ]
     },
     "execution_count": 18,
     "metadata": {},
     "output_type": "execute_result"
    },
    {
     "data": {
      "image/png": "[encoded data removed]",
      "text/plain": [
       "<Figure size 533x400 with 1 Axes>"
      ]
     },
     "metadata": {},
     "output_type": "display_data"
    }
   ],
   "source": [
    "test_df['label'].hist()"
   ]
  },
  {
   "cell_type": "markdown",
   "id": "b4a1705d-988d-4d9f-950d-536a5ec8c5d4",
   "metadata": {
    "editable": true,
    "slideshow": {
     "slide_type": "slide"
    },
    "tags": []
   },
   "source": [
    "Let's see some examples of the images:"
   ]
  },
  {
   "cell_type": "code",
   "execution_count": 19,
   "id": "fa840ee0-605c-4378-a3f0-33b10584b7f3",
   "metadata": {
    "editable": true,
    "slideshow": {
     "slide_type": ""
    },
    "tags": []
   },
   "outputs": [
    {
     "data": {
      "image/png": "[encoded data removed]",
      "text/plain": [
       "<Figure size 533x400 with 4 Axes>"
      ]
     },
     "metadata": {},
     "output_type": "display_data"
    }
   ],
   "source": [
    "with sns.axes_style('white'):\n",
    "    for i,idx in enumerate(np.random.randint(0,X_train.shape[0],4)):\n",
    "        plt.subplot(1, 4, i+1)\n",
    "        plt.imshow(X_train[idx].reshape(28,28), cmap=plt.cm.gray_r)\n",
    "        plt.title(f'{y_train[idx]}')\n",
    "        plt.xticks([]) \n",
    "        plt.yticks([]) "
   ]
  },
  {
   "cell_type": "markdown",
   "id": "3f48528c-bf64-4373-8be1-4501232441da",
   "metadata": {
    "editable": true,
    "slideshow": {
     "slide_type": "slide"
    },
    "tags": []
   },
   "source": [
    "We can normalize (min-max scale) the values:"
   ]
  },
  {
   "cell_type": "code",
   "execution_count": 20,
   "id": "b198f377-df6a-4651-896e-4452503aface",
   "metadata": {
    "editable": true,
    "slideshow": {
     "slide_type": ""
    },
    "tags": []
   },
   "outputs": [
    {
     "name": "stdout",
     "output_type": "stream",
     "text": [
      "X_train.shape=(60000, 784)\n",
      "y_train.shape=(60000,)\n",
      "X_test.shape=(10000, 784)\n",
      "y_test.shape=(10000,)\n",
      "X_train.max()=1.0\n",
      "X_train.min()=0.0\n",
      "X_test.max()=1.0\n",
      "X_test.min()=0.0\n",
      "[0 1 2 3 4 5 6 7 8 9]\n"
     ]
    }
   ],
   "source": [
    "X_train = train_df.drop('label', axis=1).to_numpy() / 255\n",
    "y_train = train_df['label'].to_numpy()\n",
    "X_test = test_df.drop('label', axis=1).to_numpy() /255\n",
    "y_test = test_df['label'].to_numpy()\n",
    "print(f'{X_train.shape=}\\n{y_train.shape=}')\n",
    "print(f'{X_test.shape=}\\n{y_test.shape=}')\n",
    "print(f'{X_train.max()=}\\n{X_train.min()=}')\n",
    "print(f'{X_test.max()=}\\n{X_test.min()=}')\n",
    "print(f'{np.unique(y_train)}')"
   ]
  },
  {
   "cell_type": "code",
   "execution_count": 21,
   "id": "4f082067-5e52-4e19-9c37-5f3f9b0e59ca",
   "metadata": {
    "editable": true,
    "slideshow": {
     "slide_type": "fragment"
    },
    "tags": []
   },
   "outputs": [
    {
     "name": "stdout",
     "output_type": "stream",
     "text": [
      "Accuracy: 85.7%\n"
     ]
    }
   ],
   "source": [
    "print(f'Accuracy: {fit_score(X_train, X_test, y_train, y_test)*100:.1f}%')"
   ]
  },
  {
   "cell_type": "markdown",
   "id": "b50f8a3a-381f-4437-bea4-8f0596bfaa0f",
   "metadata": {
    "editable": true,
    "slideshow": {
     "slide_type": "slide"
    },
    "tags": []
   },
   "source": [
    "**Named Tuples** are a good data structure for grouping information:"
   ]
  },
  {
   "cell_type": "code",
   "execution_count": 22,
   "id": "61d9794c-a683-4738-8c4c-e1a2a1e81bec",
   "metadata": {
    "editable": true,
    "slideshow": {
     "slide_type": ""
    },
    "tags": []
   },
   "outputs": [],
   "source": [
    "from collections import namedtuple\n",
    "TrainTestData = namedtuple('TrainTestData', 'X_train X_test y_train y_test')\n",
    "fmnist = TrainTestData(X_train, X_test, y_train, y_test)\n",
    "fmnist_mini = TrainTestData(X_train[:6000,:], X_test[:1000,:], y_train[:6000], y_test[:1000])"
   ]
  },
  {
   "cell_type": "code",
   "execution_count": 23,
   "id": "c7e3ed8e-27a7-4844-bbbf-08acdb97d4ba",
   "metadata": {
    "editable": true,
    "slideshow": {
     "slide_type": ""
    },
    "tags": []
   },
   "outputs": [],
   "source": [
    "@ignore_warnings(category=ConvergenceWarning)\n",
    "def fit_score(data):\n",
    "    model = LogisticRegression()\n",
    "    model.fit(data.X_train, data.y_train)\n",
    "    y_pred = model.predict(data.X_test)\n",
    "    return accuracy_score(data.y_test, y_pred)"
   ]
  },
  {
   "cell_type": "code",
   "execution_count": 24,
   "id": "70c7b2d2-2fd9-487c-a7f8-2b8c3ff6290e",
   "metadata": {
    "editable": true,
    "slideshow": {
     "slide_type": "fragment"
    },
    "tags": []
   },
   "outputs": [
    {
     "name": "stdout",
     "output_type": "stream",
     "text": [
      "Accuracy: 85.7%\n"
     ]
    }
   ],
   "source": [
    "print(f'Accuracy: {fit_score(fmnist)*100:.1f}%')"
   ]
  },
  {
   "cell_type": "code",
   "execution_count": 25,
   "id": "fba85230-c82c-4cad-b1c9-bc332b2eccab",
   "metadata": {
    "editable": true,
    "slideshow": {
     "slide_type": ""
    },
    "tags": []
   },
   "outputs": [
    {
     "name": "stdout",
     "output_type": "stream",
     "text": [
      "Accuracy: 81.7%\n"
     ]
    }
   ],
   "source": [
    "print(f'Accuracy: {fit_score(fmnist_mini)*100:.1f}%')"
   ]
  },
  {
   "cell_type": "markdown",
   "id": "a329394f-3d29-40da-a8a5-10c521785600",
   "metadata": {
    "editable": true,
    "slideshow": {
     "slide_type": "slide"
    },
    "tags": []
   },
   "source": [
    "## 3. Naive Bayes Classifier\n",
    "\n",
    "* Probabilistic model based on Bayes' theorem:\n",
    "$$P(Y~|~X) = \\frac{P(X~|~Y) \\cdot P(Y)}{P(X)}$$\n",
    "    * $P(Y~|~X)$: **posterior** probability (of class $Y$ given features $X$)\n",
    "    * $P(X~|~Y)$: **likelihood** (of observing $X$ given class $Y$)\n",
    "    * $P(Y)$: **prior probability** (of class $Y$)\n",
    "    * $P(X)$: **marginal** probability (of features $X$)\n",
    "* Classification problem:\n",
    "$$\\hat{y} = \\underset{y}{\\mathrm{argmax}} ~ P(Y|X) = \\underset{y}{\\mathrm{argmax}}  ~  P(X|Y) \\cdot P(Y)$$\n",
    "* **Naive** assumption: features within each class are conditionally independent\n",
    "$$P(X=[x_{1},\\dots,x_{n}]~|~Y) = \\prod_{i=1}^{n}{P(x_{i}|Y)}$$"
   ]
  },
  {
   "cell_type": "markdown",
   "id": "3437a36c-3526-4f00-9ed8-52a4fd51e2ce",
   "metadata": {
    "editable": true,
    "slideshow": {
     "slide_type": "slide"
    },
    "tags": []
   },
   "source": [
    "### Gaussian Naive Bayes Classifier\n",
    "\n",
    "* The likelihood of the features is assumed to be Gaussian\n",
    "* `GaussianNB(*, priors=None, var_smoothing=1e-09)`\n",
    "    * `priors`: Use instead of train data priors\n",
    "* Naive &rarr; independent features ; diagonal covariance\n",
    "    * variance: `model.var_`\n",
    "\n",
    "<center><img src=\"img/GaussianNB.png\" alt=\"Gaussian Naive Bayes Classifier\" style=\"width: 60%;\"/></center>"
   ]
  },
  {
   "cell_type": "code",
   "execution_count": 26,
   "id": "1f32fe85-75a5-4e5a-b95d-de156e8cc7fa",
   "metadata": {
    "editable": true,
    "slideshow": {
     "slide_type": ""
    },
    "tags": []
   },
   "outputs": [
    {
     "data": {
      "text/plain": [
       "(10, 784)"
      ]
     },
     "execution_count": 26,
     "metadata": {},
     "output_type": "execute_result"
    }
   ],
   "source": [
    "from sklearn.naive_bayes import GaussianNB\n",
    "model = GaussianNB()\n",
    "model.fit(fmnist_mini.X_train, fmnist_mini.y_train)\n",
    "model.var_.shape"
   ]
  },
  {
   "cell_type": "markdown",
   "id": "51dcfb5b-e1e2-44bb-acfe-8cde6860d34f",
   "metadata": {
    "editable": true,
    "slideshow": {
     "slide_type": "slide"
    },
    "tags": []
   },
   "source": [
    "We can adapt the `fit_score` function to use any model:"
   ]
  },
  {
   "cell_type": "code",
   "execution_count": 27,
   "id": "332af038-36d8-4e03-89a2-5aa8f67d549c",
   "metadata": {
    "editable": true,
    "slideshow": {
     "slide_type": ""
    },
    "tags": []
   },
   "outputs": [],
   "source": [
    "from sklearn.naive_bayes import GaussianNB\n",
    "\n",
    "def score(data, model):\n",
    "    y_pred = model.predict(data.X_test)\n",
    "    return accuracy_score(data.y_test, y_pred)\n",
    "    \n",
    "@ignore_warnings(category=ConvergenceWarning)\n",
    "def fit_score(data, model):\n",
    "    model.fit(data.X_train, data.y_train)\n",
    "    return score(data, model)"
   ]
  },
  {
   "cell_type": "code",
   "execution_count": 28,
   "id": "d994768c-8e3e-4a34-9fb0-18438f41887e",
   "metadata": {
    "editable": true,
    "slideshow": {
     "slide_type": ""
    },
    "tags": []
   },
   "outputs": [
    {
     "name": "stdout",
     "output_type": "stream",
     "text": [
      "Accuracy: 54.3%\n"
     ]
    }
   ],
   "source": [
    "model = GaussianNB()\n",
    "print(f'Accuracy: {fit_score(fmnist_mini, model)*100:.1f}%')"
   ]
  },
  {
   "cell_type": "markdown",
   "id": "62286310-d4f8-459e-b333-8e934cd31399",
   "metadata": {
    "editable": true,
    "slideshow": {
     "slide_type": "fragment"
    },
    "tags": []
   },
   "source": [
    "This model has a much lower performance than `LogisticRegression`..."
   ]
  },
  {
   "cell_type": "code",
   "execution_count": 29,
   "id": "4938cc5c-b584-46fc-a02d-f919117f380a",
   "metadata": {
    "editable": true,
    "slideshow": {
     "slide_type": ""
    },
    "tags": []
   },
   "outputs": [
    {
     "name": "stdout",
     "output_type": "stream",
     "text": [
      "Accuracy: 81.7%\n"
     ]
    }
   ],
   "source": [
    "model = LogisticRegression()\n",
    "print(f'Accuracy: {fit_score(fmnist_mini, model)*100:.1f}%')"
   ]
  },
  {
   "cell_type": "markdown",
   "id": "65b7c5cc-60f2-430c-afe8-280052178ff1",
   "metadata": {
    "editable": true,
    "slideshow": {
     "slide_type": "slide"
    },
    "tags": []
   },
   "source": [
    "## 4. Logistic Regression Classifier"
   ]
  },
  {
   "cell_type": "markdown",
   "id": "b270f939-9b47-4a8e-903b-18b93c8e77f6",
   "metadata": {
    "editable": true,
    "slideshow": {
     "slide_type": "slide"
    },
    "tags": []
   },
   "source": [
    "### Binary Logistic Regression Classifier\n",
    "\n",
    "* Assumes a linear relationship between the input features $\\mathbf{x}$ and the logit of the posterior probability $P(y=1 | \\mathbf{x})$:\n",
    "$$\\text{logit}(P) = \\ln\\left(\\frac{P}{1-P}\\right) = \\mathbf{w}^T \\mathbf{x} + b$$\n",
    "$$P(y=1 | \\mathbf{x}; \\mathbf{w}, b) = \\sigma(\\mathbf{w}^T \\mathbf{x} + b) = \\frac{1}{1 + e^{-(\\mathbf{w}^T \\mathbf{x} + b)}}$$\n",
    "* Loss function is Binary Cross-Entropy: $~ \\text{-} \\log P(y=y_{true} | \\mathbf{x})$"
   ]
  },
  {
   "cell_type": "markdown",
   "id": "65ef145b-7139-4f9c-82db-a298ebc9255f",
   "metadata": {
    "editable": true,
    "slideshow": {
     "slide_type": "slide"
    },
    "tags": []
   },
   "source": [
    "### Multiclass Logistic Regression Classifier\n",
    "\n",
    "* Assumes a linear relationship between the input features $\\mathbf{x}$ and the *\"logit vector\"* of the posterior probabilities $P(y=j | \\mathbf{x})$:\n",
    "$$\\text{logit}(\\mathbf{P}) = \\mathbf{W}^T \\mathbf{x} + \\mathbf{b}$$\n",
    "$$P(y=j | \\mathbf{x}; \\mathbf{W}, \\mathbf{b}) = \\frac{e^{\\mathbf{w}_j^T \\mathbf{x} + b_j}}{\\sum_{k=1}^{K} e^{\\mathbf{w}_k^T \\mathbf{x} + b_k}}$$\n",
    "* Loss function is Categorical Cross-Entropy: $~ \\text{-} \\log P(y=y_{true} | \\mathbf{x})$\n",
    "\n"
   ]
  },
  {
   "cell_type": "markdown",
   "id": "3d94e7ed-594b-4721-82a2-e8848cacc020",
   "metadata": {
    "editable": true,
    "slideshow": {
     "slide_type": "slide"
    },
    "tags": []
   },
   "source": [
    "* Scikit-learn's `LogisticRegression` supports binary and multiclass classification\n",
    "* **Regularization**: add a penalty term to the cost function, reducing the *freedom* of the model.\n",
    "\n",
    "`LogisticRegression(penalty='l2', *, dual=False, tol=0.0001, C=1.0, fit_intercept=True, intercept_scaling=1, class_weight=None, random_state=None, solver='lbfgs', max_iter=100, multi_class='deprecated', verbose=0, warm_start=False, n_jobs=None, l1_ratio=None)`\n",
    "* `solver: {'lbfgs', 'liblinear', 'newton-cg', 'sag', 'saga'}, default='lbfgs'` &rarr; optimization algorithm\n",
    "* `penalty: {'l1', 'l2', 'elasticnet', None}, default='l2'` &rarr; norm used for regularization (penalize large weights)\n",
    "* `C: float, default=1.0` &rarr; inverse of regularization strength\n",
    "* `random_state: int, RandomState instance or None, default=None` &rarr; randomness of the algorithm\n"
   ]
  },
  {
   "cell_type": "markdown",
   "id": "1c8a2768-7da7-482c-a25d-3de3483caf60",
   "metadata": {
    "editable": true,
    "slideshow": {
     "slide_type": "slide"
    },
    "tags": []
   },
   "source": [
    "Let's try different solvers and regularization strengths:"
   ]
  },
  {
   "cell_type": "code",
   "execution_count": 30,
   "id": "1fbc2240-7439-42e3-a54e-03f1f3cb8741",
   "metadata": {
    "editable": true,
    "slideshow": {
     "slide_type": ""
    },
    "tags": []
   },
   "outputs": [
    {
     "name": "stdout",
     "output_type": "stream",
     "text": [
      "solver='lbfgs'\tC=0.01\t0.811\n",
      "solver='lbfgs'\tC=0.1\t0.834\n",
      "solver='lbfgs'\tC=1\t0.817\n",
      "solver='lbfgs'\tC=10\t0.809\n",
      "solver='lbfgs'\tC=100\t0.81\n",
      "solver='newton-cg'\tC=0.01\t0.816\n",
      "solver='newton-cg'\tC=0.1\t0.833\n",
      "solver='newton-cg'\tC=1\t0.829\n",
      "solver='newton-cg'\tC=10\t0.815\n",
      "solver='newton-cg'\tC=100\t0.806\n"
     ]
    }
   ],
   "source": [
    "for solver in ['lbfgs', 'newton-cg']:\n",
    "    for C in [0.01, 0.1, 1, 10, 100] :\n",
    "        model = LogisticRegression(solver=solver, C=C, random_state=42)\n",
    "        print(f'{solver=}\\t{C=}\\t{fit_score(fmnist_mini, model)}')"
   ]
  },
  {
   "cell_type": "markdown",
   "id": "66973ab3-f416-425a-82f1-e5521a16b63c",
   "metadata": {
    "editable": true,
    "slideshow": {
     "slide_type": "slide"
    },
    "tags": []
   },
   "source": [
    "Some notes:\n",
    "* Whe are **using the test set** to select the hyperparameters\n",
    "* There are tools for automatic search of optimum hyperparameters"
   ]
  },
  {
   "cell_type": "markdown",
   "id": "a660c3bb-2e4c-41a1-be1a-f568397717c5",
   "metadata": {
    "editable": true,
    "slideshow": {
     "slide_type": "slide"
    },
    "tags": []
   },
   "source": [
    "### Grid Search for hyperparameter tuning\n",
    "* `GridSearchCV` does Grid Search **using cross-validation**"
   ]
  },
  {
   "cell_type": "code",
   "execution_count": 31,
   "id": "9aad5931-0d5c-404a-b8c7-ff34295af1bc",
   "metadata": {
    "editable": true,
    "scrolled": true,
    "slideshow": {
     "slide_type": ""
    },
    "tags": []
   },
   "outputs": [
    {
     "name": "stdout",
     "output_type": "stream",
     "text": [
      "Fitting 5 folds for each of 10 candidates, totalling 50 fits\n",
      "[CV] END ...............................C=0.01, solver=lbfgs; total time=   0.3s\n",
      "[CV] END ...............................C=0.01, solver=lbfgs; total time=   0.3s\n",
      "[CV] END ...............................C=0.01, solver=lbfgs; total time=   0.4s\n",
      "[CV] END ...............................C=0.01, solver=lbfgs; total time=   0.3s\n",
      "[CV] END ...............................C=0.01, solver=lbfgs; total time=   0.3s\n",
      "[CV] END ...........................C=0.01, solver=newton-cg; total time=   0.3s\n",
      "[CV] END ...........................C=0.01, solver=newton-cg; total time=   0.3s\n",
      "[CV] END ...........................C=0.01, solver=newton-cg; total time=   0.3s\n",
      "[CV] END ...........................C=0.01, solver=newton-cg; total time=   0.3s\n",
      "[CV] END ...........................C=0.01, solver=newton-cg; total time=   0.3s\n",
      "[CV] END ................................C=0.1, solver=lbfgs; total time=   0.3s\n",
      "[CV] END ................................C=0.1, solver=lbfgs; total time=   0.3s\n",
      "[CV] END ................................C=0.1, solver=lbfgs; total time=   0.3s\n",
      "[CV] END ................................C=0.1, solver=lbfgs; total time=   0.3s\n",
      "[CV] END ................................C=0.1, solver=lbfgs; total time=   0.3s\n",
      "[CV] END ............................C=0.1, solver=newton-cg; total time=   0.3s\n",
      "[CV] END ............................C=0.1, solver=newton-cg; total time=   0.3s\n",
      "[CV] END ............................C=0.1, solver=newton-cg; total time=   0.3s\n",
      "[CV] END ............................C=0.1, solver=newton-cg; total time=   0.3s\n",
      "[CV] END ............................C=0.1, solver=newton-cg; total time=   0.3s\n",
      "[CV] END ..................................C=1, solver=lbfgs; total time=   0.3s\n",
      "[CV] END ..................................C=1, solver=lbfgs; total time=   0.3s\n",
      "[CV] END ..................................C=1, solver=lbfgs; total time=   0.3s\n",
      "[CV] END ..................................C=1, solver=lbfgs; total time=   0.3s\n",
      "[CV] END ..................................C=1, solver=lbfgs; total time=   0.3s\n",
      "[CV] END ..............................C=1, solver=newton-cg; total time=   0.5s\n",
      "[CV] END ..............................C=1, solver=newton-cg; total time=   0.6s\n",
      "[CV] END ..............................C=1, solver=newton-cg; total time=   0.5s\n",
      "[CV] END ..............................C=1, solver=newton-cg; total time=   0.5s\n",
      "[CV] END ..............................C=1, solver=newton-cg; total time=   0.4s\n",
      "[CV] END .................................C=10, solver=lbfgs; total time=   0.4s\n",
      "[CV] END .................................C=10, solver=lbfgs; total time=   0.4s\n",
      "[CV] END .................................C=10, solver=lbfgs; total time=   0.4s\n",
      "[CV] END .................................C=10, solver=lbfgs; total time=   0.4s\n",
      "[CV] END .................................C=10, solver=lbfgs; total time=   0.4s\n",
      "[CV] END .............................C=10, solver=newton-cg; total time=   0.8s\n",
      "[CV] END .............................C=10, solver=newton-cg; total time=   0.8s\n",
      "[CV] END .............................C=10, solver=newton-cg; total time=   0.7s\n",
      "[CV] END .............................C=10, solver=newton-cg; total time=   0.8s\n",
      "[CV] END .............................C=10, solver=newton-cg; total time=   1.2s\n",
      "[CV] END ................................C=100, solver=lbfgs; total time=   0.4s\n",
      "[CV] END ................................C=100, solver=lbfgs; total time=   0.3s\n",
      "[CV] END ................................C=100, solver=lbfgs; total time=   0.3s\n",
      "[CV] END ................................C=100, solver=lbfgs; total time=   0.3s\n",
      "[CV] END ................................C=100, solver=lbfgs; total time=   0.3s\n",
      "[CV] END ............................C=100, solver=newton-cg; total time=   0.8s\n",
      "[CV] END ............................C=100, solver=newton-cg; total time=   0.7s\n",
      "[CV] END ............................C=100, solver=newton-cg; total time=   0.6s\n",
      "[CV] END ............................C=100, solver=newton-cg; total time=   0.7s\n",
      "[CV] END ............................C=100, solver=newton-cg; total time=   0.6s\n"
     ]
    }
   ],
   "source": [
    "from sklearn.model_selection import GridSearchCV\n",
    "\n",
    "@ignore_warnings(category=ConvergenceWarning)\n",
    "def search_hyperparameters(data, model, param_grid, cv=5, verbose=0):\n",
    "    grid_search = GridSearchCV(estimator=model, param_grid=param_grid,\n",
    "                               cv=cv,scoring='accuracy',verbose=verbose\n",
    "    )\n",
    "    grid_search.fit(fmnist_mini.X_train, fmnist_mini.y_train)\n",
    "    return grid_search\n",
    "\n",
    "params = {'C': [0.01, 0.1, 1, 10, 100], 'solver': ['lbfgs', 'newton-cg']}\n",
    "model = LogisticRegression(random_state=42)\n",
    "grid_search = search_hyperparameters(fmnist_mini, model, params, verbose=2)"
   ]
  },
  {
   "cell_type": "markdown",
   "id": "c868ff80-d940-4c52-a9aa-55eb761db1f6",
   "metadata": {
    "editable": true,
    "slideshow": {
     "slide_type": "slide"
    },
    "tags": []
   },
   "source": [
    "The `grid_search` contains the result of the search:"
   ]
  },
  {
   "cell_type": "code",
   "execution_count": 32,
   "id": "585ed37d-fc0a-443f-91fb-1aa5c0e96cb9",
   "metadata": {
    "editable": true,
    "slideshow": {
     "slide_type": ""
    },
    "tags": []
   },
   "outputs": [
    {
     "name": "stdout",
     "output_type": "stream",
     "text": [
      "grid_search.best_params_ = {'C': 0.1, 'solver': 'newton-cg'}\n",
      "grid_search.best_score_ = 0.8423333333333334\n"
     ]
    }
   ],
   "source": [
    "print(f'{grid_search.best_params_ = }')\n",
    "print(f'{grid_search.best_score_ = }')"
   ]
  },
  {
   "cell_type": "markdown",
   "id": "ad7d8a03-8fae-4f1d-b584-ebff19022757",
   "metadata": {
    "editable": true,
    "slideshow": {
     "slide_type": "fragment"
    },
    "tags": []
   },
   "source": [
    "Once we have selected the hyperparameters, we can get the performance on the test set: "
   ]
  },
  {
   "cell_type": "code",
   "execution_count": 33,
   "id": "4ec0f73a-03f0-4024-82cb-ced55a6e2a3c",
   "metadata": {
    "editable": true,
    "slideshow": {
     "slide_type": ""
    },
    "tags": []
   },
   "outputs": [
    {
     "name": "stdout",
     "output_type": "stream",
     "text": [
      "Accuracy: 83.3%\n"
     ]
    }
   ],
   "source": [
    "model = LogisticRegression(random_state=42, **grid_search.best_params_)\n",
    "print(f'Accuracy: {fit_score(fmnist_mini, model)*100:.1f}%')"
   ]
  },
  {
   "cell_type": "markdown",
   "id": "59cc5173-00b6-41a6-9614-af2f9393e5e1",
   "metadata": {
    "editable": true,
    "slideshow": {
     "slide_type": "fragment"
    },
    "tags": []
   },
   "source": [
    "We have achieved a small improvement compared to the default parameters (**without touching the test set**):"
   ]
  },
  {
   "cell_type": "code",
   "execution_count": 34,
   "id": "618d8479-a0d8-43d9-bf3e-8d89a429b82d",
   "metadata": {
    "editable": true,
    "slideshow": {
     "slide_type": ""
    },
    "tags": []
   },
   "outputs": [
    {
     "name": "stdout",
     "output_type": "stream",
     "text": [
      "Accuracy: 81.7%\n"
     ]
    }
   ],
   "source": [
    "model = LogisticRegression()\n",
    "print(f'Accuracy: {fit_score(fmnist_mini, model)*100:.1f}%')"
   ]
  },
  {
   "cell_type": "markdown",
   "id": "fe6451a6-34f2-4305-8330-a010b683412c",
   "metadata": {
    "editable": true,
    "slideshow": {
     "slide_type": "slide"
    },
    "tags": []
   },
   "source": [
    "## 5. Support Vector Machine Classifier\n",
    "\n",
    "* Find an **hyperplane** that *best* separates data points from different classes.\n",
    "* **Support Vectors** are the data points that lie closest to the optimal hyperplane and define the margin.\n",
    "* **GOAL**: Find the hyperplane that maximizes the margin\n",
    "* Multiclass problems: *One-vs-One* or *One-vs-the-rest* schemes\n",
    "\n",
    "<center><img src=\"img/svm1.png\" alt=\"Support Vector Machine\" style=\"width: 90%;\"/></center>"
   ]
  },
  {
   "cell_type": "markdown",
   "id": "8379017d-abdc-4148-b4bb-ea78e968e8fa",
   "metadata": {
    "editable": true,
    "slideshow": {
     "slide_type": "slide"
    },
    "tags": []
   },
   "source": [
    "* Often, real-world data is not linearly separable.\n",
    "* Project the original data $\\mathbf{x}$ into a **higher-dimensional** (even infinite) space $\\phi(\\mathbf{x})$ where a linear hyperplane can separate the classes.\n",
    "* **Kernel Trick**: Calculate the scalar/dot product $K(\\mathbf{x},\\mathbf{y})=\\phi(\\mathbf{x}) \\cdot \\phi(\\mathbf{y})$ without explicitly computing projected values $\\phi(\\mathbf{y})$\n",
    "    * Kernels: Linear, Polynomial, Radial Basis Function (RBF), Sigmoid\n",
    "\n",
    "<center>\n",
    "<img src=\"img/svm2a.png\" alt=\"SMV\" style=\"width: 30%;\"/>\n",
    "<img src=\"img/svm2b.png\" alt=\"SMV\" style=\"width: 30%;\"/>\n",
    "<img src=\"img/svm2c.png\" alt=\"SMV\" style=\"width: 30%;\"/>\n",
    "</center>"
   ]
  },
  {
   "cell_type": "markdown",
   "id": "65bf7cfc-3306-41e8-b528-6dea0ea6ce99",
   "metadata": {
    "editable": true,
    "slideshow": {
     "slide_type": "slide"
    },
    "tags": []
   },
   "source": [
    "`SVC(*, C=1.0, kernel='rbf', degree=3, gamma='scale', coef0=0.0, shrinking=True, probability=False, tol=0.001, cache_size=200, class_weight=None, verbose=False, max_iter=-1, decision_function_shape='ovr', break_ties=False, random_state=None))`\n",
    "* `kernel : {'linear', 'poly', 'rbf', 'sigmoid', 'precomputed'} or callable,          default='rbf'` &rarr; kernel type\n",
    "* `C: float, default=1.0` &rarr; inverse of regularization strength (penalty: squared l2)\n",
    "* `random_state: int, RandomState instance or None, default=None` &rarr; randomness of the algorithm"
   ]
  },
  {
   "cell_type": "code",
   "execution_count": 36,
   "id": "e4766ce1-0a9a-4012-8a20-a4d7b2e2d9ae",
   "metadata": {
    "editable": true,
    "scrolled": true,
    "slideshow": {
     "slide_type": "slide"
    },
    "tags": []
   },
   "outputs": [
    {
     "name": "stdout",
     "output_type": "stream",
     "text": [
      "Fitting 5 folds for each of 15 candidates, totalling 75 fits\n",
      "[CV] END ..............................C=0.01, kernel=linear; total time=   1.3s\n",
      "[CV] END ..............................C=0.01, kernel=linear; total time=   1.3s\n",
      "[CV] END ..............................C=0.01, kernel=linear; total time=   1.3s\n",
      "[CV] END ..............................C=0.01, kernel=linear; total time=   1.3s\n",
      "[CV] END ..............................C=0.01, kernel=linear; total time=   1.3s\n",
      "[CV] END ................................C=0.01, kernel=poly; total time=   3.7s\n",
      "[CV] END ................................C=0.01, kernel=poly; total time=   3.7s\n",
      "[CV] END ................................C=0.01, kernel=poly; total time=   3.6s\n",
      "[CV] END ................................C=0.01, kernel=poly; total time=   3.6s\n",
      "[CV] END ................................C=0.01, kernel=poly; total time=   3.4s\n",
      "[CV] END .................................C=0.01, kernel=rbf; total time=   6.3s\n",
      "[CV] END .................................C=0.01, kernel=rbf; total time=   6.5s\n",
      "[CV] END .................................C=0.01, kernel=rbf; total time=   6.4s\n",
      "[CV] END .................................C=0.01, kernel=rbf; total time=   6.3s\n",
      "[CV] END .................................C=0.01, kernel=rbf; total time=   6.4s\n",
      "[CV] END ...............................C=0.1, kernel=linear; total time=   1.1s\n",
      "[CV] END ...............................C=0.1, kernel=linear; total time=   1.1s\n",
      "[CV] END ...............................C=0.1, kernel=linear; total time=   1.1s\n",
      "[CV] END ...............................C=0.1, kernel=linear; total time=   1.1s\n",
      "[CV] END ...............................C=0.1, kernel=linear; total time=   1.1s\n",
      "[CV] END .................................C=0.1, kernel=poly; total time=   2.0s\n",
      "[CV] END .................................C=0.1, kernel=poly; total time=   2.0s\n",
      "[CV] END .................................C=0.1, kernel=poly; total time=   2.0s\n",
      "[CV] END .................................C=0.1, kernel=poly; total time=   2.0s\n",
      "[CV] END .................................C=0.1, kernel=poly; total time=   2.0s\n",
      "[CV] END ..................................C=0.1, kernel=rbf; total time=   3.3s\n",
      "[CV] END ..................................C=0.1, kernel=rbf; total time=   3.2s\n",
      "[CV] END ..................................C=0.1, kernel=rbf; total time=   3.2s\n",
      "[CV] END ..................................C=0.1, kernel=rbf; total time=   3.3s\n",
      "[CV] END ..................................C=0.1, kernel=rbf; total time=   3.0s\n",
      "[CV] END .................................C=1, kernel=linear; total time=   1.2s\n",
      "[CV] END .................................C=1, kernel=linear; total time=   1.2s\n",
      "[CV] END .................................C=1, kernel=linear; total time=   1.2s\n",
      "[CV] END .................................C=1, kernel=linear; total time=   1.2s\n",
      "[CV] END .................................C=1, kernel=linear; total time=   1.2s\n",
      "[CV] END ...................................C=1, kernel=poly; total time=   1.5s\n",
      "[CV] END ...................................C=1, kernel=poly; total time=   1.5s\n",
      "[CV] END ...................................C=1, kernel=poly; total time=   1.5s\n",
      "[CV] END ...................................C=1, kernel=poly; total time=   1.5s\n",
      "[CV] END ...................................C=1, kernel=poly; total time=   1.5s\n",
      "[CV] END ....................................C=1, kernel=rbf; total time=   2.1s\n",
      "[CV] END ....................................C=1, kernel=rbf; total time=   2.0s\n",
      "[CV] END ....................................C=1, kernel=rbf; total time=   2.0s\n",
      "[CV] END ....................................C=1, kernel=rbf; total time=   2.1s\n",
      "[CV] END ....................................C=1, kernel=rbf; total time=   2.1s\n",
      "[CV] END ................................C=10, kernel=linear; total time=   1.4s\n",
      "[CV] END ................................C=10, kernel=linear; total time=   1.3s\n",
      "[CV] END ................................C=10, kernel=linear; total time=   1.3s\n",
      "[CV] END ................................C=10, kernel=linear; total time=   1.3s\n",
      "[CV] END ................................C=10, kernel=linear; total time=   1.3s\n",
      "[CV] END ..................................C=10, kernel=poly; total time=   1.2s\n",
      "[CV] END ..................................C=10, kernel=poly; total time=   1.2s\n",
      "[CV] END ..................................C=10, kernel=poly; total time=   1.2s\n",
      "[CV] END ..................................C=10, kernel=poly; total time=   1.2s\n",
      "[CV] END ..................................C=10, kernel=poly; total time=   1.2s\n",
      "[CV] END ...................................C=10, kernel=rbf; total time=   2.0s\n",
      "[CV] END ...................................C=10, kernel=rbf; total time=   1.9s\n",
      "[CV] END ...................................C=10, kernel=rbf; total time=   1.9s\n",
      "[CV] END ...................................C=10, kernel=rbf; total time=   2.0s\n",
      "[CV] END ...................................C=10, kernel=rbf; total time=   2.0s\n",
      "[CV] END ...............................C=100, kernel=linear; total time=   1.3s\n",
      "[CV] END ...............................C=100, kernel=linear; total time=   1.2s\n",
      "[CV] END ...............................C=100, kernel=linear; total time=   1.2s\n",
      "[CV] END ...............................C=100, kernel=linear; total time=   1.2s\n",
      "[CV] END ...............................C=100, kernel=linear; total time=   1.2s\n",
      "[CV] END .................................C=100, kernel=poly; total time=   0.9s\n",
      "[CV] END .................................C=100, kernel=poly; total time=   0.9s\n",
      "[CV] END .................................C=100, kernel=poly; total time=   0.9s\n",
      "[CV] END .................................C=100, kernel=poly; total time=   0.9s\n",
      "[CV] END .................................C=100, kernel=poly; total time=   0.9s\n",
      "[CV] END ..................................C=100, kernel=rbf; total time=   1.9s\n",
      "[CV] END ..................................C=100, kernel=rbf; total time=   1.9s\n",
      "[CV] END ..................................C=100, kernel=rbf; total time=   1.8s\n",
      "[CV] END ..................................C=100, kernel=rbf; total time=   1.7s\n",
      "[CV] END ..................................C=100, kernel=rbf; total time=   1.9s\n"
     ]
    }
   ],
   "source": [
    "from sklearn.svm import SVC\n",
    "\n",
    "params = {'C': [0.1, 1, 10], 'kernel': ['linear', 'poly', 'rbf']}\n",
    "model = SVC(random_state=42)\n",
    "grid_search = search_hyperparameters(fmnist_mini, model, params, verbose=2)"
   ]
  },
  {
   "cell_type": "code",
   "execution_count": 37,
   "id": "6450b220-7433-4efe-b3f9-634a47fa4fd1",
   "metadata": {
    "editable": true,
    "slideshow": {
     "slide_type": "slide"
    },
    "tags": []
   },
   "outputs": [
    {
     "name": "stdout",
     "output_type": "stream",
     "text": [
      "grid_search.best_params_ = {'C': 10, 'kernel': 'rbf'}\n",
      "grid_search.best_score_ = 0.8658333333333333\n"
     ]
    }
   ],
   "source": [
    "print(f'{grid_search.best_params_ = }')\n",
    "print(f'{grid_search.best_score_ = }')"
   ]
  },
  {
   "cell_type": "markdown",
   "id": "83dfea2d-92b0-4b91-ba49-2584b626b1e1",
   "metadata": {
    "editable": true,
    "slideshow": {
     "slide_type": "fragment"
    },
    "tags": []
   },
   "source": [
    "Once we have selected the hyperparameters, we can get the performance on the test set: "
   ]
  },
  {
   "cell_type": "code",
   "execution_count": 38,
   "id": "4d450155-225b-4c62-8cee-ce2ab6349ec3",
   "metadata": {
    "editable": true,
    "slideshow": {
     "slide_type": ""
    },
    "tags": []
   },
   "outputs": [
    {
     "name": "stdout",
     "output_type": "stream",
     "text": [
      "Accuracy: 85.7%\n"
     ]
    }
   ],
   "source": [
    "model = SVC(random_state=42, **grid_search.best_params_)\n",
    "print(f'Accuracy: {fit_score(fmnist_mini, model)*100:.1f}%')"
   ]
  },
  {
   "cell_type": "markdown",
   "id": "8e0f1108-a3f7-4afe-a1ac-efb9ed236911",
   "metadata": {
    "editable": true,
    "slideshow": {
     "slide_type": "fragment"
    },
    "tags": []
   },
   "source": [
    "Improvement with respect to the default parameters:"
   ]
  },
  {
   "cell_type": "code",
   "execution_count": 39,
   "id": "6d48ce4e-9ec3-4480-8b44-f32cc862d3c3",
   "metadata": {
    "editable": true,
    "slideshow": {
     "slide_type": ""
    },
    "tags": []
   },
   "outputs": [
    {
     "name": "stdout",
     "output_type": "stream",
     "text": [
      "Accuracy: 84.7%\n"
     ]
    }
   ],
   "source": [
    "model = SVC()\n",
    "print(f'Accuracy: {fit_score(fmnist_mini, model)*100:.1f}%')"
   ]
  },
  {
   "cell_type": "markdown",
   "id": "67489b02-3c35-4f5b-85ea-81df465e4c6f",
   "metadata": {
    "editable": true,
    "slideshow": {
     "slide_type": "slide"
    },
    "tags": []
   },
   "source": [
    "### Using OneVsRest Metaestimator\n",
    "* `SVC` uses *One-vs-One* for multiclass problems\n",
    "* `OneVsRestClassifier` is a *One-vs-the-rest* meta-estimator (model wrapper)"
   ]
  },
  {
   "cell_type": "code",
   "execution_count": 45,
   "id": "540fa854-fd24-4a6e-9c2d-b13976a4031f",
   "metadata": {
    "editable": true,
    "scrolled": true,
    "slideshow": {
     "slide_type": ""
    },
    "tags": []
   },
   "outputs": [
    {
     "name": "stdout",
     "output_type": "stream",
     "text": [
      "Fitting 3 folds for each of 9 candidates, totalling 27 fits\n",
      "[CV] END .........estimator__C=0.1, estimator__kernel=linear; total time=   3.1s\n",
      "[CV] END .........estimator__C=0.1, estimator__kernel=linear; total time=   3.1s\n",
      "[CV] END .........estimator__C=0.1, estimator__kernel=linear; total time=   3.0s\n",
      "[CV] END ...........estimator__C=0.1, estimator__kernel=poly; total time=   4.0s\n",
      "[CV] END ...........estimator__C=0.1, estimator__kernel=poly; total time=   4.1s\n",
      "[CV] END ...........estimator__C=0.1, estimator__kernel=poly; total time=   4.0s\n",
      "[CV] END ............estimator__C=0.1, estimator__kernel=rbf; total time=   6.7s\n",
      "[CV] END ............estimator__C=0.1, estimator__kernel=rbf; total time=   7.0s\n",
      "[CV] END ............estimator__C=0.1, estimator__kernel=rbf; total time=   7.2s\n",
      "[CV] END ...........estimator__C=1, estimator__kernel=linear; total time=   3.5s\n",
      "[CV] END ...........estimator__C=1, estimator__kernel=linear; total time=   3.5s\n",
      "[CV] END ...........estimator__C=1, estimator__kernel=linear; total time=   3.4s\n",
      "[CV] END .............estimator__C=1, estimator__kernel=poly; total time=   3.6s\n",
      "[CV] END .............estimator__C=1, estimator__kernel=poly; total time=   3.6s\n",
      "[CV] END .............estimator__C=1, estimator__kernel=poly; total time=   3.6s\n",
      "[CV] END ..............estimator__C=1, estimator__kernel=rbf; total time=   5.3s\n",
      "[CV] END ..............estimator__C=1, estimator__kernel=rbf; total time=   5.5s\n",
      "[CV] END ..............estimator__C=1, estimator__kernel=rbf; total time=   5.5s\n",
      "[CV] END ..........estimator__C=10, estimator__kernel=linear; total time=   5.3s\n",
      "[CV] END ..........estimator__C=10, estimator__kernel=linear; total time=   6.0s\n",
      "[CV] END ..........estimator__C=10, estimator__kernel=linear; total time=   6.3s\n",
      "[CV] END ............estimator__C=10, estimator__kernel=poly; total time=   3.5s\n",
      "[CV] END ............estimator__C=10, estimator__kernel=poly; total time=   3.4s\n",
      "[CV] END ............estimator__C=10, estimator__kernel=poly; total time=   3.3s\n",
      "[CV] END .............estimator__C=10, estimator__kernel=rbf; total time=   5.5s\n",
      "[CV] END .............estimator__C=10, estimator__kernel=rbf; total time=   5.3s\n",
      "[CV] END .............estimator__C=10, estimator__kernel=rbf; total time=   5.3s\n"
     ]
    }
   ],
   "source": [
    "from sklearn.multiclass import OneVsRestClassifier\n",
    "\n",
    "params = {'estimator__C': [0.1, 1, 10], 'estimator__kernel': ['linear', 'poly', 'rbf']}\n",
    "model = OneVsRestClassifier(SVC(random_state=42))\n",
    "grid_search = search_hyperparameters(fmnist_mini, model, params, cv=3, verbose=2)"
   ]
  },
  {
   "cell_type": "code",
   "execution_count": 46,
   "id": "9758dcd4-1b89-4e10-b3eb-05febb23eaff",
   "metadata": {
    "editable": true,
    "slideshow": {
     "slide_type": "slide"
    },
    "tags": []
   },
   "outputs": [
    {
     "name": "stdout",
     "output_type": "stream",
     "text": [
      "grid_search.best_params_ = {'estimator__C': 10, 'estimator__kernel': 'rbf'}\n",
      "grid_search.best_score_ = 0.86\n"
     ]
    }
   ],
   "source": [
    "print(f'{grid_search.best_params_ = }')\n",
    "print(f'{grid_search.best_score_ = }')"
   ]
  },
  {
   "cell_type": "markdown",
   "id": "b62125c4-beba-4603-b15f-ce5de996b2c4",
   "metadata": {
    "editable": true,
    "slideshow": {
     "slide_type": "fragment"
    },
    "tags": []
   },
   "source": [
    "Once we have selected the hyperparameters, we can get the performance on the test set: "
   ]
  },
  {
   "cell_type": "code",
   "execution_count": 43,
   "id": "26754aa2-b78f-4b1c-9a40-78def8f9f584",
   "metadata": {
    "editable": true,
    "slideshow": {
     "slide_type": ""
    },
    "tags": []
   },
   "outputs": [
    {
     "name": "stdout",
     "output_type": "stream",
     "text": [
      "Accuracy: 86.2%\n"
     ]
    }
   ],
   "source": [
    "model = OneVsRestClassifier(SVC(random_state=42, kernel='rbf', C=10))\n",
    "print(f'Accuracy: {fit_score(fmnist_mini, model)*100:.1f}%')"
   ]
  },
  {
   "cell_type": "markdown",
   "id": "70b4387b-2b9f-41c2-b79e-cb367afeca52",
   "metadata": {
    "editable": true,
    "slideshow": {
     "slide_type": "fragment"
    },
    "tags": []
   },
   "source": [
    "Improvement with respect to the default parameters:"
   ]
  },
  {
   "cell_type": "code",
   "execution_count": 44,
   "id": "038a96cd-3ecf-42e0-aa0e-84a736ae3d46",
   "metadata": {
    "editable": true,
    "slideshow": {
     "slide_type": ""
    },
    "tags": []
   },
   "outputs": [
    {
     "name": "stdout",
     "output_type": "stream",
     "text": [
      "Accuracy: 86.0%\n"
     ]
    }
   ],
   "source": [
    "model = OneVsRestClassifier(SVC())\n",
    "print(f'Accuracy: {fit_score(fmnist_mini, model)*100:.1f}%')"
   ]
  },
  {
   "cell_type": "markdown",
   "id": "3368f186-42b5-47af-bef1-ec22253bb30e",
   "metadata": {
    "editable": true,
    "slideshow": {
     "slide_type": "slide"
    },
    "tags": []
   },
   "source": [
    "## 6. Decision Tree Classifier\n",
    "\n",
    "* Use a **tree-like structure** to classify data points based on a series of **decisions** or **rules**\n",
    "    * In each node, decisions are made based on a single feature \n",
    "    * Threshold/range (numerical features) and value/sets (categorical features)\n",
    "* Each node tries to create a rule that maximizes the **purity** of child nodes. \n",
    "* **GOAL**: Obtain terminal nodes with maximum purity.\n",
    "\n",
    "<center><img src=\"img/decision-tree2.png\" alt=\"Decision Tree\" style=\"width: 60%;\"/></center>"
   ]
  },
  {
   "cell_type": "markdown",
   "id": "273f9ae1-a8a4-4b7c-b148-a5277c1079f4",
   "metadata": {
    "editable": true,
    "slideshow": {
     "slide_type": "slide"
    },
    "tags": []
   },
   "source": [
    "`DecisionTreeClassifier(*, criterion='gini', splitter='best', max_depth=None, min_samples_split=2, min_samples_leaf=1, min_weight_fraction_leaf=0.0, max_features=None, random_state=None, max_leaf_nodes=None, min_impurity_decrease=0.0, class_weight=None, ccp_alpha=0.0, monotonic_cst=None)`\n",
    "* `criterion : {\"gini\", \"entropy\", \"log_loss\"}, default=\"gini\"` &rarr; function to measure the quality of a split\n",
    "* `splitter : {\"best\", \"random\"}, default=\"best\"` &rarr; search split exhaustively (all features) or randomly (random subset of features)\n",
    "* `max_depth : int, default=None` &rarr; maximum depth of the tree\n",
    "* `random_state: int, RandomState instance or None, default=None` &rarr; randomness of the algorithm"
   ]
  },
  {
   "cell_type": "code",
   "execution_count": 65,
   "id": "e428660f-b01f-421c-8087-045516e06c26",
   "metadata": {
    "editable": true,
    "scrolled": true,
    "slideshow": {
     "slide_type": "slide"
    },
    "tags": []
   },
   "outputs": [
    {
     "name": "stdout",
     "output_type": "stream",
     "text": [
      "Fitting 5 folds for each of 12 candidates, totalling 60 fits\n",
      "[CV] END ........criterion=gini, max_depth=10, splitter=best; total time=   1.3s\n",
      "[CV] END ........criterion=gini, max_depth=10, splitter=best; total time=   1.3s\n",
      "[CV] END ........criterion=gini, max_depth=10, splitter=best; total time=   1.3s\n",
      "[CV] END ........criterion=gini, max_depth=10, splitter=best; total time=   1.3s\n",
      "[CV] END ........criterion=gini, max_depth=10, splitter=best; total time=   1.4s\n",
      "[CV] END ......criterion=gini, max_depth=10, splitter=random; total time=   0.2s\n",
      "[CV] END ......criterion=gini, max_depth=10, splitter=random; total time=   0.2s\n",
      "[CV] END ......criterion=gini, max_depth=10, splitter=random; total time=   0.2s\n",
      "[CV] END ......criterion=gini, max_depth=10, splitter=random; total time=   0.2s\n",
      "[CV] END ......criterion=gini, max_depth=10, splitter=random; total time=   0.2s\n",
      "[CV] END ........criterion=gini, max_depth=12, splitter=best; total time=   1.5s\n",
      "[CV] END ........criterion=gini, max_depth=12, splitter=best; total time=   1.5s\n",
      "[CV] END ........criterion=gini, max_depth=12, splitter=best; total time=   1.5s\n",
      "[CV] END ........criterion=gini, max_depth=12, splitter=best; total time=   1.5s\n",
      "[CV] END ........criterion=gini, max_depth=12, splitter=best; total time=   1.6s\n",
      "[CV] END ......criterion=gini, max_depth=12, splitter=random; total time=   0.2s\n",
      "[CV] END ......criterion=gini, max_depth=12, splitter=random; total time=   0.2s\n",
      "[CV] END ......criterion=gini, max_depth=12, splitter=random; total time=   0.2s\n",
      "[CV] END ......criterion=gini, max_depth=12, splitter=random; total time=   0.2s\n",
      "[CV] END ......criterion=gini, max_depth=12, splitter=random; total time=   0.2s\n",
      "[CV] END ........criterion=gini, max_depth=14, splitter=best; total time=   1.7s\n",
      "[CV] END ........criterion=gini, max_depth=14, splitter=best; total time=   1.7s\n",
      "[CV] END ........criterion=gini, max_depth=14, splitter=best; total time=   1.7s\n",
      "[CV] END ........criterion=gini, max_depth=14, splitter=best; total time=   1.7s\n",
      "[CV] END ........criterion=gini, max_depth=14, splitter=best; total time=   1.7s\n",
      "[CV] END ......criterion=gini, max_depth=14, splitter=random; total time=   0.2s\n",
      "[CV] END ......criterion=gini, max_depth=14, splitter=random; total time=   0.2s\n",
      "[CV] END ......criterion=gini, max_depth=14, splitter=random; total time=   0.2s\n",
      "[CV] END ......criterion=gini, max_depth=14, splitter=random; total time=   0.2s\n",
      "[CV] END ......criterion=gini, max_depth=14, splitter=random; total time=   0.2s\n",
      "[CV] END .....criterion=entropy, max_depth=10, splitter=best; total time=   1.9s\n",
      "[CV] END .....criterion=entropy, max_depth=10, splitter=best; total time=   1.8s\n",
      "[CV] END .....criterion=entropy, max_depth=10, splitter=best; total time=   1.8s\n",
      "[CV] END .....criterion=entropy, max_depth=10, splitter=best; total time=   1.9s\n",
      "[CV] END .....criterion=entropy, max_depth=10, splitter=best; total time=   1.8s\n",
      "[CV] END ...criterion=entropy, max_depth=10, splitter=random; total time=   0.2s\n",
      "[CV] END ...criterion=entropy, max_depth=10, splitter=random; total time=   0.2s\n",
      "[CV] END ...criterion=entropy, max_depth=10, splitter=random; total time=   0.2s\n",
      "[CV] END ...criterion=entropy, max_depth=10, splitter=random; total time=   0.2s\n",
      "[CV] END ...criterion=entropy, max_depth=10, splitter=random; total time=   0.2s\n",
      "[CV] END .....criterion=entropy, max_depth=12, splitter=best; total time=   2.0s\n",
      "[CV] END .....criterion=entropy, max_depth=12, splitter=best; total time=   2.0s\n",
      "[CV] END .....criterion=entropy, max_depth=12, splitter=best; total time=   1.9s\n",
      "[CV] END .....criterion=entropy, max_depth=12, splitter=best; total time=   2.0s\n",
      "[CV] END .....criterion=entropy, max_depth=12, splitter=best; total time=   2.0s\n",
      "[CV] END ...criterion=entropy, max_depth=12, splitter=random; total time=   0.2s\n",
      "[CV] END ...criterion=entropy, max_depth=12, splitter=random; total time=   0.2s\n",
      "[CV] END ...criterion=entropy, max_depth=12, splitter=random; total time=   0.2s\n",
      "[CV] END ...criterion=entropy, max_depth=12, splitter=random; total time=   0.2s\n",
      "[CV] END ...criterion=entropy, max_depth=12, splitter=random; total time=   0.2s\n",
      "[CV] END .....criterion=entropy, max_depth=14, splitter=best; total time=   2.0s\n",
      "[CV] END .....criterion=entropy, max_depth=14, splitter=best; total time=   2.0s\n",
      "[CV] END .....criterion=entropy, max_depth=14, splitter=best; total time=   2.0s\n",
      "[CV] END .....criterion=entropy, max_depth=14, splitter=best; total time=   2.0s\n",
      "[CV] END .....criterion=entropy, max_depth=14, splitter=best; total time=   2.0s\n",
      "[CV] END ...criterion=entropy, max_depth=14, splitter=random; total time=   0.2s\n",
      "[CV] END ...criterion=entropy, max_depth=14, splitter=random; total time=   0.2s\n",
      "[CV] END ...criterion=entropy, max_depth=14, splitter=random; total time=   0.2s\n",
      "[CV] END ...criterion=entropy, max_depth=14, splitter=random; total time=   0.2s\n",
      "[CV] END ...criterion=entropy, max_depth=14, splitter=random; total time=   0.2s\n"
     ]
    }
   ],
   "source": [
    "from sklearn.tree import DecisionTreeClassifier\n",
    "\n",
    "params = {\n",
    "    'criterion' : ['gini', 'entropy'],\n",
    "    'splitter' : ['best', 'random'] ,\n",
    "    'max_depth' : [10, 12, 14]\n",
    "}\n",
    "model = DecisionTreeClassifier(random_state=42)\n",
    "grid_search = search_hyperparameters(fmnist_mini, model, params, verbose=2)"
   ]
  },
  {
   "cell_type": "code",
   "execution_count": 66,
   "id": "83446cb5-3239-490d-9c61-147e045dc0b8",
   "metadata": {
    "editable": true,
    "slideshow": {
     "slide_type": "slide"
    },
    "tags": []
   },
   "outputs": [
    {
     "name": "stdout",
     "output_type": "stream",
     "text": [
      "grid_search.best_params_ = {'criterion': 'gini', 'max_depth': 12, 'splitter': 'random'}\n",
      "grid_search.best_score_ = 0.7658333333333334\n"
     ]
    }
   ],
   "source": [
    "print(f'{grid_search.best_params_ = }')\n",
    "print(f'{grid_search.best_score_ = }')"
   ]
  },
  {
   "cell_type": "markdown",
   "id": "8740c3fe-aa91-44c0-b68c-755ef794c9c6",
   "metadata": {
    "editable": true,
    "slideshow": {
     "slide_type": "fragment"
    },
    "tags": []
   },
   "source": [
    "Once we have selected the hyperparameters, we can get the performance on the test set: "
   ]
  },
  {
   "cell_type": "code",
   "execution_count": 67,
   "id": "146ea37c-2b42-4471-be3d-88e403976ad7",
   "metadata": {
    "editable": true,
    "slideshow": {
     "slide_type": ""
    },
    "tags": []
   },
   "outputs": [
    {
     "name": "stdout",
     "output_type": "stream",
     "text": [
      "Accuracy: 76.8%\n"
     ]
    }
   ],
   "source": [
    "model = DecisionTreeClassifier(random_state=42, **grid_search.best_params_)\n",
    "print(f'Accuracy: {fit_score(fmnist_mini, model)*100:.1f}%')"
   ]
  },
  {
   "cell_type": "markdown",
   "id": "2c6a2d4c-f7b0-4b98-aeb3-b50f01a3ab16",
   "metadata": {
    "editable": true,
    "slideshow": {
     "slide_type": "fragment"
    },
    "tags": []
   },
   "source": [
    "Improvement with respect to the default parameters:"
   ]
  },
  {
   "cell_type": "code",
   "execution_count": 68,
   "id": "e56dcfdd-80c8-4773-a76f-e369825a448b",
   "metadata": {
    "editable": true,
    "slideshow": {
     "slide_type": ""
    },
    "tags": []
   },
   "outputs": [
    {
     "name": "stdout",
     "output_type": "stream",
     "text": [
      "Accuracy: 75.4%\n"
     ]
    }
   ],
   "source": [
    "model = DecisionTreeClassifier()\n",
    "print(f'Accuracy: {fit_score(fmnist_mini, model)*100:.1f}%')"
   ]
  }
 ],
 "metadata": {
  "kernelspec": {
   "display_name": "Python 3 (ipykernel)",
   "language": "python",
   "name": "python3"
  },
  "language_info": {
   "codemirror_mode": {
    "name": "ipython",
    "version": 3
   },
   "file_extension": ".py",
   "mimetype": "text/x-python",
   "name": "python",
   "nbconvert_exporter": "python",
   "pygments_lexer": "ipython3",
   "version": "3.12.6"
  }
 },
 "nbformat": 4,
 "nbformat_minor": 5
}
