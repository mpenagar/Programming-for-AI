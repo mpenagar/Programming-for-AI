{
 "cells": [
  {
   "cell_type": "markdown",
   "id": "eef88c4b-089a-451c-b177-6ad10dd58745",
   "metadata": {
    "editable": true,
    "slideshow": {
     "slide_type": ""
    },
    "tags": []
   },
   "source": [
    "# Scikit-learn (sklearn)\n",
    "\n",
    "* Powerful free and open-source (BSD license) machine learning library.\n",
    "* Built on NumPy, SciPy, and matplotlib.\n",
    "* Comprehensive Algorithms: Classification, Regression, Clustering, Dimensionality Reduction, Preprocessing, Model Selection, Feature Selection...\n",
    "* Simple model interface:\n",
    "    * `model = XXX()` &rarr; `model.fit(X, y)` &rarr; `model.predict(X_new)`\n",
    "* Compatible with NumPy and Pandas data.\n",
    "* Includes some ready to use popular reference datasets."
   ]
  },
  {
   "cell_type": "code",
   "execution_count": 1,
   "id": "96a10c41-efdf-453d-954a-ab35da92387b",
   "metadata": {},
   "outputs": [
    {
     "data": {
      "text/html": [
       "\n",
       "<style>\n",
       ".dataframe {\n",
       "    font-size: 80% !important; /* Adjust the percentage as needed */\n",
       "}\n",
       "</style>\n"
      ],
      "text/plain": [
       "<IPython.core.display.HTML object>"
      ]
     },
     "execution_count": 1,
     "metadata": {},
     "output_type": "execute_result"
    }
   ],
   "source": [
    "import numpy as np\n",
    "import pandas as pd\n",
    "import matplotlib.pyplot as plt\n",
    "from sklearn import datasets\n",
    "from sklearn.model_selection import train_test_split\n",
    "from sklearn.neighbors import KNeighborsClassifier\n",
    "from sklearn.linear_model import LogisticRegression\n",
    "from sklearn.svm import SVC\n",
    "from sklearn.ensemble import RandomForestClassifier\n",
    "from sklearn.metrics import accuracy_score\n",
    "\n",
    "from IPython.display import HTML\n",
    "HTML(\"\"\"\n",
    "<style>\n",
    ".dataframe {\n",
    "    font-size: 80% !important; /* Adjust the percentage as needed */\n",
    "}\n",
    "</style>\n",
    "\"\"\")"
   ]
  },
  {
   "cell_type": "markdown",
   "id": "ddbaa3b8-6b67-4483-9631-619da1ea4298",
   "metadata": {},
   "source": [
    "## Selecting a multiclass classification dataset"
   ]
  },
  {
   "cell_type": "markdown",
   "id": "d07f9854-b94b-4f94-9ded-ddd3d1a87c3f",
   "metadata": {},
   "source": [
    "### MNIST database (Modified National Institute of Standards and Technology)\n",
    "<center><img src=\"img/MNIST.jpg\" alt=\"MNIST\" style=\"width: 60%;\"/></center>"
   ]
  },
  {
   "cell_type": "code",
   "execution_count": 23,
   "id": "619afdda-779e-4739-a971-7c7e1661bf18",
   "metadata": {},
   "outputs": [],
   "source": [
    "from sklearn.datasets import fetch_openml\n",
    "mnist = fetch_openml(\"mnist_784\", data_home='~/.cache/scikit_learn_data', as_frame=False)"
   ]
  },
  {
   "cell_type": "code",
   "execution_count": 24,
   "id": "66867f96-ea90-4980-b986-a7e963414d11",
   "metadata": {},
   "outputs": [],
   "source": [
    "#mnist."
   ]
  },
  {
   "cell_type": "code",
   "execution_count": 3,
   "id": "bac87f71-c0f5-43f9-b5e6-ebeb31f19759",
   "metadata": {},
   "outputs": [
    {
     "name": "stdout",
     "output_type": "stream",
     "text": [
      "type(mnist.data)=<class 'numpy.ndarray'> type(mnist.target)=<class 'numpy.ndarray'>\n",
      "mnist.data.shape=(70000, 784) mnist.target.shape=(70000,)\n",
      "mnist.data.max()=255 mnist.data.min()=0\n",
      "np.unique(mnist.target)=array(['0', '1', '2', '3', '4', '5', '6', '7', '8', '9'], dtype=object)\n"
     ]
    }
   ],
   "source": [
    "print(f'{type(mnist.data)=} {type(mnist.target)=}')\n",
    "print(f'{mnist.data.shape=} {mnist.target.shape=}')\n",
    "print(f'{mnist.data.max()=} {mnist.data.min()=}')\n",
    "print(f'{np.unique(mnist.target)=}')"
   ]
  },
  {
   "cell_type": "code",
   "execution_count": 4,
   "id": "c4166799-1e78-42a4-85b1-9c5697f81176",
   "metadata": {},
   "outputs": [
    {
     "data": {
      "image/png": "[encoded data removed]",
      "text/plain": [
       "<Figure size 800x200 with 4 Axes>"
      ]
     },
     "metadata": {},
     "output_type": "display_data"
    }
   ],
   "source": [
    "plt.figure(figsize = (8,2))\n",
    "for i,idx in enumerate(np.random.randint(0,mnist.data.shape[0],4)):\n",
    "    plt.subplot(1, 4, i+1)\n",
    "    plt.imshow(mnist.data[idx].reshape(28,28), cmap=plt.cm.gray_r)\n",
    "    plt.title(mnist.target[idx])"
   ]
  },
  {
   "cell_type": "code",
   "execution_count": 5,
   "id": "5d0f2583-a5ca-475b-b20b-0b0eb2e9bb2a",
   "metadata": {},
   "outputs": [
    {
     "name": "stdout",
     "output_type": "stream",
     "text": [
      "mnist.data.shape=(70000, 784) mnist.target.shape=(70000,)\n",
      "mnist.data.max()=1.0 mnist.data.min()=0.0\n",
      "np.unique(mnist.target)=array([0, 1, 2, 3, 4, 5, 6, 7, 8, 9])\n"
     ]
    }
   ],
   "source": [
    "mnist.data = mnist.data / mnist.data.max()\n",
    "mnist.target = mnist.target.astype('int')\n",
    "print(f'{mnist.data.shape=} {mnist.target.shape=}')\n",
    "print(f'{mnist.data.max()=} {mnist.data.min()=}')\n",
    "print(f'{np.unique(mnist.target)=}')"
   ]
  },
  {
   "cell_type": "code",
   "execution_count": 6,
   "id": "7a781dc1-9ef4-4c08-8021-af17ebb2c557",
   "metadata": {},
   "outputs": [],
   "source": [
    "X_train, X_test, y_train, y_test = \\\n",
    "    train_test_split(mnist.data, mnist.target, test_size=0.2, random_state=42)"
   ]
  },
  {
   "cell_type": "code",
   "execution_count": 7,
   "id": "a36dcd5a-c93a-4adf-b707-04b4a6a39bed",
   "metadata": {},
   "outputs": [
    {
     "name": "stdout",
     "output_type": "stream",
     "text": [
      "Accuracy: 0.92\n"
     ]
    }
   ],
   "source": [
    "from sklearn.utils._testing import ignore_warnings\n",
    "from sklearn.exceptions import ConvergenceWarning\n",
    "\n",
    "@ignore_warnings(category=ConvergenceWarning)\n",
    "def check_accuracy(X_train, X_test, y_train, y_test):\n",
    "    model = LogisticRegression()\n",
    "    model.fit(X_train, y_train)\n",
    "    y_pred = model.predict(X_test)\n",
    "    print(f'Accuracy: {accuracy_score(y_test, y_pred):.2f}')\n",
    "\n",
    "check_accuracy(X_train, X_test, y_train, y_test)"
   ]
  },
  {
   "cell_type": "markdown",
   "id": "866e76cf-1d86-43e7-b13d-60f98dc0f36d",
   "metadata": {},
   "source": [
    "### Fashion MNIST (Fashion Modified National Institute of Standards and Technology database)\n",
    "<center><img src=\"img/Fashion-MNIST.webp\" alt=\"Fashion MNIST\" style=\"width: 60%;\"/></center>"
   ]
  },
  {
   "cell_type": "code",
   "execution_count": 8,
   "id": "fdeb7187-e153-4397-8872-e1c9f4df0dac",
   "metadata": {},
   "outputs": [
    {
     "name": "stdout",
     "output_type": "stream",
     "text": [
      "Warning: Looks like you're using an outdated `kagglehub` version (installed: 0.3.10), please consider upgrading to the latest version (0.3.12).\n",
      "/home/jupyter-mpenagaricano/.cache/kagglehub/datasets/zalando-research/fashionmnist/versions/4\n"
     ]
    }
   ],
   "source": [
    "#!pip install kagglehub\n",
    "import kagglehub\n",
    "path = kagglehub.dataset_download(\"zalando-research/fashionmnist\")\n",
    "print(path)"
   ]
  },
  {
   "cell_type": "code",
   "execution_count": 9,
   "id": "5e12662c-1747-4410-96c9-03c1f28c3f0f",
   "metadata": {},
   "outputs": [
    {
     "name": "stdout",
     "output_type": "stream",
     "text": [
      "(60000, 785) (10000, 785)\n"
     ]
    },
    {
     "data": {
      "text/html": [
       "<div>\n",
       "<style scoped>\n",
       "    .dataframe tbody tr th:only-of-type {\n",
       "        vertical-align: middle;\n",
       "    }\n",
       "\n",
       "    .dataframe tbody tr th {\n",
       "        vertical-align: top;\n",
       "    }\n",
       "\n",
       "    .dataframe thead th {\n",
       "        text-align: right;\n",
       "    }\n",
       "</style>\n",
       "<table border=\"1\" class=\"dataframe\">\n",
       "  <thead>\n",
       "    <tr style=\"text-align: right;\">\n",
       "      <th></th>\n",
       "      <th>label</th>\n",
       "      <th>pixel1</th>\n",
       "      <th>pixel2</th>\n",
       "      <th>pixel3</th>\n",
       "      <th>pixel4</th>\n",
       "      <th>pixel5</th>\n",
       "      <th>pixel6</th>\n",
       "      <th>pixel7</th>\n",
       "      <th>pixel8</th>\n",
       "      <th>pixel9</th>\n",
       "      <th>...</th>\n",
       "      <th>pixel775</th>\n",
       "      <th>pixel776</th>\n",
       "      <th>pixel777</th>\n",
       "      <th>pixel778</th>\n",
       "      <th>pixel779</th>\n",
       "      <th>pixel780</th>\n",
       "      <th>pixel781</th>\n",
       "      <th>pixel782</th>\n",
       "      <th>pixel783</th>\n",
       "      <th>pixel784</th>\n",
       "    </tr>\n",
       "  </thead>\n",
       "  <tbody>\n",
       "    <tr>\n",
       "      <th>0</th>\n",
       "      <td>2</td>\n",
       "      <td>0</td>\n",
       "      <td>0</td>\n",
       "      <td>0</td>\n",
       "      <td>0</td>\n",
       "      <td>0</td>\n",
       "      <td>0</td>\n",
       "      <td>0</td>\n",
       "      <td>0</td>\n",
       "      <td>0</td>\n",
       "      <td>...</td>\n",
       "      <td>0</td>\n",
       "      <td>0</td>\n",
       "      <td>0</td>\n",
       "      <td>0</td>\n",
       "      <td>0</td>\n",
       "      <td>0</td>\n",
       "      <td>0</td>\n",
       "      <td>0</td>\n",
       "      <td>0</td>\n",
       "      <td>0</td>\n",
       "    </tr>\n",
       "    <tr>\n",
       "      <th>1</th>\n",
       "      <td>9</td>\n",
       "      <td>0</td>\n",
       "      <td>0</td>\n",
       "      <td>0</td>\n",
       "      <td>0</td>\n",
       "      <td>0</td>\n",
       "      <td>0</td>\n",
       "      <td>0</td>\n",
       "      <td>0</td>\n",
       "      <td>0</td>\n",
       "      <td>...</td>\n",
       "      <td>0</td>\n",
       "      <td>0</td>\n",
       "      <td>0</td>\n",
       "      <td>0</td>\n",
       "      <td>0</td>\n",
       "      <td>0</td>\n",
       "      <td>0</td>\n",
       "      <td>0</td>\n",
       "      <td>0</td>\n",
       "      <td>0</td>\n",
       "    </tr>\n",
       "    <tr>\n",
       "      <th>2</th>\n",
       "      <td>6</td>\n",
       "      <td>0</td>\n",
       "      <td>0</td>\n",
       "      <td>0</td>\n",
       "      <td>0</td>\n",
       "      <td>0</td>\n",
       "      <td>0</td>\n",
       "      <td>0</td>\n",
       "      <td>5</td>\n",
       "      <td>0</td>\n",
       "      <td>...</td>\n",
       "      <td>0</td>\n",
       "      <td>0</td>\n",
       "      <td>0</td>\n",
       "      <td>30</td>\n",
       "      <td>43</td>\n",
       "      <td>0</td>\n",
       "      <td>0</td>\n",
       "      <td>0</td>\n",
       "      <td>0</td>\n",
       "      <td>0</td>\n",
       "    </tr>\n",
       "    <tr>\n",
       "      <th>3</th>\n",
       "      <td>0</td>\n",
       "      <td>0</td>\n",
       "      <td>0</td>\n",
       "      <td>0</td>\n",
       "      <td>1</td>\n",
       "      <td>2</td>\n",
       "      <td>0</td>\n",
       "      <td>0</td>\n",
       "      <td>0</td>\n",
       "      <td>0</td>\n",
       "      <td>...</td>\n",
       "      <td>3</td>\n",
       "      <td>0</td>\n",
       "      <td>0</td>\n",
       "      <td>0</td>\n",
       "      <td>0</td>\n",
       "      <td>1</td>\n",
       "      <td>0</td>\n",
       "      <td>0</td>\n",
       "      <td>0</td>\n",
       "      <td>0</td>\n",
       "    </tr>\n",
       "    <tr>\n",
       "      <th>4</th>\n",
       "      <td>3</td>\n",
       "      <td>0</td>\n",
       "      <td>0</td>\n",
       "      <td>0</td>\n",
       "      <td>0</td>\n",
       "      <td>0</td>\n",
       "      <td>0</td>\n",
       "      <td>0</td>\n",
       "      <td>0</td>\n",
       "      <td>0</td>\n",
       "      <td>...</td>\n",
       "      <td>0</td>\n",
       "      <td>0</td>\n",
       "      <td>0</td>\n",
       "      <td>0</td>\n",
       "      <td>0</td>\n",
       "      <td>0</td>\n",
       "      <td>0</td>\n",
       "      <td>0</td>\n",
       "      <td>0</td>\n",
       "      <td>0</td>\n",
       "    </tr>\n",
       "  </tbody>\n",
       "</table>\n",
       "<p>5 rows × 785 columns</p>\n",
       "</div>"
      ],
      "text/plain": [
       "   label  pixel1  pixel2  pixel3  pixel4  pixel5  pixel6  pixel7  pixel8  \\\n",
       "0      2       0       0       0       0       0       0       0       0   \n",
       "1      9       0       0       0       0       0       0       0       0   \n",
       "2      6       0       0       0       0       0       0       0       5   \n",
       "3      0       0       0       0       1       2       0       0       0   \n",
       "4      3       0       0       0       0       0       0       0       0   \n",
       "\n",
       "   pixel9  ...  pixel775  pixel776  pixel777  pixel778  pixel779  pixel780  \\\n",
       "0       0  ...         0         0         0         0         0         0   \n",
       "1       0  ...         0         0         0         0         0         0   \n",
       "2       0  ...         0         0         0        30        43         0   \n",
       "3       0  ...         3         0         0         0         0         1   \n",
       "4       0  ...         0         0         0         0         0         0   \n",
       "\n",
       "   pixel781  pixel782  pixel783  pixel784  \n",
       "0         0         0         0         0  \n",
       "1         0         0         0         0  \n",
       "2         0         0         0         0  \n",
       "3         0         0         0         0  \n",
       "4         0         0         0         0  \n",
       "\n",
       "[5 rows x 785 columns]"
      ]
     },
     "execution_count": 9,
     "metadata": {},
     "output_type": "execute_result"
    }
   ],
   "source": [
    "train_df = pd.read_csv(path + '/fashion-mnist_train.csv')\n",
    "test_df = pd.read_csv(path + '/fashion-mnist_test.csv')\n",
    "print(train_df.shape , test_df.shape)\n",
    "train_df.head()"
   ]
  },
  {
   "cell_type": "code",
   "execution_count": 10,
   "id": "786b367d-9b0c-4e9c-b118-ba1f36db2633",
   "metadata": {},
   "outputs": [
    {
     "name": "stdout",
     "output_type": "stream",
     "text": [
      "X_train.shape=(60000, 784) y_train.shape=(60000,)\n",
      "X_test.shape=(10000, 784) y_test.shape=(10000,)\n",
      "X_train.max()=255 X_train.min()=0\n",
      "X_test.max()=255 X_test.min()=0\n",
      "[0 1 2 3 4 5 6 7 8 9]\n"
     ]
    }
   ],
   "source": [
    "X_train = train_df.drop('label', axis=1).to_numpy()\n",
    "y_train = train_df['label'].to_numpy()\n",
    "X_test = test_df.drop('label', axis=1).to_numpy()\n",
    "y_test = test_df['label'].to_numpy()\n",
    "print(f'{X_train.shape=} {y_train.shape=}')\n",
    "print(f'{X_test.shape=} {y_test.shape=}')\n",
    "print(f'{X_train.max()=} {X_train.min()=}')\n",
    "print(f'{X_test.max()=} {X_test.min()=}')\n",
    "print(f'{np.unique(y_train)}')"
   ]
  },
  {
   "cell_type": "code",
   "execution_count": 11,
   "id": "fa840ee0-605c-4378-a3f0-33b10584b7f3",
   "metadata": {},
   "outputs": [
    {
     "data": {
      "image/png": "[encoded data removed]",
      "text/plain": [
       "<Figure size 800x200 with 4 Axes>"
      ]
     },
     "metadata": {},
     "output_type": "display_data"
    }
   ],
   "source": [
    "plt.figure(figsize = (8,2))\n",
    "for i,idx in enumerate(np.random.randint(0,X_train.shape[0],4)):\n",
    "    plt.subplot(1, 4, i+1)\n",
    "    plt.imshow(X_train[idx].reshape(28,28), cmap=plt.cm.gray_r)\n",
    "    plt.title(f'{y_train[idx]}')"
   ]
  },
  {
   "cell_type": "code",
   "execution_count": 12,
   "id": "b198f377-df6a-4651-896e-4452503aface",
   "metadata": {},
   "outputs": [
    {
     "name": "stdout",
     "output_type": "stream",
     "text": [
      "X_train.shape=(60000, 784) y_train.shape=(60000,)\n",
      "X_test.shape=(10000, 784) y_test.shape=(10000,)\n",
      "X_train.max()=1.0 X_train.min()=0.0\n",
      "X_test.max()=1.0 X_test.min()=0.0\n",
      "[0 1 2 3 4 5 6 7 8 9]\n"
     ]
    }
   ],
   "source": [
    "X_train = train_df.drop('label', axis=1).to_numpy() / 255\n",
    "y_train = train_df['label'].to_numpy()\n",
    "X_test = test_df.drop('label', axis=1).to_numpy() /255\n",
    "y_test = test_df['label'].to_numpy()\n",
    "print(f'{X_train.shape=} {y_train.shape=}')\n",
    "print(f'{X_test.shape=} {y_test.shape=}')\n",
    "print(f'{X_train.max()=} {X_train.min()=}')\n",
    "print(f'{X_test.max()=} {X_test.min()=}')\n",
    "print(f'{np.unique(y_train)}')"
   ]
  },
  {
   "cell_type": "code",
   "execution_count": 13,
   "id": "4f082067-5e52-4e19-9c37-5f3f9b0e59ca",
   "metadata": {},
   "outputs": [
    {
     "name": "stdout",
     "output_type": "stream",
     "text": [
      "Accuracy: 0.86\n"
     ]
    }
   ],
   "source": [
    "check_accuracy(X_train, X_test, y_train, y_test)"
   ]
  },
  {
   "cell_type": "markdown",
   "id": "e06694cc-abf9-409c-9443-0236e7a02600",
   "metadata": {},
   "source": [
    "<hr>\n",
    "<hr>"
   ]
  },
  {
   "cell_type": "code",
   "execution_count": 19,
   "id": "61d9794c-a683-4738-8c4c-e1a2a1e81bec",
   "metadata": {},
   "outputs": [],
   "source": [
    "from collections import namedtuple\n",
    "MyDataset = namedtuple('MyDataset', 'X_train X_test y_train y_test')\n",
    "fmnist = MyDataset(X_train, X_test, y_train, y_test)\n",
    "fmnist_mini = MyDataset(X_train[:6000,:], X_test[:1000,:], y_train[:6000], y_test[:1000])"
   ]
  },
  {
   "cell_type": "code",
   "execution_count": 20,
   "id": "c7e3ed8e-27a7-4844-bbbf-08acdb97d4ba",
   "metadata": {},
   "outputs": [],
   "source": [
    "@ignore_warnings(category=ConvergenceWarning)\n",
    "def check_accuracy(ds):\n",
    "    model = LogisticRegression()\n",
    "    model.fit(ds.X_train, ds.y_train)\n",
    "    y_pred = model.predict(ds.X_test)\n",
    "    print(f'Accuracy: {accuracy_score(ds.y_test, y_pred):.2f}')"
   ]
  },
  {
   "cell_type": "code",
   "execution_count": 21,
   "id": "70c7b2d2-2fd9-487c-a7f8-2b8c3ff6290e",
   "metadata": {},
   "outputs": [
    {
     "name": "stdout",
     "output_type": "stream",
     "text": [
      "Accuracy: 0.86\n"
     ]
    }
   ],
   "source": [
    "check_accuracy(fmnist)"
   ]
  },
  {
   "cell_type": "code",
   "execution_count": 22,
   "id": "fba85230-c82c-4cad-b1c9-bc332b2eccab",
   "metadata": {},
   "outputs": [
    {
     "name": "stdout",
     "output_type": "stream",
     "text": [
      "Accuracy: 0.82\n"
     ]
    }
   ],
   "source": [
    "check_accuracy(fmnist_mini)"
   ]
  }
 ],
 "metadata": {
  "kernelspec": {
   "display_name": "Python 3 (ipykernel)",
   "language": "python",
   "name": "python3"
  },
  "language_info": {
   "codemirror_mode": {
    "name": "ipython",
    "version": 3
   },
   "file_extension": ".py",
   "mimetype": "text/x-python",
   "name": "python",
   "nbconvert_exporter": "python",
   "pygments_lexer": "ipython3",
   "version": "3.12.6"
  }
 },
 "nbformat": 4,
 "nbformat_minor": 5
}
