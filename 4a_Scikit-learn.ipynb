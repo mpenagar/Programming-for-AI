{
 "cells": [
  {
   "cell_type": "markdown",
   "id": "eef88c4b-089a-451c-b177-6ad10dd58745",
   "metadata": {
    "editable": true,
    "slideshow": {
     "slide_type": "slide"
    },
    "tags": []
   },
   "source": [
    "# Scikit-learn (sklearn)\n",
    "\n",
    "* Jake VanderPlas. 2016. *Python Data Science Handbook: Essential Tools for Working with Data*. O'Reilly Media, Inc.\n",
    "* Chapter 5 - Machine Learning\n",
    "* https://github.com/jakevdp/PythonDataScienceHandbook"
   ]
  },
  {
   "cell_type": "markdown",
   "id": "a45e9f31-8cb7-4376-ae3b-1fa17c3f614a",
   "metadata": {
    "editable": true,
    "slideshow": {
     "slide_type": "slide"
    },
    "tags": []
   },
   "source": [
    "## 1. Scikit-learn - Introduction\n",
    "\n",
    "* Powerful free and open-source (BSD license) machine learning library.\n",
    "* Built on NumPy, SciPy, and matplotlib.\n",
    "* Comprehensive Algorithms: Classification, Regression, Clustering, Dimensionality Reduction, Preprocessing, Model Selection, Feature Selection...\n",
    "* Simple model interface:\n",
    "    * `model = XXX()` &rarr; `model.fit(X, y)` &rarr; `model.predict(X_new)`\n",
    "* Compatible with NumPy and Pandas data.\n",
    "* Includes some ready to use popular reference datasets."
   ]
  },
  {
   "cell_type": "markdown",
   "id": "5e3533e3-5641-428e-8936-369b49f5cad0",
   "metadata": {
    "editable": true,
    "slideshow": {
     "slide_type": "slide"
    },
    "tags": []
   },
   "source": [
    "* Scikit-learn expects the data to be in a tabular format\n",
    "    * Each **row** represents a single sample of the data.\n",
    "    * Each **column** represents a feature of the data.\n",
    "\n",
    "<center><img src=\"img/samples-features.png\" alt=\"data shape\" style=\"width: 60%;\"/></center>"
   ]
  },
  {
   "cell_type": "code",
   "execution_count": 2,
   "id": "96a10c41-efdf-453d-954a-ab35da92387b",
   "metadata": {
    "editable": true,
    "slideshow": {
     "slide_type": "slide"
    },
    "tags": []
   },
   "outputs": [],
   "source": [
    "import numpy as np\n",
    "import pandas as pd\n",
    "import matplotlib as mpl\n",
    "import matplotlib.pyplot as plt\n",
    "import seaborn as sns\n",
    "\n",
    "from IPython.display import HTML\n",
    "HTML(\"\"\"\n",
    "<style>\n",
    ".dataframe {\n",
    "    font-size: 80% !important; /* Adjust the percentage as needed */\n",
    "}\n",
    "</style>\n",
    "\"\"\")\n",
    "\n",
    "sns.set()\n",
    "mpl.rcParams['figure.figsize'] = (5.33,4)\n",
    "mpl.rcParams['axes.labelsize'] = 10  # Example: 14 points\n",
    "mpl.rcParams['xtick.labelsize'] = 8  # Example: 12 points for x-axis ticks\n",
    "mpl.rcParams['ytick.labelsize'] = 8  # Example: 12 points for y-axis ticks"
   ]
  },
  {
   "cell_type": "markdown",
   "id": "ddbaa3b8-6b67-4483-9631-619da1ea4298",
   "metadata": {
    "editable": true,
    "slideshow": {
     "slide_type": "slide"
    },
    "tags": []
   },
   "source": [
    "## 2. Selecting a classification dataset"
   ]
  },
  {
   "cell_type": "markdown",
   "id": "d07f9854-b94b-4f94-9ded-ddd3d1a87c3f",
   "metadata": {
    "editable": true,
    "slideshow": {
     "slide_type": "slide"
    },
    "tags": []
   },
   "source": [
    "### MNIST database (Modified National Institute of Standards and Technology)\n",
    "<center><img src=\"img/MNIST.jpg\" alt=\"MNIST\" style=\"width: 60%;\"/></center>"
   ]
  },
  {
   "cell_type": "code",
   "execution_count": 3,
   "id": "619afdda-779e-4739-a971-7c7e1661bf18",
   "metadata": {
    "editable": true,
    "slideshow": {
     "slide_type": "slide"
    },
    "tags": []
   },
   "outputs": [],
   "source": [
    "from sklearn.datasets import fetch_openml\n",
    "mnist = fetch_openml(\"mnist_784\", data_home='~/.cache/scikit_learn_data', as_frame=False)"
   ]
  },
  {
   "cell_type": "code",
   "execution_count": 4,
   "id": "66867f96-ea90-4980-b986-a7e963414d11",
   "metadata": {
    "editable": true,
    "slideshow": {
     "slide_type": ""
    },
    "tags": []
   },
   "outputs": [],
   "source": [
    "#mnist."
   ]
  },
  {
   "cell_type": "code",
   "execution_count": 5,
   "id": "bac87f71-c0f5-43f9-b5e6-ebeb31f19759",
   "metadata": {
    "editable": true,
    "slideshow": {
     "slide_type": "fragment"
    },
    "tags": []
   },
   "outputs": [
    {
     "name": "stdout",
     "output_type": "stream",
     "text": [
      "type(mnist.data)=<class 'numpy.ndarray'> type(mnist.target)=<class 'numpy.ndarray'>\n",
      "mnist.data.shape=(70000, 784) mnist.target.shape=(70000,)\n",
      "mnist.data.max()=255 mnist.data.min()=0\n",
      "np.unique(mnist.target)=array(['0', '1', '2', '3', '4', '5', '6', '7', '8', '9'], dtype=object)\n"
     ]
    }
   ],
   "source": [
    "print(f'{type(mnist.data)=} {type(mnist.target)=}')\n",
    "print(f'{mnist.data.shape=} {mnist.target.shape=}')\n",
    "print(f'{mnist.data.max()=} {mnist.data.min()=}')\n",
    "print(f'{np.unique(mnist.target)=}')"
   ]
  },
  {
   "cell_type": "code",
   "execution_count": 6,
   "id": "e4c95eb2-ffdb-4473-9aec-975f5f181e83",
   "metadata": {
    "editable": true,
    "slideshow": {
     "slide_type": "slide"
    },
    "tags": []
   },
   "outputs": [
    {
     "data": {
      "image/png": "[encoded data removed]",
      "text/plain": [
       "<Figure size 533x400 with 1 Axes>"
      ]
     },
     "metadata": {},
     "output_type": "display_data"
    }
   ],
   "source": [
    "plt.hist(mnist.target);"
   ]
  },
  {
   "cell_type": "code",
   "execution_count": 7,
   "id": "c4166799-1e78-42a4-85b1-9c5697f81176",
   "metadata": {
    "editable": true,
    "slideshow": {
     "slide_type": "slide"
    },
    "tags": []
   },
   "outputs": [
    {
     "data": {
      "image/png": "[encoded data removed]",
      "text/plain": [
       "<Figure size 533x400 with 4 Axes>"
      ]
     },
     "metadata": {},
     "output_type": "display_data"
    }
   ],
   "source": [
    "with sns.axes_style('white'):\n",
    "    for i,idx in enumerate(np.random.randint(0,mnist.data.shape[0],4)):\n",
    "        plt.subplot(1, 4, i+1)\n",
    "        plt.imshow(mnist.data[idx].reshape(28,28), cmap=plt.cm.gray_r)\n",
    "        plt.title(mnist.target[idx])\n",
    "        plt.xticks([]) \n",
    "        plt.yticks([]) "
   ]
  },
  {
   "cell_type": "code",
   "execution_count": 8,
   "id": "5d0f2583-a5ca-475b-b20b-0b0eb2e9bb2a",
   "metadata": {
    "editable": true,
    "slideshow": {
     "slide_type": "slide"
    },
    "tags": []
   },
   "outputs": [
    {
     "name": "stdout",
     "output_type": "stream",
     "text": [
      "mnist.data.shape=(70000, 784) mnist.target.shape=(70000,)\n",
      "mnist.data.max()=1.0 mnist.data.min()=0.0\n",
      "np.unique(mnist.target)=array([0, 1, 2, 3, 4, 5, 6, 7, 8, 9])\n"
     ]
    }
   ],
   "source": [
    "mnist.data = mnist.data / mnist.data.max()\n",
    "mnist.target = mnist.target.astype('int')\n",
    "print(f'{mnist.data.shape=} {mnist.target.shape=}')\n",
    "print(f'{mnist.data.max()=} {mnist.data.min()=}')\n",
    "print(f'{np.unique(mnist.target)=}')"
   ]
  },
  {
   "cell_type": "code",
   "execution_count": 9,
   "id": "7a781dc1-9ef4-4c08-8021-af17ebb2c557",
   "metadata": {
    "editable": true,
    "slideshow": {
     "slide_type": "slide"
    },
    "tags": []
   },
   "outputs": [],
   "source": [
    "from sklearn.model_selection import train_test_split\n",
    "\n",
    "X_train, X_test, y_train, y_test = \\\n",
    "    train_test_split(mnist.data, mnist.target, test_size=0.2, random_state=42)"
   ]
  },
  {
   "cell_type": "code",
   "execution_count": 10,
   "id": "8acabc8c-6e65-4fb6-9e71-b6bc6ec61e10",
   "metadata": {
    "editable": true,
    "slideshow": {
     "slide_type": "fragment"
    },
    "tags": []
   },
   "outputs": [
    {
     "name": "stdout",
     "output_type": "stream",
     "text": [
      "Accuracy: 92.0%\n"
     ]
    },
    {
     "name": "stderr",
     "output_type": "stream",
     "text": [
      "/opt/tljh/user/lib/python3.12/site-packages/sklearn/linear_model/_logistic.py:465: ConvergenceWarning: lbfgs failed to converge (status=1):\n",
      "STOP: TOTAL NO. OF ITERATIONS REACHED LIMIT.\n",
      "\n",
      "Increase the number of iterations (max_iter) or scale the data as shown in:\n",
      "    https://scikit-learn.org/stable/modules/preprocessing.html\n",
      "Please also refer to the documentation for alternative solver options:\n",
      "    https://scikit-learn.org/stable/modules/linear_model.html#logistic-regression\n",
      "  n_iter_i = _check_optimize_result(\n"
     ]
    }
   ],
   "source": [
    "from sklearn.linear_model import LogisticRegression\n",
    "from sklearn.metrics import accuracy_score\n",
    "\n",
    "model = LogisticRegression()\n",
    "model.fit(X_train, y_train)\n",
    "y_pred = model.predict(X_test)\n",
    "print(f'Accuracy: {accuracy_score(y_test, y_pred)*100:.1f}%')"
   ]
  },
  {
   "cell_type": "code",
   "execution_count": 11,
   "id": "a36dcd5a-c93a-4adf-b707-04b4a6a39bed",
   "metadata": {
    "editable": true,
    "slideshow": {
     "slide_type": "slide"
    },
    "tags": []
   },
   "outputs": [
    {
     "name": "stdout",
     "output_type": "stream",
     "text": [
      "Accuracy: 92.0%\n"
     ]
    }
   ],
   "source": [
    "from sklearn.utils._testing import ignore_warnings\n",
    "from sklearn.exceptions import ConvergenceWarning\n",
    "\n",
    "@ignore_warnings(category=ConvergenceWarning)\n",
    "def check_accuracy(X_train, X_test, y_train, y_test):\n",
    "    model = LogisticRegression()\n",
    "    model.fit(X_train, y_train)\n",
    "    y_pred = model.predict(X_test)\n",
    "    print(f'Accuracy: {accuracy_score(y_test, y_pred)*100:.1f}%')\n",
    "\n",
    "check_accuracy(X_train, X_test, y_train, y_test)"
   ]
  },
  {
   "cell_type": "markdown",
   "id": "866e76cf-1d86-43e7-b13d-60f98dc0f36d",
   "metadata": {
    "editable": true,
    "slideshow": {
     "slide_type": "slide"
    },
    "tags": []
   },
   "source": [
    "### Fashion MNIST (Fashion Modified National Institute of Standards and Technology database)\n",
    "<center><img src=\"img/Fashion-MNIST.webp\" alt=\"Fashion MNIST\" style=\"width: 60%;\"/></center>"
   ]
  },
  {
   "cell_type": "code",
   "execution_count": 12,
   "id": "fdeb7187-e153-4397-8872-e1c9f4df0dac",
   "metadata": {
    "editable": true,
    "slideshow": {
     "slide_type": "slide"
    },
    "tags": []
   },
   "outputs": [
    {
     "name": "stdout",
     "output_type": "stream",
     "text": [
      "Warning: Looks like you're using an outdated `kagglehub` version (installed: 0.3.10), please consider upgrading to the latest version (0.3.12).\n",
      "/home/jupyter-mpenagaricano/.cache/kagglehub/datasets/zalando-research/fashionmnist/versions/4\n"
     ]
    }
   ],
   "source": [
    "#!pip install kagglehub\n",
    "import kagglehub\n",
    "path = kagglehub.dataset_download(\"zalando-research/fashionmnist\")\n",
    "print(path)"
   ]
  },
  {
   "cell_type": "code",
   "execution_count": 13,
   "id": "5e12662c-1747-4410-96c9-03c1f28c3f0f",
   "metadata": {
    "editable": true,
    "slideshow": {
     "slide_type": "fragment"
    },
    "tags": []
   },
   "outputs": [
    {
     "name": "stdout",
     "output_type": "stream",
     "text": [
      "(60000, 785) (10000, 785)\n"
     ]
    },
    {
     "data": {
      "text/html": [
       "<div>\n",
       "<style scoped>\n",
       "    .dataframe tbody tr th:only-of-type {\n",
       "        vertical-align: middle;\n",
       "    }\n",
       "\n",
       "    .dataframe tbody tr th {\n",
       "        vertical-align: top;\n",
       "    }\n",
       "\n",
       "    .dataframe thead th {\n",
       "        text-align: right;\n",
       "    }\n",
       "</style>\n",
       "<table border=\"1\" class=\"dataframe\">\n",
       "  <thead>\n",
       "    <tr style=\"text-align: right;\">\n",
       "      <th></th>\n",
       "      <th>label</th>\n",
       "      <th>pixel1</th>\n",
       "      <th>pixel2</th>\n",
       "      <th>pixel3</th>\n",
       "      <th>pixel4</th>\n",
       "      <th>pixel5</th>\n",
       "      <th>pixel6</th>\n",
       "      <th>pixel7</th>\n",
       "      <th>pixel8</th>\n",
       "      <th>pixel9</th>\n",
       "      <th>...</th>\n",
       "      <th>pixel775</th>\n",
       "      <th>pixel776</th>\n",
       "      <th>pixel777</th>\n",
       "      <th>pixel778</th>\n",
       "      <th>pixel779</th>\n",
       "      <th>pixel780</th>\n",
       "      <th>pixel781</th>\n",
       "      <th>pixel782</th>\n",
       "      <th>pixel783</th>\n",
       "      <th>pixel784</th>\n",
       "    </tr>\n",
       "  </thead>\n",
       "  <tbody>\n",
       "    <tr>\n",
       "      <th>0</th>\n",
       "      <td>2</td>\n",
       "      <td>0</td>\n",
       "      <td>0</td>\n",
       "      <td>0</td>\n",
       "      <td>0</td>\n",
       "      <td>0</td>\n",
       "      <td>0</td>\n",
       "      <td>0</td>\n",
       "      <td>0</td>\n",
       "      <td>0</td>\n",
       "      <td>...</td>\n",
       "      <td>0</td>\n",
       "      <td>0</td>\n",
       "      <td>0</td>\n",
       "      <td>0</td>\n",
       "      <td>0</td>\n",
       "      <td>0</td>\n",
       "      <td>0</td>\n",
       "      <td>0</td>\n",
       "      <td>0</td>\n",
       "      <td>0</td>\n",
       "    </tr>\n",
       "    <tr>\n",
       "      <th>1</th>\n",
       "      <td>9</td>\n",
       "      <td>0</td>\n",
       "      <td>0</td>\n",
       "      <td>0</td>\n",
       "      <td>0</td>\n",
       "      <td>0</td>\n",
       "      <td>0</td>\n",
       "      <td>0</td>\n",
       "      <td>0</td>\n",
       "      <td>0</td>\n",
       "      <td>...</td>\n",
       "      <td>0</td>\n",
       "      <td>0</td>\n",
       "      <td>0</td>\n",
       "      <td>0</td>\n",
       "      <td>0</td>\n",
       "      <td>0</td>\n",
       "      <td>0</td>\n",
       "      <td>0</td>\n",
       "      <td>0</td>\n",
       "      <td>0</td>\n",
       "    </tr>\n",
       "    <tr>\n",
       "      <th>2</th>\n",
       "      <td>6</td>\n",
       "      <td>0</td>\n",
       "      <td>0</td>\n",
       "      <td>0</td>\n",
       "      <td>0</td>\n",
       "      <td>0</td>\n",
       "      <td>0</td>\n",
       "      <td>0</td>\n",
       "      <td>5</td>\n",
       "      <td>0</td>\n",
       "      <td>...</td>\n",
       "      <td>0</td>\n",
       "      <td>0</td>\n",
       "      <td>0</td>\n",
       "      <td>30</td>\n",
       "      <td>43</td>\n",
       "      <td>0</td>\n",
       "      <td>0</td>\n",
       "      <td>0</td>\n",
       "      <td>0</td>\n",
       "      <td>0</td>\n",
       "    </tr>\n",
       "    <tr>\n",
       "      <th>3</th>\n",
       "      <td>0</td>\n",
       "      <td>0</td>\n",
       "      <td>0</td>\n",
       "      <td>0</td>\n",
       "      <td>1</td>\n",
       "      <td>2</td>\n",
       "      <td>0</td>\n",
       "      <td>0</td>\n",
       "      <td>0</td>\n",
       "      <td>0</td>\n",
       "      <td>...</td>\n",
       "      <td>3</td>\n",
       "      <td>0</td>\n",
       "      <td>0</td>\n",
       "      <td>0</td>\n",
       "      <td>0</td>\n",
       "      <td>1</td>\n",
       "      <td>0</td>\n",
       "      <td>0</td>\n",
       "      <td>0</td>\n",
       "      <td>0</td>\n",
       "    </tr>\n",
       "    <tr>\n",
       "      <th>4</th>\n",
       "      <td>3</td>\n",
       "      <td>0</td>\n",
       "      <td>0</td>\n",
       "      <td>0</td>\n",
       "      <td>0</td>\n",
       "      <td>0</td>\n",
       "      <td>0</td>\n",
       "      <td>0</td>\n",
       "      <td>0</td>\n",
       "      <td>0</td>\n",
       "      <td>...</td>\n",
       "      <td>0</td>\n",
       "      <td>0</td>\n",
       "      <td>0</td>\n",
       "      <td>0</td>\n",
       "      <td>0</td>\n",
       "      <td>0</td>\n",
       "      <td>0</td>\n",
       "      <td>0</td>\n",
       "      <td>0</td>\n",
       "      <td>0</td>\n",
       "    </tr>\n",
       "  </tbody>\n",
       "</table>\n",
       "<p>5 rows × 785 columns</p>\n",
       "</div>"
      ],
      "text/plain": [
       "   label  pixel1  pixel2  pixel3  pixel4  pixel5  pixel6  pixel7  pixel8  \\\n",
       "0      2       0       0       0       0       0       0       0       0   \n",
       "1      9       0       0       0       0       0       0       0       0   \n",
       "2      6       0       0       0       0       0       0       0       5   \n",
       "3      0       0       0       0       1       2       0       0       0   \n",
       "4      3       0       0       0       0       0       0       0       0   \n",
       "\n",
       "   pixel9  ...  pixel775  pixel776  pixel777  pixel778  pixel779  pixel780  \\\n",
       "0       0  ...         0         0         0         0         0         0   \n",
       "1       0  ...         0         0         0         0         0         0   \n",
       "2       0  ...         0         0         0        30        43         0   \n",
       "3       0  ...         3         0         0         0         0         1   \n",
       "4       0  ...         0         0         0         0         0         0   \n",
       "\n",
       "   pixel781  pixel782  pixel783  pixel784  \n",
       "0         0         0         0         0  \n",
       "1         0         0         0         0  \n",
       "2         0         0         0         0  \n",
       "3         0         0         0         0  \n",
       "4         0         0         0         0  \n",
       "\n",
       "[5 rows x 785 columns]"
      ]
     },
     "execution_count": 13,
     "metadata": {},
     "output_type": "execute_result"
    }
   ],
   "source": [
    "train_df = pd.read_csv(path + '/fashion-mnist_train.csv')\n",
    "test_df = pd.read_csv(path + '/fashion-mnist_test.csv')\n",
    "print(train_df.shape , test_df.shape)\n",
    "train_df.head()"
   ]
  },
  {
   "cell_type": "code",
   "execution_count": 14,
   "id": "786b367d-9b0c-4e9c-b118-ba1f36db2633",
   "metadata": {
    "editable": true,
    "slideshow": {
     "slide_type": "slide"
    },
    "tags": []
   },
   "outputs": [
    {
     "name": "stdout",
     "output_type": "stream",
     "text": [
      "X_train.shape=(60000, 784) y_train.shape=(60000,)\n",
      "X_test.shape=(10000, 784) y_test.shape=(10000,)\n",
      "X_train.max()=255 X_train.min()=0\n",
      "X_test.max()=255 X_test.min()=0\n",
      "[0 1 2 3 4 5 6 7 8 9]\n"
     ]
    }
   ],
   "source": [
    "X_train = train_df.drop('label', axis=1).to_numpy()\n",
    "y_train = train_df['label'].to_numpy()\n",
    "X_test = test_df.drop('label', axis=1).to_numpy()\n",
    "y_test = test_df['label'].to_numpy()\n",
    "print(f'{X_train.shape=} {y_train.shape=}')\n",
    "print(f'{X_test.shape=} {y_test.shape=}')\n",
    "print(f'{X_train.max()=} {X_train.min()=}')\n",
    "print(f'{X_test.max()=} {X_test.min()=}')\n",
    "print(f'{np.unique(y_train)}')"
   ]
  },
  {
   "cell_type": "code",
   "execution_count": 15,
   "id": "240b7a9b-0f40-40eb-b781-c70c38625767",
   "metadata": {
    "editable": true,
    "slideshow": {
     "slide_type": "slide"
    },
    "tags": []
   },
   "outputs": [
    {
     "data": {
      "text/plain": [
       "<Axes: >"
      ]
     },
     "execution_count": 15,
     "metadata": {},
     "output_type": "execute_result"
    },
    {
     "data": {
      "image/png": "[encoded data removed]",
      "text/plain": [
       "<Figure size 533x400 with 1 Axes>"
      ]
     },
     "metadata": {},
     "output_type": "display_data"
    }
   ],
   "source": [
    "train_df['label'].hist()"
   ]
  },
  {
   "cell_type": "code",
   "execution_count": 16,
   "id": "f76ae4b0-fb77-4ed6-85c8-1dc50933402b",
   "metadata": {
    "editable": true,
    "slideshow": {
     "slide_type": "slide"
    },
    "tags": []
   },
   "outputs": [
    {
     "data": {
      "text/plain": [
       "<Axes: >"
      ]
     },
     "execution_count": 16,
     "metadata": {},
     "output_type": "execute_result"
    },
    {
     "data": {
      "image/png": "[encoded data removed]",
      "text/plain": [
       "<Figure size 533x400 with 1 Axes>"
      ]
     },
     "metadata": {},
     "output_type": "display_data"
    }
   ],
   "source": [
    "test_df['label'].hist()"
   ]
  },
  {
   "cell_type": "code",
   "execution_count": 17,
   "id": "fa840ee0-605c-4378-a3f0-33b10584b7f3",
   "metadata": {
    "editable": true,
    "slideshow": {
     "slide_type": "slide"
    },
    "tags": []
   },
   "outputs": [
    {
     "data": {
      "image/png": "[encoded data removed]",
      "text/plain": [
       "<Figure size 533x400 with 4 Axes>"
      ]
     },
     "metadata": {},
     "output_type": "display_data"
    }
   ],
   "source": [
    "with sns.axes_style('white'):\n",
    "    for i,idx in enumerate(np.random.randint(0,X_train.shape[0],4)):\n",
    "        plt.subplot(1, 4, i+1)\n",
    "        plt.imshow(X_train[idx].reshape(28,28), cmap=plt.cm.gray_r)\n",
    "        plt.title(f'{y_train[idx]}')\n",
    "        plt.xticks([]) \n",
    "        plt.yticks([]) "
   ]
  },
  {
   "cell_type": "code",
   "execution_count": 18,
   "id": "b198f377-df6a-4651-896e-4452503aface",
   "metadata": {
    "editable": true,
    "slideshow": {
     "slide_type": "slide"
    },
    "tags": []
   },
   "outputs": [
    {
     "name": "stdout",
     "output_type": "stream",
     "text": [
      "X_train.shape=(60000, 784) y_train.shape=(60000,)\n",
      "X_test.shape=(10000, 784) y_test.shape=(10000,)\n",
      "X_train.max()=1.0 X_train.min()=0.0\n",
      "X_test.max()=1.0 X_test.min()=0.0\n",
      "[0 1 2 3 4 5 6 7 8 9]\n"
     ]
    }
   ],
   "source": [
    "X_train = train_df.drop('label', axis=1).to_numpy() / 255\n",
    "y_train = train_df['label'].to_numpy()\n",
    "X_test = test_df.drop('label', axis=1).to_numpy() /255\n",
    "y_test = test_df['label'].to_numpy()\n",
    "print(f'{X_train.shape=} {y_train.shape=}')\n",
    "print(f'{X_test.shape=} {y_test.shape=}')\n",
    "print(f'{X_train.max()=} {X_train.min()=}')\n",
    "print(f'{X_test.max()=} {X_test.min()=}')\n",
    "print(f'{np.unique(y_train)}')"
   ]
  },
  {
   "cell_type": "code",
   "execution_count": 19,
   "id": "4f082067-5e52-4e19-9c37-5f3f9b0e59ca",
   "metadata": {
    "editable": true,
    "slideshow": {
     "slide_type": "fragment"
    },
    "tags": []
   },
   "outputs": [
    {
     "name": "stdout",
     "output_type": "stream",
     "text": [
      "Accuracy: 85.7%\n"
     ]
    }
   ],
   "source": [
    "check_accuracy(X_train, X_test, y_train, y_test)"
   ]
  },
  {
   "cell_type": "code",
   "execution_count": 20,
   "id": "61d9794c-a683-4738-8c4c-e1a2a1e81bec",
   "metadata": {
    "editable": true,
    "slideshow": {
     "slide_type": "slide"
    },
    "tags": []
   },
   "outputs": [],
   "source": [
    "from collections import namedtuple\n",
    "TrainTestData = namedtuple('TrainTestData', 'X_train X_test y_train y_test')\n",
    "fmnist = TrainTestData(X_train, X_test, y_train, y_test)\n",
    "fmnist_mini = TrainTestData(X_train[:6000,:], X_test[:1000,:], y_train[:6000], y_test[:1000])"
   ]
  },
  {
   "cell_type": "code",
   "execution_count": 28,
   "id": "c7e3ed8e-27a7-4844-bbbf-08acdb97d4ba",
   "metadata": {
    "editable": true,
    "slideshow": {
     "slide_type": ""
    },
    "tags": []
   },
   "outputs": [],
   "source": [
    "@ignore_warnings(category=ConvergenceWarning)\n",
    "def check_accuracy(data):\n",
    "    model = LogisticRegression()\n",
    "    model.fit(data.X_train, data.y_train)\n",
    "    y_pred = model.predict(data.X_test)\n",
    "    print(f'Accuracy: {accuracy_score(data.y_test, y_pred)*100:.1f}%')"
   ]
  },
  {
   "cell_type": "code",
   "execution_count": 29,
   "id": "70c7b2d2-2fd9-487c-a7f8-2b8c3ff6290e",
   "metadata": {
    "editable": true,
    "slideshow": {
     "slide_type": ""
    },
    "tags": []
   },
   "outputs": [
    {
     "name": "stdout",
     "output_type": "stream",
     "text": [
      "Accuracy: 85.7%\n"
     ]
    }
   ],
   "source": [
    "check_accuracy(fmnist)"
   ]
  },
  {
   "cell_type": "code",
   "execution_count": 30,
   "id": "fba85230-c82c-4cad-b1c9-bc332b2eccab",
   "metadata": {
    "editable": true,
    "slideshow": {
     "slide_type": ""
    },
    "tags": []
   },
   "outputs": [
    {
     "name": "stdout",
     "output_type": "stream",
     "text": [
      "Accuracy: 81.7%\n"
     ]
    }
   ],
   "source": [
    "check_accuracy(fmnist_mini)"
   ]
  },
  {
   "cell_type": "markdown",
   "id": "a329394f-3d29-40da-a8a5-10c521785600",
   "metadata": {
    "editable": true,
    "slideshow": {
     "slide_type": "slide"
    },
    "tags": []
   },
   "source": [
    "## Naive Bayes Classifier\n",
    "\n",
    "* Probabilistic model based on Bayes' theorem:\n",
    "$$P(Y~|~X) = \\frac{P(X~|~Y) \\cdot P(Y)}{P(X)}$$\n",
    "    * $P(Y~|~X)$: **posterior** probability (of class $Y$ given features $X$)\n",
    "    * $P(X~|~Y)$: **likelihood** (of observing $X$ given class $Y$)\n",
    "    * $P(Y)$: **prior probability** (of class $Y$)\n",
    "    * $P(X)$: **marginal** probability (of features $X$)\n",
    "* Classification problem:\n",
    "$$\\hat{y} = \\underset{y}{\\mathrm{argmax}} ~ P(Y|X) = \\underset{y}{\\mathrm{argmax}}  ~  P(X|Y) \\cdot P(Y)$$\n",
    "* **Naive** assumption: features within each class are conditionally independent\n",
    "$$P(X=[x_{1},\\dots,x_{n}]~|~Y) = \\prod_{i=1}^{n}{P(x_{i}|Y)}$$"
   ]
  },
  {
   "cell_type": "markdown",
   "id": "3437a36c-3526-4f00-9ed8-52a4fd51e2ce",
   "metadata": {
    "editable": true,
    "slideshow": {
     "slide_type": "slide"
    },
    "tags": []
   },
   "source": [
    "### Gaussian Naive Bayes Classifier\n",
    "\n",
    "* The likelihood of the features is assumed to be Gaussian\n",
    "* `GaussianNB(*, priors=None, var_smoothing=1e-09)`\n",
    "    * `priors`: Use instead of train data priors\n",
    "* Naive &rarr; independent features ; diagonal covariance\n",
    "    * variance: `model.var_`\n",
    "\n",
    "<center><img src=\"img/GaussianNB.png\" alt=\"Gaussian Naive Bayes Classifier\" style=\"width: 60%;\"/></center>"
   ]
  },
  {
   "cell_type": "code",
   "execution_count": 26,
   "id": "1f32fe85-75a5-4e5a-b95d-de156e8cc7fa",
   "metadata": {
    "editable": true,
    "slideshow": {
     "slide_type": ""
    },
    "tags": []
   },
   "outputs": [
    {
     "data": {
      "text/plain": [
       "(10, 784)"
      ]
     },
     "execution_count": 26,
     "metadata": {},
     "output_type": "execute_result"
    }
   ],
   "source": [
    "from sklearn.naive_bayes import GaussianNB\n",
    "model = GaussianNB()\n",
    "model.fit(fmnist_mini.X_train, fmnist_mini.y_train)\n",
    "model.var_.shape"
   ]
  },
  {
   "cell_type": "code",
   "execution_count": 78,
   "id": "332af038-36d8-4e03-89a2-5aa8f67d549c",
   "metadata": {
    "editable": true,
    "slideshow": {
     "slide_type": "slide"
    },
    "tags": []
   },
   "outputs": [],
   "source": [
    "from sklearn.naive_bayes import GaussianNB\n",
    "\n",
    "def get_accuracy(data, model):\n",
    "    y_pred = model.predict(data.X_test)\n",
    "    return f'Accuracy: {accuracy_score(data.y_test, y_pred)*100:.1f}%'\n",
    "    \n",
    "@ignore_warnings(category=ConvergenceWarning)\n",
    "def train_and_get_accuracy(data, model):\n",
    "    model.fit(data.X_train, data.y_train)\n",
    "    return get_accuracy(data, model)"
   ]
  },
  {
   "cell_type": "code",
   "execution_count": 81,
   "id": "d994768c-8e3e-4a34-9fb0-18438f41887e",
   "metadata": {
    "editable": true,
    "slideshow": {
     "slide_type": ""
    },
    "tags": []
   },
   "outputs": [
    {
     "data": {
      "text/plain": [
       "'Accuracy: 54.3%'"
      ]
     },
     "execution_count": 81,
     "metadata": {},
     "output_type": "execute_result"
    }
   ],
   "source": [
    "train_and_get_accuracy(fmnist_mini, GaussianNB())"
   ]
  },
  {
   "cell_type": "code",
   "execution_count": 82,
   "id": "4938cc5c-b584-46fc-a02d-f919117f380a",
   "metadata": {
    "editable": true,
    "slideshow": {
     "slide_type": ""
    },
    "tags": []
   },
   "outputs": [
    {
     "data": {
      "text/plain": [
       "'Accuracy: 81.7%'"
      ]
     },
     "execution_count": 82,
     "metadata": {},
     "output_type": "execute_result"
    }
   ],
   "source": [
    "train_and_get_accuracy(fmnist_mini, LogisticRegression())"
   ]
  },
  {
   "cell_type": "markdown",
   "id": "b270f939-9b47-4a8e-903b-18b93c8e77f6",
   "metadata": {
    "editable": true,
    "slideshow": {
     "slide_type": "slide"
    },
    "tags": []
   },
   "source": [
    "### Binary Logistic Regression Classifier\n",
    "\n",
    "* Assumes a linear relationship between the input features $\\mathbf{x}$ and the logit of the posterior probability $P(y=1 | \\mathbf{x})$:\n",
    "$$\\text{logit}(P) = \\ln\\left(\\frac{P}{1-P}\\right) = \\mathbf{w}^T \\mathbf{x} + b$$\n",
    "$$P(y=1 | \\mathbf{x}; \\mathbf{w}, b) = \\sigma(\\mathbf{w}^T \\mathbf{x} + b) = \\frac{1}{1 + e^{-(\\mathbf{w}^T \\mathbf{x} + b)}}$$\n",
    "* Loss function is Binary Cross-Entropy: $~ \\text{-} \\log P(y=y_{true} | \\mathbf{x})$"
   ]
  },
  {
   "cell_type": "markdown",
   "id": "65ef145b-7139-4f9c-82db-a298ebc9255f",
   "metadata": {
    "editable": true,
    "slideshow": {
     "slide_type": "slide"
    },
    "tags": []
   },
   "source": [
    "### Multiclass Logistic Regression Classifier\n",
    "\n",
    "* Assumes a linear relationship between the input features $\\mathbf{x}$ and the *\"logit vector\"* of the posterior probabilities $P(y=j | \\mathbf{x})$:\n",
    "$$\\text{logit}(\\mathbf{P}) = \\mathbf{W}^T \\mathbf{x} + \\mathbf{b}$$\n",
    "$$P(y=j | \\mathbf{x}; \\mathbf{W}, \\mathbf{b}) = \\frac{e^{\\mathbf{w}_j^T \\mathbf{x} + b_j}}{\\sum_{k=1}^{K} e^{\\mathbf{w}_k^T \\mathbf{x} + b_k}}$$\n",
    "* Loss function is Categorical Cross-Entropy: $~ \\text{-} \\log P(y=y_{true} | \\mathbf{x})$\n",
    "\n"
   ]
  },
  {
   "cell_type": "markdown",
   "id": "3d94e7ed-594b-4721-82a2-e8848cacc020",
   "metadata": {
    "editable": true,
    "slideshow": {
     "slide_type": "slide"
    },
    "tags": []
   },
   "source": [
    "* Scikit-learn's LogisticRegression supports binary and multiclass classification\n",
    "* **Regularization**: add a penalty term to the cost function, reducing the *freedom* of the model.\n",
    "\n",
    "`LogisticRegression(penalty='l2', *, dual=False, tol=0.0001, C=1.0, fit_intercept=True, intercept_scaling=1, class_weight=None, random_state=None, solver='lbfgs', max_iter=100, multi_class='deprecated', verbose=0, warm_start=False, n_jobs=None, l1_ratio=None)`\n",
    "* `solver: {'lbfgs', 'liblinear', 'newton-cg', 'sag', 'saga'}, default='lbfgs'` &rarr; optimization algorithm\n",
    "* `max_iter: int, default=100` &rarr; maximum number of iterations\n",
    "* `tol: float, default=1e-4` &rarr; tolerance for the stopping criteria\n",
    "* `penalty: {'l1', 'l2', 'elasticnet', None}, default='l2'` &rarr; norm used for regularization (penalize large weights)\n",
    "* `C: float, default=1.0` &rarr; inverse of regularization strength\n",
    "* `random_state: int, RandomState instance or None, default=None` &rarr; randomness of the algorithm\n"
   ]
  },
  {
   "cell_type": "code",
   "execution_count": 89,
   "id": "1fbc2240-7439-42e3-a54e-03f1f3cb8741",
   "metadata": {
    "editable": true,
    "slideshow": {
     "slide_type": "slide"
    },
    "tags": []
   },
   "outputs": [
    {
     "name": "stdout",
     "output_type": "stream",
     "text": [
      "solver='lbfgs'\tC=0.01\tAccuracy: 81.1%\n",
      "solver='lbfgs'\tC=0.1\tAccuracy: 83.4%\n",
      "solver='lbfgs'\tC=1\tAccuracy: 81.7%\n",
      "solver='lbfgs'\tC=10\tAccuracy: 80.9%\n",
      "solver='lbfgs'\tC=100\tAccuracy: 81.0%\n",
      "solver='newton-cg'\tC=0.01\tAccuracy: 81.6%\n",
      "solver='newton-cg'\tC=0.1\tAccuracy: 83.3%\n",
      "solver='newton-cg'\tC=1\tAccuracy: 82.9%\n",
      "solver='newton-cg'\tC=10\tAccuracy: 81.5%\n",
      "solver='newton-cg'\tC=100\tAccuracy: 80.6%\n"
     ]
    }
   ],
   "source": [
    "for solver in ['lbfgs', 'newton-cg']:\n",
    "    for C in [0.01, 0.1, 1, 10, 100] :\n",
    "        model = LogisticRegression(solver=solver, C=C, random_state=42)\n",
    "        print(f'{solver=}\\t{C=}\\t{train_and_get_accuracy(fmnist_mini, model)}')"
   ]
  },
  {
   "cell_type": "markdown",
   "id": "a660c3bb-2e4c-41a1-be1a-f568397717c5",
   "metadata": {
    "editable": true,
    "slideshow": {
     "slide_type": ""
    },
    "tags": []
   },
   "source": [
    "### Grid Search for hyperparameter tuning\n",
    "* `GridSearchCV` does Grid Search <u>using cross-validation</u>"
   ]
  },
  {
   "cell_type": "code",
   "execution_count": 91,
   "id": "9aad5931-0d5c-404a-b8c7-ff34295af1bc",
   "metadata": {
    "editable": true,
    "scrolled": true,
    "slideshow": {
     "slide_type": ""
    },
    "tags": []
   },
   "outputs": [
    {
     "name": "stdout",
     "output_type": "stream",
     "text": [
      "Fitting 5 folds for each of 10 candidates, totalling 50 fits\n",
      "[CV] END ...............................C=0.01, solver=lbfgs; total time=   0.4s\n",
      "[CV] END ...............................C=0.01, solver=lbfgs; total time=   0.3s\n",
      "[CV] END ...............................C=0.01, solver=lbfgs; total time=   0.3s\n",
      "[CV] END ...............................C=0.01, solver=lbfgs; total time=   0.3s\n",
      "[CV] END ...............................C=0.01, solver=lbfgs; total time=   0.3s\n",
      "[CV] END ...........................C=0.01, solver=newton-cg; total time=   0.2s\n",
      "[CV] END ...........................C=0.01, solver=newton-cg; total time=   0.3s\n",
      "[CV] END ...........................C=0.01, solver=newton-cg; total time=   0.3s\n",
      "[CV] END ...........................C=0.01, solver=newton-cg; total time=   0.2s\n",
      "[CV] END ...........................C=0.01, solver=newton-cg; total time=   0.3s\n",
      "[CV] END ................................C=0.1, solver=lbfgs; total time=   0.3s\n",
      "[CV] END ................................C=0.1, solver=lbfgs; total time=   0.3s\n",
      "[CV] END ................................C=0.1, solver=lbfgs; total time=   0.3s\n",
      "[CV] END ................................C=0.1, solver=lbfgs; total time=   0.3s\n",
      "[CV] END ................................C=0.1, solver=lbfgs; total time=   0.3s\n",
      "[CV] END ............................C=0.1, solver=newton-cg; total time=   0.3s\n",
      "[CV] END ............................C=0.1, solver=newton-cg; total time=   0.3s\n",
      "[CV] END ............................C=0.1, solver=newton-cg; total time=   0.4s\n",
      "[CV] END ............................C=0.1, solver=newton-cg; total time=   0.3s\n",
      "[CV] END ............................C=0.1, solver=newton-cg; total time=   0.3s\n",
      "[CV] END ..................................C=1, solver=lbfgs; total time=   0.3s\n",
      "[CV] END ..................................C=1, solver=lbfgs; total time=   0.3s\n",
      "[CV] END ..................................C=1, solver=lbfgs; total time=   0.3s\n",
      "[CV] END ..................................C=1, solver=lbfgs; total time=   0.3s\n",
      "[CV] END ..................................C=1, solver=lbfgs; total time=   0.3s\n",
      "[CV] END ..............................C=1, solver=newton-cg; total time=   0.4s\n",
      "[CV] END ..............................C=1, solver=newton-cg; total time=   0.4s\n",
      "[CV] END ..............................C=1, solver=newton-cg; total time=   0.4s\n",
      "[CV] END ..............................C=1, solver=newton-cg; total time=   0.4s\n",
      "[CV] END ..............................C=1, solver=newton-cg; total time=   0.4s\n",
      "[CV] END .................................C=10, solver=lbfgs; total time=   0.3s\n",
      "[CV] END .................................C=10, solver=lbfgs; total time=   0.3s\n",
      "[CV] END .................................C=10, solver=lbfgs; total time=   0.3s\n",
      "[CV] END .................................C=10, solver=lbfgs; total time=   0.3s\n",
      "[CV] END .................................C=10, solver=lbfgs; total time=   0.3s\n",
      "[CV] END .............................C=10, solver=newton-cg; total time=   0.7s\n",
      "[CV] END .............................C=10, solver=newton-cg; total time=   0.6s\n",
      "[CV] END .............................C=10, solver=newton-cg; total time=   0.6s\n",
      "[CV] END .............................C=10, solver=newton-cg; total time=   0.7s\n",
      "[CV] END .............................C=10, solver=newton-cg; total time=   0.9s\n",
      "[CV] END ................................C=100, solver=lbfgs; total time=   0.3s\n",
      "[CV] END ................................C=100, solver=lbfgs; total time=   0.3s\n",
      "[CV] END ................................C=100, solver=lbfgs; total time=   0.3s\n",
      "[CV] END ................................C=100, solver=lbfgs; total time=   0.3s\n",
      "[CV] END ................................C=100, solver=lbfgs; total time=   0.3s\n",
      "[CV] END ............................C=100, solver=newton-cg; total time=   0.8s\n",
      "[CV] END ............................C=100, solver=newton-cg; total time=   0.8s\n",
      "[CV] END ............................C=100, solver=newton-cg; total time=   0.7s\n",
      "[CV] END ............................C=100, solver=newton-cg; total time=   0.8s\n",
      "[CV] END ............................C=100, solver=newton-cg; total time=   0.6s\n"
     ]
    }
   ],
   "source": [
    "from sklearn.model_selection import GridSearchCV\n",
    "\n",
    "@ignore_warnings(category=ConvergenceWarning)\n",
    "def search_hyperparameters(data, model, param_grid, cv=5, verbose=0):\n",
    "    grid_search = GridSearchCV(estimator=model, param_grid=param_grid,\n",
    "                               cv=cv,scoring='accuracy',verbose=verbose\n",
    "    )\n",
    "    grid_search.fit(fmnist_mini.X_train, fmnist_mini.y_train)\n",
    "    return grid_search\n",
    "\n",
    "params = {'C': [0.01, 0.1, 1, 10, 100], 'solver': ['lbfgs', 'newton-cg']}\n",
    "model = LogisticRegression(random_state=42)\n",
    "grid_search = search_hyperparameters(fmnist_mini, model, params, verbose=2)"
   ]
  },
  {
   "cell_type": "code",
   "execution_count": 92,
   "id": "585ed37d-fc0a-443f-91fb-1aa5c0e96cb9",
   "metadata": {
    "editable": true,
    "slideshow": {
     "slide_type": ""
    },
    "tags": []
   },
   "outputs": [
    {
     "name": "stdout",
     "output_type": "stream",
     "text": [
      "grid_search.best_params_ = {'C': 0.1, 'solver': 'newton-cg'}\n",
      "grid_search.best_score_ = 0.8423333333333334\n"
     ]
    }
   ],
   "source": [
    "print(f'{grid_search.best_params_ = }')\n",
    "print(f'{grid_search.best_score_ = }')"
   ]
  },
  {
   "cell_type": "code",
   "execution_count": 94,
   "id": "4ec0f73a-03f0-4024-82cb-ced55a6e2a3c",
   "metadata": {},
   "outputs": [
    {
     "data": {
      "text/plain": [
       "'Accuracy: 83.3%'"
      ]
     },
     "execution_count": 94,
     "metadata": {},
     "output_type": "execute_result"
    }
   ],
   "source": [
    "model = LogisticRegression(random_state=42, **grid_search.best_params_)\n",
    "train_and_get_accuracy(fmnist_mini, model)"
   ]
  }
 ],
 "metadata": {
  "kernelspec": {
   "display_name": "Python 3 (ipykernel)",
   "language": "python",
   "name": "python3"
  },
  "language_info": {
   "codemirror_mode": {
    "name": "ipython",
    "version": 3
   },
   "file_extension": ".py",
   "mimetype": "text/x-python",
   "name": "python",
   "nbconvert_exporter": "python",
   "pygments_lexer": "ipython3",
   "version": "3.12.6"
  }
 },
 "nbformat": 4,
 "nbformat_minor": 5
}
