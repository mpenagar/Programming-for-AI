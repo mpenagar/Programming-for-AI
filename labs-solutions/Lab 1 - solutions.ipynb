{
 "cells": [
  {
   "cell_type": "markdown",
   "id": "84931eb5-afc9-4a30-8c9e-c986341b7109",
   "metadata": {},
   "source": [
    "## Lab 1 - Unix shell - SOLUTIONS"
   ]
  },
  {
   "cell_type": "markdown",
   "id": "21d794b5-61ae-4977-968e-fecd9b6ea2a8",
   "metadata": {},
   "source": [
    "**Exercise 1a**"
   ]
  },
  {
   "cell_type": "code",
   "execution_count": 3,
   "id": "d9c95a59-b726-4c94-aaf8-0a86a86446d2",
   "metadata": {},
   "outputs": [
    {
     "name": "stdout",
     "output_type": "stream",
     "text": [
      "   2280 root\n",
      "     18 ana_mat+\n",
      "     12 jupyter+\n",
      "      8 aandres\n",
      "      7 shima_m+\n",
      "      7 mahdi_m+\n",
      "      4 systemd+\n",
      "      2 kernoops\n",
      "      2 avahi\n",
      "      1 syslog\n",
      "      1 rtkit\n",
      "      1 message+\n"
     ]
    }
   ],
   "source": [
    "!ps -ef --no-headers | cut -d \" \" -f 1 | sort | uniq -c | sort -nr"
   ]
  },
  {
   "cell_type": "markdown",
   "id": "dab7e1d7-2a03-4293-8de9-cc3e12d67d3e",
   "metadata": {},
   "source": [
    "**Exercise 1b**"
   ]
  },
  {
   "cell_type": "code",
   "execution_count": 4,
   "id": "5e968c72-294a-4fe3-bf1a-fe4d62fd2dc5",
   "metadata": {},
   "outputs": [
    {
     "name": "stdout",
     "output_type": "stream",
     "text": [
      "   2280 root\n",
      "     18 ana_mathmode\n",
      "     12 jupyter-mpenagaricano\n",
      "      8 aandres\n",
      "      7 shima_mathmode\n",
      "      7 mahdi_mathmode\n",
      "      2 kernoops\n",
      "      2 avahi\n",
      "      1 systemd-timesync\n",
      "      1 systemd-resolve\n",
      "      1 systemd-oom\n",
      "      1 systemd-network\n",
      "      1 syslog\n",
      "      1 rtkit\n",
      "      1 messagebus\n"
     ]
    }
   ],
   "source": [
    "!ps -eo user --no-headers | cut -d \" \" -f 1 | sort | uniq -c | sort -nr"
   ]
  },
  {
   "cell_type": "markdown",
   "id": "640ad201-c6be-4d01-acdc-55532ebc93d0",
   "metadata": {},
   "source": [
    "**Exercise 2**"
   ]
  },
  {
   "cell_type": "code",
   "execution_count": 3,
   "id": "5ce9a18c-1b5d-495e-b879-ac06f74bd032",
   "metadata": {},
   "outputs": [
    {
     "name": "stdout",
     "output_type": "stream",
     "text": [
      "631 3000 8099 15001 34193 34239 34833 35809 38791 39045 40863 41117 42391 43415 43775 45335 45567 45673 46083 46719 47077 48343 48363 49331 50011 52303 53959 54075 54533 56515 57143 57385 57497 58607 60237 60481 "
     ]
    }
   ],
   "source": [
    "!netstat -tulpn 2> /dev/null | \\\n",
    "    grep tcp | grep \"127.0.0.1\" | \\\n",
    "    tr -s \" \" | cut -d \" \" -f 4 | \\\n",
    "    tr \":\" \" \" | cut -d \" \" -f 2 | \\\n",
    "    sort -n | tr \"\\n\" \" \""
   ]
  },
  {
   "cell_type": "markdown",
   "id": "8d6587b0-8bb2-4531-a4f9-9dfe9c771f39",
   "metadata": {},
   "source": [
    "**Exercise 3a**"
   ]
  },
  {
   "cell_type": "code",
   "execution_count": 1,
   "id": "9b93092f-1353-4769-a97b-f150fb4e4834",
   "metadata": {},
   "outputs": [
    {
     "name": "stdout",
     "output_type": "stream",
     "text": [
      "Iris-setosa\n",
      "Iris-versicolor\n",
      "Iris-virginica\n"
     ]
    }
   ],
   "source": [
    "%%bash\n",
    "URL=\"https://raw.githubusercontent.com/pandas-dev/pandas/refs/heads/main/pandas/tests/io/data/csv/iris.csv\"\n",
    "curl -s $URL | cut -d \",\" -f 5 | sort | uniq | grep -v Name"
   ]
  },
  {
   "cell_type": "markdown",
   "id": "37a802ed-ac79-4699-bedd-31480d47f169",
   "metadata": {},
   "source": [
    "**Exercise 3b**"
   ]
  },
  {
   "cell_type": "code",
   "execution_count": 2,
   "id": "0a01ecfb-c15d-4cf2-95be-3f275e2c9b38",
   "metadata": {},
   "outputs": [
    {
     "name": "stdout",
     "output_type": "stream",
     "text": [
      "==> Iris-setosa.csv <==\n",
      "SepalLength,SepalWidth,PetalLength,PetalWidth\n",
      "5.1,3.5,1.4,0.2\n",
      "4.9,3.0,1.4,0.2\n",
      "4.7,3.2,1.3,0.2\n",
      "4.6,3.1,1.5,0.2\n",
      "\n",
      "==> Iris-versicolor.csv <==\n",
      "SepalLength,SepalWidth,PetalLength,PetalWidth\n",
      "7.0,3.2,4.7,1.4\n",
      "6.4,3.2,4.5,1.5\n",
      "6.9,3.1,4.9,1.5\n",
      "5.5,2.3,4.0,1.3\n",
      "\n",
      "==> Iris-virginica.csv <==\n",
      "SepalLength,SepalWidth,PetalLength,PetalWidth\n",
      "6.3,3.3,6.0,2.5\n",
      "5.8,2.7,5.1,1.9\n",
      "7.1,3.0,5.9,2.1\n",
      "6.3,2.9,5.6,1.8\n",
      "\n",
      "-------\n",
      "\n",
      "  51 Iris-setosa.csv\n",
      "  51 Iris-versicolor.csv\n",
      "  51 Iris-virginica.csv\n",
      " 153 total\n"
     ]
    }
   ],
   "source": [
    "%%bash\n",
    "URL=\"https://raw.githubusercontent.com/pandas-dev/pandas/refs/heads/main/pandas/tests/io/data/csv/iris.csv\"\n",
    "\n",
    "echo \"SepalLength,SepalWidth,PetalLength,PetalWidth\" > Iris-setosa.csv\n",
    "curl -s $URL | grep Iris-setosa | cut -d \",\" -f -4 >> Iris-setosa.csv\n",
    "\n",
    "echo \"SepalLength,SepalWidth,PetalLength,PetalWidth\" > Iris-versicolor.csv\n",
    "curl -s $URL | grep Iris-versicolor | cut -d \",\" -f -4 >> Iris-versicolor.csv\n",
    "\n",
    "echo \"SepalLength,SepalWidth,PetalLength,PetalWidth\" > Iris-virginica.csv\n",
    "curl -s $URL | grep Iris-virginica | cut -d \",\" -f -4 >> Iris-virginica.csv\n",
    "\n",
    "head -5 *.csv && echo -e \"\\n-------\\n\" && wc -l *.csv"
   ]
  },
  {
   "cell_type": "code",
   "execution_count": null,
   "id": "a875056a-4bbe-4b4b-92a6-6a1f923a5a5a",
   "metadata": {},
   "outputs": [],
   "source": []
  }
 ],
 "metadata": {
  "kernelspec": {
   "display_name": "Python 3 (ipykernel)",
   "language": "python",
   "name": "python3"
  },
  "language_info": {
   "codemirror_mode": {
    "name": "ipython",
    "version": 3
   },
   "file_extension": ".py",
   "mimetype": "text/x-python",
   "name": "python",
   "nbconvert_exporter": "python",
   "pygments_lexer": "ipython3",
   "version": "3.12.6"
  }
 },
 "nbformat": 4,
 "nbformat_minor": 5
}
