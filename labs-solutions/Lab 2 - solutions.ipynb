{
 "cells": [
  {
   "cell_type": "markdown",
   "id": "8bc1465d-e81e-421a-ab63-6b72b9ec28cc",
   "metadata": {},
   "source": [
    "## Lab 2 - Git & GitHub - SOLUTIONS"
   ]
  },
  {
   "cell_type": "markdown",
   "id": "66252360-98b1-4b53-8b01-120f936eb3bc",
   "metadata": {},
   "source": [
    "**Exercise 1**"
   ]
  },
  {
   "cell_type": "code",
   "execution_count": 1,
   "id": "2890aa6a-5828-49dd-ad19-ef4edd1829e8",
   "metadata": {},
   "outputs": [
    {
     "name": "stdout",
     "output_type": "stream",
     "text": [
      "filter.lfs.clean=git-lfs clean -- %f\n",
      "filter.lfs.smudge=git-lfs smudge -- %f\n",
      "filter.lfs.process=git-lfs filter-process\n",
      "filter.lfs.required=true\n",
      "user.email=mpenagar@yahoo.es\n",
      "user.name=Mikel Penagarikano\n"
     ]
    }
   ],
   "source": [
    "%%bash\n",
    "git config --global user.name \"Mikel Penagarikano\"\n",
    "git config --global user.email \"mpenagar@yahoo.es\"\n",
    "git config --list"
   ]
  },
  {
   "cell_type": "code",
   "execution_count": 2,
   "id": "3c249fcf-7d3b-4809-8d5d-d42c764b872b",
   "metadata": {},
   "outputs": [],
   "source": [
    "!rm -rf lab2"
   ]
  },
  {
   "cell_type": "code",
   "execution_count": 3,
   "id": "849c8985-f626-4b4f-b05f-6b7d647f75e0",
   "metadata": {},
   "outputs": [
    {
     "name": "stdout",
     "output_type": "stream",
     "text": [
      "▬▬▬ ls ▬▬▬\n",
      "Iris-setosa.csv\n",
      "Iris-versicolor.csv\n",
      "Iris-virginica.csv\n",
      "▬▬▬ git init ▬▬▬\n"
     ]
    },
    {
     "name": "stderr",
     "output_type": "stream",
     "text": [
      "hint: Using 'master' as the name for the initial branch. This default branch name\n",
      "hint: is subject to change. To configure the initial branch name to use in all\n",
      "hint: of your new repositories, which will suppress this warning, call:\n",
      "hint: \n",
      "hint: \tgit config --global init.defaultBranch <name>\n",
      "hint: \n",
      "hint: Names commonly chosen instead of 'master' are 'main', 'trunk' and\n",
      "hint: 'development'. The just-created branch can be renamed via this command:\n",
      "hint: \n",
      "hint: \tgit branch -m <name>\n"
     ]
    },
    {
     "name": "stdout",
     "output_type": "stream",
     "text": [
      "Initialized empty Git repository in /home/jupyter-mpenagaricano/exercises/lab2/.git/\n",
      "▬▬▬ git status ▬▬▬\n",
      "On branch master\n",
      "\n",
      "No commits yet\n",
      "\n",
      "Untracked files:\n",
      "  (use \"git add <file>...\" to include in what will be committed)\n",
      "\tIris-setosa.csv\n",
      "\tIris-versicolor.csv\n",
      "\tIris-virginica.csv\n",
      "\n",
      "nothing added to commit but untracked files present (use \"git add\" to track)\n"
     ]
    }
   ],
   "source": [
    "%%bash\n",
    "mkdir lab2\n",
    "cp Iris-*.csv lab2/\n",
    "cd lab2\n",
    "echo \"▬▬▬ ls ▬▬▬\" && ls\n",
    "echo \"▬▬▬ git init ▬▬▬\" && git init\n",
    "echo \"▬▬▬ git status ▬▬▬\" && git status"
   ]
  },
  {
   "cell_type": "markdown",
   "id": "c3e90adb-0bda-45b2-9010-4b1a9a5c06c2",
   "metadata": {},
   "source": [
    "**Exercise 2**"
   ]
  },
  {
   "cell_type": "code",
   "execution_count": 4,
   "id": "40e6cac2-90d8-42c2-819e-ba3722cf15b5",
   "metadata": {},
   "outputs": [
    {
     "name": "stdout",
     "output_type": "stream",
     "text": [
      "▬▬▬ git add . ▬▬▬\n",
      "▬▬▬ git commit -m Initializing the repository ▬▬▬\n",
      "[master (root-commit) 1967f29] Initializing the repository\n",
      " 3 files changed, 153 insertions(+)\n",
      " create mode 100644 Iris-setosa.csv\n",
      " create mode 100644 Iris-versicolor.csv\n",
      " create mode 100644 Iris-virginica.csv\n"
     ]
    }
   ],
   "source": [
    "%%bash\n",
    "cd lab2\n",
    "echo \"▬▬▬ git add . ▬▬▬\" && git add .\n",
    "echo \"▬▬▬ git commit -m \"Initializing the repository\" ▬▬▬\" && git commit -m \"Initializing the repository\""
   ]
  },
  {
   "cell_type": "markdown",
   "id": "adf47146-fc2e-4480-b3c8-3f59401cab7e",
   "metadata": {},
   "source": [
    "**Exercise 3**"
   ]
  },
  {
   "cell_type": "code",
   "execution_count": 5,
   "id": "64895db3-5174-447e-8cf2-9d05f323127b",
   "metadata": {},
   "outputs": [
    {
     "name": "stdout",
     "output_type": "stream",
     "text": [
      "▬▬▬ git switch -c devel ▬▬▬\n"
     ]
    },
    {
     "name": "stderr",
     "output_type": "stream",
     "text": [
      "Switched to a new branch 'devel'\n"
     ]
    },
    {
     "name": "stdout",
     "output_type": "stream",
     "text": [
      "▬▬▬ git git add . ▬▬▬\n",
      "▬▬▬ git commit -m csv changed ▬▬▬\n",
      "[devel 996dbad] csv changed\n",
      " 1 file changed, 10 insertions(+), 51 deletions(-)\n",
      " rewrite Iris-setosa.csv (77%)\n",
      "10 Iris-setosa.csv\n",
      "▬▬▬ git switch master ▬▬▬\n"
     ]
    },
    {
     "name": "stderr",
     "output_type": "stream",
     "text": [
      "Switched to branch 'master'\n"
     ]
    },
    {
     "name": "stdout",
     "output_type": "stream",
     "text": [
      "51 Iris-setosa.csv\n",
      "▬▬▬ git switch devel ▬▬▬\n"
     ]
    },
    {
     "name": "stderr",
     "output_type": "stream",
     "text": [
      "Switched to branch 'devel'\n"
     ]
    },
    {
     "name": "stdout",
     "output_type": "stream",
     "text": [
      "10 Iris-setosa.csv\n"
     ]
    }
   ],
   "source": [
    "%%bash\n",
    "cd lab2\n",
    "echo \"▬▬▬ git switch -c devel ▬▬▬\" && git switch -c devel\n",
    "head Iris-setosa.csv >  Iris-setosa.csv.tmp && mv Iris-setosa.csv.tmp Iris-setosa.csv\n",
    "echo \"▬▬▬ git git add . ▬▬▬\" && git add .\n",
    "echo \"▬▬▬ git commit -m \"csv changed\" ▬▬▬\" && git commit -m \"csv changed\"\n",
    "wc -l Iris-setosa.csv\n",
    "echo \"▬▬▬ git switch master ▬▬▬\" && git switch master\n",
    "wc -l Iris-setosa.csv\n",
    "echo \"▬▬▬ git switch devel ▬▬▬\" && git switch devel\n",
    "wc -l Iris-setosa.csv"
   ]
  },
  {
   "cell_type": "markdown",
   "id": "9c563c83-1fef-424c-a1c6-bbeb15e209b7",
   "metadata": {},
   "source": [
    "**Exercise 4a**"
   ]
  },
  {
   "cell_type": "code",
   "execution_count": 6,
   "id": "4e1626c6-0d1e-411c-9da8-9b3070d94da8",
   "metadata": {},
   "outputs": [
    {
     "name": "stdout",
     "output_type": "stream",
     "text": [
      "▬▬▬ git switch master ▬▬▬\n"
     ]
    },
    {
     "name": "stderr",
     "output_type": "stream",
     "text": [
      "Switched to branch 'master'\n"
     ]
    },
    {
     "name": "stdout",
     "output_type": "stream",
     "text": [
      "▬▬▬ git merge --no-commit --no-ff devel ▬▬▬\n"
     ]
    },
    {
     "name": "stderr",
     "output_type": "stream",
     "text": [
      "Automatic merge went well; stopped before committing as requested\n"
     ]
    },
    {
     "name": "stdout",
     "output_type": "stream",
     "text": [
      "▬▬▬ git merge --abort ▬▬▬\n"
     ]
    }
   ],
   "source": [
    "%%bash\n",
    "cd lab2\n",
    "echo \"▬▬▬ git switch master ▬▬▬\" && git switch master\n",
    "echo \"▬▬▬ git merge --no-commit --no-ff devel ▬▬▬\" && git merge --no-commit --no-ff devel\n",
    "echo \"▬▬▬ git merge --abort ▬▬▬\" && git merge --abort"
   ]
  },
  {
   "cell_type": "markdown",
   "id": "caf48d5f-57b6-4330-89ad-7c993e0e8853",
   "metadata": {},
   "source": [
    "**Exercise 4b**"
   ]
  },
  {
   "cell_type": "code",
   "execution_count": 7,
   "id": "870356a3-58c1-44ff-b5f4-bcf06af76f8b",
   "metadata": {},
   "outputs": [
    {
     "name": "stdout",
     "output_type": "stream",
     "text": [
      "▬▬▬ git switch master ▬▬▬\n"
     ]
    },
    {
     "name": "stderr",
     "output_type": "stream",
     "text": [
      "Already on 'master'\n"
     ]
    },
    {
     "name": "stdout",
     "output_type": "stream",
     "text": [
      "▬▬▬ git switch -c tmp ▬▬▬\n"
     ]
    },
    {
     "name": "stderr",
     "output_type": "stream",
     "text": [
      "Switched to a new branch 'tmp'\n"
     ]
    },
    {
     "name": "stdout",
     "output_type": "stream",
     "text": [
      "▬▬▬ git merge devel || git merge --abort ▬▬▬\n",
      "Updating 1967f29..996dbad\n",
      "Fast-forward\n",
      " Iris-setosa.csv | 41 -----------------------------------------\n",
      " 1 file changed, 41 deletions(-)\n",
      "▬▬▬ git switch master ▬▬▬\n"
     ]
    },
    {
     "name": "stderr",
     "output_type": "stream",
     "text": [
      "Switched to branch 'master'\n"
     ]
    },
    {
     "name": "stdout",
     "output_type": "stream",
     "text": [
      "▬▬▬ git branch -D tmp ▬▬▬\n",
      "Deleted branch tmp (was 996dbad).\n"
     ]
    }
   ],
   "source": [
    "%%bash\n",
    "cd lab2\n",
    "echo \"▬▬▬ git switch master ▬▬▬\" && git switch master\n",
    "echo \"▬▬▬ git switch -c tmp ▬▬▬\" && git switch -c tmp\n",
    "echo \"▬▬▬ git merge devel || git merge --abort ▬▬▬\" && git merge devel || git merge --abort\n",
    "echo \"▬▬▬ git switch master ▬▬▬\" && git switch master\n",
    "echo \"▬▬▬ git branch -D tmp ▬▬▬\" && git branch -D tmp"
   ]
  },
  {
   "cell_type": "markdown",
   "id": "72101401-a122-4c95-948c-82d7562a413a",
   "metadata": {},
   "source": [
    "**Exercise 5**"
   ]
  },
  {
   "cell_type": "code",
   "execution_count": 9,
   "id": "f3f06f4b-2d53-4427-87c9-72b1d6475edc",
   "metadata": {},
   "outputs": [
    {
     "name": "stdout",
     "output_type": "stream",
     "text": [
      "▬▬▬ git switch master ▬▬▬\n"
     ]
    },
    {
     "name": "stderr",
     "output_type": "stream",
     "text": [
      "Switched to branch 'master'\n"
     ]
    },
    {
     "name": "stdout",
     "output_type": "stream",
     "text": [
      "▬▬▬ git merge devel ▬▬▬\n",
      "Updating 1967f29..996dbad\n",
      "Fast-forward\n",
      " Iris-setosa.csv | 41 -----------------------------------------\n",
      " 1 file changed, 41 deletions(-)\n",
      "10 Iris-setosa.csv\n",
      "▬▬▬ git switch devel ▬▬▬\n"
     ]
    },
    {
     "name": "stderr",
     "output_type": "stream",
     "text": [
      "Switched to branch 'devel'\n"
     ]
    },
    {
     "name": "stdout",
     "output_type": "stream",
     "text": [
      "10 Iris-setosa.csv\n"
     ]
    }
   ],
   "source": [
    "%%bash\n",
    "cd lab2\n",
    "echo \"▬▬▬ git switch master ▬▬▬\" && git switch master\n",
    "echo \"▬▬▬ git merge devel ▬▬▬\" && git merge devel\n",
    "wc -l Iris-setosa.csv\n",
    "echo \"▬▬▬ git switch devel ▬▬▬\" && git switch devel\n",
    "wc -l Iris-setosa.csv"
   ]
  },
  {
   "cell_type": "markdown",
   "id": "c7cf0952-3054-4a6d-ac4d-d4a0ce31dffe",
   "metadata": {},
   "source": [
    "**Exercise 6**"
   ]
  },
  {
   "cell_type": "code",
   "execution_count": 43,
   "id": "7316c596-ceef-41f9-a838-e1a3e869af45",
   "metadata": {},
   "outputs": [
    {
     "name": "stderr",
     "output_type": "stream",
     "text": [
      "Everything up-to-date\n"
     ]
    }
   ],
   "source": [
    "%%bash\n",
    "cd lab2\n",
    "PAT=\"github_pat_xxxx\"\n",
    "repo=\"mpenagar/lab2\"\n",
    "git remote add origin https://${PAT}@github.com/${repo}\n",
    "# If you change the PAT:\n",
    "# git remote set-url origin https://${PAT}@github.com/${repo}\n",
    "git push origin master"
   ]
  }
 ],
 "metadata": {
  "kernelspec": {
   "display_name": "Python 3 (ipykernel)",
   "language": "python",
   "name": "python3"
  },
  "language_info": {
   "codemirror_mode": {
    "name": "ipython",
    "version": 3
   },
   "file_extension": ".py",
   "mimetype": "text/x-python",
   "name": "python",
   "nbconvert_exporter": "python",
   "pygments_lexer": "ipython3",
   "version": "3.12.6"
  }
 },
 "nbformat": 4,
 "nbformat_minor": 5
}
