{
 "cells": [
  {
   "cell_type": "markdown",
   "metadata": {
    "editable": true,
    "slideshow": {
     "slide_type": ""
    },
    "tags": []
   },
   "source": [
    "# Programming for AI\n",
    "\n",
    "## PART 1: Standard AI programming - Mikel Peñagarikano\n",
    "\n",
    "1. Introduction (1s)\n",
    "   * Jupyter Notebooks\n",
    "   * Introduction to Unix/Linux shell\n",
    "   * Introduction to Git & GitHub\n",
    "1. Data loading, cleaning, visualization & processing  (1s)\n",
    "   * NumPy\n",
    "   * Pandas\n",
    "   * Matplotlib\n",
    "1. Lab on data acquisition, preprocessing & cleaning (1s)\n",
    "1. Programming workflows in AI  (1s)\n",
    "   * Data Splitting\n",
    "   * Cross-validation\n",
    "   * Time-series Cross-validation\n",
    "   * Nested Cross-validation\n",
    "   * Design Patterns and best practices for Machine Learning\n",
    "1. AI Frameworks & Fundamental Models\n",
    "   * Scikit-learn (1s)\n",
    "      * Logistic Regression\n",
    "      * Support Vector Machine\n",
    "      * Decision Trees\n",
    "      * Random Forest\n",
    "   * Keras (1s)\n",
    "      * Neural Networks\n",
    "1. Lab on basic models with scikit-learn & Keras (3s)\n",
    "\n",
    "<!--   \n",
    "1. [Sarrera - Programazio erroreak](Gardenkiak/Sarrera.ipynb)\n",
    "1. [Python Programazio Lengoaia - Exekuzioa ingurunea](Gardenkiak/Python%20Programazio%20Lengoaia.ipynb)\n",
    "1. [Karaktere kateak](Gardenkiak/Karaktere%20kateak.ipynb)\n",
    "1. [Zerrendak](Gardenkiak/Zerrendak.ipynb)\n",
    "1. [N-Koteak](Gardenkiak/NKoteak.ipynb)\n",
    "1. [Hiztegiak](Gardenkiak/Hiztegiak.ipynb)\n",
    "    * [Multzoak](Gardenkiak/Multzoak.ipynb)\n",
    "1. [Sarrera-Irteera eta Fitxategiak](Gardenkiak/SarreraIrteeraEtaFitxategiak.ipynb)\n",
    "1. [Random modulua](Gardenkiak/Random.ipynb)\n",
    "1. [Errekurtsibitatea](Gardenkiak/Errekurtsibitatea.ipynb)\n",
    "1. [Algoritmoen Konplexutasuna eta Notazio Asintotikoa](Gardenkiak/Algoritmoen%20Konplexutasuna%20eta%20Notazio%20Asintotikoa.ipynb)\n",
    "1. [Klaseak](Gardenkiak/Klaseak.ipynb)\n",
    "1. [Hash Taulak](Gardenkiak/HashTaulak.ipynb)\n",
    "1. Datu Mota Abstraktuak\n",
    "    * [Pilak](Gardenkiak/Pilak.ipynb)\n",
    "    * [Ilarak](Gardenkiak/Ilarak.ipynb)\n",
    "-->\n",
    "\n"
   ]
  }
 ],
 "metadata": {
  "celltoolbar": "Slideshow",
  "kernelspec": {
   "display_name": "Python 3 (ipykernel)",
   "language": "python",
   "name": "python3"
  },
  "language_info": {
   "codemirror_mode": {
    "name": "ipython",
    "version": 3
   },
   "file_extension": ".py",
   "mimetype": "text/x-python",
   "name": "python",
   "nbconvert_exporter": "python",
   "pygments_lexer": "ipython3",
   "version": "3.12.6"
  }
 },
 "nbformat": 4,
 "nbformat_minor": 4
}
