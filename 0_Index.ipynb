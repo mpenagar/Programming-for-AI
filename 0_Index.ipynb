{
 "cells": [
  {
   "cell_type": "markdown",
   "metadata": {
    "editable": true,
    "slideshow": {
     "slide_type": ""
    },
    "tags": []
   },
   "source": [
    "# Programming for AI\n",
    "\n",
    "## PART 1: Standard AI programming - Mikel Peñagarikano\n",
    "\n",
    "1. Introduction\n",
    "   * Jupyter Notebooks\n",
    "   * [Introduction to Unix/Linux shell](1b_unix_shell.ipynb)\n",
    "   * [Introduction to Git & GitHub](1c_git_and_github.ipynb)\n",
    "1. Data loading, cleaning, visualization & processing\n",
    "   * [NumPy](2a_NumPy.ipynb)\n",
    "   * [Pandas](2b_Pandas.ipynb)\n",
    "   * [Matplotlib](2c_Matplotlib.ipynb)\n",
    "1. Programming workflows in Machine Learning\n",
    "   * [Introduction to Machine Learning](3a_Machine_Learning.ipynb)\n",
    "   * [Data Splitting](3b_Data_Spliting.ipynb)\n",
    "1. AI Frameworks & Fundamental Models\n",
    "   * [Scikit-learn](4a_Scikit-learn.ipynb)\n",
    "      * Logistic Regression\n",
    "      * Support Vector Machine\n",
    "      * Decision Trees\n",
    "      * Random Forest\n",
    "   * Keras\n",
    "      * Neural Networks"
   ]
  },
  {
   "cell_type": "code",
   "execution_count": null,
   "metadata": {},
   "outputs": [],
   "source": []
  }
 ],
 "metadata": {
  "celltoolbar": "Slideshow",
  "kernelspec": {
   "display_name": "Python 3 (ipykernel)",
   "language": "python",
   "name": "python3"
  },
  "language_info": {
   "codemirror_mode": {
    "name": "ipython",
    "version": 3
   },
   "file_extension": ".py",
   "mimetype": "text/x-python",
   "name": "python",
   "nbconvert_exporter": "python",
   "pygments_lexer": "ipython3",
   "version": "3.12.6"
  }
 },
 "nbformat": 4,
 "nbformat_minor": 4
}
