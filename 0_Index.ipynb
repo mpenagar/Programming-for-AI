{
 "cells": [
  {
   "cell_type": "markdown",
   "metadata": {
    "editable": true,
    "slideshow": {
     "slide_type": ""
    },
    "tags": []
   },
   "source": [
    "# Programming for AI\n",
    "\n",
    "## PART 1: Standard AI programming - Mikel Peñagarikano\n",
    "\n",
    "1. Introduction\n",
    "   * Jupyter Notebooks\n",
    "   * [Introduction to Unix/Linux shell](1b_unix_shell.ipynb)\n",
    "   * [Introduction to Git & GitHub](1c_git_and_github.ipynb)\n",
    "1. Data loading, cleaning, visualization & processing\n",
    "   * [NumPy](2a_NumPy.ipynb)\n",
    "   * [Pandas](2b_Pandas.ipynb)\n",
    "   * [Matplotlib](2c_Matplotlib.ipynb)\n",
    "1. Programming workflows in Machine Learning\n",
    "   * [Introduction to Machine Learning](4a_Machine_Learning.ipynb)\n",
    "   * [Data Splitting](4b_Data_Spliting.ipynb)\n",
    "       * Cross-validation\n",
    "       * Time-series Cross-validation\n",
    "       * Nested Cross-validation\n",
    "   * Design Patterns and best practices for Machine Learning\n",
    "1. AI Frameworks & Fundamental Models\n",
    "   * Scikit-learn\n",
    "      * Logistic Regression\n",
    "      * Support Vector Machine\n",
    "      * Decision Trees\n",
    "      * Random Forest\n",
    "   * Keras\n",
    "      * Neural Networks\n",
    "\n",
    "<!--   \n",
    "1. [Sarrera - Programazio erroreak](Gardenkiak/Sarrera.ipynb)\n",
    "1. [Python Programazio Lengoaia - Exekuzioa ingurunea](Gardenkiak/Python%20Programazio%20Lengoaia.ipynb)\n",
    "1. [Karaktere kateak](Gardenkiak/Karaktere%20kateak.ipynb)\n",
    "1. [Zerrendak](Gardenkiak/Zerrendak.ipynb)\n",
    "1. [N-Koteak](Gardenkiak/NKoteak.ipynb)\n",
    "1. [Hiztegiak](Gardenkiak/Hiztegiak.ipynb)\n",
    "    * [Multzoak](Gardenkiak/Multzoak.ipynb)\n",
    "1. [Sarrera-Irteera eta Fitxategiak](Gardenkiak/SarreraIrteeraEtaFitxategiak.ipynb)\n",
    "1. [Random modulua](Gardenkiak/Random.ipynb)\n",
    "1. [Errekurtsibitatea](Gardenkiak/Errekurtsibitatea.ipynb)\n",
    "1. [Algoritmoen Konplexutasuna eta Notazio Asintotikoa](Gardenkiak/Algoritmoen%20Konplexutasuna%20eta%20Notazio%20Asintotikoa.ipynb)\n",
    "1. [Klaseak](Gardenkiak/Klaseak.ipynb)\n",
    "1. [Hash Taulak](Gardenkiak/HashTaulak.ipynb)\n",
    "1. Datu Mota Abstraktuak\n",
    "    * [Pilak](Gardenkiak/Pilak.ipynb)\n",
    "    * [Ilarak](Gardenkiak/Ilarak.ipynb)\n",
    "-->\n",
    "\n"
   ]
  }
 ],
 "metadata": {
  "celltoolbar": "Slideshow",
  "kernelspec": {
   "display_name": "Python 3 (ipykernel)",
   "language": "python",
   "name": "python3"
  },
  "language_info": {
   "codemirror_mode": {
    "name": "ipython",
    "version": 3
   },
   "file_extension": ".py",
   "mimetype": "text/x-python",
   "name": "python",
   "nbconvert_exporter": "python",
   "pygments_lexer": "ipython3",
   "version": "3.12.6"
  }
 },
 "nbformat": 4,
 "nbformat_minor": 4
}
