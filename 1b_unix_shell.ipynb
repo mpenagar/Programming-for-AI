{
 "cells": [
  {
   "cell_type": "markdown",
   "metadata": {
    "editable": true,
    "slideshow": {
     "slide_type": "slide"
    },
    "tags": []
   },
   "source": [
    "# Introduction to Unix/Linux shell\n",
    "\n"
   ]
  },
  {
   "cell_type": "markdown",
   "metadata": {
    "@deathbeds/jupyterlab-fonts": {
     "styles": {
      "": {
       "body[data-jp-deck-mode='presenting'] &": {
        "z-index": null,
        "zoom": "93%"
       }
      }
     }
    },
    "editable": true,
    "slideshow": {
     "slide_type": "slide"
    },
    "tags": []
   },
   "source": [
    "## What is (was) Unix\n",
    "\n",
    "* Multi-user, multi-tasking Operating System\n",
    "* Developed in the late 1960s at AT&T's Bell Labs\n",
    "* Family or lineage of operating systems"
   ]
  },
  {
   "cell_type": "markdown",
   "metadata": {
    "slideshow": {
     "slide_type": "slide"
    }
   },
   "source": [
    "<img src=\"img/Unix_history-simple.svg\" alt=\"Unix history\" style=\"width: 100%;\"/>"
   ]
  },
  {
   "cell_type": "markdown",
   "metadata": {
    "editable": true,
    "slideshow": {
     "slide_type": "slide"
    },
    "tags": []
   },
   "source": [
    "## Unix - key aspects"
   ]
  },
  {
   "cell_type": "markdown",
   "metadata": {
    "editable": true,
    "slideshow": {
     "slide_type": "fragment"
    },
    "tags": []
   },
   "source": [
    "* Multi-User & Multi-Tasking"
   ]
  },
  {
   "cell_type": "markdown",
   "metadata": {
    "editable": true,
    "slideshow": {
     "slide_type": "fragment"
    },
    "tags": []
   },
   "source": [
    "* Hierarchical File System (root directory and subdirectories)"
   ]
  },
  {
   "cell_type": "markdown",
   "metadata": {
    "editable": true,
    "slideshow": {
     "slide_type": "fragment"
    },
    "tags": []
   },
   "source": [
    "* \"Everything is a File\" Philosophy (system resources & hardware devices)"
   ]
  },
  {
   "cell_type": "markdown",
   "metadata": {
    "editable": true,
    "slideshow": {
     "slide_type": "fragment"
    },
    "tags": []
   },
   "source": [
    "* Command-Line Interface (CLI): **shell** interpreter"
   ]
  },
  {
   "cell_type": "markdown",
   "metadata": {
    "editable": true,
    "slideshow": {
     "slide_type": "fragment"
    },
    "tags": []
   },
   "source": [
    "* Pipes and Redirection (chain single-purpose commands & resources/devices)"
   ]
  },
  {
   "cell_type": "markdown",
   "metadata": {
    "editable": true,
    "slideshow": {
     "slide_type": "slide"
    },
    "tags": []
   },
   "source": [
    "## Jupyter & Unix shell\n",
    "\n",
    "There are several ways to run shell commands directly within a Jupyter Notebook:\n",
    "\n",
    "* Using the Exclamation Mark (`!`)\n",
    "* Using Cell Magics (`%%bash`, `%%sh`, `%%script`)\n",
    "* Using Python's `subprocess` Module"
   ]
  },
  {
   "cell_type": "markdown",
   "metadata": {
    "editable": true,
    "slideshow": {
     "slide_type": "slide"
    },
    "tags": []
   },
   "source": [
    "### Using the Exclamation Mark (`!`)\n",
    "\n",
    "Inside a code cell, prefix the shell command you want to run with an exclamation mark:"
   ]
  },
  {
   "cell_type": "code",
   "execution_count": 11,
   "metadata": {
    "editable": true,
    "slideshow": {
     "slide_type": "fragment"
    },
    "tags": []
   },
   "outputs": [
    {
     "name": "stdout",
     "output_type": "stream",
     "text": [
      "/home/jupyter-mpenagaricano/Programming-for-AI\n"
     ]
    }
   ],
   "source": [
    "!pwd # Print working directory"
   ]
  },
  {
   "cell_type": "code",
   "execution_count": 13,
   "metadata": {
    "editable": true,
    "slideshow": {
     "slide_type": "fragment"
    },
    "tags": []
   },
   "outputs": [
    {
     "name": "stdout",
     "output_type": "stream",
     "text": [
      "0_Index.ipynb  1b_unix_shell.ipynb  img  README.md\n"
     ]
    }
   ],
   "source": [
    "!ls # List all files"
   ]
  },
  {
   "cell_type": "code",
   "execution_count": 14,
   "metadata": {
    "editable": true,
    "scrolled": true,
    "slideshow": {
     "slide_type": "fragment"
    },
    "tags": []
   },
   "outputs": [
    {
     "name": "stdout",
     "output_type": "stream",
     "text": [
      "1\n",
      "2\n",
      "3\n",
      "4\n",
      "5\n"
     ]
    }
   ],
   "source": [
    "!for x in {1..5}; do echo $x ; done # print numbers from 1 to 5 "
   ]
  },
  {
   "cell_type": "markdown",
   "metadata": {
    "editable": true,
    "slideshow": {
     "slide_type": "slide"
    },
    "tags": []
   },
   "source": [
    "**NOTE:** Depending on the host OS, the shell will be different. Our host is running Ubuntu 22.04, a linux distribution:"
   ]
  },
  {
   "cell_type": "code",
   "execution_count": 8,
   "metadata": {
    "editable": true,
    "slideshow": {
     "slide_type": "fragment"
    },
    "tags": []
   },
   "outputs": [
    {
     "name": "stdout",
     "output_type": "stream",
     "text": [
      "PRETTY_NAME=\"Ubuntu 22.04.5 LTS\"\n",
      "NAME=\"Ubuntu\"\n",
      "VERSION_ID=\"22.04\"\n",
      "VERSION=\"22.04.5 LTS (Jammy Jellyfish)\"\n",
      "VERSION_CODENAME=jammy\n",
      "ID=ubuntu\n",
      "ID_LIKE=debian\n",
      "HOME_URL=\"https://www.ubuntu.com/\"\n",
      "SUPPORT_URL=\"https://help.ubuntu.com/\"\n",
      "BUG_REPORT_URL=\"https://bugs.launchpad.net/ubuntu/\"\n",
      "PRIVACY_POLICY_URL=\"https://www.ubuntu.com/legal/terms-and-policies/privacy-policy\"\n",
      "UBUNTU_CODENAME=jammy\n"
     ]
    }
   ],
   "source": [
    "!cat /etc/os-release"
   ]
  },
  {
   "cell_type": "markdown",
   "metadata": {
    "editable": true,
    "slideshow": {
     "slide_type": "slide"
    },
    "tags": []
   },
   "source": [
    "#### Capturing shell output into a Python Variable\n",
    "\n",
    "You can assign the standard output of a shell command to a Python variable using the `variable = !command` syntax:"
   ]
  },
  {
   "cell_type": "code",
   "execution_count": null,
   "metadata": {
    "editable": true,
    "scrolled": true,
    "slideshow": {
     "slide_type": "fragment"
    },
    "tags": []
   },
   "outputs": [],
   "source": [
    "files = !ls\n",
    "print(type(files))"
   ]
  },
  {
   "cell_type": "code",
   "execution_count": null,
   "metadata": {
    "editable": true,
    "scrolled": true,
    "slideshow": {
     "slide_type": "fragment"
    },
    "tags": []
   },
   "outputs": [],
   "source": [
    "import IPython \n",
    "help(IPython.utils.text.SList)"
   ]
  },
  {
   "cell_type": "code",
   "execution_count": null,
   "metadata": {
    "editable": true,
    "scrolled": true,
    "slideshow": {
     "slide_type": "slide"
    },
    "tags": []
   },
   "outputs": [],
   "source": [
    "files = !ls\n",
    "for x in files :\n",
    "    print(type(x),x)"
   ]
  },
  {
   "cell_type": "code",
   "execution_count": null,
   "metadata": {
    "editable": true,
    "scrolled": true,
    "slideshow": {
     "slide_type": "fragment"
    },
    "tags": []
   },
   "outputs": [],
   "source": [
    "x = !echo \"hello world\"\n",
    "print(type(x),x)"
   ]
  },
  {
   "cell_type": "markdown",
   "metadata": {
    "editable": true,
    "slideshow": {
     "slide_type": "slide"
    },
    "tags": []
   },
   "source": [
    "#### Using Python Variables in Shell Commands\n",
    "\n",
    "You can pass Python variables into your shell commands by enclosing the variable name in curly braces `{}` :"
   ]
  },
  {
   "cell_type": "code",
   "execution_count": 2,
   "metadata": {
    "editable": true,
    "scrolled": true,
    "slideshow": {
     "slide_type": "fragment"
    },
    "tags": []
   },
   "outputs": [
    {
     "name": "stdout",
     "output_type": "stream",
     "text": [
      "Unix_history-simple.svg\n"
     ]
    }
   ],
   "source": [
    "dirname = \"img\"\n",
    "!ls {dirname}"
   ]
  },
  {
   "cell_type": "markdown",
   "metadata": {
    "editable": true,
    "slideshow": {
     "slide_type": "slide"
    },
    "tags": []
   },
   "source": [
    "### Using Cell Magics (`%%bash`, `%%sh`, `%%script`)\n",
    "\n",
    "With Cell Magics, you can run multiple lines of shell script within a single cell:"
   ]
  },
  {
   "cell_type": "code",
   "execution_count": 74,
   "metadata": {
    "editable": true,
    "slideshow": {
     "slide_type": "slide"
    },
    "tags": []
   },
   "outputs": [
    {
     "name": "stdout",
     "output_type": "stream",
     "text": [
      "STARTING THE SCRIPT (dir: /home/jupyter-mpenagaricano/Programming-for-AI)\n",
      "  0_Index.ipynb: regular file\n",
      "  1b_unix_shell.ipynb: regular file\n",
      "  img: directory\n",
      "  README.md: regular file\n",
      "  /dev/null: NOT REGULAR file\n",
      "SCRIPT FINISHED!!\n"
     ]
    }
   ],
   "source": [
    "%%bash\n",
    "echo \"STARTING THE SCRIPT (dir: $(pwd))\"\n",
    "for f in * /dev/null ; do\n",
    "    if [ -d ${f} ] ; then\n",
    "        echo \"  ${f}: directory\"\n",
    "    elif [ -f ${f} ] ; then\n",
    "        echo \"  ${f}: regular file\"\n",
    "    else\n",
    "        echo \"  ${f}: not regular file\"\n",
    "    fi\n",
    "done\n",
    "echo \"SCRIPT FINISHED!!\""
   ]
  },
  {
   "cell_type": "markdown",
   "metadata": {
    "editable": true,
    "slideshow": {
     "slide_type": "slide"
    },
    "tags": []
   },
   "source": [
    "#### `%%sh` vs `%%bash`\n",
    "\n",
    "* `sh` (Bourne Shell): Developed at Bell Labs in the late 1970s. It was the original standard Unix shell.\n",
    "* `bash` (Bourne-Again Shell): Created for the GNU Project in the late 1980s as a free software replacement and enhancement for `sh`.\n",
    "   * Includes almost all features of `sh` but adds many modern conveniences:\n",
    "   * Command History, Tab Completion, Arrays, Brace Expansion, Extended Globbing, Ritcher Arithmetic, Process Substitution..."
   ]
  },
  {
   "cell_type": "markdown",
   "metadata": {
    "editable": true,
    "slideshow": {
     "slide_type": "slide"
    },
    "tags": []
   },
   "source": [
    "#### Using `%%script <interpreter>`\n",
    "\n",
    "You can run the cell content with a specific interpreter (e.g., perl, tcl, java...)."
   ]
  },
  {
   "cell_type": "code",
   "execution_count": 42,
   "metadata": {
    "editable": true,
    "slideshow": {
     "slide_type": "fragment"
    },
    "tags": []
   },
   "outputs": [
    {
     "name": "stdout",
     "output_type": "stream",
     "text": [
      "Hello World!!\n"
     ]
    }
   ],
   "source": [
    "%%script perl\n",
    "print(\"Hello World!!\\n\");"
   ]
  },
  {
   "cell_type": "code",
   "execution_count": 43,
   "metadata": {
    "editable": true,
    "slideshow": {
     "slide_type": "fragment"
    },
    "tags": []
   },
   "outputs": [
    {
     "name": "stdout",
     "output_type": "stream",
     "text": [
      "Hello World!!\n"
     ]
    }
   ],
   "source": [
    "%%script tclsh\n",
    "puts \"Hello World!!\""
   ]
  },
  {
   "cell_type": "code",
   "execution_count": 44,
   "metadata": {
    "editable": true,
    "slideshow": {
     "slide_type": "fragment"
    },
    "tags": []
   },
   "outputs": [
    {
     "name": "stdout",
     "output_type": "stream",
     "text": [
      "Couldn't find program: 'javash'\n"
     ]
    }
   ],
   "source": [
    "%%script javash\n",
    "System.out.println(\"Hello World!!\")"
   ]
  },
  {
   "cell_type": "markdown",
   "metadata": {
    "editable": true,
    "slideshow": {
     "slide_type": "slide"
    },
    "tags": []
   },
   "source": [
    "### Using Python's `subprocess` Module\n",
    "\n",
    "Python's built-in `subprocess` module allows more fine-grained control, error handling, capturing stderr separately, or handling complex interactions. This is the standard Python way to run external commands from Python scripts."
   ]
  },
  {
   "cell_type": "code",
   "execution_count": 69,
   "metadata": {
    "editable": true,
    "slideshow": {
     "slide_type": "fragment"
    },
    "tags": []
   },
   "outputs": [
    {
     "name": "stdout",
     "output_type": "stream",
     "text": [
      "Return Code: 0\n",
      "Stdout:\n",
      "  Unix_history-simple.svg\n",
      "\n",
      "Stderr:\n",
      "  \n"
     ]
    }
   ],
   "source": [
    "import subprocess\n",
    "\n",
    "# Run a command and capture output.\n",
    "#  capture_output=True captures stdout and stderr\n",
    "#  check=True raises error if command fails\n",
    "#  text=true decodes stdin, stdout and stderr using the given/default encoding\n",
    "result = subprocess.run(['ls','img'], capture_output=True, text=True, check=True) \n",
    "\n",
    "print(\"Return Code:\", result.returncode)\n",
    "print(\"Stdout:\")\n",
    "print(\" \",result.stdout)\n",
    "print(\"Stderr:\")\n",
    "print(\" \",result.stderr)"
   ]
  },
  {
   "cell_type": "markdown",
   "metadata": {
    "editable": true,
    "slideshow": {
     "slide_type": "slide"
    },
    "tags": []
   },
   "source": [
    "## Unix-like terminal commands\n",
    "\n",
    " * Help & Shell Control\n",
    " * Navigation & Directory Listing\n",
    " * File & Directory Manipulation\n",
    " * Viewing File Contents\n",
    " * Searching\n",
    " * System Information & Monitoring\n",
    " * User & Permissions\n",
    " * Networking\n",
    " * Process Management\n",
    " * Archiving & Compressing"
   ]
  },
  {
   "cell_type": "markdown",
   "metadata": {
    "editable": true,
    "slideshow": {
     "slide_type": "slide"
    },
    "tags": []
   },
   "source": [
    "### Getting Help"
   ]
  },
  {
   "cell_type": "markdown",
   "metadata": {
    "editable": true,
    "slideshow": {
     "slide_type": "slide"
    },
    "tags": []
   },
   "source": [
    "#### `man` - an interface to the system reference manuals\n",
    "\n",
    "* `man command_name` : Display the manual page for a program, utility or function. Press `q` to quit."
   ]
  },
  {
   "cell_type": "code",
   "execution_count": 96,
   "metadata": {
    "editable": true,
    "slideshow": {
     "slide_type": "slide"
    },
    "tags": []
   },
   "outputs": [],
   "source": [
    "#!man man"
   ]
  },
  {
   "cell_type": "code",
   "execution_count": 99,
   "metadata": {
    "editable": true,
    "slideshow": {
     "slide_type": "slide"
    },
    "tags": []
   },
   "outputs": [],
   "source": [
    "#!man 1 printf"
   ]
  },
  {
   "cell_type": "code",
   "execution_count": 97,
   "metadata": {
    "editable": true,
    "slideshow": {
     "slide_type": "slide"
    },
    "tags": []
   },
   "outputs": [],
   "source": [
    "#!man 3 printf"
   ]
  },
  {
   "cell_type": "markdown",
   "metadata": {
    "editable": true,
    "slideshow": {
     "slide_type": "slide"
    },
    "tags": []
   },
   "source": [
    "#### `command_name --help` - try to get help from a command\n",
    "\n",
    "Many commands has the option `--help` or `-h`"
   ]
  },
  {
   "cell_type": "code",
   "execution_count": 115,
   "metadata": {
    "editable": true,
    "slideshow": {
     "slide_type": "fragment"
    },
    "tags": []
   },
   "outputs": [],
   "source": [
    "#!tac --help"
   ]
  },
  {
   "cell_type": "markdown",
   "metadata": {
    "editable": true,
    "slideshow": {
     "slide_type": "slide"
    },
    "tags": []
   },
   "source": [
    "### Navigation & Directory Listing"
   ]
  },
  {
   "cell_type": "markdown",
   "metadata": {
    "editable": true,
    "slideshow": {
     "slide_type": "slide"
    },
    "tags": []
   },
   "source": [
    "#### `ls` - list directory contents\n",
    "\n",
    "* `ls` : List current directory contents.\n",
    "* `ls img` : List the contents of the directory `img`.\n",
    "* `ls -l` : List in long format (permissions, owner, size, date).\n",
    "* `ls -a` : List all files, including hidden ones (starting with `.`)."
   ]
  },
  {
   "cell_type": "code",
   "execution_count": 142,
   "metadata": {
    "editable": true,
    "slideshow": {
     "slide_type": ""
    },
    "tags": []
   },
   "outputs": [
    {
     "name": "stdout",
     "output_type": "stream",
     "text": [
      "img/Unix_history-simple.svg\n"
     ]
    }
   ],
   "source": [
    "!ls img/*.svg\n",
    "#!ls -l ../Programming-for-AI/img/*.svg\n",
    "#!ls -l /home/jupyter-mpenagaricano/Programming-for-AI/img/*.svg"
   ]
  },
  {
   "cell_type": "markdown",
   "metadata": {
    "editable": true,
    "slideshow": {
     "slide_type": "slide"
    },
    "tags": []
   },
   "source": [
    "Bash carries out filename expansion (a process known as **globbing**) on unquoted command-line arguments:\n",
    "\n",
    "* `*` &rarr; any character sequence (could be empty)\n",
    "* `?` &rarr; any single character\n",
    "* `^` &rarr; negating the sense of a match\n",
    "* `[xy]` &rarr; single character from range `x` to `y`\n",
    "* `{pattern1,pattern2,pattern3}` &rarr; any of the three patterns"
   ]
  },
  {
   "cell_type": "markdown",
   "metadata": {
    "editable": true,
    "slideshow": {
     "slide_type": "fragment"
    },
    "tags": []
   },
   "source": [
    "For example:\n",
    "* `ae*` : any filename starting with `ae`\n",
    "* `[ab]*` : any filename starting with `a` or `b`\n",
    "* `[a-h]*` : any filename starting with letters from `a` to `h`\n",
    "* `[^ab]*` : any filename NOT starting with `a` or `b`\n",
    "* `[^A-Z]?` : any filename of length two, not starting with uppercase"
   ]
  },
  {
   "cell_type": "code",
   "execution_count": 163,
   "metadata": {
    "editable": true,
    "slideshow": {
     "slide_type": ""
    },
    "tags": []
   },
   "outputs": [
    {
     "name": "stdout",
     "output_type": "stream",
     "text": [
      "img/Unix_history-simple.svg\n"
     ]
    }
   ],
   "source": [
    "%%bash\n",
    "ls img/[^a-z]*"
   ]
  },
  {
   "cell_type": "markdown",
   "metadata": {
    "editable": true,
    "slideshow": {
     "slide_type": "slide"
    },
    "tags": []
   },
   "source": [
    "### File & Directory Manipulation"
   ]
  },
  {
   "cell_type": "markdown",
   "metadata": {
    "editable": true,
    "slideshow": {
     "slide_type": "slide"
    },
    "tags": []
   },
   "source": [
    "### Viewing File Contents"
   ]
  },
  {
   "cell_type": "markdown",
   "metadata": {
    "editable": true,
    "slideshow": {
     "slide_type": "slide"
    },
    "tags": []
   },
   "source": [
    "### Searching"
   ]
  },
  {
   "cell_type": "markdown",
   "metadata": {
    "editable": true,
    "slideshow": {
     "slide_type": "slide"
    },
    "tags": []
   },
   "source": [
    "### System Information & Monitoring"
   ]
  },
  {
   "cell_type": "markdown",
   "metadata": {
    "editable": true,
    "slideshow": {
     "slide_type": "slide"
    },
    "tags": []
   },
   "source": [
    "### User & Permissions"
   ]
  },
  {
   "cell_type": "markdown",
   "metadata": {
    "editable": true,
    "slideshow": {
     "slide_type": "slide"
    },
    "tags": []
   },
   "source": [
    "### Networking"
   ]
  },
  {
   "cell_type": "markdown",
   "metadata": {
    "editable": true,
    "slideshow": {
     "slide_type": "slide"
    },
    "tags": []
   },
   "source": [
    "### Process Management"
   ]
  },
  {
   "cell_type": "markdown",
   "metadata": {
    "editable": true,
    "slideshow": {
     "slide_type": "slide"
    },
    "tags": []
   },
   "source": [
    "### Archiving & Compressing"
   ]
  },
  {
   "cell_type": "code",
   "execution_count": null,
   "metadata": {},
   "outputs": [],
   "source": []
  }
 ],
 "metadata": {
  "celltoolbar": "Slideshow",
  "kernelspec": {
   "display_name": "Python 3 (ipykernel)",
   "language": "python",
   "name": "python3"
  },
  "language_info": {
   "codemirror_mode": {
    "name": "ipython",
    "version": 3
   },
   "file_extension": ".py",
   "mimetype": "text/x-python",
   "name": "python",
   "nbconvert_exporter": "python",
   "pygments_lexer": "ipython3",
   "version": "3.12.6"
  }
 },
 "nbformat": 4,
 "nbformat_minor": 4
}
