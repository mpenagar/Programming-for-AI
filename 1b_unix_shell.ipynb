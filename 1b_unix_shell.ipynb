{
 "cells": [
  {
   "cell_type": "markdown",
   "metadata": {
    "editable": true,
    "slideshow": {
     "slide_type": "slide"
    },
    "tags": []
   },
   "source": [
    "# Introduction to Unix/Linux shell\n",
    "\n"
   ]
  },
  {
   "cell_type": "markdown",
   "metadata": {
    "@deathbeds/jupyterlab-fonts": {
     "styles": {
      "": {
       "body[data-jp-deck-mode='presenting'] &": {
        "z-index": null,
        "zoom": "93%"
       }
      }
     }
    },
    "editable": true,
    "slideshow": {
     "slide_type": "slide"
    },
    "tags": []
   },
   "source": [
    "## What is (was) Unix\n",
    "\n",
    "* Multi-user, multi-tasking Operating System\n",
    "* Developed in the late 1960s at AT&T's Bell Labs\n",
    "* Family or lineage of operating systems"
   ]
  },
  {
   "cell_type": "markdown",
   "metadata": {
    "slideshow": {
     "slide_type": "slide"
    }
   },
   "source": [
    "<img src=\"img/Unix_history-simple.svg\" alt=\"Unix history\" style=\"width: 100%;\"/>"
   ]
  },
  {
   "cell_type": "markdown",
   "metadata": {
    "editable": true,
    "slideshow": {
     "slide_type": "slide"
    },
    "tags": []
   },
   "source": [
    "## Unix - key aspects"
   ]
  },
  {
   "cell_type": "markdown",
   "metadata": {
    "editable": true,
    "slideshow": {
     "slide_type": "fragment"
    },
    "tags": []
   },
   "source": [
    "* Multi-User & Multi-Tasking"
   ]
  },
  {
   "cell_type": "markdown",
   "metadata": {
    "editable": true,
    "slideshow": {
     "slide_type": "fragment"
    },
    "tags": []
   },
   "source": [
    "* Hierarchical File System (root directory and subdirectories)"
   ]
  },
  {
   "cell_type": "markdown",
   "metadata": {
    "editable": true,
    "slideshow": {
     "slide_type": "fragment"
    },
    "tags": []
   },
   "source": [
    "* \"Everything is a File\" Philosophy (system resources & hardware devices)"
   ]
  },
  {
   "cell_type": "markdown",
   "metadata": {
    "editable": true,
    "slideshow": {
     "slide_type": "fragment"
    },
    "tags": []
   },
   "source": [
    "* Command-Line Interface (CLI): **shell** interpreter"
   ]
  },
  {
   "cell_type": "markdown",
   "metadata": {
    "editable": true,
    "slideshow": {
     "slide_type": "fragment"
    },
    "tags": []
   },
   "source": [
    "* Pipes and Redirection (chain single-purpose commands & resources/devices)"
   ]
  },
  {
   "cell_type": "markdown",
   "metadata": {
    "editable": true,
    "slideshow": {
     "slide_type": "slide"
    },
    "tags": []
   },
   "source": [
    "## Jupyter & Unix shell\n",
    "\n",
    "There are several ways to run shell (like bash, cmd, etc.) commands directly within a Jupyter Notebook:\n",
    "\n",
    "* Using the Exclamation Mark (`!`)\n",
    "* Using Cell Magics (`%%bash`, `%%sh`, `%%script`)\n",
    "* Using Python's `subprocess` Module"
   ]
  },
  {
   "cell_type": "markdown",
   "metadata": {
    "editable": true,
    "slideshow": {
     "slide_type": "slide"
    },
    "tags": []
   },
   "source": [
    "### Using the Exclamation Mark (`!`)\n",
    "\n",
    "Inside a code cell, prefix the shell command you want to run with an exclamation mark:"
   ]
  },
  {
   "cell_type": "code",
   "execution_count": 11,
   "metadata": {
    "editable": true,
    "slideshow": {
     "slide_type": "fragment"
    },
    "tags": []
   },
   "outputs": [
    {
     "name": "stdout",
     "output_type": "stream",
     "text": [
      "/home/jupyter-mpenagaricano/Programming-for-AI\n"
     ]
    }
   ],
   "source": [
    "!pwd # Print working directory"
   ]
  },
  {
   "cell_type": "code",
   "execution_count": 13,
   "metadata": {
    "editable": true,
    "slideshow": {
     "slide_type": "fragment"
    },
    "tags": []
   },
   "outputs": [
    {
     "name": "stdout",
     "output_type": "stream",
     "text": [
      "0_Index.ipynb  1b_unix_shell.ipynb  img  README.md\n"
     ]
    }
   ],
   "source": [
    "!ls # List all files"
   ]
  },
  {
   "cell_type": "code",
   "execution_count": 14,
   "metadata": {
    "editable": true,
    "scrolled": true,
    "slideshow": {
     "slide_type": "fragment"
    },
    "tags": []
   },
   "outputs": [
    {
     "name": "stdout",
     "output_type": "stream",
     "text": [
      "1\n",
      "2\n",
      "3\n",
      "4\n",
      "5\n"
     ]
    }
   ],
   "source": [
    "!for x in {1..5}; do echo $x ; done # print numbers from 1 to 5 "
   ]
  },
  {
   "cell_type": "markdown",
   "metadata": {
    "editable": true,
    "slideshow": {
     "slide_type": "slide"
    },
    "tags": []
   },
   "source": [
    "**NOTE:** Depending on the host OS, the shell will be different. Our host is running Ubuntu 22.04, a linux distribution:"
   ]
  },
  {
   "cell_type": "code",
   "execution_count": 8,
   "metadata": {
    "editable": true,
    "slideshow": {
     "slide_type": "fragment"
    },
    "tags": []
   },
   "outputs": [
    {
     "name": "stdout",
     "output_type": "stream",
     "text": [
      "PRETTY_NAME=\"Ubuntu 22.04.5 LTS\"\n",
      "NAME=\"Ubuntu\"\n",
      "VERSION_ID=\"22.04\"\n",
      "VERSION=\"22.04.5 LTS (Jammy Jellyfish)\"\n",
      "VERSION_CODENAME=jammy\n",
      "ID=ubuntu\n",
      "ID_LIKE=debian\n",
      "HOME_URL=\"https://www.ubuntu.com/\"\n",
      "SUPPORT_URL=\"https://help.ubuntu.com/\"\n",
      "BUG_REPORT_URL=\"https://bugs.launchpad.net/ubuntu/\"\n",
      "PRIVACY_POLICY_URL=\"https://www.ubuntu.com/legal/terms-and-policies/privacy-policy\"\n",
      "UBUNTU_CODENAME=jammy\n"
     ]
    }
   ],
   "source": [
    "!cat /etc/os-release"
   ]
  },
  {
   "cell_type": "markdown",
   "metadata": {
    "editable": true,
    "slideshow": {
     "slide_type": "slide"
    },
    "tags": []
   },
   "source": [
    "#### Capturing shell output into a Python Variable\n",
    "\n",
    "You can assign the standard output of a shell command to a Python variable using the `variable = !command` syntax:"
   ]
  },
  {
   "cell_type": "code",
   "execution_count": null,
   "metadata": {
    "editable": true,
    "scrolled": true,
    "slideshow": {
     "slide_type": "fragment"
    },
    "tags": []
   },
   "outputs": [],
   "source": [
    "files = !ls\n",
    "print(type(files))"
   ]
  },
  {
   "cell_type": "code",
   "execution_count": null,
   "metadata": {
    "editable": true,
    "scrolled": true,
    "slideshow": {
     "slide_type": "fragment"
    },
    "tags": []
   },
   "outputs": [],
   "source": [
    "import IPython \n",
    "help(IPython.utils.text.SList)"
   ]
  },
  {
   "cell_type": "code",
   "execution_count": null,
   "metadata": {
    "editable": true,
    "scrolled": true,
    "slideshow": {
     "slide_type": "slide"
    },
    "tags": []
   },
   "outputs": [],
   "source": [
    "files = !ls\n",
    "for x in files :\n",
    "    print(type(x),x)"
   ]
  },
  {
   "cell_type": "code",
   "execution_count": null,
   "metadata": {
    "editable": true,
    "scrolled": true,
    "slideshow": {
     "slide_type": "fragment"
    },
    "tags": []
   },
   "outputs": [],
   "source": [
    "x = !echo \"hello world\"\n",
    "print(type(x),x)"
   ]
  },
  {
   "cell_type": "markdown",
   "metadata": {
    "editable": true,
    "slideshow": {
     "slide_type": "slide"
    },
    "tags": []
   },
   "source": [
    "#### Using Python Variables in Shell Commands\n",
    "\n",
    "You can pass Python variables into your shell commands by enclosing the variable name in curly braces `{}` :"
   ]
  },
  {
   "cell_type": "code",
   "execution_count": 2,
   "metadata": {
    "editable": true,
    "scrolled": true,
    "slideshow": {
     "slide_type": "fragment"
    },
    "tags": []
   },
   "outputs": [
    {
     "name": "stdout",
     "output_type": "stream",
     "text": [
      "Unix_history-simple.svg\n"
     ]
    }
   ],
   "source": [
    "dirname = \"img\"\n",
    "!ls {dirname}"
   ]
  },
  {
   "cell_type": "markdown",
   "metadata": {
    "editable": true,
    "slideshow": {
     "slide_type": "slide"
    },
    "tags": []
   },
   "source": [
    "### Using Cell Magics (`%%bash`, `%%sh`, `%%script`)\n",
    "\n",
    "With Cell Magics, you can run multiple lines of shell script within a single cell:"
   ]
  },
  {
   "cell_type": "code",
   "execution_count": 20,
   "metadata": {
    "editable": true,
    "slideshow": {
     "slide_type": "slide"
    },
    "tags": []
   },
   "outputs": [
    {
     "name": "stdout",
     "output_type": "stream",
     "text": [
      "STARTING THE SCRIPT (dir: /home/jupyter-mpenagaricano/Programming-for-AI)\n",
      "  0_Index.ipynb: regular file\n",
      "  1b_unix_shell.ipynb: regular file\n",
      "  img: directory\n",
      "  README.md: regular file\n",
      "  /dev/null: not regular file\n",
      "SCRIPT FINISHED!!\n"
     ]
    }
   ],
   "source": [
    "%%bash\n",
    "echo \"STARTING THE SCRIPT (dir: $(pwd))\"\n",
    "for f in * /dev/null ; do\n",
    "    if [ -d ${f} ] ; then\n",
    "        echo \"  ${f}: directory\"\n",
    "    else \n",
    "        if [ -f ${f} ] ; then\n",
    "            echo \"  ${f}: regular file\"\n",
    "        else\n",
    "            echo \"  ${f}: not regular file\"\n",
    "        fi\n",
    "    fi\n",
    "done\n",
    "echo \"SCRIPT FINISHED!!\""
   ]
  },
  {
   "cell_type": "markdown",
   "metadata": {
    "editable": true,
    "slideshow": {
     "slide_type": "slide"
    },
    "tags": []
   },
   "source": [
    "#### `%%sh` vs `%%bash`\n",
    "\n",
    "* `sh` (Bourne Shell): Developed at Bell Labs in the late 1970s. It was the original standard Unix shell.\n",
    "* `bash` (Bourne-Again Shell): Created for the GNU Project in the late 1980s as a free software replacement and enhancement for `sh`.\n",
    "   * Includes almost all features of `sh` but adds many modern conveniences:\n",
    "   * Command History, Tab Completion, Arrays, Brace Expansion, Extended Globbing, Ritcher Arithmetic, Process Substitution..."
   ]
  },
  {
   "cell_type": "code",
   "execution_count": null,
   "metadata": {},
   "outputs": [],
   "source": []
  }
 ],
 "metadata": {
  "celltoolbar": "Slideshow",
  "kernelspec": {
   "display_name": "Python 3 (ipykernel)",
   "language": "python",
   "name": "python3"
  },
  "language_info": {
   "codemirror_mode": {
    "name": "ipython",
    "version": 3
   },
   "file_extension": ".py",
   "mimetype": "text/x-python",
   "name": "python",
   "nbconvert_exporter": "python",
   "pygments_lexer": "ipython3",
   "version": "3.12.6"
  }
 },
 "nbformat": 4,
 "nbformat_minor": 4
}
