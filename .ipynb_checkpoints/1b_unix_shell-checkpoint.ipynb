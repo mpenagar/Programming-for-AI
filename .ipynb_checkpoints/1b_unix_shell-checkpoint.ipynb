{
 "cells": [
  {
   "cell_type": "markdown",
   "metadata": {
    "editable": true,
    "slideshow": {
     "slide_type": "slide"
    },
    "tags": []
   },
   "source": [
    "# Introduction to Unix/Linux shell\n",
    "\n"
   ]
  },
  {
   "cell_type": "markdown",
   "metadata": {
    "@deathbeds/jupyterlab-fonts": {
     "styles": {
      "": {
       "body[data-jp-deck-mode='presenting'] &": {
        "z-index": null,
        "zoom": "93%"
       }
      }
     }
    },
    "editable": true,
    "slideshow": {
     "slide_type": "slide"
    },
    "tags": []
   },
   "source": [
    "## What is (was) Unix\n",
    "\n",
    "* Multi-user, multi-tasking Operating System\n",
    "* Developed in the late 1960s at AT&T's Bell Labs\n",
    "* Family or lineage of operating systems"
   ]
  },
  {
   "cell_type": "markdown",
   "metadata": {
    "slideshow": {
     "slide_type": "slide"
    }
   },
   "source": [
    "<img src=\"img/Unix_history-simple.svg\" alt=\"Unix history\" style=\"width: 100%;\"/>"
   ]
  },
  {
   "cell_type": "markdown",
   "metadata": {
    "editable": true,
    "slideshow": {
     "slide_type": "slide"
    },
    "tags": []
   },
   "source": [
    "## Unix - key aspects"
   ]
  },
  {
   "cell_type": "markdown",
   "metadata": {
    "editable": true,
    "slideshow": {
     "slide_type": "fragment"
    },
    "tags": []
   },
   "source": [
    "* Multi-User & Multi-Tasking"
   ]
  },
  {
   "cell_type": "markdown",
   "metadata": {
    "editable": true,
    "slideshow": {
     "slide_type": "fragment"
    },
    "tags": []
   },
   "source": [
    "* Hierarchical File System (root directory and subdirectories)"
   ]
  },
  {
   "cell_type": "markdown",
   "metadata": {
    "editable": true,
    "slideshow": {
     "slide_type": "fragment"
    },
    "tags": []
   },
   "source": [
    "* \"Everything is a File\" Philosophy (system resources & hardware devices)"
   ]
  },
  {
   "cell_type": "markdown",
   "metadata": {
    "editable": true,
    "slideshow": {
     "slide_type": "fragment"
    },
    "tags": []
   },
   "source": [
    "* Command-Line Interface (CLI): **shell** interpreter"
   ]
  },
  {
   "cell_type": "markdown",
   "metadata": {
    "editable": true,
    "slideshow": {
     "slide_type": "fragment"
    },
    "tags": []
   },
   "source": [
    "* Pipes and Redirection (chain single-purpose commands & resources/devices)"
   ]
  },
  {
   "cell_type": "markdown",
   "metadata": {
    "editable": true,
    "slideshow": {
     "slide_type": "slide"
    },
    "tags": []
   },
   "source": [
    "## Jupyter & Unix shell\n",
    "\n",
    "There are several ways to run shell commands directly within a Jupyter Notebook:\n",
    "\n",
    "* Using the Exclamation Mark (`!`)\n",
    "* Using Cell Magics (`%%bash`, `%%sh`, `%%script`)\n",
    "* Using Python's `subprocess` Module"
   ]
  },
  {
   "cell_type": "markdown",
   "metadata": {
    "editable": true,
    "slideshow": {
     "slide_type": "slide"
    },
    "tags": []
   },
   "source": [
    "### Using the Exclamation Mark (`!`)\n",
    "\n",
    "Inside a code cell, prefix the shell command you want to run with an exclamation mark:"
   ]
  },
  {
   "cell_type": "code",
   "execution_count": 11,
   "metadata": {
    "editable": true,
    "slideshow": {
     "slide_type": "fragment"
    },
    "tags": []
   },
   "outputs": [
    {
     "name": "stdout",
     "output_type": "stream",
     "text": [
      "/home/jupyter-mpenagaricano/Programming-for-AI\n"
     ]
    }
   ],
   "source": [
    "!pwd # Print working directory"
   ]
  },
  {
   "cell_type": "code",
   "execution_count": 13,
   "metadata": {
    "editable": true,
    "slideshow": {
     "slide_type": "fragment"
    },
    "tags": []
   },
   "outputs": [
    {
     "name": "stdout",
     "output_type": "stream",
     "text": [
      "0_Index.ipynb  1b_unix_shell.ipynb  img  README.md\n"
     ]
    }
   ],
   "source": [
    "!ls # List all files"
   ]
  },
  {
   "cell_type": "code",
   "execution_count": 14,
   "metadata": {
    "editable": true,
    "scrolled": true,
    "slideshow": {
     "slide_type": "fragment"
    },
    "tags": []
   },
   "outputs": [
    {
     "name": "stdout",
     "output_type": "stream",
     "text": [
      "1\n",
      "2\n",
      "3\n",
      "4\n",
      "5\n"
     ]
    }
   ],
   "source": [
    "!for x in {1..5}; do echo $x ; done # print numbers from 1 to 5 "
   ]
  },
  {
   "cell_type": "markdown",
   "metadata": {
    "editable": true,
    "slideshow": {
     "slide_type": "slide"
    },
    "tags": []
   },
   "source": [
    "**NOTE:** Depending on the host OS, the shell will be different. Our host is running Ubuntu 22.04, a linux distribution:"
   ]
  },
  {
   "cell_type": "code",
   "execution_count": 8,
   "metadata": {
    "editable": true,
    "slideshow": {
     "slide_type": "fragment"
    },
    "tags": []
   },
   "outputs": [
    {
     "name": "stdout",
     "output_type": "stream",
     "text": [
      "PRETTY_NAME=\"Ubuntu 22.04.5 LTS\"\n",
      "NAME=\"Ubuntu\"\n",
      "VERSION_ID=\"22.04\"\n",
      "VERSION=\"22.04.5 LTS (Jammy Jellyfish)\"\n",
      "VERSION_CODENAME=jammy\n",
      "ID=ubuntu\n",
      "ID_LIKE=debian\n",
      "HOME_URL=\"https://www.ubuntu.com/\"\n",
      "SUPPORT_URL=\"https://help.ubuntu.com/\"\n",
      "BUG_REPORT_URL=\"https://bugs.launchpad.net/ubuntu/\"\n",
      "PRIVACY_POLICY_URL=\"https://www.ubuntu.com/legal/terms-and-policies/privacy-policy\"\n",
      "UBUNTU_CODENAME=jammy\n"
     ]
    }
   ],
   "source": [
    "!cat /etc/os-release"
   ]
  },
  {
   "cell_type": "markdown",
   "metadata": {
    "editable": true,
    "slideshow": {
     "slide_type": "slide"
    },
    "tags": []
   },
   "source": [
    "#### Capturing shell output into a Python Variable\n",
    "\n",
    "You can assign the standard output of a shell command to a Python variable using the `variable = !command` syntax:"
   ]
  },
  {
   "cell_type": "code",
   "execution_count": null,
   "metadata": {
    "editable": true,
    "scrolled": true,
    "slideshow": {
     "slide_type": "fragment"
    },
    "tags": []
   },
   "outputs": [],
   "source": [
    "files = !ls\n",
    "print(type(files))"
   ]
  },
  {
   "cell_type": "code",
   "execution_count": null,
   "metadata": {
    "editable": true,
    "scrolled": true,
    "slideshow": {
     "slide_type": "fragment"
    },
    "tags": []
   },
   "outputs": [],
   "source": [
    "import IPython \n",
    "help(IPython.utils.text.SList)"
   ]
  },
  {
   "cell_type": "code",
   "execution_count": null,
   "metadata": {
    "editable": true,
    "scrolled": true,
    "slideshow": {
     "slide_type": "slide"
    },
    "tags": []
   },
   "outputs": [],
   "source": [
    "files = !ls\n",
    "for x in files :\n",
    "    print(type(x),x)"
   ]
  },
  {
   "cell_type": "code",
   "execution_count": null,
   "metadata": {
    "editable": true,
    "scrolled": true,
    "slideshow": {
     "slide_type": "fragment"
    },
    "tags": []
   },
   "outputs": [],
   "source": [
    "x = !echo \"hello world\"\n",
    "print(type(x),x)"
   ]
  },
  {
   "cell_type": "markdown",
   "metadata": {
    "editable": true,
    "slideshow": {
     "slide_type": "slide"
    },
    "tags": []
   },
   "source": [
    "#### Using Python Variables in Shell Commands\n",
    "\n",
    "You can pass Python variables into your shell commands by enclosing the variable name in curly braces `{}` :"
   ]
  },
  {
   "cell_type": "code",
   "execution_count": 62,
   "metadata": {
    "editable": true,
    "slideshow": {
     "slide_type": "fragment"
    },
    "tags": []
   },
   "outputs": [
    {
     "name": "stdout",
     "output_type": "stream",
     "text": [
      "Unix_history-simple.svg\n"
     ]
    }
   ],
   "source": [
    "dirname = \"img\"\n",
    "!ls {dirname}"
   ]
  },
  {
   "cell_type": "markdown",
   "metadata": {
    "editable": true,
    "slideshow": {
     "slide_type": "slide"
    },
    "tags": []
   },
   "source": [
    "### Using Cell Magics (`%%bash`, `%%sh`, `%%script`)\n",
    "\n",
    "With Cell Magics, you can run multiple lines of shell script within a single cell:"
   ]
  },
  {
   "cell_type": "code",
   "execution_count": 74,
   "metadata": {
    "editable": true,
    "slideshow": {
     "slide_type": "slide"
    },
    "tags": []
   },
   "outputs": [
    {
     "name": "stdout",
     "output_type": "stream",
     "text": [
      "STARTING THE SCRIPT (dir: /home/jupyter-mpenagaricano/Programming-for-AI)\n",
      "  0_Index.ipynb: regular file\n",
      "  1b_unix_shell.ipynb: regular file\n",
      "  img: directory\n",
      "  README.md: regular file\n",
      "  /dev/null: NOT REGULAR file\n",
      "SCRIPT FINISHED!!\n"
     ]
    }
   ],
   "source": [
    "%%bash\n",
    "echo \"STARTING THE SCRIPT (dir: $(pwd))\"\n",
    "for f in * /dev/null ; do\n",
    "    if [ -d ${f} ] ; then\n",
    "        echo \"  ${f}: directory\"\n",
    "    elif [ -f ${f} ] ; then\n",
    "        echo \"  ${f}: regular file\"\n",
    "    else\n",
    "        echo \"  ${f}: not regular file\"\n",
    "    fi\n",
    "done\n",
    "echo \"SCRIPT FINISHED!!\""
   ]
  },
  {
   "cell_type": "markdown",
   "metadata": {
    "editable": true,
    "slideshow": {
     "slide_type": "slide"
    },
    "tags": []
   },
   "source": [
    "#### `%%sh` vs `%%bash`\n",
    "\n",
    "* `sh` (Bourne Shell): Developed at Bell Labs in the late 1970s. It was the original standard Unix shell.\n",
    "* `bash` (Bourne-Again Shell): Created for the GNU Project in the late 1980s as a free software replacement and enhancement for `sh`.\n",
    "   * Includes almost all features of `sh` but adds many modern conveniences:\n",
    "   * Command History, Tab Completion, Arrays, Brace Expansion, Extended Globbing, Ritcher Arithmetic, Process Substitution..."
   ]
  },
  {
   "cell_type": "markdown",
   "metadata": {
    "editable": true,
    "slideshow": {
     "slide_type": "slide"
    },
    "tags": []
   },
   "source": [
    "#### Using `%%script <interpreter>`\n",
    "\n",
    "You can run the cell content with a specific interpreter (e.g., perl, tcl, java...)."
   ]
  },
  {
   "cell_type": "code",
   "execution_count": 42,
   "metadata": {
    "editable": true,
    "slideshow": {
     "slide_type": "fragment"
    },
    "tags": []
   },
   "outputs": [
    {
     "name": "stdout",
     "output_type": "stream",
     "text": [
      "Hello World!!\n"
     ]
    }
   ],
   "source": [
    "%%script perl\n",
    "print(\"Hello World!!\\n\");"
   ]
  },
  {
   "cell_type": "code",
   "execution_count": 43,
   "metadata": {
    "editable": true,
    "slideshow": {
     "slide_type": "fragment"
    },
    "tags": []
   },
   "outputs": [
    {
     "name": "stdout",
     "output_type": "stream",
     "text": [
      "Hello World!!\n"
     ]
    }
   ],
   "source": [
    "%%script tclsh\n",
    "puts \"Hello World!!\""
   ]
  },
  {
   "cell_type": "code",
   "execution_count": 44,
   "metadata": {
    "editable": true,
    "slideshow": {
     "slide_type": "fragment"
    },
    "tags": []
   },
   "outputs": [
    {
     "name": "stdout",
     "output_type": "stream",
     "text": [
      "Couldn't find program: 'javash'\n"
     ]
    }
   ],
   "source": [
    "%%script javash\n",
    "System.out.println(\"Hello World!!\")"
   ]
  },
  {
   "cell_type": "markdown",
   "metadata": {
    "editable": true,
    "slideshow": {
     "slide_type": "slide"
    },
    "tags": []
   },
   "source": [
    "### Using Python's `subprocess` Module\n",
    "\n",
    "Python's built-in `subprocess` module allows more fine-grained control, error handling, capturing stderr separately, or handling complex interactions. This is the standard Python way to run external commands from Python scripts."
   ]
  },
  {
   "cell_type": "code",
   "execution_count": 69,
   "metadata": {
    "editable": true,
    "slideshow": {
     "slide_type": "fragment"
    },
    "tags": []
   },
   "outputs": [
    {
     "name": "stdout",
     "output_type": "stream",
     "text": [
      "Return Code: 0\n",
      "Stdout:\n",
      "  Unix_history-simple.svg\n",
      "\n",
      "Stderr:\n",
      "  \n"
     ]
    }
   ],
   "source": [
    "import subprocess\n",
    "\n",
    "# Run a command and capture output.\n",
    "#  capture_output=True captures stdout and stderr\n",
    "#  check=True raises error if command fails\n",
    "#  text=true decodes stdin, stdout and stderr using the given/default encoding\n",
    "result = subprocess.run(['ls','img'], capture_output=True, text=True, check=True) \n",
    "\n",
    "print(\"Return Code:\", result.returncode)\n",
    "print(\"Stdout:\")\n",
    "print(\" \",result.stdout)\n",
    "print(\"Stderr:\")\n",
    "print(\" \",result.stderr)"
   ]
  },
  {
   "cell_type": "markdown",
   "metadata": {
    "editable": true,
    "slideshow": {
     "slide_type": "slide"
    },
    "tags": []
   },
   "source": [
    "## Unix-like terminal commands\n",
    "\n",
    "1. Getting Help\n",
    "1. Navigation & Directory Listing\n",
    "1. File & Directory Manipulation\n",
    "1. Viewing File Contents\n",
    "1. Searching, filtering and sorting\n",
    "1. System Information & Monitoring\n",
    "1. User & Permissions\n",
    "1. Networking\n",
    "1. Process Management\n",
    "1. Archiving & Compressing"
   ]
  },
  {
   "cell_type": "markdown",
   "metadata": {
    "editable": true,
    "slideshow": {
     "slide_type": "slide"
    },
    "tags": []
   },
   "source": [
    "### Unix commands - Getting Help"
   ]
  },
  {
   "cell_type": "markdown",
   "metadata": {
    "editable": true,
    "slideshow": {
     "slide_type": "slide"
    },
    "tags": []
   },
   "source": [
    "#### `man` - an interface to the system reference manuals\n",
    "\n",
    "* `man command_name` : Display the manual page for a program, utility or function. Press `q` to quit."
   ]
  },
  {
   "cell_type": "code",
   "execution_count": 96,
   "metadata": {
    "editable": true,
    "slideshow": {
     "slide_type": "slide"
    },
    "tags": []
   },
   "outputs": [],
   "source": [
    "#!man man"
   ]
  },
  {
   "cell_type": "code",
   "execution_count": 99,
   "metadata": {
    "editable": true,
    "slideshow": {
     "slide_type": "slide"
    },
    "tags": []
   },
   "outputs": [],
   "source": [
    "#!man 1 printf"
   ]
  },
  {
   "cell_type": "code",
   "execution_count": 97,
   "metadata": {
    "editable": true,
    "slideshow": {
     "slide_type": "slide"
    },
    "tags": []
   },
   "outputs": [],
   "source": [
    "#!man 3 printf"
   ]
  },
  {
   "cell_type": "markdown",
   "metadata": {
    "editable": true,
    "slideshow": {
     "slide_type": "slide"
    },
    "tags": []
   },
   "source": [
    "#### `command_name --help` - try to get help from a command\n",
    "\n",
    "Many commands has the option `--help` or `-h`"
   ]
  },
  {
   "cell_type": "code",
   "execution_count": 13,
   "metadata": {
    "editable": true,
    "slideshow": {
     "slide_type": "fragment"
    },
    "tags": []
   },
   "outputs": [],
   "source": [
    "#!man --help"
   ]
  },
  {
   "cell_type": "markdown",
   "metadata": {
    "editable": true,
    "slideshow": {
     "slide_type": "slide"
    },
    "tags": []
   },
   "source": [
    "### Unix commands - Navigation & Directory Listing"
   ]
  },
  {
   "cell_type": "markdown",
   "metadata": {
    "editable": true,
    "slideshow": {
     "slide_type": "slide"
    },
    "tags": []
   },
   "source": [
    "#### `ls` - list directory contents\n",
    "\n",
    "* `ls` : List current directory contents.\n",
    "* `ls img` : List the contents of the directory `img`.\n",
    "* `ls -l` : List in long format (permissions, owner, size, date).\n",
    "* `ls -a` : List all files, including hidden ones (starting with `.`)."
   ]
  },
  {
   "cell_type": "code",
   "execution_count": 142,
   "metadata": {
    "editable": true,
    "slideshow": {
     "slide_type": ""
    },
    "tags": []
   },
   "outputs": [
    {
     "name": "stdout",
     "output_type": "stream",
     "text": [
      "img/Unix_history-simple.svg\n"
     ]
    }
   ],
   "source": [
    "!ls img/*.svg\n",
    "#!ls -l ../Programming-for-AI/img/*.svg\n",
    "#!ls -l /home/jupyter-mpenagaricano/Programming-for-AI/img/*.svg"
   ]
  },
  {
   "cell_type": "markdown",
   "metadata": {
    "editable": true,
    "slideshow": {
     "slide_type": "slide"
    },
    "tags": []
   },
   "source": [
    "Bash carries out filename expansion (a process known as **globbing**) on unquoted command-line arguments:\n",
    "\n",
    "* `*` &rarr; any character sequence (could be empty)\n",
    "* `?` &rarr; any single character\n",
    "* `^` &rarr; negating the sense of a match\n",
    "* `[xy]` &rarr; single character from range `x` to `y`\n",
    "* `{pattern1,pattern2,pattern3}` &rarr; any of the three patterns"
   ]
  },
  {
   "cell_type": "markdown",
   "metadata": {
    "editable": true,
    "slideshow": {
     "slide_type": ""
    },
    "tags": []
   },
   "source": [
    "For example:\n",
    "* `ae*` : any filename starting with `ae`\n",
    "* `[ab]*` : any filename starting with `a` or `b`\n",
    "* `[a-h]*` : any filename starting with letters from `a` to `h`\n",
    "* `[^ab]*` : any filename NOT starting with `a` or `b`\n",
    "* `[^A-Z]?` : any filename of length two, not starting with uppercase"
   ]
  },
  {
   "cell_type": "code",
   "execution_count": 163,
   "metadata": {
    "editable": true,
    "slideshow": {
     "slide_type": ""
    },
    "tags": []
   },
   "outputs": [
    {
     "name": "stdout",
     "output_type": "stream",
     "text": [
      "img/Unix_history-simple.svg\n"
     ]
    }
   ],
   "source": [
    "%%bash\n",
    "ls img/[^a-z]*"
   ]
  },
  {
   "cell_type": "markdown",
   "metadata": {
    "editable": true,
    "slideshow": {
     "slide_type": "slide"
    },
    "tags": []
   },
   "source": [
    "#### `pwd` - print name of current/working directory"
   ]
  },
  {
   "cell_type": "markdown",
   "metadata": {
    "editable": true,
    "slideshow": {
     "slide_type": "slide"
    },
    "tags": []
   },
   "source": [
    "#### `cd` - change directory\n",
    "\n",
    "* `cd dirname` : Change to the directory `dirname`.\n",
    "* `cd ..` : Go up one directory level.\n",
    "* `cd ~` or `cd` : Go to your home directory.\n",
    "* `cd -` : Go to the previous directory you were in."
   ]
  },
  {
   "cell_type": "code",
   "execution_count": 7,
   "metadata": {},
   "outputs": [
    {
     "name": "stdout",
     "output_type": "stream",
     "text": [
      "/home/jupyter-mpenagaricano/Programming-for-AI\n",
      "/tmp\n",
      "/home/jupyter-mpenagaricano\n"
     ]
    }
   ],
   "source": [
    "%%bash\n",
    "pwd\n",
    "cd /tmp\n",
    "pwd\n",
    "cd\n",
    "pwd "
   ]
  },
  {
   "cell_type": "markdown",
   "metadata": {
    "editable": true,
    "slideshow": {
     "slide_type": "slide"
    },
    "tags": []
   },
   "source": [
    "### Unix commands - File & Directory Manipulation"
   ]
  },
  {
   "cell_type": "markdown",
   "metadata": {
    "editable": true,
    "slideshow": {
     "slide_type": "slide"
    },
    "tags": []
   },
   "source": [
    "#### `cp` - copy files and directories\n",
    "\n",
    "* `cp src_file dst_file` : Copy file.\n",
    "* `cp src_file dst_dir/` : Copy file to destination dir.\n",
    "* `cp -r src_dir dst_dir/` : Recursively copy source dir to destination dir."
   ]
  },
  {
   "cell_type": "markdown",
   "metadata": {
    "editable": true,
    "slideshow": {
     "slide_type": "fragment"
    },
    "tags": []
   },
   "source": [
    "There are many options to control metadata and symbolic links"
   ]
  },
  {
   "cell_type": "code",
   "execution_count": 9,
   "metadata": {
    "editable": true,
    "slideshow": {
     "slide_type": ""
    },
    "tags": []
   },
   "outputs": [],
   "source": [
    "#!man cp"
   ]
  },
  {
   "cell_type": "markdown",
   "metadata": {
    "editable": true,
    "slideshow": {
     "slide_type": "slide"
    },
    "tags": []
   },
   "source": [
    "#### `mv` - move (rename) files\n",
    "\n",
    "* `mv old_filename new_filename` : Rename file.\n",
    "* `mv src_file dst_dir/` : Move file."
   ]
  },
  {
   "cell_type": "markdown",
   "metadata": {
    "editable": true,
    "slideshow": {
     "slide_type": "fragment"
    },
    "tags": []
   },
   "source": [
    "#### `rm` - remove files or directories\n",
    "\n",
    "* `rm filename` : Remove file.\n",
    "* `rm -r dirname` : Recursively remove a directory (**USE WITH CAUTION!**)."
   ]
  },
  {
   "cell_type": "markdown",
   "metadata": {
    "editable": true,
    "slideshow": {
     "slide_type": "fragment"
    },
    "tags": []
   },
   "source": [
    "#### `mkdir` - make directories"
   ]
  },
  {
   "cell_type": "markdown",
   "metadata": {
    "editable": true,
    "slideshow": {
     "slide_type": "fragment"
    },
    "tags": []
   },
   "source": [
    "#### `rmdir` - remove empty directories"
   ]
  },
  {
   "cell_type": "markdown",
   "metadata": {
    "editable": true,
    "slideshow": {
     "slide_type": "slide"
    },
    "tags": []
   },
   "source": [
    "### Unix commands - Viewing File Contents"
   ]
  },
  {
   "cell_type": "markdown",
   "metadata": {
    "editable": true,
    "slideshow": {
     "slide_type": "slide"
    },
    "tags": []
   },
   "source": [
    "#### `cat` - concatenate files and print on the standard output"
   ]
  },
  {
   "cell_type": "markdown",
   "metadata": {
    "editable": true,
    "slideshow": {
     "slide_type": "fragment"
    },
    "tags": []
   },
   "source": [
    "#### `more` & `less` - View file content page by page (scrolling & searching)"
   ]
  },
  {
   "cell_type": "markdown",
   "metadata": {
    "editable": true,
    "slideshow": {
     "slide_type": "fragment"
    },
    "tags": []
   },
   "source": [
    "#### `head` - output the first part of files\n",
    "\n",
    "* `head filename` : Output the first 10 lines of the file.\n",
    "* `head -n 20 filename` : Output the first 20 lines of the file.\n",
    "* `head -n -20 filename` : Output all the lines of the file except the last 20.\n",
    "* `head -c 123 filename` : Output the first 123 bytes (characters?) of the file."
   ]
  },
  {
   "cell_type": "markdown",
   "metadata": {
    "editable": true,
    "slideshow": {
     "slide_type": "fragment"
    },
    "tags": []
   },
   "source": [
    "#### `tail` - output the last part of files"
   ]
  },
  {
   "cell_type": "markdown",
   "metadata": {
    "editable": true,
    "slideshow": {
     "slide_type": "slide"
    },
    "tags": []
   },
   "source": [
    "### Unix commands - Searching, filtering and sorting"
   ]
  },
  {
   "cell_type": "markdown",
   "metadata": {
    "editable": true,
    "slideshow": {
     "slide_type": "fragment"
    },
    "tags": []
   },
   "source": [
    "#### `grep pattern filename` - print lines that match patterns"
   ]
  },
  {
   "cell_type": "markdown",
   "metadata": {
    "editable": true,
    "slideshow": {
     "slide_type": "fragment"
    },
    "tags": []
   },
   "source": [
    "#### `find` - search recursively for files and directories (based on name, size, ...)\n",
    "\n",
    "* `find . -name \"*.txt\"` :  Find files ending in `.txt` within the current directory (recursively)\n",
    "* `find /home/user -type d -name \"my_project\"` : Find a directory named `my_project` within `/home/user`"
   ]
  },
  {
   "cell_type": "markdown",
   "metadata": {
    "editable": true,
    "slideshow": {
     "slide_type": "fragment"
    },
    "tags": []
   },
   "source": [
    "#### `sort` - sort lines of text files"
   ]
  },
  {
   "cell_type": "markdown",
   "metadata": {
    "editable": true,
    "slideshow": {
     "slide_type": "fragment"
    },
    "tags": []
   },
   "source": [
    "#### `uniq` - report or omit repeated lines"
   ]
  },
  {
   "cell_type": "markdown",
   "metadata": {
    "editable": true,
    "slideshow": {
     "slide_type": "slide"
    },
    "tags": []
   },
   "source": [
    "### Unix commands - System Information & Monitoring"
   ]
  },
  {
   "cell_type": "markdown",
   "metadata": {
    "editable": true,
    "slideshow": {
     "slide_type": "slide"
    },
    "tags": []
   },
   "source": [
    "#### `uname` - print system information"
   ]
  },
  {
   "cell_type": "markdown",
   "metadata": {
    "editable": true,
    "slideshow": {
     "slide_type": "fragment"
    },
    "tags": []
   },
   "source": [
    "#### `df` - report file system disk space usage"
   ]
  },
  {
   "cell_type": "markdown",
   "metadata": {
    "editable": true,
    "slideshow": {
     "slide_type": "fragment"
    },
    "tags": []
   },
   "source": [
    "#### `du` - estimate file space usage"
   ]
  },
  {
   "cell_type": "markdown",
   "metadata": {
    "editable": true,
    "slideshow": {
     "slide_type": "fragment"
    },
    "tags": []
   },
   "source": [
    "#### `ps ` - snapshot of running processes"
   ]
  },
  {
   "cell_type": "markdown",
   "metadata": {
    "editable": true,
    "slideshow": {
     "slide_type": "fragment"
    },
    "tags": []
   },
   "source": [
    "#### `top ` - display running processes (pid, user, CPU/memory usage)"
   ]
  },
  {
   "cell_type": "markdown",
   "metadata": {
    "editable": true,
    "slideshow": {
     "slide_type": "slide"
    },
    "tags": []
   },
   "source": [
    "### Unix commands - User & Permissions"
   ]
  },
  {
   "cell_type": "markdown",
   "metadata": {
    "editable": true,
    "slideshow": {
     "slide_type": "slide"
    },
    "tags": []
   },
   "source": [
    "#### `su` - switch user "
   ]
  },
  {
   "cell_type": "markdown",
   "metadata": {
    "editable": true,
    "slideshow": {
     "slide_type": "fragment"
    },
    "tags": []
   },
   "source": [
    "#### `sudo ` - execute a command as another user"
   ]
  },
  {
   "cell_type": "markdown",
   "metadata": {
    "editable": true,
    "slideshow": {
     "slide_type": "fragment"
    },
    "tags": []
   },
   "source": [
    "#### `whoami ` - show the current effective username."
   ]
  },
  {
   "cell_type": "markdown",
   "metadata": {
    "editable": true,
    "slideshow": {
     "slide_type": "fragment"
    },
    "tags": []
   },
   "source": [
    "#### `chmod` - change file mode (permissions - read, write, execute)\n",
    "\n",
    "* `chmod +x script.sh` : Make `script.sh` executable."
   ]
  },
  {
   "cell_type": "markdown",
   "metadata": {
    "editable": true,
    "slideshow": {
     "slide_type": "fragment"
    },
    "tags": []
   },
   "source": [
    "#### `chown` - change file owner and group\n",
    "\n",
    "* `sudo chown user:group filename`"
   ]
  },
  {
   "cell_type": "markdown",
   "metadata": {
    "editable": true,
    "slideshow": {
     "slide_type": "slide"
    },
    "tags": []
   },
   "source": [
    "### Unix commands - Networking"
   ]
  },
  {
   "cell_type": "markdown",
   "metadata": {
    "editable": true,
    "slideshow": {
     "slide_type": "slide"
    },
    "tags": []
   },
   "source": [
    "#### `ping` - check network connectivity to a host "
   ]
  },
  {
   "cell_type": "markdown",
   "metadata": {
    "editable": true,
    "slideshow": {
     "slide_type": "fragment"
    },
    "tags": []
   },
   "source": [
    "#### `ssh username@host` - connect to a remote machine via Secure Shell"
   ]
  },
  {
   "cell_type": "markdown",
   "metadata": {
    "editable": true,
    "slideshow": {
     "slide_type": "fragment"
    },
    "tags": []
   },
   "source": [
    "#### `scp` - copy files between hosts over SSH"
   ]
  },
  {
   "cell_type": "markdown",
   "metadata": {
    "editable": true,
    "slideshow": {
     "slide_type": "fragment"
    },
    "tags": []
   },
   "source": [
    "#### `wget url` or `curl -O url` - download files from the web"
   ]
  },
  {
   "cell_type": "code",
   "execution_count": 52,
   "metadata": {
    "editable": true,
    "slideshow": {
     "slide_type": ""
    },
    "tags": []
   },
   "outputs": [
    {
     "name": "stdout",
     "output_type": "stream",
     "text": [
      "  % Total    % Received % Xferd  Average Speed   Time    Time     Time  Current\n",
      "                                 Dload  Upload   Total   Spent    Left  Speed\n",
      "100  136k  100  136k    0     0  1387k      0 --:--:-- --:--:-- --:--:-- 1390k\n"
     ]
    }
   ],
   "source": [
    "url = \"https://raw.githubusercontent.com/mpenagar/Programming-for-AI/refs/heads/main/img/Unix_history-simple.svg\"\n",
    "!curl -O {url}"
   ]
  },
  {
   "cell_type": "markdown",
   "metadata": {
    "editable": true,
    "slideshow": {
     "slide_type": "slide"
    },
    "tags": []
   },
   "source": [
    "### Unix commands - Process Management"
   ]
  },
  {
   "cell_type": "markdown",
   "metadata": {
    "editable": true,
    "jp-MarkdownHeadingCollapsed": true,
    "slideshow": {
     "slide_type": "slide"
    },
    "tags": []
   },
   "source": [
    "#### `kill` - send a signal to a process\n",
    "* `kill pid` or `kill -15 pid` : Send SIGTERM signal (*graceful* termination)\n",
    "* `kill -9 pid` : Send SIGKILL signal (*ungraceful* termination)"
   ]
  },
  {
   "cell_type": "markdown",
   "metadata": {
    "editable": true,
    "slideshow": {
     "slide_type": "fragment"
    },
    "tags": []
   },
   "source": [
    "#### `killall` - kill processes by name\n",
    "\n",
    "* `sudo killall -9 -u bob` : Terminate all processes owned by bob "
   ]
  },
  {
   "cell_type": "markdown",
   "metadata": {
    "editable": true,
    "slideshow": {
     "slide_type": "slide"
    },
    "tags": []
   },
   "source": [
    "### Unix commands - Archiving & Compressing"
   ]
  },
  {
   "cell_type": "markdown",
   "metadata": {
    "editable": true,
    "jp-MarkdownHeadingCollapsed": true,
    "slideshow": {
     "slide_type": "slide"
    },
    "tags": []
   },
   "source": [
    "#### `tar` - an archiving utility (Create or extract archive files)\n",
    "* `tar -cf archive.tar dirname` : Create an uncompressed archive from directory.\n",
    "* `tar -xf archive.tar` : Extract an uncompressed archive in the current directory.\n",
    "* `tar -czvf archive.tgz dirname` : Create a (GNU) zip archive from directory.\n",
    "* `tar -xzf archive.tgz` : Extract a (GNU) zip archive in the current directory."
   ]
  },
  {
   "cell_type": "markdown",
   "metadata": {
    "editable": true,
    "slideshow": {
     "slide_type": "fragment"
    },
    "tags": []
   },
   "source": [
    "#### `gzip` , `gunzip` and `zcat` - compress or expand files\n",
    "\n",
    "* `gzip *` : Compress all files in current directory (rename to *.gz)\n",
    "* `gunzip *.gz` : Uncompress all compressed files in current directory\n",
    "* `zcat *.gz`: Print to the standard output the uncompressed content of files"
   ]
  },
  {
   "cell_type": "code",
   "execution_count": 61,
   "metadata": {},
   "outputs": [],
   "source": [
    "#!man killall"
   ]
  },
  {
   "cell_type": "markdown",
   "metadata": {
    "editable": true,
    "slideshow": {
     "slide_type": "slide"
    },
    "tags": []
   },
   "source": [
    "## Redirection and Pipes"
   ]
  },
  {
   "cell_type": "markdown",
   "metadata": {
    "editable": true,
    "slideshow": {
     "slide_type": "fragment"
    },
    "tags": []
   },
   "source": [
    "Every command has three standard communication channels associated with it:"
   ]
  },
  {
   "cell_type": "markdown",
   "metadata": {
    "editable": true,
    "slideshow": {
     "slide_type": "fragment"
    },
    "tags": []
   },
   "source": [
    "* **Standard Input** (stdin): This is where the command reads its input from. By default, it's connected to the keyboard."
   ]
  },
  {
   "cell_type": "markdown",
   "metadata": {
    "editable": true,
    "slideshow": {
     "slide_type": "fragment"
    },
    "tags": []
   },
   "source": [
    "* **Standard Output** (stdout): This is where the command writes its normal output. By default, it's connected to the terminal screen."
   ]
  },
  {
   "cell_type": "markdown",
   "metadata": {
    "editable": true,
    "slideshow": {
     "slide_type": "fragment"
    },
    "tags": []
   },
   "source": [
    "* **Standard Error** (stderr): This is where the command writes its error messages. By default, it's also connected to the terminal screen (but it's a separate stream from stdout)."
   ]
  },
  {
   "cell_type": "markdown",
   "metadata": {
    "editable": true,
    "slideshow": {
     "slide_type": "fragment"
    },
    "tags": []
   },
   "source": [
    "Redirection is about **changing where these streams point to or from**, typically involving files (which could refer to devices)."
   ]
  },
  {
   "cell_type": "markdown",
   "metadata": {
    "editable": true,
    "slideshow": {
     "slide_type": "slide"
    },
    "tags": []
   },
   "source": [
    "### Output Redirection (`>` and `>>`)"
   ]
  },
  {
   "cell_type": "markdown",
   "metadata": {
    "editable": true,
    "slideshow": {
     "slide_type": "fragment"
    },
    "tags": []
   },
   "source": [
    "* `command > filename` : Redirects stdout of `command` to `filename`.\n",
    "   * <u>Overwrites</u>: If `filename` exists, its contents are deleted and replaced.\n",
    "   * <u>Creates</u>: If `filename` does not exist, it is created.\n",
    "   * `cat file1 file2 > both_files`"
   ]
  },
  {
   "cell_type": "markdown",
   "metadata": {
    "editable": true,
    "slideshow": {
     "slide_type": "fragment"
    },
    "tags": []
   },
   "source": [
    "* `command >> filename` : Redirects stdout of `command` to `filename`.\n",
    "   * <u>Appends</u>: If `filename` exists, the output is added to the end of the file.\n",
    "   * <u>Creates</u>: If `filename` does not exist, it is created.\n",
    "   * `grep -B 1 -A 2 \"^ERROR:\" today_log >> all_errors`"
   ]
  },
  {
   "cell_type": "markdown",
   "metadata": {
    "editable": true,
    "slideshow": {
     "slide_type": "slide"
    },
    "tags": []
   },
   "source": [
    "### Input Redirection (`<`)"
   ]
  },
  {
   "cell_type": "markdown",
   "metadata": {
    "editable": true,
    "slideshow": {
     "slide_type": "fragment"
    },
    "tags": []
   },
   "source": [
    "* `command < filename` : Redirects stdin of `command` to come from `filename`.\n",
    "   * `grep pattern < /dev/some_device`"
   ]
  },
  {
   "cell_type": "markdown",
   "metadata": {
    "editable": true,
    "slideshow": {
     "slide_type": "fragment"
    },
    "tags": []
   },
   "source": [
    "### Error Redirection (`2>` ansd `2>>`)\n",
    "\n",
    "* `command 2> error_log.txt`: Redirects stderr to `error_log.txt`. Overwrites the file.\n",
    "* `command 2>> error_log.txt`: Redirects stderr to `error_log.txt`. Appends to the file.\n",
    "   * `find / -name secret.txt 2> errors.log` : Finds a file by name, putting permission errors etc. into `errors.log`"
   ]
  },
  {
   "cell_type": "markdown",
   "metadata": {
    "editable": true,
    "slideshow": {
     "slide_type": "fragment"
    },
    "tags": []
   },
   "source": [
    "### Redirecting Both stdout and stderr\n",
    "\n",
    "* `command > output.log 2>&1`: Redirects stdout to `output.log`, then redirects stderr (`2>`) to the current location of stdout (`&1`). <u>Order matters.</u>\n",
    "* `command &> output.log` or `command >& output.log` : Bash shortcut to redirect both stdout and stderr. Overwrites.\n",
    "* `command &>> output.log` : Bash shortcut to append both stdout and stderr."
   ]
  }
 ],
 "metadata": {
  "celltoolbar": "Slideshow",
  "kernelspec": {
   "display_name": "Python 3 (ipykernel)",
   "language": "python",
   "name": "python3"
  },
  "language_info": {
   "codemirror_mode": {
    "name": "ipython",
    "version": 3
   },
   "file_extension": ".py",
   "mimetype": "text/x-python",
   "name": "python",
   "nbconvert_exporter": "python",
   "pygments_lexer": "ipython3",
   "version": "3.12.6"
  }
 },
 "nbformat": 4,
 "nbformat_minor": 4
}
