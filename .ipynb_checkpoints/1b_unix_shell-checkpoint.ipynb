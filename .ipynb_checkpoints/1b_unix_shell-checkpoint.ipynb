{
 "cells": [
  {
   "cell_type": "markdown",
   "metadata": {
    "editable": true,
    "slideshow": {
     "slide_type": "slide"
    },
    "tags": []
   },
   "source": [
    "# Introduction to Unix/Linux shell\n",
    "\n"
   ]
  },
  {
   "cell_type": "markdown",
   "metadata": {
    "@deathbeds/jupyterlab-fonts": {
     "styles": {
      "": {
       "body[data-jp-deck-mode='presenting'] &": {
        "z-index": null,
        "zoom": "93%"
       }
      }
     }
    },
    "editable": true,
    "slideshow": {
     "slide_type": "slide"
    },
    "tags": []
   },
   "source": [
    "## What is (was) Unix\n",
    "\n",
    "* Multi-user, multi-tasking Operating System\n",
    "* Developed in the late 1960s at AT&T's Bell Labs\n",
    "* Family or lineage of operating systems"
   ]
  },
  {
   "cell_type": "markdown",
   "metadata": {
    "slideshow": {
     "slide_type": "slide"
    }
   },
   "source": [
    "<img src=\"img/Unix_history-simple.svg\" alt=\"Unix history\" style=\"width: 100%;\"/>"
   ]
  },
  {
   "cell_type": "markdown",
   "metadata": {
    "editable": true,
    "slideshow": {
     "slide_type": "slide"
    },
    "tags": []
   },
   "source": [
    "## Unix - key aspects"
   ]
  },
  {
   "cell_type": "markdown",
   "metadata": {
    "editable": true,
    "slideshow": {
     "slide_type": "fragment"
    },
    "tags": []
   },
   "source": [
    "* Multi-User & Multi-Tasking"
   ]
  },
  {
   "cell_type": "markdown",
   "metadata": {
    "editable": true,
    "slideshow": {
     "slide_type": "fragment"
    },
    "tags": []
   },
   "source": [
    "* Hierarchical File System (root directory and subdirectories)"
   ]
  },
  {
   "cell_type": "markdown",
   "metadata": {
    "editable": true,
    "slideshow": {
     "slide_type": "fragment"
    },
    "tags": []
   },
   "source": [
    "* \"Everything is a File\" Philosophy (system resources & hardware devices)"
   ]
  },
  {
   "cell_type": "markdown",
   "metadata": {
    "editable": true,
    "slideshow": {
     "slide_type": "fragment"
    },
    "tags": []
   },
   "source": [
    "* Command-Line Interface (CLI): **shell** interpreter"
   ]
  },
  {
   "cell_type": "markdown",
   "metadata": {
    "editable": true,
    "slideshow": {
     "slide_type": "fragment"
    },
    "tags": []
   },
   "source": [
    "* Pipes and Redirection (chain single-purpose commands & resources/devices)"
   ]
  },
  {
   "cell_type": "markdown",
   "metadata": {
    "editable": true,
    "slideshow": {
     "slide_type": "slide"
    },
    "tags": []
   },
   "source": [
    "## Jupyter & Unix shell\n",
    "\n",
    "There are several ways to run shell (like bash, cmd, etc.) commands directly within a Jupyter Notebook:\n",
    "\n",
    "* Using the Exclamation Mark (`!`)\n",
    "* Using Cell Magics (`%%bash`, `%%sh`, `%%script`)\n",
    "* Using Python's `subprocess` Module"
   ]
  },
  {
   "cell_type": "markdown",
   "metadata": {
    "editable": true,
    "slideshow": {
     "slide_type": "slide"
    },
    "tags": []
   },
   "source": [
    "### Using the Exclamation Mark (`!`)\n",
    "\n",
    "Inside a code cell, prefix the shell command you want to run with an exclamation mark:"
   ]
  },
  {
   "cell_type": "code",
   "execution_count": 1,
   "metadata": {
    "editable": true,
    "slideshow": {
     "slide_type": "fragment"
    },
    "tags": []
   },
   "outputs": [
    {
     "name": "stdout",
     "output_type": "stream",
     "text": [
      "/home/jupyter-mpenagaricano/Programming-for-AI\n"
     ]
    }
   ],
   "source": [
    "!pwd"
   ]
  },
  {
   "cell_type": "code",
   "execution_count": 3,
   "metadata": {
    "editable": true,
    "slideshow": {
     "slide_type": "fragment"
    },
    "tags": []
   },
   "outputs": [
    {
     "name": "stdout",
     "output_type": "stream",
     "text": [
      "0_Index.ipynb  1b_unix_shell.ipynb  img  README.md\n"
     ]
    }
   ],
   "source": [
    "!ls"
   ]
  },
  {
   "cell_type": "code",
   "execution_count": 5,
   "metadata": {
    "editable": true,
    "scrolled": true,
    "slideshow": {
     "slide_type": "fragment"
    },
    "tags": []
   },
   "outputs": [
    {
     "name": "stdout",
     "output_type": "stream",
     "text": [
      "1\n",
      "2\n",
      "3\n",
      "4\n",
      "5\n"
     ]
    }
   ],
   "source": [
    "!for x in {1..5}; do echo $x ; done"
   ]
  },
  {
   "cell_type": "markdown",
   "metadata": {
    "editable": true,
    "slideshow": {
     "slide_type": "fragment"
    },
    "tags": []
   },
   "source": [
    "**NOTE:** Depending on the host OS, the shell will be different"
   ]
  },
  {
   "cell_type": "markdown",
   "metadata": {
    "editable": true,
    "slideshow": {
     "slide_type": "slide"
    },
    "tags": []
   },
   "source": [
    "#### Capturing shell output into a Python Variable\n",
    "\n",
    "You can assign the standard output of a shell command to a Python variable using the `variable = !command` syntax:"
   ]
  },
  {
   "cell_type": "code",
   "execution_count": 14,
   "metadata": {
    "editable": true,
    "scrolled": true,
    "slideshow": {
     "slide_type": "fragment"
    },
    "tags": []
   },
   "outputs": [
    {
     "name": "stdout",
     "output_type": "stream",
     "text": [
      "<class 'IPython.utils.text.SList'>\n"
     ]
    }
   ],
   "source": [
    "files = !ls\n",
    "print(type(files))"
   ]
  },
  {
   "cell_type": "code",
   "execution_count": 15,
   "metadata": {
    "editable": true,
    "scrolled": true,
    "slideshow": {
     "slide_type": "fragment"
    },
    "tags": []
   },
   "outputs": [
    {
     "name": "stdout",
     "output_type": "stream",
     "text": [
      "Help on class SList in module IPython.utils.text:\n",
      "\n",
      "class SList(builtins.list)\n",
      " |  SList(iterable=(), /)\n",
      " |\n",
      " |  List derivative with a special access attributes.\n",
      " |\n",
      " |  These are normal lists, but with the special attributes:\n",
      " |\n",
      " |  * .l (or .list) : value as list (the list itself).\n",
      " |  * .n (or .nlstr): value as a string, joined on newlines.\n",
      " |  * .s (or .spstr): value as a string, joined on spaces.\n",
      " |  * .p (or .paths): list of path objects (requires path.py package)\n",
      " |\n",
      " |  Any values which require transformations are computed only once and\n",
      " |  cached.\n",
      " |\n",
      " |  Method resolution order:\n",
      " |      SList\n",
      " |      builtins.list\n",
      " |      builtins.object\n",
      " |\n",
      " |  Methods defined here:\n",
      " |\n",
      " |  fields(self, *fields: List[str]) -> List[List[str]]\n",
      " |      Collect whitespace-separated fields from string list\n",
      " |\n",
      " |      Allows quick awk-like usage of string lists.\n",
      " |\n",
      " |      Example data (in var a, created by 'a = !ls -l')::\n",
      " |\n",
      " |          -rwxrwxrwx  1 ville None      18 Dec 14  2006 ChangeLog\n",
      " |          drwxrwxrwx+ 6 ville None       0 Oct 24 18:05 IPython\n",
      " |\n",
      " |      * ``a.fields(0)`` is ``['-rwxrwxrwx', 'drwxrwxrwx+']``\n",
      " |      * ``a.fields(1,0)`` is ``['1 -rwxrwxrwx', '6 drwxrwxrwx+']``\n",
      " |        (note the joining by space).\n",
      " |      * ``a.fields(-1)`` is ``['ChangeLog', 'IPython']``\n",
      " |\n",
      " |      IndexErrors are ignored.\n",
      " |\n",
      " |      Without args, fields() just split()'s the strings.\n",
      " |\n",
      " |  get_list(self) -> Self\n",
      " |\n",
      " |  get_nlstr(self) -> str\n",
      " |\n",
      " |  get_paths(self) -> List[pathlib.Path]\n",
      " |\n",
      " |  get_spstr(self) -> str\n",
      " |\n",
      " |  grep(self, pattern: Union[str, Callable[[Any], re.Match[str] | None]], prune: bool = False, field: Optional[int] = None) -> Self\n",
      " |      Return all strings matching 'pattern' (a regex or callable)\n",
      " |\n",
      " |      This is case-insensitive. If prune is true, return all items\n",
      " |      NOT matching the pattern.\n",
      " |\n",
      " |      If field is specified, the match must occur in the specified\n",
      " |      whitespace-separated field.\n",
      " |\n",
      " |      Examples::\n",
      " |\n",
      " |          a.grep( lambda x: x.startswith('C') )\n",
      " |          a.grep('Cha.*log', prune=1)\n",
      " |          a.grep('chm', field=-1)\n",
      " |\n",
      " |  sort(self, field: Optional[List[str]] = None, nums: bool = False) -> Self\n",
      " |      sort by specified fields (see fields())\n",
      " |\n",
      " |      Example::\n",
      " |\n",
      " |          a.sort(1, nums = True)\n",
      " |\n",
      " |      Sorts a by second field, in numerical order (so that 21 > 3)\n",
      " |\n",
      " |  ----------------------------------------------------------------------\n",
      " |  Readonly properties defined here:\n",
      " |\n",
      " |  l\n",
      " |\n",
      " |  list\n",
      " |\n",
      " |  n\n",
      " |\n",
      " |  nlstr\n",
      " |\n",
      " |  p\n",
      " |\n",
      " |  paths\n",
      " |\n",
      " |  s\n",
      " |\n",
      " |  spstr\n",
      " |\n",
      " |  ----------------------------------------------------------------------\n",
      " |  Data descriptors defined here:\n",
      " |\n",
      " |  __dict__\n",
      " |      dictionary for instance variables\n",
      " |\n",
      " |  __weakref__\n",
      " |      list of weak references to the object\n",
      " |\n",
      " |  ----------------------------------------------------------------------\n",
      " |  Data and other attributes defined here:\n",
      " |\n",
      " |  __annotations__ = {'_SList__nlstr': <class 'str'>, '_SList__paths': ty...\n",
      " |\n",
      " |  ----------------------------------------------------------------------\n",
      " |  Methods inherited from builtins.list:\n",
      " |\n",
      " |  __add__(self, value, /)\n",
      " |      Return self+value.\n",
      " |\n",
      " |  __contains__(self, key, /)\n",
      " |      Return bool(key in self).\n",
      " |\n",
      " |  __delitem__(self, key, /)\n",
      " |      Delete self[key].\n",
      " |\n",
      " |  __eq__(self, value, /)\n",
      " |      Return self==value.\n",
      " |\n",
      " |  __ge__(self, value, /)\n",
      " |      Return self>=value.\n",
      " |\n",
      " |  __getattribute__(self, name, /)\n",
      " |      Return getattr(self, name).\n",
      " |\n",
      " |  __getitem__(self, index, /)\n",
      " |      Return self[index].\n",
      " |\n",
      " |  __gt__(self, value, /)\n",
      " |      Return self>value.\n",
      " |\n",
      " |  __iadd__(self, value, /)\n",
      " |      Implement self+=value.\n",
      " |\n",
      " |  __imul__(self, value, /)\n",
      " |      Implement self*=value.\n",
      " |\n",
      " |  __init__(self, /, *args, **kwargs)\n",
      " |      Initialize self.  See help(type(self)) for accurate signature.\n",
      " |\n",
      " |  __iter__(self, /)\n",
      " |      Implement iter(self).\n",
      " |\n",
      " |  __le__(self, value, /)\n",
      " |      Return self<=value.\n",
      " |\n",
      " |  __len__(self, /)\n",
      " |      Return len(self).\n",
      " |\n",
      " |  __lt__(self, value, /)\n",
      " |      Return self<value.\n",
      " |\n",
      " |  __mul__(self, value, /)\n",
      " |      Return self*value.\n",
      " |\n",
      " |  __ne__(self, value, /)\n",
      " |      Return self!=value.\n",
      " |\n",
      " |  __repr__(self, /)\n",
      " |      Return repr(self).\n",
      " |\n",
      " |  __reversed__(self, /)\n",
      " |      Return a reverse iterator over the list.\n",
      " |\n",
      " |  __rmul__(self, value, /)\n",
      " |      Return value*self.\n",
      " |\n",
      " |  __setitem__(self, key, value, /)\n",
      " |      Set self[key] to value.\n",
      " |\n",
      " |  __sizeof__(self, /)\n",
      " |      Return the size of the list in memory, in bytes.\n",
      " |\n",
      " |  append(self, object, /)\n",
      " |      Append object to the end of the list.\n",
      " |\n",
      " |  clear(self, /)\n",
      " |      Remove all items from list.\n",
      " |\n",
      " |  copy(self, /)\n",
      " |      Return a shallow copy of the list.\n",
      " |\n",
      " |  count(self, value, /)\n",
      " |      Return number of occurrences of value.\n",
      " |\n",
      " |  extend(self, iterable, /)\n",
      " |      Extend list by appending elements from the iterable.\n",
      " |\n",
      " |  index(self, value, start=0, stop=9223372036854775807, /)\n",
      " |      Return first index of value.\n",
      " |\n",
      " |      Raises ValueError if the value is not present.\n",
      " |\n",
      " |  insert(self, index, object, /)\n",
      " |      Insert object before index.\n",
      " |\n",
      " |  pop(self, index=-1, /)\n",
      " |      Remove and return item at index (default last).\n",
      " |\n",
      " |      Raises IndexError if list is empty or index is out of range.\n",
      " |\n",
      " |  remove(self, value, /)\n",
      " |      Remove first occurrence of value.\n",
      " |\n",
      " |      Raises ValueError if the value is not present.\n",
      " |\n",
      " |  reverse(self, /)\n",
      " |      Reverse *IN PLACE*.\n",
      " |\n",
      " |  ----------------------------------------------------------------------\n",
      " |  Class methods inherited from builtins.list:\n",
      " |\n",
      " |  __class_getitem__(...)\n",
      " |      See PEP 585\n",
      " |\n",
      " |  ----------------------------------------------------------------------\n",
      " |  Static methods inherited from builtins.list:\n",
      " |\n",
      " |  __new__(*args, **kwargs) class method of builtins.list\n",
      " |      Create and return a new object.  See help(type) for accurate signature.\n",
      " |\n",
      " |  ----------------------------------------------------------------------\n",
      " |  Data and other attributes inherited from builtins.list:\n",
      " |\n",
      " |  __hash__ = None\n",
      "\n"
     ]
    }
   ],
   "source": [
    "import IPython \n",
    "help(IPython.utils.text.SList)"
   ]
  },
  {
   "cell_type": "code",
   "execution_count": 24,
   "metadata": {
    "editable": true,
    "scrolled": true,
    "slideshow": {
     "slide_type": "slide"
    },
    "tags": []
   },
   "outputs": [
    {
     "name": "stdout",
     "output_type": "stream",
     "text": [
      "<class 'str'> 0_Index.ipynb\n",
      "<class 'str'> 1b_unix_shell.ipynb\n",
      "<class 'str'> img\n",
      "<class 'str'> README.md\n"
     ]
    }
   ],
   "source": [
    "files = !ls\n",
    "for x in files :\n",
    "    print(type(x),x)"
   ]
  },
  {
   "cell_type": "code",
   "execution_count": 30,
   "metadata": {
    "editable": true,
    "scrolled": true,
    "slideshow": {
     "slide_type": "fragment"
    },
    "tags": []
   },
   "outputs": [
    {
     "name": "stdout",
     "output_type": "stream",
     "text": [
      "<class 'IPython.utils.text.SList'> ['hello world']\n"
     ]
    }
   ],
   "source": [
    "x = !echo \"hello world\"\n",
    "print(type(x),x)"
   ]
  },
  {
   "cell_type": "markdown",
   "metadata": {
    "editable": true,
    "slideshow": {
     "slide_type": "slide"
    },
    "tags": []
   },
   "source": [
    "#### Using Python Variables in Shell Commands\n",
    "\n",
    "You can pass Python variables into your shell commands by enclosing the variable name in curly braces `{}` :"
   ]
  },
  {
   "cell_type": "code",
   "execution_count": 1,
   "metadata": {
    "editable": true,
    "slideshow": {
     "slide_type": "slide"
    },
    "tags": []
   },
   "outputs": [
    {
     "name": "stdout",
     "output_type": "stream",
     "text": [
      "1\n",
      "2\n",
      "3\n",
      "4\n",
      "5\n"
     ]
    }
   ],
   "source": [
    "%%bash\n",
    "for x in {1..5} ; do\n",
    "   echo $x\n",
    "done"
   ]
  }
 ],
 "metadata": {
  "celltoolbar": "Slideshow",
  "kernelspec": {
   "display_name": "Python 3 (ipykernel)",
   "language": "python",
   "name": "python3"
  },
  "language_info": {
   "codemirror_mode": {
    "name": "ipython",
    "version": 3
   },
   "file_extension": ".py",
   "mimetype": "text/x-python",
   "name": "python",
   "nbconvert_exporter": "python",
   "pygments_lexer": "ipython3",
   "version": "3.12.6"
  }
 },
 "nbformat": 4,
 "nbformat_minor": 4
}
