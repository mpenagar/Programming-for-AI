{
 "cells": [
  {
   "cell_type": "markdown",
   "id": "b5610e6f-6d05-4a8e-a4a0-1a273ffc0034",
   "metadata": {
    "editable": true,
    "slideshow": {
     "slide_type": ""
    },
    "tags": []
   },
   "source": [
    "# NumPy"
   ]
  },
  {
   "cell_type": "markdown",
   "id": "c5322638-9544-4caf-89aa-f34ce3493323",
   "metadata": {
    "editable": true,
    "slideshow": {
     "slide_type": "fragment"
    },
    "tags": []
   },
   "source": [
    "* Jake VanderPlas. 2016. *Python Data Science Handbook: Essential Tools for Working with Data*. O'Reilly Media, Inc.\n",
    "* Chapter 2 - Introduction to NumPy\n",
    "* https://github.com/jakevdp/PythonDataScienceHandbook"
   ]
  },
  {
   "cell_type": "code",
   "execution_count": 2,
   "id": "4be931b3-3bbe-498e-8c1c-0dfd12343920",
   "metadata": {
    "editable": true,
    "slideshow": {
     "slide_type": "fragment"
    },
    "tags": []
   },
   "outputs": [
    {
     "data": {
      "text/plain": [
       "'1.26.4'"
      ]
     },
     "execution_count": 2,
     "metadata": {},
     "output_type": "execute_result"
    }
   ],
   "source": [
    "import numpy as np\n",
    "np.__version__"
   ]
  },
  {
   "cell_type": "code",
   "execution_count": 11,
   "id": "fd4a9a01-ff44-462d-9b15-9c9a0b1bd5e5",
   "metadata": {
    "editable": true,
    "slideshow": {
     "slide_type": ""
    },
    "tags": []
   },
   "outputs": [],
   "source": [
    "# type TAB to get the HUGE numpy namespace\n",
    "#np."
   ]
  },
  {
   "cell_type": "markdown",
   "id": "d1e6ccf7-bd0a-4d54-ad95-81a50e6974b3",
   "metadata": {
    "editable": true,
    "slideshow": {
     "slide_type": "slide"
    },
    "tags": []
   },
   "source": [
    "## Data Types\n",
    "\n",
    "NumPy provides an alternative implementation for numerical arrays, improving the performance of data-driven computation compared to standard Python built-in lists.\n"
   ]
  },
  {
   "cell_type": "markdown",
   "id": "7810e5a2-5306-4d20-9965-e6bb09af96a1",
   "metadata": {
    "editable": true,
    "slideshow": {
     "slide_type": "slide"
    },
    "tags": []
   },
   "source": [
    "### Python Integers vs C Integers\n",
    "\n",
    "* Python `int`s are *complex* objects (written in C)\n",
    "   * Dynamically-typed language\n",
    "   * Almost infinite integer arithmetic precision\n",
    "```c\n",
    "struct _longobject {\n",
    "    long ob_refcnt;         # reference count\n",
    "    PyTypeObject *ob_type;  # type of the variable\n",
    "    size_t ob_size;         # size of the following data members\n",
    "    long ob_digit[1];       # integer value encoded into a long array\n",
    "};\n",
    "```\n",
    "* C language integers (char, short, int, long, long...) are simple references to a position in memory whose bytes encode an integer value."
   ]
  },
  {
   "cell_type": "markdown",
   "id": "10fe6e07-b6df-41a1-b6aa-2bde7df83133",
   "metadata": {
    "editable": true,
    "slideshow": {
     "slide_type": "slide"
    },
    "tags": []
   },
   "source": [
    "### Python Lists vs NumPy Arrays\n",
    "\n",
    "* Python `list`s are *complex* objects (much more than `int`s)\n",
    "   * `list`s are heterogeneous\n",
    "   * Different object types are different sizes \n",
    "   * `list`s contain an array with <u>references</u> to each object\n",
    "   * Contain a pointer to a block of pointers, each of which points to a Python object\n",
    "* *Standard* Numpy arrays are homogeneus.\n",
    "   * Contain a single pointer to one contiguous block of data."
   ]
  },
  {
   "cell_type": "markdown",
   "id": "1d3a3002-207d-442d-8a4a-ee195f56017b",
   "metadata": {
    "editable": true,
    "slideshow": {
     "slide_type": "slide"
    },
    "tags": []
   },
   "source": [
    "<center><img src=\"img/array_vs_list.png\" alt=\"NumPy array vs python list\" style=\"width: 100%;\"/></center>"
   ]
  },
  {
   "cell_type": "code",
   "execution_count": 15,
   "id": "1e98e25e-d2ef-42d5-9c2e-e517913b4804",
   "metadata": {},
   "outputs": [],
   "source": [
    "#help(np.array)"
   ]
  },
  {
   "cell_type": "markdown",
   "id": "ec28a983-959d-4775-a5a0-ed747ff2e52c",
   "metadata": {
    "editable": true,
    "slideshow": {
     "slide_type": "slide"
    },
    "tags": []
   },
   "source": [
    "## NumPy Arrays"
   ]
  },
  {
   "cell_type": "markdown",
   "id": "f62a3550-b34d-4bf3-a1f8-4429568abf69",
   "metadata": {
    "editable": true,
    "slideshow": {
     "slide_type": "slide"
    },
    "tags": []
   },
   "source": [
    "### Creating Arrays from Python Lists\n",
    "\n",
    "* `np.array(some_list)` &rarr; create an (homogeneous) array\n",
    "* `np.array(some_list, dtype=<data type>)` &rarr; create an array of a given type\n",
    "\n",
    "<br>"
   ]
  },
  {
   "cell_type": "code",
   "execution_count": 28,
   "id": "17bf3037-820f-4c98-b057-e113e8ce0584",
   "metadata": {
    "editable": true,
    "slideshow": {
     "slide_type": "fragment"
    },
    "tags": []
   },
   "outputs": [
    {
     "data": {
      "text/plain": [
       "array([1, 4, 2, 5, 3])"
      ]
     },
     "execution_count": 28,
     "metadata": {},
     "output_type": "execute_result"
    }
   ],
   "source": [
    "np.array([1, 4, 2, 5, 3])"
   ]
  },
  {
   "cell_type": "code",
   "execution_count": 31,
   "id": "997c719e-a7cc-46f3-9b84-6e32d624248a",
   "metadata": {
    "editable": true,
    "slideshow": {
     "slide_type": "fragment"
    },
    "tags": []
   },
   "outputs": [
    {
     "data": {
      "text/plain": [
       "array([1., 4., 2., 5., 3.], dtype=float32)"
      ]
     },
     "execution_count": 31,
     "metadata": {},
     "output_type": "execute_result"
    }
   ],
   "source": [
    "\n",
    "np.array([1, 4, 2, 5, 3], dtype='float32')"
   ]
  },
  {
   "cell_type": "markdown",
   "id": "7897d659-6b00-46da-8d93-013334c51ae6",
   "metadata": {
    "editable": true,
    "slideshow": {
     "slide_type": "fragment"
    },
    "tags": []
   },
   "source": [
    "<br>\n",
    "If types do not match, NumPy will upcast if possible:"
   ]
  },
  {
   "cell_type": "code",
   "execution_count": 17,
   "id": "55446c16-23b2-40bc-9fd0-8fd1e4cfee05",
   "metadata": {},
   "outputs": [
    {
     "data": {
      "text/plain": [
       "array([1. , 4. , 2. , 5.9, 3. ])"
      ]
     },
     "execution_count": 17,
     "metadata": {},
     "output_type": "execute_result"
    }
   ],
   "source": [
    "np.array([1, 4, 2, 5.9, 3])"
   ]
  },
  {
   "cell_type": "markdown",
   "id": "72556a94-4ee1-4f6f-a66e-04e22b0b4f17",
   "metadata": {
    "editable": true,
    "slideshow": {
     "slide_type": "fragment"
    },
    "tags": []
   },
   "source": [
    "<br>\n",
    "Nested lists result in multi-dimensional arrays"
   ]
  },
  {
   "cell_type": "code",
   "execution_count": 32,
   "id": "2602aead-d95f-4c30-b7d4-916a081cc09f",
   "metadata": {},
   "outputs": [
    {
     "data": {
      "text/plain": [
       "array([[ 0,  1,  2,  3],\n",
       "       [10, 11, 12, 13],\n",
       "       [20, 21, 22, 23]])"
      ]
     },
     "execution_count": 32,
     "metadata": {},
     "output_type": "execute_result"
    }
   ],
   "source": [
    "np.array([[ 0,  1,  2,  3], [10, 11, 12, 13], [20, 21, 22, 23]])"
   ]
  },
  {
   "cell_type": "markdown",
   "id": "b363c206-a8c2-4da3-a93b-0ce2d93ddcdb",
   "metadata": {
    "editable": true,
    "slideshow": {
     "slide_type": "slide"
    },
    "tags": []
   },
   "source": [
    "### NumPy Standard Data Types\n",
    "\n",
    "when constructing an array, the type (`dtype`) argument can be specified using:\n",
    " * string &rarr; `dtype='float32'`\n",
    " * NumPy object &rarr; `dtype=np.float32`"
   ]
  },
  {
   "cell_type": "code",
   "execution_count": 40,
   "id": "24e5c96a-8a69-4f97-966b-77700748dc3a",
   "metadata": {
    "editable": true,
    "slideshow": {
     "slide_type": ""
    },
    "tags": []
   },
   "outputs": [
    {
     "data": {
      "text/plain": [
       "array([1., 4., 2., 5., 3.], dtype=float32)"
      ]
     },
     "execution_count": 40,
     "metadata": {},
     "output_type": "execute_result"
    }
   ],
   "source": [
    "\n",
    "np.array([1, 4, 2, 5, 3], dtype='float32')"
   ]
  },
  {
   "cell_type": "code",
   "execution_count": 41,
   "id": "46a6ff79-6021-4b19-9769-f37611e76a78",
   "metadata": {
    "editable": true,
    "slideshow": {
     "slide_type": ""
    },
    "tags": []
   },
   "outputs": [
    {
     "data": {
      "text/plain": [
       "array([1., 4., 2., 5., 3.], dtype=float32)"
      ]
     },
     "execution_count": 41,
     "metadata": {},
     "output_type": "execute_result"
    }
   ],
   "source": [
    "\n",
    "np.array([1, 4, 2, 5, 3], dtype=np.float32)"
   ]
  },
  {
   "cell_type": "markdown",
   "id": "2600c815-b11f-42a5-914b-e723c7f958bc",
   "metadata": {
    "editable": true,
    "slideshow": {
     "slide_type": "slide"
    },
    "tags": []
   },
   "source": [
    "|  Data type | Description                                                                   |   |   |   |\n",
    "|:----------:|-------------------------------------------------------------------------------|---|---|---|\n",
    "| bool_      | Boolean (True or False) stored as a byte                                      |   |   |   |\n",
    "| int_       | Default integer type (same as C long; normally either int64 or int32)         |   |   |   |\n",
    "| intc       | Identical to C int (normally int32 or int64)                                  |   |   |   |\n",
    "| intp       | Integer used for indexing (same as C ssize_t; normally either int32 or int64) |   |   |   |\n",
    "| int8       | Byte (-128 to 127)                                                            |   |   |   |\n",
    "| int16      | Integer (-32768 to 32767)                                                     |   |   |   |\n",
    "| int32      | Integer (-2147483648 to 2147483647)                                           |   |   |   |\n",
    "| int64      | Integer (-9223372036854775808 to 9223372036854775807)                         |   |   |   |\n",
    "| uint8      | Unsigned integer (0 to 255)                                                   |   |   |   |\n",
    "| uint16     | Unsigned integer (0 to 65535)                                                 |   |   |   |\n",
    "| uint32     | Unsigned integer (0 to 4294967295)                                            |   |   |   |\n",
    "| uint64     | Unsigned integer (0 to 18446744073709551615)                                  |   |   |   |\n",
    "| float_     | Shorthand for float64.                                                        |   |   |   |\n",
    "| float16    | Half precision float: sign bit, 5 bits exponent, 10 bits mantissa             |   |   |   |\n",
    "| float32    | Single precision float: sign bit, 8 bits exponent, 23 bits mantissa           |   |   |   |\n",
    "| float64    | Double precision float: sign bit, 11 bits exponent, 52 bits mantissa          |   |   |   |\n",
    "| complex_   | Shorthand for complex128.                                                     |   |   |   |\n",
    "| complex64  | Complex number, represented by two 32-bit floats                              |   |   |   |\n",
    "| complex128 | Complex number, represented by two 64-bit floats                              |   |   |   |"
   ]
  },
  {
   "cell_type": "markdown",
   "id": "fa9545be-d1a3-4876-9eb4-013b003e2127",
   "metadata": {
    "editable": true,
    "slideshow": {
     "slide_type": "slide"
    },
    "tags": []
   },
   "source": [
    "### Creating Arrays from Scratch"
   ]
  },
  {
   "cell_type": "markdown",
   "id": "0f41502c-4c85-4216-9267-3d0e5334d7ee",
   "metadata": {
    "editable": true,
    "slideshow": {
     "slide_type": "fragment"
    },
    "tags": []
   },
   "source": [
    "<br>\n",
    "\n",
    "`np.zeros(10, dtype='int64')` &rarr; a length-10 integer array filled with zeros "
   ]
  },
  {
   "cell_type": "code",
   "execution_count": 42,
   "id": "5d69d3df-2574-4d65-a0af-67869846fd95",
   "metadata": {
    "editable": true,
    "slideshow": {
     "slide_type": ""
    },
    "tags": []
   },
   "outputs": [
    {
     "data": {
      "text/plain": [
       "array([0, 0, 0, 0, 0, 0, 0, 0, 0, 0])"
      ]
     },
     "execution_count": 42,
     "metadata": {},
     "output_type": "execute_result"
    }
   ],
   "source": [
    "np.zeros(10, dtype='int64')"
   ]
  },
  {
   "cell_type": "markdown",
   "id": "07831fc7-e12f-4525-ae9a-4fb7ba280e6d",
   "metadata": {
    "editable": true,
    "slideshow": {
     "slide_type": "fragment"
    },
    "tags": []
   },
   "source": [
    "<br>\n",
    "\n",
    "`np.ones((3,5), dtype='float32')` &rarr; a 3,5 floating-point array filled with ones "
   ]
  },
  {
   "cell_type": "code",
   "execution_count": 46,
   "id": "be3c459d-a20a-4f81-ad24-e1a36855dbee",
   "metadata": {
    "editable": true,
    "slideshow": {
     "slide_type": ""
    },
    "tags": []
   },
   "outputs": [
    {
     "data": {
      "text/plain": [
       "array([[1., 1., 1., 1., 1.],\n",
       "       [1., 1., 1., 1., 1.],\n",
       "       [1., 1., 1., 1., 1.]], dtype=float32)"
      ]
     },
     "execution_count": 46,
     "metadata": {},
     "output_type": "execute_result"
    }
   ],
   "source": [
    "np.ones((3,5), dtype='float32')"
   ]
  },
  {
   "cell_type": "markdown",
   "id": "5a5a3bce-62cc-4ff2-ab43-6620fb51d642",
   "metadata": {
    "editable": true,
    "slideshow": {
     "slide_type": "slide"
    },
    "tags": []
   },
   "source": [
    "## UFuncs - Universal Functions"
   ]
  },
  {
   "cell_type": "markdown",
   "id": "f67fd42a-8e3e-46c3-bb3e-9058818ed0e8",
   "metadata": {
    "editable": true,
    "slideshow": {
     "slide_type": "slide"
    },
    "tags": []
   },
   "source": [
    "## Aggregations Functions"
   ]
  },
  {
   "cell_type": "markdown",
   "id": "b80af315-89f5-4d27-9750-8d5b3c34f9a4",
   "metadata": {
    "editable": true,
    "slideshow": {
     "slide_type": "slide"
    },
    "tags": []
   },
   "source": [
    "## Broadcasting"
   ]
  },
  {
   "cell_type": "markdown",
   "id": "57ad21bd-f872-44bc-9b53-f5075d9b714b",
   "metadata": {
    "editable": true,
    "slideshow": {
     "slide_type": "slide"
    },
    "tags": []
   },
   "source": [
    "## Boolean Manipulation"
   ]
  },
  {
   "cell_type": "markdown",
   "id": "0a366451-dfdc-43fb-bf69-85bbecb909bb",
   "metadata": {
    "editable": true,
    "slideshow": {
     "slide_type": "slide"
    },
    "tags": []
   },
   "source": [
    "## Fancy Indexing"
   ]
  }
 ],
 "metadata": {
  "kernelspec": {
   "display_name": "Python 3 (ipykernel)",
   "language": "python",
   "name": "python3"
  },
  "language_info": {
   "codemirror_mode": {
    "name": "ipython",
    "version": 3
   },
   "file_extension": ".py",
   "mimetype": "text/x-python",
   "name": "python",
   "nbconvert_exporter": "python",
   "pygments_lexer": "ipython3",
   "version": "3.12.6"
  }
 },
 "nbformat": 4,
 "nbformat_minor": 5
}
