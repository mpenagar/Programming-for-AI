{
 "cells": [
  {
   "cell_type": "markdown",
   "id": "b5610e6f-6d05-4a8e-a4a0-1a273ffc0034",
   "metadata": {
    "editable": true,
    "slideshow": {
     "slide_type": ""
    },
    "tags": []
   },
   "source": [
    "# NumPy"
   ]
  },
  {
   "cell_type": "markdown",
   "id": "c5322638-9544-4caf-89aa-f34ce3493323",
   "metadata": {
    "editable": true,
    "slideshow": {
     "slide_type": "fragment"
    },
    "tags": []
   },
   "source": [
    "* Jake VanderPlas. 2016. *Python Data Science Handbook: Essential Tools for Working with Data*. O'Reilly Media, Inc.\n",
    "* Chapter 2 - Introduction to NumPy\n",
    "* https://github.com/jakevdp/PythonDataScienceHandbook"
   ]
  },
  {
   "cell_type": "code",
   "execution_count": null,
   "id": "4be931b3-3bbe-498e-8c1c-0dfd12343920",
   "metadata": {
    "editable": true,
    "slideshow": {
     "slide_type": "fragment"
    },
    "tags": []
   },
   "outputs": [],
   "source": [
    "import numpy as np\n",
    "np.__version__"
   ]
  },
  {
   "cell_type": "code",
   "execution_count": null,
   "id": "fd4a9a01-ff44-462d-9b15-9c9a0b1bd5e5",
   "metadata": {
    "editable": true,
    "slideshow": {
     "slide_type": ""
    },
    "tags": []
   },
   "outputs": [],
   "source": [
    "# type TAB to get the HUGE numpy namespace\n",
    "#np."
   ]
  },
  {
   "cell_type": "markdown",
   "id": "d1e6ccf7-bd0a-4d54-ad95-81a50e6974b3",
   "metadata": {
    "editable": true,
    "jp-MarkdownHeadingCollapsed": true,
    "slideshow": {
     "slide_type": "slide"
    },
    "tags": []
   },
   "source": [
    "## Data Types\n",
    "\n",
    "NumPy provides an alternative implementation for numerical arrays, improving the performance of data-driven computation compared to standard Python built-in lists.\n"
   ]
  },
  {
   "cell_type": "markdown",
   "id": "7810e5a2-5306-4d20-9965-e6bb09af96a1",
   "metadata": {
    "editable": true,
    "slideshow": {
     "slide_type": "slide"
    },
    "tags": []
   },
   "source": [
    "### Python Integers vs C Integers\n",
    "\n",
    "* Python `int`s are *complex* objects (written in C)\n",
    "   * Dynamically-typed language\n",
    "   * Almost infinite integer arithmetic precision\n",
    "```c\n",
    "struct _longobject {\n",
    "    long ob_refcnt;         # reference count\n",
    "    PyTypeObject *ob_type;  # type of the variable\n",
    "    size_t ob_size;         # size of the following data members\n",
    "    long ob_digit[1];       # integer value encoded into a long array\n",
    "};\n",
    "```\n",
    "* C language integers (char, short, int, long, long...) are simple references to a position in memory whose bytes encode an integer value."
   ]
  },
  {
   "cell_type": "markdown",
   "id": "10fe6e07-b6df-41a1-b6aa-2bde7df83133",
   "metadata": {
    "editable": true,
    "slideshow": {
     "slide_type": "slide"
    },
    "tags": []
   },
   "source": [
    "### Python Lists vs NumPy Arrays\n",
    "\n",
    "* Python `list`s are *complex* objects (much more than `int`s)\n",
    "   * `list`s are heterogeneous\n",
    "   * Different object types are different sizes \n",
    "   * `list`s contain an array with <u>references</u> to each object\n",
    "   * Contain a pointer to a block of pointers, each of which points to a Python object\n",
    "* *Standard* Numpy arrays are homogeneus.\n",
    "   * Contain a single pointer to one contiguous block of data."
   ]
  },
  {
   "cell_type": "markdown",
   "id": "1d3a3002-207d-442d-8a4a-ee195f56017b",
   "metadata": {
    "editable": true,
    "slideshow": {
     "slide_type": "slide"
    },
    "tags": []
   },
   "source": [
    "<center><img src=\"img/array_vs_list.png\" alt=\"NumPy array vs python list\" style=\"width: 100%;\"/></center>"
   ]
  },
  {
   "cell_type": "markdown",
   "id": "ec28a983-959d-4775-a5a0-ed747ff2e52c",
   "metadata": {
    "editable": true,
    "slideshow": {
     "slide_type": "slide"
    },
    "tags": []
   },
   "source": [
    "## NumPy Arrays"
   ]
  },
  {
   "cell_type": "markdown",
   "id": "f62a3550-b34d-4bf3-a1f8-4429568abf69",
   "metadata": {
    "editable": true,
    "jp-MarkdownHeadingCollapsed": true,
    "slideshow": {
     "slide_type": "slide"
    },
    "tags": []
   },
   "source": [
    "### Creating Arrays from Python Lists\n",
    "\n",
    "* `np.array(some_list)` &rarr; create an (homogeneous) array\n",
    "* `np.array(some_list, dtype=<data type>)` &rarr; create an array of a given type\n",
    "\n",
    "<br>"
   ]
  },
  {
   "cell_type": "code",
   "execution_count": null,
   "id": "17bf3037-820f-4c98-b057-e113e8ce0584",
   "metadata": {
    "editable": true,
    "slideshow": {
     "slide_type": "fragment"
    },
    "tags": []
   },
   "outputs": [],
   "source": [
    "np.array([1, 4, 2, 5, 3])"
   ]
  },
  {
   "cell_type": "markdown",
   "id": "837795d3-fc4b-490f-a471-b16a0a596368",
   "metadata": {
    "editable": true,
    "slideshow": {
     "slide_type": ""
    },
    "tags": []
   },
   "source": [
    "<br>"
   ]
  },
  {
   "cell_type": "code",
   "execution_count": null,
   "id": "997c719e-a7cc-46f3-9b84-6e32d624248a",
   "metadata": {
    "editable": true,
    "slideshow": {
     "slide_type": "fragment"
    },
    "tags": []
   },
   "outputs": [],
   "source": [
    "np.array([1, 4, 2, 5, 3], dtype='float32')"
   ]
  },
  {
   "cell_type": "markdown",
   "id": "7897d659-6b00-46da-8d93-013334c51ae6",
   "metadata": {
    "editable": true,
    "slideshow": {
     "slide_type": "fragment"
    },
    "tags": []
   },
   "source": [
    "<br>\n",
    "If types do not match, NumPy will upcast if possible:"
   ]
  },
  {
   "cell_type": "code",
   "execution_count": null,
   "id": "55446c16-23b2-40bc-9fd0-8fd1e4cfee05",
   "metadata": {},
   "outputs": [],
   "source": [
    "np.array([1, 4, 2, 5.9, 3])"
   ]
  },
  {
   "cell_type": "markdown",
   "id": "72556a94-4ee1-4f6f-a66e-04e22b0b4f17",
   "metadata": {
    "editable": true,
    "slideshow": {
     "slide_type": "fragment"
    },
    "tags": []
   },
   "source": [
    "<br>\n",
    "Nested lists result in multi-dimensional arrays"
   ]
  },
  {
   "cell_type": "code",
   "execution_count": null,
   "id": "2602aead-d95f-4c30-b7d4-916a081cc09f",
   "metadata": {},
   "outputs": [],
   "source": [
    "np.array([[ 0,  1,  2,  3], [10, 11, 12, 13], [20, 21, 22, 23]])"
   ]
  },
  {
   "cell_type": "markdown",
   "id": "b363c206-a8c2-4da3-a93b-0ce2d93ddcdb",
   "metadata": {
    "editable": true,
    "jp-MarkdownHeadingCollapsed": true,
    "slideshow": {
     "slide_type": "slide"
    },
    "tags": []
   },
   "source": [
    "### NumPy Standard Data Types\n",
    "\n",
    "when constructing an array, the data type (`dtype`) argument can be specified using:\n",
    " * string &rarr; `dtype='float32'`\n",
    " * NumPy object &rarr; `dtype=np.float32`"
   ]
  },
  {
   "cell_type": "markdown",
   "id": "0485c21d-9dbd-4305-87c0-92537aaae168",
   "metadata": {
    "editable": true,
    "slideshow": {
     "slide_type": ""
    },
    "tags": []
   },
   "source": [
    "<br>"
   ]
  },
  {
   "cell_type": "code",
   "execution_count": null,
   "id": "24e5c96a-8a69-4f97-966b-77700748dc3a",
   "metadata": {
    "editable": true,
    "slideshow": {
     "slide_type": ""
    },
    "tags": []
   },
   "outputs": [],
   "source": [
    "np.array([1, 4, 2, 5, 3], dtype='float32')"
   ]
  },
  {
   "cell_type": "markdown",
   "id": "3f35869c-08cb-44e6-80d5-94a44d23a531",
   "metadata": {
    "editable": true,
    "slideshow": {
     "slide_type": ""
    },
    "tags": []
   },
   "source": [
    "<br>"
   ]
  },
  {
   "cell_type": "code",
   "execution_count": null,
   "id": "46a6ff79-6021-4b19-9769-f37611e76a78",
   "metadata": {
    "editable": true,
    "slideshow": {
     "slide_type": ""
    },
    "tags": []
   },
   "outputs": [],
   "source": [
    "np.array([1, 4, 2, 5, 3], dtype=np.float32)"
   ]
  },
  {
   "cell_type": "markdown",
   "id": "2600c815-b11f-42a5-914b-e723c7f958bc",
   "metadata": {
    "editable": true,
    "slideshow": {
     "slide_type": "slide"
    },
    "tags": []
   },
   "source": [
    "|  Data type | Description                                                                   |   |   |   |\n",
    "|:----------:|-------------------------------------------------------------------------------|---|---|---|\n",
    "| bool_      | Boolean (True or False) stored as a byte                                      |   |   |   |\n",
    "| int_       | Default integer type (same as C long; normally either int64 or int32)         |   |   |   |\n",
    "| intc       | Identical to C int (normally int32 or int64)                                  |   |   |   |\n",
    "| intp       | Integer used for indexing (same as C ssize_t; normally either int32 or int64) |   |   |   |\n",
    "| int8       | Byte (-128 to 127)                                                            |   |   |   |\n",
    "| int16      | Integer (-32768 to 32767)                                                     |   |   |   |\n",
    "| int32      | Integer (-2147483648 to 2147483647)                                           |   |   |   |\n",
    "| int64      | Integer (-9223372036854775808 to 9223372036854775807)                         |   |   |   |\n",
    "| uint8      | Unsigned integer (0 to 255)                                                   |   |   |   |\n",
    "| uint16     | Unsigned integer (0 to 65535)                                                 |   |   |   |\n",
    "| uint32     | Unsigned integer (0 to 4294967295)                                            |   |   |   |\n",
    "| uint64     | Unsigned integer (0 to 18446744073709551615)                                  |   |   |   |\n",
    "| float_     | Shorthand for float64.                                                        |   |   |   |\n",
    "| float16    | Half precision float: sign bit, 5 bits exponent, 10 bits mantissa             |   |   |   |\n",
    "| float32    | Single precision float: sign bit, 8 bits exponent, 23 bits mantissa           |   |   |   |\n",
    "| float64    | Double precision float: sign bit, 11 bits exponent, 52 bits mantissa          |   |   |   |\n",
    "| complex_   | Shorthand for complex128.                                                     |   |   |   |\n",
    "| complex64  | Complex number, represented by two 32-bit floats                              |   |   |   |\n",
    "| complex128 | Complex number, represented by two 64-bit floats                              |   |   |   |"
   ]
  },
  {
   "cell_type": "markdown",
   "id": "fa9545be-d1a3-4876-9eb4-013b003e2127",
   "metadata": {
    "editable": true,
    "slideshow": {
     "slide_type": "slide"
    },
    "tags": []
   },
   "source": [
    "### Creating Arrays from Scratch\n",
    "\n",
    "Default values of `dtype` (most of times):\n",
    " * Integers &rarr; `int64`\n",
    " * Reals (floating point) &rarr; `float64`"
   ]
  },
  {
   "cell_type": "markdown",
   "id": "0f41502c-4c85-4216-9267-3d0e5334d7ee",
   "metadata": {
    "editable": true,
    "slideshow": {
     "slide_type": "slide"
    },
    "tags": []
   },
   "source": [
    "<br>\n",
    "\n",
    "* `np.zeros(10)` &rarr; a length-10 array filled with zeros "
   ]
  },
  {
   "cell_type": "markdown",
   "id": "05667f0b-40bd-4615-af45-2f1629f8f0cc",
   "metadata": {
    "editable": true,
    "slideshow": {
     "slide_type": ""
    },
    "tags": []
   },
   "source": [
    "<br>"
   ]
  },
  {
   "cell_type": "code",
   "execution_count": null,
   "id": "b1a26ba6-a145-4e81-ab8d-e55d849a5bf2",
   "metadata": {
    "editable": true,
    "slideshow": {
     "slide_type": ""
    },
    "tags": []
   },
   "outputs": [],
   "source": [
    "np.zeros(10)"
   ]
  },
  {
   "cell_type": "markdown",
   "id": "846f3b9a-d9c8-46ae-8d09-888a0dfa25d5",
   "metadata": {
    "editable": true,
    "slideshow": {
     "slide_type": ""
    },
    "tags": []
   },
   "source": [
    "<br>"
   ]
  },
  {
   "cell_type": "code",
   "execution_count": null,
   "id": "5d69d3df-2574-4d65-a0af-67869846fd95",
   "metadata": {
    "editable": true,
    "slideshow": {
     "slide_type": ""
    },
    "tags": []
   },
   "outputs": [],
   "source": [
    "np.zeros(10, dtype='int64')"
   ]
  },
  {
   "cell_type": "markdown",
   "id": "3011128a-c580-45c7-b3f2-613c1c9f6002",
   "metadata": {
    "editable": true,
    "slideshow": {
     "slide_type": ""
    },
    "tags": []
   },
   "source": [
    "<br>"
   ]
  },
  {
   "cell_type": "code",
   "execution_count": null,
   "id": "b16550be-0802-4b5e-b204-d0e0dc1d0389",
   "metadata": {
    "editable": true,
    "slideshow": {
     "slide_type": ""
    },
    "tags": []
   },
   "outputs": [],
   "source": [
    "np.zeros(10, dtype='float32')"
   ]
  },
  {
   "cell_type": "markdown",
   "id": "4263eb13-9614-4159-b4b8-ea2bcfe51696",
   "metadata": {
    "editable": true,
    "slideshow": {
     "slide_type": ""
    },
    "tags": []
   },
   "source": [
    "<br>"
   ]
  },
  {
   "cell_type": "code",
   "execution_count": null,
   "id": "023204fd-440b-404f-b48f-2695dc6e3e18",
   "metadata": {
    "editable": true,
    "slideshow": {
     "slide_type": ""
    },
    "tags": []
   },
   "outputs": [],
   "source": [
    "np.zeros(10, dtype='int32')"
   ]
  },
  {
   "cell_type": "markdown",
   "id": "52684be2-ae51-4fe9-bdc8-18cf06ecc8f9",
   "metadata": {
    "editable": true,
    "slideshow": {
     "slide_type": "slide"
    },
    "tags": []
   },
   "source": [
    "<br>\n",
    "\n",
    "* `np.eye(3)` &rarr; a 3x3 identity matrix"
   ]
  },
  {
   "cell_type": "markdown",
   "id": "c4f19954-563c-438f-991a-e50311027c2d",
   "metadata": {
    "editable": true,
    "slideshow": {
     "slide_type": ""
    },
    "tags": []
   },
   "source": [
    "<br>"
   ]
  },
  {
   "cell_type": "code",
   "execution_count": null,
   "id": "be3c459d-a20a-4f81-ad24-e1a36855dbee",
   "metadata": {
    "editable": true,
    "slideshow": {
     "slide_type": ""
    },
    "tags": []
   },
   "outputs": [],
   "source": [
    "np.eye(3)"
   ]
  },
  {
   "cell_type": "markdown",
   "id": "7535d76d-5898-4a0d-acf1-af53b279fcf0",
   "metadata": {
    "editable": true,
    "slideshow": {
     "slide_type": "fragment"
    },
    "tags": []
   },
   "source": [
    "<br>\n",
    "\n",
    "* `np.ones((3,5))` &rarr; a 3x5 array filled with ones"
   ]
  },
  {
   "cell_type": "markdown",
   "id": "50d8267a-eb68-4d53-992e-3034a6a6011c",
   "metadata": {
    "editable": true,
    "slideshow": {
     "slide_type": ""
    },
    "tags": []
   },
   "source": [
    "<br>"
   ]
  },
  {
   "cell_type": "code",
   "execution_count": null,
   "id": "80c733e1-4b62-4110-8b68-cfef27c24d01",
   "metadata": {
    "editable": true,
    "slideshow": {
     "slide_type": ""
    },
    "tags": []
   },
   "outputs": [],
   "source": [
    "np.ones((3,5))"
   ]
  },
  {
   "cell_type": "markdown",
   "id": "d2b47f8d-a5d8-4795-9acf-c2c38b1e6f1c",
   "metadata": {
    "editable": true,
    "slideshow": {
     "slide_type": "slide"
    },
    "tags": []
   },
   "source": [
    "<br>\n",
    "\n",
    "* `np.full((3,5), 1.8)` &rarr; a 3x5 array filled with `1.8`"
   ]
  },
  {
   "cell_type": "markdown",
   "id": "8579bc0b-7138-4622-a880-3326198ce37e",
   "metadata": {
    "editable": true,
    "slideshow": {
     "slide_type": ""
    },
    "tags": []
   },
   "source": [
    "<br>"
   ]
  },
  {
   "cell_type": "code",
   "execution_count": null,
   "id": "e5001011-ab04-4c41-98d7-658885efeddc",
   "metadata": {
    "editable": true,
    "slideshow": {
     "slide_type": ""
    },
    "tags": []
   },
   "outputs": [],
   "source": [
    "np.full((3,5), 1.8)"
   ]
  },
  {
   "cell_type": "markdown",
   "id": "f573357b-82f9-4496-9e5c-237fd2be64b7",
   "metadata": {
    "editable": true,
    "slideshow": {
     "slide_type": "fragment"
    },
    "tags": []
   },
   "source": [
    "<br>\n",
    "\n",
    "* `np.empty((3,5))` &rarr; an <u>*uninitialized*</u> 3x5 array"
   ]
  },
  {
   "cell_type": "markdown",
   "id": "406d7023-5040-4947-8633-275ebd140c06",
   "metadata": {
    "editable": true,
    "slideshow": {
     "slide_type": ""
    },
    "tags": []
   },
   "source": [
    "<br>"
   ]
  },
  {
   "cell_type": "code",
   "execution_count": null,
   "id": "09d21137-a3ef-4bc6-a0f6-b94b4ff9c65c",
   "metadata": {
    "editable": true,
    "slideshow": {
     "slide_type": ""
    },
    "tags": []
   },
   "outputs": [],
   "source": [
    "np.empty((3,5))"
   ]
  },
  {
   "cell_type": "markdown",
   "id": "cccad224-82bb-48a3-ad84-3d0568a50d8c",
   "metadata": {
    "editable": true,
    "slideshow": {
     "slide_type": "slide"
    },
    "tags": []
   },
   "source": [
    "<br>\n",
    "\n",
    "* `np.random.random((3,5))` &rarr; a 3x5 array of uniformly distributed random values in the half-open interval $[0,1)$"
   ]
  },
  {
   "cell_type": "markdown",
   "id": "c590388e-a65c-46cd-ab75-d417c6f39b65",
   "metadata": {
    "editable": true,
    "slideshow": {
     "slide_type": ""
    },
    "tags": []
   },
   "source": [
    "<br>"
   ]
  },
  {
   "cell_type": "code",
   "execution_count": null,
   "id": "46d14a68-5771-44ae-83ea-53a4ccaeed12",
   "metadata": {
    "editable": true,
    "slideshow": {
     "slide_type": ""
    },
    "tags": []
   },
   "outputs": [],
   "source": [
    "np.random.random((3,5))"
   ]
  },
  {
   "cell_type": "markdown",
   "id": "ad68d549-ed92-44e3-a7a2-59bb71505d60",
   "metadata": {
    "editable": true,
    "slideshow": {
     "slide_type": "fragment"
    },
    "tags": []
   },
   "source": [
    "<br>\n",
    "\n",
    "* `np.random.seed(int)` &rarr; sets a seed for random number generation (**provides reproducibility**)\n"
   ]
  },
  {
   "cell_type": "markdown",
   "id": "49aa1826-c976-4b63-ae0b-5283e7a776a1",
   "metadata": {
    "editable": true,
    "slideshow": {
     "slide_type": ""
    },
    "tags": []
   },
   "source": [
    "<br>"
   ]
  },
  {
   "cell_type": "code",
   "execution_count": null,
   "id": "9ccf65f7-4360-42e3-963b-49736fa74ec8",
   "metadata": {
    "editable": true,
    "slideshow": {
     "slide_type": ""
    },
    "tags": []
   },
   "outputs": [],
   "source": [
    "np.random.seed(43)\n",
    "np.random.random((3,5))"
   ]
  },
  {
   "cell_type": "markdown",
   "id": "4068f659-0e06-404f-8b92-9d11d2e492a4",
   "metadata": {
    "editable": true,
    "slideshow": {
     "slide_type": "slide"
    },
    "tags": []
   },
   "source": [
    "<br>\n",
    "\n",
    "* `np.random.normal(10, 2, (3,5))` &rarr; a 3x5 array of normally distributed random values with $\\mu = 10$ and $\\sigma = 2$"
   ]
  },
  {
   "cell_type": "markdown",
   "id": "87d21cca-bf17-47a4-bec2-4b7e3c9f8031",
   "metadata": {
    "editable": true,
    "slideshow": {
     "slide_type": ""
    },
    "tags": []
   },
   "source": [
    "<br>"
   ]
  },
  {
   "cell_type": "code",
   "execution_count": null,
   "id": "6ba48ef3-6712-473e-a423-dd772a931ffc",
   "metadata": {
    "editable": true,
    "slideshow": {
     "slide_type": ""
    },
    "tags": []
   },
   "outputs": [],
   "source": [
    "np.random.normal(10, 2, (3, 5))"
   ]
  },
  {
   "cell_type": "markdown",
   "id": "9c5ce2cb-c4f3-4fb6-8bd1-1d7322235dec",
   "metadata": {
    "editable": true,
    "slideshow": {
     "slide_type": "fragment"
    },
    "tags": []
   },
   "source": [
    "<br>\n",
    "\n",
    "* `np.random.randint(-7, 3, (3, 5))` &rarr; a 3x5 array of random integers in the half-open interval $[-7,3)$"
   ]
  },
  {
   "cell_type": "markdown",
   "id": "7dc55b98-41ed-4127-981f-6b4fac4e014b",
   "metadata": {
    "editable": true,
    "slideshow": {
     "slide_type": ""
    },
    "tags": []
   },
   "source": [
    "<br>"
   ]
  },
  {
   "cell_type": "code",
   "execution_count": null,
   "id": "840039e4-b198-40d7-b244-99dd3885374c",
   "metadata": {
    "editable": true,
    "slideshow": {
     "slide_type": ""
    },
    "tags": []
   },
   "outputs": [],
   "source": [
    "np.random.randint(-7, 3, (3, 5))"
   ]
  },
  {
   "cell_type": "markdown",
   "id": "702d3c7b-09fb-41dc-859b-a3be2ab0db19",
   "metadata": {
    "editable": true,
    "slideshow": {
     "slide_type": "fragment"
    },
    "tags": []
   },
   "source": [
    "<br>\n",
    "\n",
    "* `np.arange(4, 20, 2)` &rarr; an array filled with a linear sequence in the range $[4,20)$ and step $2$"
   ]
  },
  {
   "cell_type": "markdown",
   "id": "0569447c-d243-4ede-bc5f-5501db87f47d",
   "metadata": {
    "editable": true,
    "slideshow": {
     "slide_type": ""
    },
    "tags": []
   },
   "source": [
    "<br>"
   ]
  },
  {
   "cell_type": "code",
   "execution_count": null,
   "id": "0a3f7903-6715-4145-b983-301ab3088abf",
   "metadata": {
    "editable": true,
    "slideshow": {
     "slide_type": ""
    },
    "tags": []
   },
   "outputs": [],
   "source": [
    "np.arange(4, 20, 2)"
   ]
  },
  {
   "cell_type": "markdown",
   "id": "634b5bb2-f77c-4af0-bdfc-a63173365128",
   "metadata": {
    "editable": true,
    "slideshow": {
     "slide_type": "slide"
    },
    "tags": []
   },
   "source": [
    "<br>\n",
    "\n",
    "* `np.linspace(1, 7, 5)` &rarr; an array of five values evenly spaced in the range $[1,7]$"
   ]
  },
  {
   "cell_type": "markdown",
   "id": "794877ff-f7e0-4d87-8de2-e8e2c7da0935",
   "metadata": {
    "editable": true,
    "slideshow": {
     "slide_type": ""
    },
    "tags": []
   },
   "source": [
    "<br>"
   ]
  },
  {
   "cell_type": "code",
   "execution_count": null,
   "id": "145b95e1-7ef5-4935-863a-8f0cba7f3b67",
   "metadata": {
    "editable": true,
    "slideshow": {
     "slide_type": ""
    },
    "tags": []
   },
   "outputs": [],
   "source": [
    "np.linspace(1, 7, 5)"
   ]
  },
  {
   "cell_type": "markdown",
   "id": "4ad92f90-c8a7-4b88-8263-026fcd95d0bc",
   "metadata": {
    "editable": true,
    "slideshow": {
     "slide_type": "slide"
    },
    "tags": []
   },
   "source": [
    "### More on NumPy Arrays\n",
    "\n",
    "* Array dimensions\n",
    "* Array attributes\n",
    "* Array indexing\n",
    "* Array slicing\n",
    "* Reshaping of arrays\n",
    "* Array concatenation and splitting"
   ]
  },
  {
   "cell_type": "markdown",
   "id": "ea5a5da9-c48b-42fc-a17b-7c7a49fe3b84",
   "metadata": {
    "editable": true,
    "slideshow": {
     "slide_type": "slide"
    },
    "tags": []
   },
   "source": [
    "#### Array dimensions\n",
    "\n",
    "NumPy arrays can have any number of dimensions:\n",
    "\n",
    "* 0-dimensional arrays &rarr; **scalars** or **rank-0 tensor**\n",
    "* 1-dimensional arrays &rarr; **vectors** or **rank-1 tensor**\n",
    "* 2-dimensional arrays &rarr; **matrices** or **rank-2 tensor**\n",
    "* 3-dimensional arrays &rarr; **tensors** or **rank-3 tensor**\n",
    "* ...\n",
    "* N-dimensional arrays &rarr; **tensors** or **rank-N tensor**\n"
   ]
  },
  {
   "cell_type": "code",
   "execution_count": null,
   "id": "d47a53c8-08b6-43c3-96e5-b8bdf5b4d80f",
   "metadata": {
    "editable": true,
    "scrolled": true,
    "slideshow": {
     "slide_type": "slide"
    },
    "tags": []
   },
   "outputs": [],
   "source": [
    "np.random.randint(1,10,(2,2,2,3,6))"
   ]
  },
  {
   "cell_type": "markdown",
   "id": "95aec284-9ac7-4059-8aa1-6883c7298eeb",
   "metadata": {
    "editable": true,
    "slideshow": {
     "slide_type": "slide"
    },
    "tags": []
   },
   "source": [
    "#### Array attributes\n",
    "\n",
    "Given a NumPy array `x`:\n",
    "\n",
    "* `x.ndim` &rarr; number of dimensions\n",
    "* `x.shape` &rarr; a tuple of size `x.ndim` containing the size of each dimension\n",
    "* `x.size` &rarr; total size of the array\n",
    "* `x.dtype` &rarr; data type of the array"
   ]
  },
  {
   "cell_type": "markdown",
   "id": "1b12e07f-02c2-4514-ab22-06da341623ba",
   "metadata": {
    "editable": true,
    "slideshow": {
     "slide_type": ""
    },
    "tags": []
   },
   "source": [
    "<br>"
   ]
  },
  {
   "cell_type": "code",
   "execution_count": null,
   "id": "2192354a-0300-4c74-bb58-c86c7ff9f8bd",
   "metadata": {},
   "outputs": [],
   "source": [
    "x = np.random.rand(3, 4)\n",
    "print(x)\n",
    "print(f'{x.ndim=}  {x.shape=}  {x.size=}  {x.dtype=}')"
   ]
  },
  {
   "cell_type": "markdown",
   "id": "bc60266f-7d70-4cdc-8ff4-d9cadc62c391",
   "metadata": {
    "editable": true,
    "jp-MarkdownHeadingCollapsed": true,
    "slideshow": {
     "slide_type": "slide"
    },
    "tags": []
   },
   "source": [
    "#### Array attributes\n",
    "\n",
    "NumPy arrays can have any number of dimensions:\n",
    "\n",
    "* 0-dimensional arrays &rarr; **scalars** or **rank-0 tensor**\n",
    "* 1-dimensional arrays &rarr; **vectors** or **rank-1 tensor**\n",
    "* 2-dimensional arrays &rarr; **matrices** or **rank-2 tensor**\n",
    "* 3-dimensional arrays &rarr; **tensors** or **rank-3 tensor**\n",
    "* ...\n",
    "* N-dimensional arrays &rarr; **tensors** or **rank-N tensor**\n"
   ]
  },
  {
   "cell_type": "markdown",
   "id": "5a5a3bce-62cc-4ff2-ab43-6620fb51d642",
   "metadata": {
    "editable": true,
    "slideshow": {
     "slide_type": "slide"
    },
    "tags": []
   },
   "source": [
    "## UFuncs - Universal Functions"
   ]
  },
  {
   "cell_type": "markdown",
   "id": "f67fd42a-8e3e-46c3-bb3e-9058818ed0e8",
   "metadata": {
    "editable": true,
    "slideshow": {
     "slide_type": "slide"
    },
    "tags": []
   },
   "source": [
    "## Aggregations Functions"
   ]
  },
  {
   "cell_type": "markdown",
   "id": "b80af315-89f5-4d27-9750-8d5b3c34f9a4",
   "metadata": {
    "editable": true,
    "slideshow": {
     "slide_type": "slide"
    },
    "tags": []
   },
   "source": [
    "## Broadcasting"
   ]
  },
  {
   "cell_type": "markdown",
   "id": "57ad21bd-f872-44bc-9b53-f5075d9b714b",
   "metadata": {
    "editable": true,
    "slideshow": {
     "slide_type": "slide"
    },
    "tags": []
   },
   "source": [
    "## Boolean Manipulation"
   ]
  },
  {
   "cell_type": "markdown",
   "id": "0a366451-dfdc-43fb-bf69-85bbecb909bb",
   "metadata": {
    "editable": true,
    "slideshow": {
     "slide_type": "slide"
    },
    "tags": []
   },
   "source": [
    "## Fancy Indexing"
   ]
  }
 ],
 "metadata": {
  "kernelspec": {
   "display_name": "Python 3 (ipykernel)",
   "language": "python",
   "name": "python3"
  },
  "language_info": {
   "codemirror_mode": {
    "name": "ipython",
    "version": 3
   },
   "file_extension": ".py",
   "mimetype": "text/x-python",
   "name": "python",
   "nbconvert_exporter": "python",
   "pygments_lexer": "ipython3",
   "version": "3.12.6"
  }
 },
 "nbformat": 4,
 "nbformat_minor": 5
}
