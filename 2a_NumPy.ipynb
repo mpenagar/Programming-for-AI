{
 "cells": [
  {
   "cell_type": "markdown",
   "id": "b5610e6f-6d05-4a8e-a4a0-1a273ffc0034",
   "metadata": {
    "editable": true,
    "slideshow": {
     "slide_type": ""
    },
    "tags": []
   },
   "source": [
    "# NumPy"
   ]
  },
  {
   "cell_type": "markdown",
   "id": "c5322638-9544-4caf-89aa-f34ce3493323",
   "metadata": {
    "editable": true,
    "slideshow": {
     "slide_type": "fragment"
    },
    "tags": []
   },
   "source": [
    "* Jake VanderPlas. 2016. *Python Data Science Handbook: Essential Tools for Working with Data*. O'Reilly Media, Inc.\n",
    "* Chapter 2 - Introduction to NumPy\n",
    "* https://github.com/jakevdp/PythonDataScienceHandbook"
   ]
  },
  {
   "cell_type": "code",
   "execution_count": 2,
   "id": "4be931b3-3bbe-498e-8c1c-0dfd12343920",
   "metadata": {
    "editable": true,
    "slideshow": {
     "slide_type": "fragment"
    },
    "tags": []
   },
   "outputs": [
    {
     "data": {
      "text/plain": [
       "'1.26.4'"
      ]
     },
     "execution_count": 2,
     "metadata": {},
     "output_type": "execute_result"
    }
   ],
   "source": [
    "import numpy as np\n",
    "np.__version__"
   ]
  },
  {
   "cell_type": "code",
   "execution_count": 3,
   "id": "fd4a9a01-ff44-462d-9b15-9c9a0b1bd5e5",
   "metadata": {
    "editable": true,
    "slideshow": {
     "slide_type": ""
    },
    "tags": []
   },
   "outputs": [],
   "source": [
    "# type TAB to get the HUGE numpy namespace\n",
    "#np."
   ]
  },
  {
   "cell_type": "markdown",
   "id": "d1e6ccf7-bd0a-4d54-ad95-81a50e6974b3",
   "metadata": {
    "editable": true,
    "jp-MarkdownHeadingCollapsed": true,
    "slideshow": {
     "slide_type": "slide"
    },
    "tags": []
   },
   "source": [
    "## Data Types\n",
    "\n",
    "NumPy provides an alternative implementation for numerical arrays, improving the performance of data-driven computation compared to standard Python built-in lists.\n"
   ]
  },
  {
   "cell_type": "markdown",
   "id": "7810e5a2-5306-4d20-9965-e6bb09af96a1",
   "metadata": {
    "editable": true,
    "slideshow": {
     "slide_type": "slide"
    },
    "tags": []
   },
   "source": [
    "### Python Integers vs C Integers\n",
    "\n",
    "* Python `int`s are *complex* objects (written in C)\n",
    "   * Dynamically-typed language\n",
    "   * Almost infinite integer arithmetic precision\n",
    "```c\n",
    "struct _longobject {\n",
    "    long ob_refcnt;         # reference count\n",
    "    PyTypeObject *ob_type;  # type of the variable\n",
    "    size_t ob_size;         # size of the following data members\n",
    "    long ob_digit[1];       # integer value encoded into a long array\n",
    "};\n",
    "```\n",
    "* C language integers (char, short, int, long, long...) are simple references to a position in memory whose bytes encode an integer value."
   ]
  },
  {
   "cell_type": "markdown",
   "id": "10fe6e07-b6df-41a1-b6aa-2bde7df83133",
   "metadata": {
    "editable": true,
    "slideshow": {
     "slide_type": "slide"
    },
    "tags": []
   },
   "source": [
    "### Python Lists vs NumPy Arrays\n",
    "\n",
    "* Python `list`s are *complex* objects (much more than `int`s)\n",
    "   * `list`s are heterogeneous\n",
    "   * Different object types are different sizes \n",
    "   * `list`s contain an array with <u>references</u> to each object\n",
    "   * Contain a pointer to a block of pointers, each of which points to a Python object\n",
    "* *Standard* Numpy arrays are homogeneus.\n",
    "   * Contain a single pointer to one contiguous block of data."
   ]
  },
  {
   "cell_type": "markdown",
   "id": "1d3a3002-207d-442d-8a4a-ee195f56017b",
   "metadata": {
    "editable": true,
    "slideshow": {
     "slide_type": "slide"
    },
    "tags": []
   },
   "source": [
    "<center><img src=\"img/array_vs_list.png\" alt=\"NumPy array vs python list\" style=\"width: 100%;\"/></center>"
   ]
  },
  {
   "cell_type": "markdown",
   "id": "ec28a983-959d-4775-a5a0-ed747ff2e52c",
   "metadata": {
    "editable": true,
    "slideshow": {
     "slide_type": "slide"
    },
    "tags": []
   },
   "source": [
    "## NumPy Arrays"
   ]
  },
  {
   "cell_type": "markdown",
   "id": "f62a3550-b34d-4bf3-a1f8-4429568abf69",
   "metadata": {
    "editable": true,
    "jp-MarkdownHeadingCollapsed": true,
    "slideshow": {
     "slide_type": "slide"
    },
    "tags": []
   },
   "source": [
    "### Creating Arrays from Python Lists\n",
    "\n",
    "* `np.array(some_list)` &rarr; create an (homogeneous) array\n",
    "* `np.array(some_list, dtype=<data type>)` &rarr; create an array of a given type\n",
    "\n",
    "<br>"
   ]
  },
  {
   "cell_type": "code",
   "execution_count": 4,
   "id": "17bf3037-820f-4c98-b057-e113e8ce0584",
   "metadata": {
    "editable": true,
    "slideshow": {
     "slide_type": "fragment"
    },
    "tags": []
   },
   "outputs": [
    {
     "data": {
      "text/plain": [
       "array([1, 4, 2, 5, 3])"
      ]
     },
     "execution_count": 4,
     "metadata": {},
     "output_type": "execute_result"
    }
   ],
   "source": [
    "np.array([1, 4, 2, 5, 3])"
   ]
  },
  {
   "cell_type": "markdown",
   "id": "837795d3-fc4b-490f-a471-b16a0a596368",
   "metadata": {
    "editable": true,
    "slideshow": {
     "slide_type": ""
    },
    "tags": []
   },
   "source": [
    "<br>"
   ]
  },
  {
   "cell_type": "code",
   "execution_count": 5,
   "id": "997c719e-a7cc-46f3-9b84-6e32d624248a",
   "metadata": {
    "editable": true,
    "slideshow": {
     "slide_type": "fragment"
    },
    "tags": []
   },
   "outputs": [
    {
     "data": {
      "text/plain": [
       "array([1., 4., 2., 5., 3.], dtype=float32)"
      ]
     },
     "execution_count": 5,
     "metadata": {},
     "output_type": "execute_result"
    }
   ],
   "source": [
    "np.array([1, 4, 2, 5, 3], dtype='float32')"
   ]
  },
  {
   "cell_type": "markdown",
   "id": "7897d659-6b00-46da-8d93-013334c51ae6",
   "metadata": {
    "editable": true,
    "slideshow": {
     "slide_type": "fragment"
    },
    "tags": []
   },
   "source": [
    "<br>\n",
    "If types do not match, NumPy will upcast if possible:"
   ]
  },
  {
   "cell_type": "code",
   "execution_count": 6,
   "id": "55446c16-23b2-40bc-9fd0-8fd1e4cfee05",
   "metadata": {},
   "outputs": [
    {
     "data": {
      "text/plain": [
       "array([1. , 4. , 2. , 5.9, 3. ])"
      ]
     },
     "execution_count": 6,
     "metadata": {},
     "output_type": "execute_result"
    }
   ],
   "source": [
    "np.array([1, 4, 2, 5.9, 3])"
   ]
  },
  {
   "cell_type": "markdown",
   "id": "72556a94-4ee1-4f6f-a66e-04e22b0b4f17",
   "metadata": {
    "editable": true,
    "slideshow": {
     "slide_type": "fragment"
    },
    "tags": []
   },
   "source": [
    "<br>\n",
    "Nested lists result in multi-dimensional arrays"
   ]
  },
  {
   "cell_type": "code",
   "execution_count": 7,
   "id": "2602aead-d95f-4c30-b7d4-916a081cc09f",
   "metadata": {},
   "outputs": [
    {
     "data": {
      "text/plain": [
       "array([[ 0,  1,  2,  3],\n",
       "       [10, 11, 12, 13],\n",
       "       [20, 21, 22, 23]])"
      ]
     },
     "execution_count": 7,
     "metadata": {},
     "output_type": "execute_result"
    }
   ],
   "source": [
    "np.array([[ 0,  1,  2,  3], [10, 11, 12, 13], [20, 21, 22, 23]])"
   ]
  },
  {
   "cell_type": "markdown",
   "id": "b363c206-a8c2-4da3-a93b-0ce2d93ddcdb",
   "metadata": {
    "editable": true,
    "jp-MarkdownHeadingCollapsed": true,
    "slideshow": {
     "slide_type": "slide"
    },
    "tags": []
   },
   "source": [
    "### NumPy Standard Data Types\n",
    "\n",
    "when constructing an array, the data type (`dtype`) argument can be specified using:\n",
    " * string &rarr; `dtype='float32'`\n",
    " * NumPy object &rarr; `dtype=np.float32`"
   ]
  },
  {
   "cell_type": "markdown",
   "id": "0485c21d-9dbd-4305-87c0-92537aaae168",
   "metadata": {
    "editable": true,
    "slideshow": {
     "slide_type": ""
    },
    "tags": []
   },
   "source": [
    "<br>"
   ]
  },
  {
   "cell_type": "code",
   "execution_count": 8,
   "id": "24e5c96a-8a69-4f97-966b-77700748dc3a",
   "metadata": {
    "editable": true,
    "slideshow": {
     "slide_type": ""
    },
    "tags": []
   },
   "outputs": [
    {
     "data": {
      "text/plain": [
       "array([1., 4., 2., 5., 3.], dtype=float32)"
      ]
     },
     "execution_count": 8,
     "metadata": {},
     "output_type": "execute_result"
    }
   ],
   "source": [
    "np.array([1, 4, 2, 5, 3], dtype='float32')"
   ]
  },
  {
   "cell_type": "markdown",
   "id": "3f35869c-08cb-44e6-80d5-94a44d23a531",
   "metadata": {
    "editable": true,
    "slideshow": {
     "slide_type": ""
    },
    "tags": []
   },
   "source": [
    "<br>"
   ]
  },
  {
   "cell_type": "code",
   "execution_count": 9,
   "id": "46a6ff79-6021-4b19-9769-f37611e76a78",
   "metadata": {
    "editable": true,
    "slideshow": {
     "slide_type": ""
    },
    "tags": []
   },
   "outputs": [
    {
     "data": {
      "text/plain": [
       "array([1., 4., 2., 5., 3.], dtype=float32)"
      ]
     },
     "execution_count": 9,
     "metadata": {},
     "output_type": "execute_result"
    }
   ],
   "source": [
    "np.array([1, 4, 2, 5, 3], dtype=np.float32)"
   ]
  },
  {
   "cell_type": "markdown",
   "id": "2600c815-b11f-42a5-914b-e723c7f958bc",
   "metadata": {
    "editable": true,
    "slideshow": {
     "slide_type": "slide"
    },
    "tags": []
   },
   "source": [
    "|  Data type | Description                                                                   |   |   |   |\n",
    "|:----------:|-------------------------------------------------------------------------------|---|---|---|\n",
    "| bool_      | Boolean (True or False) stored as a byte                                      |   |   |   |\n",
    "| int_       | Default integer type (same as C long; normally either int64 or int32)         |   |   |   |\n",
    "| intc       | Identical to C int (normally int32 or int64)                                  |   |   |   |\n",
    "| intp       | Integer used for indexing (same as C ssize_t; normally either int32 or int64) |   |   |   |\n",
    "| int8       | Byte (-128 to 127)                                                            |   |   |   |\n",
    "| int16      | Integer (-32768 to 32767)                                                     |   |   |   |\n",
    "| int32      | Integer (-2147483648 to 2147483647)                                           |   |   |   |\n",
    "| int64      | Integer (-9223372036854775808 to 9223372036854775807)                         |   |   |   |\n",
    "| uint8      | Unsigned integer (0 to 255)                                                   |   |   |   |\n",
    "| uint16     | Unsigned integer (0 to 65535)                                                 |   |   |   |\n",
    "| uint32     | Unsigned integer (0 to 4294967295)                                            |   |   |   |\n",
    "| uint64     | Unsigned integer (0 to 18446744073709551615)                                  |   |   |   |\n",
    "| float_     | Shorthand for float64.                                                        |   |   |   |\n",
    "| float16    | Half precision float: sign bit, 5 bits exponent, 10 bits mantissa             |   |   |   |\n",
    "| float32    | Single precision float: sign bit, 8 bits exponent, 23 bits mantissa           |   |   |   |\n",
    "| float64    | Double precision float: sign bit, 11 bits exponent, 52 bits mantissa          |   |   |   |\n",
    "| complex_   | Shorthand for complex128.                                                     |   |   |   |\n",
    "| complex64  | Complex number, represented by two 32-bit floats                              |   |   |   |\n",
    "| complex128 | Complex number, represented by two 64-bit floats                              |   |   |   |"
   ]
  },
  {
   "cell_type": "markdown",
   "id": "fa9545be-d1a3-4876-9eb4-013b003e2127",
   "metadata": {
    "editable": true,
    "slideshow": {
     "slide_type": "slide"
    },
    "tags": []
   },
   "source": [
    "### Creating Arrays from Scratch\n",
    "\n",
    "Default values of `dtype` (most of times):\n",
    " * Integers &rarr; `int64`\n",
    " * Reals (floating point) &rarr; `float64`"
   ]
  },
  {
   "cell_type": "markdown",
   "id": "0f41502c-4c85-4216-9267-3d0e5334d7ee",
   "metadata": {
    "editable": true,
    "slideshow": {
     "slide_type": "slide"
    },
    "tags": []
   },
   "source": [
    "<br>\n",
    "\n",
    "* `np.zeros(10)` &rarr; a length-10 array filled with zeros "
   ]
  },
  {
   "cell_type": "markdown",
   "id": "05667f0b-40bd-4615-af45-2f1629f8f0cc",
   "metadata": {
    "editable": true,
    "slideshow": {
     "slide_type": ""
    },
    "tags": []
   },
   "source": [
    "<br>"
   ]
  },
  {
   "cell_type": "code",
   "execution_count": 10,
   "id": "b1a26ba6-a145-4e81-ab8d-e55d849a5bf2",
   "metadata": {
    "editable": true,
    "slideshow": {
     "slide_type": ""
    },
    "tags": []
   },
   "outputs": [
    {
     "data": {
      "text/plain": [
       "array([0., 0., 0., 0., 0., 0., 0., 0., 0., 0.])"
      ]
     },
     "execution_count": 10,
     "metadata": {},
     "output_type": "execute_result"
    }
   ],
   "source": [
    "np.zeros(10)"
   ]
  },
  {
   "cell_type": "markdown",
   "id": "846f3b9a-d9c8-46ae-8d09-888a0dfa25d5",
   "metadata": {
    "editable": true,
    "slideshow": {
     "slide_type": ""
    },
    "tags": []
   },
   "source": [
    "<br>"
   ]
  },
  {
   "cell_type": "code",
   "execution_count": 11,
   "id": "5d69d3df-2574-4d65-a0af-67869846fd95",
   "metadata": {
    "editable": true,
    "slideshow": {
     "slide_type": ""
    },
    "tags": []
   },
   "outputs": [
    {
     "data": {
      "text/plain": [
       "array([0, 0, 0, 0, 0, 0, 0, 0, 0, 0])"
      ]
     },
     "execution_count": 11,
     "metadata": {},
     "output_type": "execute_result"
    }
   ],
   "source": [
    "np.zeros(10, dtype='int64')"
   ]
  },
  {
   "cell_type": "markdown",
   "id": "3011128a-c580-45c7-b3f2-613c1c9f6002",
   "metadata": {
    "editable": true,
    "slideshow": {
     "slide_type": ""
    },
    "tags": []
   },
   "source": [
    "<br>"
   ]
  },
  {
   "cell_type": "code",
   "execution_count": 12,
   "id": "b16550be-0802-4b5e-b204-d0e0dc1d0389",
   "metadata": {
    "editable": true,
    "slideshow": {
     "slide_type": ""
    },
    "tags": []
   },
   "outputs": [
    {
     "data": {
      "text/plain": [
       "array([0., 0., 0., 0., 0., 0., 0., 0., 0., 0.], dtype=float32)"
      ]
     },
     "execution_count": 12,
     "metadata": {},
     "output_type": "execute_result"
    }
   ],
   "source": [
    "np.zeros(10, dtype='float32')"
   ]
  },
  {
   "cell_type": "markdown",
   "id": "4263eb13-9614-4159-b4b8-ea2bcfe51696",
   "metadata": {
    "editable": true,
    "slideshow": {
     "slide_type": ""
    },
    "tags": []
   },
   "source": [
    "<br>"
   ]
  },
  {
   "cell_type": "code",
   "execution_count": 13,
   "id": "023204fd-440b-404f-b48f-2695dc6e3e18",
   "metadata": {
    "editable": true,
    "slideshow": {
     "slide_type": ""
    },
    "tags": []
   },
   "outputs": [
    {
     "data": {
      "text/plain": [
       "array([0, 0, 0, 0, 0, 0, 0, 0, 0, 0], dtype=int32)"
      ]
     },
     "execution_count": 13,
     "metadata": {},
     "output_type": "execute_result"
    }
   ],
   "source": [
    "np.zeros(10, dtype='int32')"
   ]
  },
  {
   "cell_type": "markdown",
   "id": "52684be2-ae51-4fe9-bdc8-18cf06ecc8f9",
   "metadata": {
    "editable": true,
    "slideshow": {
     "slide_type": "slide"
    },
    "tags": []
   },
   "source": [
    "<br>\n",
    "\n",
    "* `np.eye(3)` &rarr; a 3x3 identity matrix"
   ]
  },
  {
   "cell_type": "markdown",
   "id": "c4f19954-563c-438f-991a-e50311027c2d",
   "metadata": {
    "editable": true,
    "slideshow": {
     "slide_type": ""
    },
    "tags": []
   },
   "source": [
    "<br>"
   ]
  },
  {
   "cell_type": "code",
   "execution_count": 14,
   "id": "be3c459d-a20a-4f81-ad24-e1a36855dbee",
   "metadata": {
    "editable": true,
    "slideshow": {
     "slide_type": ""
    },
    "tags": []
   },
   "outputs": [
    {
     "data": {
      "text/plain": [
       "array([[1., 0., 0.],\n",
       "       [0., 1., 0.],\n",
       "       [0., 0., 1.]])"
      ]
     },
     "execution_count": 14,
     "metadata": {},
     "output_type": "execute_result"
    }
   ],
   "source": [
    "np.eye(3)"
   ]
  },
  {
   "cell_type": "markdown",
   "id": "7535d76d-5898-4a0d-acf1-af53b279fcf0",
   "metadata": {
    "editable": true,
    "slideshow": {
     "slide_type": "fragment"
    },
    "tags": []
   },
   "source": [
    "<br>\n",
    "\n",
    "* `np.ones((3,5))` &rarr; a 3x5 array filled with ones"
   ]
  },
  {
   "cell_type": "markdown",
   "id": "50d8267a-eb68-4d53-992e-3034a6a6011c",
   "metadata": {
    "editable": true,
    "slideshow": {
     "slide_type": ""
    },
    "tags": []
   },
   "source": [
    "<br>"
   ]
  },
  {
   "cell_type": "code",
   "execution_count": 15,
   "id": "80c733e1-4b62-4110-8b68-cfef27c24d01",
   "metadata": {
    "editable": true,
    "slideshow": {
     "slide_type": ""
    },
    "tags": []
   },
   "outputs": [
    {
     "data": {
      "text/plain": [
       "array([[1., 1., 1., 1., 1.],\n",
       "       [1., 1., 1., 1., 1.],\n",
       "       [1., 1., 1., 1., 1.]])"
      ]
     },
     "execution_count": 15,
     "metadata": {},
     "output_type": "execute_result"
    }
   ],
   "source": [
    "np.ones((3,5))"
   ]
  },
  {
   "cell_type": "markdown",
   "id": "d2b47f8d-a5d8-4795-9acf-c2c38b1e6f1c",
   "metadata": {
    "editable": true,
    "slideshow": {
     "slide_type": "slide"
    },
    "tags": []
   },
   "source": [
    "<br>\n",
    "\n",
    "* `np.full((3,5), 1.8)` &rarr; a 3x5 array filled with `1.8`"
   ]
  },
  {
   "cell_type": "markdown",
   "id": "8579bc0b-7138-4622-a880-3326198ce37e",
   "metadata": {
    "editable": true,
    "slideshow": {
     "slide_type": ""
    },
    "tags": []
   },
   "source": [
    "<br>"
   ]
  },
  {
   "cell_type": "code",
   "execution_count": 16,
   "id": "e5001011-ab04-4c41-98d7-658885efeddc",
   "metadata": {
    "editable": true,
    "slideshow": {
     "slide_type": ""
    },
    "tags": []
   },
   "outputs": [
    {
     "data": {
      "text/plain": [
       "array([[1.8, 1.8, 1.8, 1.8, 1.8],\n",
       "       [1.8, 1.8, 1.8, 1.8, 1.8],\n",
       "       [1.8, 1.8, 1.8, 1.8, 1.8]])"
      ]
     },
     "execution_count": 16,
     "metadata": {},
     "output_type": "execute_result"
    }
   ],
   "source": [
    "np.full((3,5), 1.8)"
   ]
  },
  {
   "cell_type": "markdown",
   "id": "f573357b-82f9-4496-9e5c-237fd2be64b7",
   "metadata": {
    "editable": true,
    "slideshow": {
     "slide_type": "fragment"
    },
    "tags": []
   },
   "source": [
    "<br>\n",
    "\n",
    "* `np.empty((3,5))` &rarr; an <u>*uninitialized*</u> 3x5 array"
   ]
  },
  {
   "cell_type": "markdown",
   "id": "406d7023-5040-4947-8633-275ebd140c06",
   "metadata": {
    "editable": true,
    "slideshow": {
     "slide_type": ""
    },
    "tags": []
   },
   "source": [
    "<br>"
   ]
  },
  {
   "cell_type": "code",
   "execution_count": 17,
   "id": "09d21137-a3ef-4bc6-a0f6-b94b4ff9c65c",
   "metadata": {
    "editable": true,
    "slideshow": {
     "slide_type": ""
    },
    "tags": []
   },
   "outputs": [
    {
     "data": {
      "text/plain": [
       "array([[1.8, 1.8, 1.8, 1.8, 1.8],\n",
       "       [1.8, 1.8, 1.8, 1.8, 1.8],\n",
       "       [1.8, 1.8, 1.8, 1.8, 1.8]])"
      ]
     },
     "execution_count": 17,
     "metadata": {},
     "output_type": "execute_result"
    }
   ],
   "source": [
    "np.empty((3,5))"
   ]
  },
  {
   "cell_type": "markdown",
   "id": "cccad224-82bb-48a3-ad84-3d0568a50d8c",
   "metadata": {
    "editable": true,
    "slideshow": {
     "slide_type": "slide"
    },
    "tags": []
   },
   "source": [
    "<br>\n",
    "\n",
    "* `np.random.random((3,5))` &rarr; a 3x5 array of uniformly distributed random values in the half-open interval $[0,1)$"
   ]
  },
  {
   "cell_type": "markdown",
   "id": "c590388e-a65c-46cd-ab75-d417c6f39b65",
   "metadata": {
    "editable": true,
    "slideshow": {
     "slide_type": ""
    },
    "tags": []
   },
   "source": [
    "<br>"
   ]
  },
  {
   "cell_type": "code",
   "execution_count": 18,
   "id": "46d14a68-5771-44ae-83ea-53a4ccaeed12",
   "metadata": {
    "editable": true,
    "slideshow": {
     "slide_type": ""
    },
    "tags": []
   },
   "outputs": [
    {
     "data": {
      "text/plain": [
       "array([[0.64119947, 0.5205102 , 0.66777645, 0.84419806, 0.61865786],\n",
       "       [0.91227258, 0.0804815 , 0.73453123, 0.00962788, 0.26980894],\n",
       "       [0.66882892, 0.34428685, 0.63485121, 0.82953395, 0.83350037]])"
      ]
     },
     "execution_count": 18,
     "metadata": {},
     "output_type": "execute_result"
    }
   ],
   "source": [
    "np.random.random((3,5))"
   ]
  },
  {
   "cell_type": "markdown",
   "id": "ad68d549-ed92-44e3-a7a2-59bb71505d60",
   "metadata": {
    "editable": true,
    "slideshow": {
     "slide_type": "fragment"
    },
    "tags": []
   },
   "source": [
    "<br>\n",
    "\n",
    "* `np.random.seed(int)` &rarr; sets a seed for random number generation (**provides reproducibility**)\n"
   ]
  },
  {
   "cell_type": "markdown",
   "id": "49aa1826-c976-4b63-ae0b-5283e7a776a1",
   "metadata": {
    "editable": true,
    "slideshow": {
     "slide_type": ""
    },
    "tags": []
   },
   "source": [
    "<br>"
   ]
  },
  {
   "cell_type": "code",
   "execution_count": 19,
   "id": "9ccf65f7-4360-42e3-963b-49736fa74ec8",
   "metadata": {
    "editable": true,
    "slideshow": {
     "slide_type": ""
    },
    "tags": []
   },
   "outputs": [
    {
     "data": {
      "text/plain": [
       "array([[0.11505457, 0.60906654, 0.13339096, 0.24058962, 0.32713906],\n",
       "       [0.85913749, 0.66609021, 0.54116221, 0.02901382, 0.7337483 ],\n",
       "       [0.39495002, 0.80204712, 0.25442113, 0.05688494, 0.86664864]])"
      ]
     },
     "execution_count": 19,
     "metadata": {},
     "output_type": "execute_result"
    }
   ],
   "source": [
    "np.random.seed(43)\n",
    "np.random.random((3,5))"
   ]
  },
  {
   "cell_type": "markdown",
   "id": "4068f659-0e06-404f-8b92-9d11d2e492a4",
   "metadata": {
    "editable": true,
    "slideshow": {
     "slide_type": "slide"
    },
    "tags": []
   },
   "source": [
    "<br>\n",
    "\n",
    "* `np.random.normal(10, 2, (3,5))` &rarr; a 3x5 array of normally distributed random values with $\\mu = 10$ and $\\sigma = 2$"
   ]
  },
  {
   "cell_type": "markdown",
   "id": "87d21cca-bf17-47a4-bec2-4b7e3c9f8031",
   "metadata": {
    "editable": true,
    "slideshow": {
     "slide_type": ""
    },
    "tags": []
   },
   "source": [
    "<br>"
   ]
  },
  {
   "cell_type": "code",
   "execution_count": 20,
   "id": "6ba48ef3-6712-473e-a423-dd772a931ffc",
   "metadata": {
    "editable": true,
    "slideshow": {
     "slide_type": ""
    },
    "tags": []
   },
   "outputs": [
    {
     "data": {
      "text/plain": [
       "array([[ 9.06239973,  7.247008  ,  8.96229899,  9.54920845, 10.41643253],\n",
       "       [10.40961276,  9.83619328, 10.67376611,  9.85909104, 11.18066954],\n",
       "       [ 8.80587096, 10.48544469,  9.38402231, 11.21093121,  7.00980231]])"
      ]
     },
     "execution_count": 20,
     "metadata": {},
     "output_type": "execute_result"
    }
   ],
   "source": [
    "np.random.normal(10, 2, (3, 5))"
   ]
  },
  {
   "cell_type": "markdown",
   "id": "9c5ce2cb-c4f3-4fb6-8bd1-1d7322235dec",
   "metadata": {
    "editable": true,
    "slideshow": {
     "slide_type": "fragment"
    },
    "tags": []
   },
   "source": [
    "<br>\n",
    "\n",
    "* `np.random.randint(-7, 3, (3, 5))` &rarr; a 3x5 array of random integers in the half-open interval $[-7,3)$"
   ]
  },
  {
   "cell_type": "markdown",
   "id": "7dc55b98-41ed-4127-981f-6b4fac4e014b",
   "metadata": {
    "editable": true,
    "slideshow": {
     "slide_type": ""
    },
    "tags": []
   },
   "source": [
    "<br>"
   ]
  },
  {
   "cell_type": "code",
   "execution_count": 21,
   "id": "840039e4-b198-40d7-b244-99dd3885374c",
   "metadata": {
    "editable": true,
    "slideshow": {
     "slide_type": ""
    },
    "tags": []
   },
   "outputs": [
    {
     "data": {
      "text/plain": [
       "array([[-2, -2, -2,  1,  0],\n",
       "       [-4, -1, -4, -5, -3],\n",
       "       [-5,  0, -4, -1,  1]])"
      ]
     },
     "execution_count": 21,
     "metadata": {},
     "output_type": "execute_result"
    }
   ],
   "source": [
    "np.random.randint(-7, 3, (3, 5))"
   ]
  },
  {
   "cell_type": "markdown",
   "id": "702d3c7b-09fb-41dc-859b-a3be2ab0db19",
   "metadata": {
    "editable": true,
    "slideshow": {
     "slide_type": "fragment"
    },
    "tags": []
   },
   "source": [
    "<br>\n",
    "\n",
    "* `np.arange(4, 20, 2)` &rarr; an array filled with a linear sequence in the range $[4,20)$ and step $2$"
   ]
  },
  {
   "cell_type": "markdown",
   "id": "0569447c-d243-4ede-bc5f-5501db87f47d",
   "metadata": {
    "editable": true,
    "slideshow": {
     "slide_type": ""
    },
    "tags": []
   },
   "source": [
    "<br>"
   ]
  },
  {
   "cell_type": "code",
   "execution_count": 22,
   "id": "0a3f7903-6715-4145-b983-301ab3088abf",
   "metadata": {
    "editable": true,
    "slideshow": {
     "slide_type": ""
    },
    "tags": []
   },
   "outputs": [
    {
     "data": {
      "text/plain": [
       "array([ 4,  6,  8, 10, 12, 14, 16, 18])"
      ]
     },
     "execution_count": 22,
     "metadata": {},
     "output_type": "execute_result"
    }
   ],
   "source": [
    "np.arange(4, 20, 2)"
   ]
  },
  {
   "cell_type": "markdown",
   "id": "634b5bb2-f77c-4af0-bdfc-a63173365128",
   "metadata": {
    "editable": true,
    "slideshow": {
     "slide_type": "slide"
    },
    "tags": []
   },
   "source": [
    "<br>\n",
    "\n",
    "* `np.linspace(1, 7, 5)` &rarr; an array of five values evenly spaced in the range $[1,7]$"
   ]
  },
  {
   "cell_type": "markdown",
   "id": "794877ff-f7e0-4d87-8de2-e8e2c7da0935",
   "metadata": {
    "editable": true,
    "slideshow": {
     "slide_type": ""
    },
    "tags": []
   },
   "source": [
    "<br>"
   ]
  },
  {
   "cell_type": "code",
   "execution_count": 23,
   "id": "145b95e1-7ef5-4935-863a-8f0cba7f3b67",
   "metadata": {
    "editable": true,
    "slideshow": {
     "slide_type": ""
    },
    "tags": []
   },
   "outputs": [
    {
     "data": {
      "text/plain": [
       "array([1. , 2.5, 4. , 5.5, 7. ])"
      ]
     },
     "execution_count": 23,
     "metadata": {},
     "output_type": "execute_result"
    }
   ],
   "source": [
    "np.linspace(1, 7, 5)"
   ]
  },
  {
   "cell_type": "markdown",
   "id": "4ad92f90-c8a7-4b88-8263-026fcd95d0bc",
   "metadata": {
    "editable": true,
    "slideshow": {
     "slide_type": "slide"
    },
    "tags": []
   },
   "source": [
    "### More on NumPy Arrays\n",
    "\n",
    "* Array dimensions\n",
    "* Array attributes\n",
    "* Array indexing\n",
    "* Array slicing\n",
    "* Reshaping of arrays\n",
    "* Array concatenation and splitting"
   ]
  },
  {
   "cell_type": "markdown",
   "id": "ea5a5da9-c48b-42fc-a17b-7c7a49fe3b84",
   "metadata": {
    "editable": true,
    "slideshow": {
     "slide_type": "slide"
    },
    "tags": []
   },
   "source": [
    "#### Array dimensions\n",
    "\n",
    "NumPy arrays can have any number of dimensions:\n",
    "\n",
    "* 0-dimensional arrays &rarr; **scalars** or **rank-0 tensor**\n",
    "* 1-dimensional arrays &rarr; **vectors** or **rank-1 tensor**\n",
    "* 2-dimensional arrays &rarr; **matrices** or **rank-2 tensor**\n",
    "* 3-dimensional arrays &rarr; **tensors** or **rank-3 tensor**\n",
    "* ...\n",
    "* N-dimensional arrays &rarr; **tensors** or **rank-N tensor**\n"
   ]
  },
  {
   "cell_type": "code",
   "execution_count": 24,
   "id": "d47a53c8-08b6-43c3-96e5-b8bdf5b4d80f",
   "metadata": {
    "editable": true,
    "scrolled": true,
    "slideshow": {
     "slide_type": "slide"
    },
    "tags": []
   },
   "outputs": [
    {
     "data": {
      "text/plain": [
       "array([[[[[4, 7, 8, 5, 6, 4],\n",
       "          [6, 4, 9, 4, 6, 2],\n",
       "          [7, 1, 1, 8, 2, 4]],\n",
       "\n",
       "         [[2, 6, 9, 1, 4, 7],\n",
       "          [5, 7, 8, 5, 6, 9],\n",
       "          [5, 8, 5, 3, 7, 8]]],\n",
       "\n",
       "\n",
       "        [[[9, 9, 2, 9, 6, 6],\n",
       "          [9, 7, 9, 4, 5, 3],\n",
       "          [4, 2, 5, 3, 3, 2]],\n",
       "\n",
       "         [[5, 6, 6, 1, 4, 5],\n",
       "          [8, 2, 3, 8, 4, 2],\n",
       "          [2, 4, 7, 6, 9, 1]]]],\n",
       "\n",
       "\n",
       "\n",
       "       [[[[6, 1, 9, 7, 8, 9],\n",
       "          [9, 8, 2, 5, 2, 7],\n",
       "          [4, 1, 2, 8, 9, 4]],\n",
       "\n",
       "         [[3, 1, 4, 3, 1, 3],\n",
       "          [7, 8, 5, 5, 7, 1],\n",
       "          [5, 7, 1, 5, 7, 4]]],\n",
       "\n",
       "\n",
       "        [[[7, 8, 9, 2, 5, 6],\n",
       "          [2, 9, 1, 3, 3, 8],\n",
       "          [7, 6, 1, 5, 1, 9]],\n",
       "\n",
       "         [[9, 2, 9, 2, 7, 1],\n",
       "          [3, 2, 6, 1, 6, 6],\n",
       "          [9, 4, 3, 1, 6, 6]]]]])"
      ]
     },
     "execution_count": 24,
     "metadata": {},
     "output_type": "execute_result"
    }
   ],
   "source": [
    "np.random.randint(1,10,(2,2,2,3,6))"
   ]
  },
  {
   "cell_type": "markdown",
   "id": "95aec284-9ac7-4059-8aa1-6883c7298eeb",
   "metadata": {
    "editable": true,
    "slideshow": {
     "slide_type": "slide"
    },
    "tags": []
   },
   "source": [
    "#### Array attributes\n",
    "\n",
    "Given a NumPy array `x`:\n",
    "\n",
    "* `x.ndim` &rarr; number of dimensions\n",
    "* `x.shape` &rarr; a tuple of size `x.ndim` containing the size of each dimension\n",
    "* `x.size` &rarr; total size of the array\n",
    "* `x.dtype` &rarr; data type of the array"
   ]
  },
  {
   "cell_type": "markdown",
   "id": "1b12e07f-02c2-4514-ab22-06da341623ba",
   "metadata": {
    "editable": true,
    "slideshow": {
     "slide_type": ""
    },
    "tags": []
   },
   "source": [
    "<br>"
   ]
  },
  {
   "cell_type": "code",
   "execution_count": 25,
   "id": "2192354a-0300-4c74-bb58-c86c7ff9f8bd",
   "metadata": {},
   "outputs": [
    {
     "name": "stdout",
     "output_type": "stream",
     "text": [
      "[[0.9973726  0.48601552 0.32129159 0.973439  ]\n",
      " [0.99871854 0.4452131  0.0447457  0.44706112]\n",
      " [0.7101748  0.62607133 0.67064977 0.97191886]]\n",
      "x.ndim=2  x.shape=(3, 4)  x.size=12  x.dtype=dtype('float64')\n"
     ]
    }
   ],
   "source": [
    "x = np.random.rand(3, 4)\n",
    "print(x)\n",
    "print(f'{x.ndim=}  {x.shape=}  {x.size=}  {x.dtype=}')"
   ]
  },
  {
   "cell_type": "markdown",
   "id": "bc60266f-7d70-4cdc-8ff4-d9cadc62c391",
   "metadata": {
    "editable": true,
    "slideshow": {
     "slide_type": "slide"
    },
    "tags": []
   },
   "source": [
    "#### Array indexing\n",
    "\n",
    "<br>\n",
    "\n",
    "One dimensional arrays are indexed as Python lists:"
   ]
  },
  {
   "cell_type": "code",
   "execution_count": 26,
   "id": "75b46dc2-24d3-41c7-8373-4fd5ca9b48df",
   "metadata": {
    "editable": true,
    "slideshow": {
     "slide_type": ""
    },
    "tags": []
   },
   "outputs": [
    {
     "data": {
      "text/plain": [
       "103"
      ]
     },
     "execution_count": 26,
     "metadata": {},
     "output_type": "execute_result"
    }
   ],
   "source": [
    "x = np.arange(100,110)\n",
    "x[3]"
   ]
  },
  {
   "cell_type": "markdown",
   "id": "cb7ca642-ae2d-44b5-989d-c46d6c84e04c",
   "metadata": {
    "editable": true,
    "slideshow": {
     "slide_type": "fragment"
    },
    "tags": []
   },
   "source": [
    "<br>\n",
    "Negative indexes are valid as with Python lists:"
   ]
  },
  {
   "cell_type": "code",
   "execution_count": 27,
   "id": "64e66c60-84d3-4576-b536-e158dfbc233a",
   "metadata": {
    "editable": true,
    "slideshow": {
     "slide_type": ""
    },
    "tags": []
   },
   "outputs": [
    {
     "data": {
      "text/plain": [
       "(109, 100)"
      ]
     },
     "execution_count": 27,
     "metadata": {},
     "output_type": "execute_result"
    }
   ],
   "source": [
    "x[-1],x[-10]"
   ]
  },
  {
   "cell_type": "markdown",
   "id": "dff74a79-e294-4868-967b-420f56131cca",
   "metadata": {
    "editable": true,
    "slideshow": {
     "slide_type": "fragment"
    },
    "tags": []
   },
   "source": [
    "<br>\n",
    "Multi-dimensional arrays are indexed with a comma-separated tuple of indices"
   ]
  },
  {
   "cell_type": "code",
   "execution_count": 28,
   "id": "792b6d12-63a9-4d37-8782-dfac5b638499",
   "metadata": {
    "editable": true,
    "slideshow": {
     "slide_type": ""
    },
    "tags": []
   },
   "outputs": [
    {
     "name": "stdout",
     "output_type": "stream",
     "text": [
      "[[0.66197124 0.0914502  0.58973101 0.21158101]\n",
      " [0.79507563 0.35030598 0.50243648 0.70353915]\n",
      " [0.17162768 0.60105944 0.16003461 0.8265784 ]]\n",
      "0.21158100640626754 0.17162767591793848\n"
     ]
    }
   ],
   "source": [
    "x = np.random.rand(3,4)\n",
    "print(x)\n",
    "print(x[0,3], x[-1,0])"
   ]
  },
  {
   "cell_type": "markdown",
   "id": "c46c3287-4955-403c-9978-8805927a4e55",
   "metadata": {
    "editable": true,
    "slideshow": {
     "slide_type": "slide"
    },
    "tags": []
   },
   "source": [
    "Values can be modified using any of the above index notation."
   ]
  },
  {
   "cell_type": "code",
   "execution_count": 29,
   "id": "e61913c9-647d-435f-a712-f5a75582f6b4",
   "metadata": {
    "editable": true,
    "slideshow": {
     "slide_type": ""
    },
    "tags": []
   },
   "outputs": [
    {
     "name": "stdout",
     "output_type": "stream",
     "text": [
      "[0 1 2 3 4 5 6 7 8 9]\n",
      "[ 0  1  2  3  4  5  6  7  8 20]\n"
     ]
    }
   ],
   "source": [
    "x = np.arange(10)\n",
    "print(x)\n",
    "x[-1] = 20\n",
    "print(x)"
   ]
  },
  {
   "cell_type": "markdown",
   "id": "235f237a-ee9b-4152-80f0-a0321509f768",
   "metadata": {
    "editable": true,
    "slideshow": {
     "slide_type": "fragment"
    },
    "tags": []
   },
   "source": [
    "<br>\n",
    "NumPy arrays have fixed types. If you set a float value to an element of an int array, the value is truncated."
   ]
  },
  {
   "cell_type": "code",
   "execution_count": 30,
   "id": "1f11bb6e-cc04-47ed-894b-8025a7ccbb00",
   "metadata": {
    "editable": true,
    "slideshow": {
     "slide_type": ""
    },
    "tags": []
   },
   "outputs": [
    {
     "name": "stdout",
     "output_type": "stream",
     "text": [
      "[ 0  1  2  3  4  5  6  7  8 20]\n",
      "[ 0  1  2  3  4  5  6  7  8 17]\n"
     ]
    }
   ],
   "source": [
    "print(x)\n",
    "x[-1] = 17.321\n",
    "print(x)"
   ]
  },
  {
   "cell_type": "markdown",
   "id": "4231c331-deaa-41c9-9e79-fe57054b6cf3",
   "metadata": {
    "editable": true,
    "slideshow": {
     "slide_type": "slide"
    },
    "tags": []
   },
   "source": [
    "#### Array slicing\n",
    "\n",
    "<br>\n",
    "\n",
    "NumPy slicing syntax follows that of the standard Python list\n",
    "\n",
    "* `x[start:stop:step]`\n",
    "* If omitted, default values apply:\n",
    "   * `start=0`\n",
    "   * `stop=size_of_dimension`\n",
    "   * `step=1`"
   ]
  },
  {
   "cell_type": "code",
   "execution_count": 31,
   "id": "cb9ad472-75c1-4d65-91b2-af47cd321ab7",
   "metadata": {
    "editable": true,
    "slideshow": {
     "slide_type": "slide"
    },
    "tags": []
   },
   "outputs": [
    {
     "name": "stdout",
     "output_type": "stream",
     "text": [
      "x[:5]=array([0, 1, 2, 3, 4])\n",
      "x[5:]=array([5, 6, 7, 8, 9])\n",
      "x[4:7]=array([4, 5, 6])\n",
      "x[::2]=array([0, 2, 4, 6, 8])\n",
      "x[::-1]=array([9, 8, 7, 6, 5, 4, 3, 2, 1, 0])\n",
      "x[5::-2]=array([5, 3, 1])\n"
     ]
    }
   ],
   "source": [
    "x = np.arange(10)\n",
    "print(f'{x[:5]=}')\n",
    "print(f'{x[5:]=}')\n",
    "print(f'{x[4:7]=}')\n",
    "print(f'{x[::2]=}')\n",
    "print(f'{x[::-1]=}')\n",
    "print(f'{x[5::-2]=}')"
   ]
  },
  {
   "cell_type": "code",
   "execution_count": 32,
   "id": "d5fd2e70-b530-4a38-8181-e21ed9eb846f",
   "metadata": {
    "editable": true,
    "slideshow": {
     "slide_type": "slide"
    },
    "tags": []
   },
   "outputs": [
    {
     "name": "stdout",
     "output_type": "stream",
     "text": [
      "x=array([[0.33270163, 0.54669719, 0.8307106 , 0.96906706, 0.32753498],\n",
      "       [0.08837382, 0.96348912, 0.98930344, 0.91907709, 0.85048569],\n",
      "       [0.49369274, 0.46861656, 0.55895281, 0.1069022 , 0.89873709]])\n",
      "x[1,:]=array([0.08837382, 0.96348912, 0.98930344, 0.91907709, 0.85048569])\n",
      "x[1]=array([0.08837382, 0.96348912, 0.98930344, 0.91907709, 0.85048569])\n",
      "x[:,1]=array([0.54669719, 0.96348912, 0.46861656])\n",
      "x[:2,3:]=array([[0.96906706, 0.32753498],\n",
      "       [0.91907709, 0.85048569]])\n",
      "x[0,::-1]=array([0.32753498, 0.96906706, 0.8307106 , 0.54669719, 0.33270163])\n",
      "x[::-1,1]=array([0.46861656, 0.96348912, 0.54669719])\n"
     ]
    }
   ],
   "source": [
    "x = np.random.rand(3,5)\n",
    "print(f'{x=}')\n",
    "print(f'{x[1,:]=}')\n",
    "print(f'{x[1]=}') # equivalent\n",
    "print(f'{x[:,1]=}')\n",
    "print(f'{x[:2,3:]=}')\n",
    "print(f'{x[0,::-1]=}')\n",
    "print(f'{x[::-1,1]=}')"
   ]
  },
  {
   "cell_type": "markdown",
   "id": "5881fbac-b89c-4829-b3fd-1a6daaaffac5",
   "metadata": {
    "editable": true,
    "slideshow": {
     "slide_type": "slide"
    },
    "tags": []
   },
   "source": [
    "Unlike Python list slices, array slices return **views** rather than copies:\n",
    "\n",
    "<br>"
   ]
  },
  {
   "cell_type": "code",
   "execution_count": 33,
   "id": "6c026835-40fb-459f-942d-2e55b2a39973",
   "metadata": {
    "editable": true,
    "slideshow": {
     "slide_type": ""
    },
    "tags": []
   },
   "outputs": [
    {
     "name": "stdout",
     "output_type": "stream",
     "text": [
      "x=array([[0.61514721, 0.99204581, 0.6925764 , 0.35473485, 0.17346336],\n",
      "       [0.04616806, 0.32678971, 0.35579443, 0.47938721, 0.65897812],\n",
      "       [0.08594221, 0.29644561, 0.20342314, 0.65215974, 0.57715637]])\n",
      "y=array([0.04616806, 0.35579443, 0.65897812])\n",
      "----------------------------------------\n",
      "y=array([0.        , 0.35579443, 0.65897812])\n",
      "x=array([[0.61514721, 0.99204581, 0.6925764 , 0.35473485, 0.17346336],\n",
      "       [0.        , 0.32678971, 0.35579443, 0.47938721, 0.65897812],\n",
      "       [0.08594221, 0.29644561, 0.20342314, 0.65215974, 0.57715637]])\n"
     ]
    }
   ],
   "source": [
    "x = np.random.rand(3,5)\n",
    "print(f'{x=}')\n",
    "y = x[1,::2]\n",
    "print(f'{y=}')\n",
    "print('-'*40)\n",
    "y[0] = 0\n",
    "print(f'{y=}')\n",
    "print(f'{x=}')"
   ]
  },
  {
   "cell_type": "markdown",
   "id": "89006749-ac77-4ded-b01e-1cc72e475e7f",
   "metadata": {
    "editable": true,
    "slideshow": {
     "slide_type": "slide"
    },
    "tags": []
   },
   "source": [
    "Explicit copies of arrays or subarrays (slices) can be created: `x.copy()`\n",
    "\n",
    "<br>"
   ]
  },
  {
   "cell_type": "code",
   "execution_count": 34,
   "id": "e6a08b88-949f-43fb-a9da-e0553fa5872b",
   "metadata": {
    "editable": true,
    "slideshow": {
     "slide_type": ""
    },
    "tags": []
   },
   "outputs": [
    {
     "name": "stdout",
     "output_type": "stream",
     "text": [
      "x=array([[0.68180214, 0.21692997, 0.02226975, 0.03897417, 0.45671379],\n",
      "       [0.8776101 , 0.53915719, 0.52549328, 0.54422628, 0.51641898],\n",
      "       [0.88635236, 0.4101944 , 0.81952181, 0.832217  , 0.59418099]])\n",
      "y=array([0.8776101 , 0.52549328, 0.51641898])\n",
      "----------------------------------------\n",
      "y=array([0.        , 0.52549328, 0.51641898])\n",
      "x=array([[0.68180214, 0.21692997, 0.02226975, 0.03897417, 0.45671379],\n",
      "       [0.8776101 , 0.53915719, 0.52549328, 0.54422628, 0.51641898],\n",
      "       [0.88635236, 0.4101944 , 0.81952181, 0.832217  , 0.59418099]])\n"
     ]
    }
   ],
   "source": [
    "x = np.random.rand(3,5)\n",
    "print(f'{x=}')\n",
    "y = x[1,::2].copy()\n",
    "print(f'{y=}')\n",
    "print('-'*40)\n",
    "y[0] = 0\n",
    "print(f'{y=}')\n",
    "print(f'{x=}')"
   ]
  },
  {
   "cell_type": "markdown",
   "id": "ba275763-f7e9-40c0-8330-3aea925dcf7a",
   "metadata": {
    "editable": true,
    "slideshow": {
     "slide_type": "slide"
    },
    "tags": []
   },
   "source": [
    "#### Reshaping of arrays\n",
    "\n",
    "* `reshape(a, newshape)` &rarr; a reshaped **view** of an array\n",
    "* `a.reshape(newshape)` &rarr; a reshaped **view** of an array\n",
    "\n",
    "<br>"
   ]
  },
  {
   "cell_type": "code",
   "execution_count": 38,
   "id": "d2f1bcea-f9f2-4190-8451-dae997e070c2",
   "metadata": {},
   "outputs": [
    {
     "data": {
      "text/plain": [
       "array([[0, 1, 2, 3, 4],\n",
       "       [5, 6, 7, 8, 9]])"
      ]
     },
     "execution_count": 38,
     "metadata": {},
     "output_type": "execute_result"
    }
   ],
   "source": [
    "np.reshape(np.arange(10), (2, 5))"
   ]
  },
  {
   "cell_type": "markdown",
   "id": "e3a0a8ea-c26b-4880-b11e-d7aba893999c",
   "metadata": {},
   "source": [
    "<br>"
   ]
  },
  {
   "cell_type": "code",
   "execution_count": 39,
   "id": "97d81737-f026-4e75-a374-a10d13e73567",
   "metadata": {},
   "outputs": [
    {
     "data": {
      "text/plain": [
       "array([[0, 1, 2, 3, 4],\n",
       "       [5, 6, 7, 8, 9]])"
      ]
     },
     "execution_count": 39,
     "metadata": {},
     "output_type": "execute_result"
    }
   ],
   "source": [
    "np.arange(10).reshape((2, 5))"
   ]
  },
  {
   "cell_type": "markdown",
   "id": "8702f403-f626-448a-9d81-5d818f059b48",
   "metadata": {},
   "source": [
    "<br>"
   ]
  },
  {
   "cell_type": "code",
   "execution_count": 49,
   "id": "535ce8a1-b3a7-41b1-b151-7c33947d4250",
   "metadata": {},
   "outputs": [
    {
     "name": "stdout",
     "output_type": "stream",
     "text": [
      "a=array([-8,  1,  2,  3,  4,  5,  6,  7,  8,  9])\n",
      "b=array([[-8,  1,  2,  3,  4],\n",
      "       [ 5,  6,  7,  8,  9]])\n",
      "c=array([[-8,  1,  2,  3,  4,  5,  6,  7,  8,  9]])\n"
     ]
    }
   ],
   "source": [
    "a = np.arange(10)\n",
    "b = a.reshape((2,5))\n",
    "c = b.reshape((1,10))\n",
    "b[0,0] = -8\n",
    "print(f'{a=}\\n{b=}\\n{c=}')"
   ]
  },
  {
   "cell_type": "markdown",
   "id": "8546f387-2ba3-4f89-a43a-1a1b9a70ff06",
   "metadata": {
    "editable": true,
    "slideshow": {
     "slide_type": "slide"
    },
    "tags": []
   },
   "source": [
    "`np.newaxis`, when used in Array slicing adds a new dimension (does a reshape):\n",
    "\n",
    "<br>"
   ]
  },
  {
   "cell_type": "code",
   "execution_count": 95,
   "id": "5072c106-6105-4459-b67b-358c2a424285",
   "metadata": {},
   "outputs": [
    {
     "name": "stdout",
     "output_type": "stream",
     "text": [
      "a=array([-8,  1,  2,  3])\n",
      "b=array([[-8,  1,  2,  3]])\n",
      "c=array([[-8],\n",
      "       [ 1],\n",
      "       [ 2],\n",
      "       [ 3]])\n"
     ]
    }
   ],
   "source": [
    "from numpy import newaxis\n",
    "a = np.arange(4)     # vector\n",
    "b = a[newaxis,:]  # row vector  a.reshape((1,4))\n",
    "c = a[:,newaxis]  # column vector a.reshape((4,1))\n",
    "a[0] = -8\n",
    "print(f'{a=}\\n{b=}\\n{c=}')"
   ]
  },
  {
   "cell_type": "markdown",
   "id": "41731524-94f1-4f3e-aa26-fe85d8ad572b",
   "metadata": {
    "editable": true,
    "slideshow": {
     "slide_type": "slide"
    },
    "tags": []
   },
   "source": [
    "#### Array concatenation and splitting\n",
    "\n",
    "<br>\n",
    "\n",
    "* Array **concatenation** &rarr; combine multiple arrays into one\n",
    "   * `np.concatenate` , `np.vstack` and `np.hstack`\n",
    "* Array **splitting** &rarr; split a single array into multiple arrays\n",
    "   * `np.split` , `np.vsplit` and `np.hsplit`"
   ]
  },
  {
   "cell_type": "markdown",
   "id": "cff0644d-a64e-4619-8f20-6d2467838762",
   "metadata": {
    "editable": true,
    "slideshow": {
     "slide_type": "slide"
    },
    "tags": []
   },
   "source": [
    "* `concatenate((a1, a2, ...), axis=0, out=None, dtype=None, casting=\"same_kind\")`\n",
    "   * `(a1, a2, ...)` &rarr; array sequence\n",
    "   * `axis` &rarr; the axis along which the arrays will be joined\n",
    "   * arrays must have the dimension corresponding to `axis`\n",
    "   * arrays must have the same shape, except in the dimension corresponding to `axis`\n",
    "\n",
    "<br>"
   ]
  },
  {
   "cell_type": "code",
   "execution_count": 130,
   "id": "5bd3f63e-d6a5-40ad-b2bb-187e456f7ab9",
   "metadata": {},
   "outputs": [
    {
     "name": "stdout",
     "output_type": "stream",
     "text": [
      "a=array([0, 1, 2, 3])\n",
      "b=array([4, 5, 6, 7])\n",
      "c=array([ 8,  9, 10, 11])\n",
      "d=array([ 0,  1,  2,  3,  4,  5,  6,  7,  8,  9, 10, 11])\n"
     ]
    }
   ],
   "source": [
    "a = np.arange(0,4)\n",
    "b = np.arange(4,8)\n",
    "c = np.arange(8,12)\n",
    "d = np.concatenate((a,b,c))\n",
    "print(f'{a=}\\n{b=}\\n{c=}\\n{d=}')"
   ]
  },
  {
   "cell_type": "markdown",
   "id": "7030458f-824e-40c2-881f-e054cc246056",
   "metadata": {
    "editable": true,
    "slideshow": {
     "slide_type": ""
    },
    "tags": []
   },
   "source": [
    "<br>"
   ]
  },
  {
   "cell_type": "code",
   "execution_count": 131,
   "id": "e27a4a6f-2d68-487f-8b18-ccff1cdda79e",
   "metadata": {},
   "outputs": [],
   "source": [
    "# ERROR: arrays a,b and c does not have dimension 1\n",
    "#np.concatenate((a,b,c), axis=1)"
   ]
  },
  {
   "cell_type": "code",
   "execution_count": 132,
   "id": "4aa7d9b0-a813-46e7-bc71-27e9705ba561",
   "metadata": {
    "editable": true,
    "slideshow": {
     "slide_type": "slide"
    },
    "tags": []
   },
   "outputs": [
    {
     "name": "stdout",
     "output_type": "stream",
     "text": [
      "a2=array([[0, 1, 2, 3]])\n",
      "b2=array([[4, 5, 6, 7]])\n",
      "c2=array([[ 8,  9, 10, 11]])\n"
     ]
    }
   ],
   "source": [
    "a2,b2,c2 = a[newaxis,:],b[newaxis,:],c[newaxis,:]\n",
    "print(f'{a2=}\\n{b2=}\\n{c2=}')"
   ]
  },
  {
   "cell_type": "markdown",
   "id": "5f9690c6-ff46-444f-ad79-43a60d18f15d",
   "metadata": {
    "editable": true,
    "slideshow": {
     "slide_type": ""
    },
    "tags": []
   },
   "source": [
    "<br>"
   ]
  },
  {
   "cell_type": "code",
   "execution_count": 133,
   "id": "396c04b1-a148-4661-b6f0-9d8f871b4e97",
   "metadata": {},
   "outputs": [
    {
     "data": {
      "text/plain": [
       "array([[ 0,  1,  2,  3],\n",
       "       [ 4,  5,  6,  7],\n",
       "       [ 8,  9, 10, 11]])"
      ]
     },
     "execution_count": 133,
     "metadata": {},
     "output_type": "execute_result"
    }
   ],
   "source": [
    "np.concatenate((a2,b2,c2))"
   ]
  },
  {
   "cell_type": "markdown",
   "id": "430ff8d1-d8a9-4e46-b51e-74ccc43bbd11",
   "metadata": {
    "editable": true,
    "slideshow": {
     "slide_type": ""
    },
    "tags": []
   },
   "source": [
    "<br>"
   ]
  },
  {
   "cell_type": "code",
   "execution_count": 134,
   "id": "eec6c8ff-35c6-4305-a2ca-c3af034cb79e",
   "metadata": {},
   "outputs": [
    {
     "data": {
      "text/plain": [
       "array([[ 0,  1,  2,  3],\n",
       "       [ 4,  5,  6,  7],\n",
       "       [ 8,  9, 10, 11]])"
      ]
     },
     "execution_count": 134,
     "metadata": {},
     "output_type": "execute_result"
    }
   ],
   "source": [
    "np.concatenate((a2,b2,c2), axis=0)"
   ]
  },
  {
   "cell_type": "markdown",
   "id": "dae9c584-4338-4975-b287-1bd5f13c94e7",
   "metadata": {
    "editable": true,
    "slideshow": {
     "slide_type": ""
    },
    "tags": []
   },
   "source": [
    "<br>"
   ]
  },
  {
   "cell_type": "code",
   "execution_count": 135,
   "id": "5a9e395d-2369-4243-9061-a9e10a02124f",
   "metadata": {},
   "outputs": [
    {
     "data": {
      "text/plain": [
       "array([[ 0,  1,  2,  3,  4,  5,  6,  7,  8,  9, 10, 11]])"
      ]
     },
     "execution_count": 135,
     "metadata": {},
     "output_type": "execute_result"
    }
   ],
   "source": [
    "np.concatenate((a2,b2,c2), axis=1)"
   ]
  },
  {
   "cell_type": "markdown",
   "id": "4a627ecd-2160-428f-8b56-85b16d9b7512",
   "metadata": {
    "editable": true,
    "slideshow": {
     "slide_type": "slide"
    },
    "tags": []
   },
   "source": [
    "* `vstack` and `hstack` - 2 (or more) dimensional arrays\n",
    "    * `vstack((a1, a2, ...))` == `concatenate((a1, a2, ...), axis=0)`\n",
    "    * `hstack((a1, a2, ...))` == `concatenate((a1, a2, ...), axis=1)`\n",
    "\n",
    "<br>"
   ]
  },
  {
   "cell_type": "code",
   "execution_count": 136,
   "id": "09953b6f-7f56-4cf1-b5bd-902c10e0e96b",
   "metadata": {
    "editable": true,
    "slideshow": {
     "slide_type": "fragment"
    },
    "tags": []
   },
   "outputs": [
    {
     "name": "stdout",
     "output_type": "stream",
     "text": [
      "a=array([[0, 1, 2, 3],\n",
      "       [4, 5, 6, 7]])\n",
      "b=array([[ 8,  9, 10, 11],\n",
      "       [12, 13, 14, 15]])\n",
      "c=array([[ 0,  1,  2,  3,  8,  9, 10, 11],\n",
      "       [ 4,  5,  6,  7, 12, 13, 14, 15]])\n",
      "d=array([[ 0,  1,  2,  3,  8,  9, 10, 11],\n",
      "       [ 4,  5,  6,  7, 12, 13, 14, 15]])\n",
      "e=array([[ 0,  1,  2,  3],\n",
      "       [ 4,  5,  6,  7],\n",
      "       [ 8,  9, 10, 11],\n",
      "       [12, 13, 14, 15]])\n",
      "f=array([[ 0,  1,  2,  3],\n",
      "       [ 4,  5,  6,  7],\n",
      "       [ 8,  9, 10, 11],\n",
      "       [12, 13, 14, 15]])\n"
     ]
    }
   ],
   "source": [
    "a = np.arange(0,8).reshape((2,4))\n",
    "b = np.arange(8,16).reshape((2,4))\n",
    "c = np.hstack((a,b))\n",
    "d = np.concatenate((a,b), axis=1)\n",
    "e = np.vstack((a,b))\n",
    "f = np.concatenate((a,b), axis=0)\n",
    "print(f'{a=}\\n{b=}\\n{c=}\\n{d=}\\n{e=}\\n{f=}')"
   ]
  },
  {
   "cell_type": "markdown",
   "id": "9ba96603-0c92-4d3d-81e4-a03cabfa7b6e",
   "metadata": {
    "editable": true,
    "slideshow": {
     "slide_type": "slide"
    },
    "tags": []
   },
   "source": [
    "* `vstack` and `hstack` - 1 dimensional arrays\n",
    "    * `vstack((a1, a2, ...))` == `concatenate((a1[newaxis,:], a2[newaxis,:], ...))`\n",
    "    * `hstack((a1, a2, ...))` == `concatenate((a1, a2, ...))`\n",
    "\n",
    "<br>"
   ]
  },
  {
   "cell_type": "code",
   "execution_count": 138,
   "id": "7384268a-f0c6-4fe7-a1b0-81e30a039639",
   "metadata": {},
   "outputs": [
    {
     "name": "stdout",
     "output_type": "stream",
     "text": [
      "a=array([0, 1, 2, 3])\n",
      "b=array([4, 5, 6, 7])\n",
      "c=array([0, 1, 2, 3, 4, 5, 6, 7])\n",
      "d=array([0, 1, 2, 3, 4, 5, 6, 7])\n",
      "e=array([[0, 1, 2, 3],\n",
      "       [4, 5, 6, 7]])\n",
      "f=array([[0, 1, 2, 3],\n",
      "       [4, 5, 6, 7]])\n"
     ]
    }
   ],
   "source": [
    "a = np.arange(0,4)\n",
    "b = np.arange(4,8)\n",
    "c = np.hstack((a,b))\n",
    "d = np.concatenate((a,b))\n",
    "e = np.vstack((a,b))\n",
    "f = np.concatenate((a[newaxis,:],b[newaxis,:]))\n",
    "print(f'{a=}\\n{b=}\\n{c=}\\n{d=}\\n{e=}\\n{f=}')"
   ]
  },
  {
   "cell_type": "markdown",
   "id": "7891c70f-bf93-4b04-a5d7-3675eb386908",
   "metadata": {
    "editable": true,
    "slideshow": {
     "slide_type": "slide"
    },
    "tags": []
   },
   "source": [
    "* `split(a, split_points, axis=0)`\n",
    "   * `a` &rarr; the array to split\n",
    "   *  `split_points`\n",
    "      * $N$ (int) &rarr; array is divided into $N$ equal arrays (or fails)\n",
    "      * integer seq &rarr; split indexes (points)\n",
    "   * `axis` &rarr; the axis along which to split\n",
    "\n",
    "<br>"
   ]
  },
  {
   "cell_type": "code",
   "execution_count": 153,
   "id": "033e7d5d-0630-452e-a13b-8d746703dcb5",
   "metadata": {
    "editable": true,
    "slideshow": {
     "slide_type": "slide"
    },
    "tags": []
   },
   "outputs": [
    {
     "name": "stdout",
     "output_type": "stream",
     "text": [
      "a=array([[ 0,  1,  2,  3,  4,  5,  6],\n",
      "       [ 7,  8,  9, 10, 11, 12, 13],\n",
      "       [14, 15, 16, 17, 18, 19, 20],\n",
      "       [21, 22, 23, 24, 25, 26, 27],\n",
      "       [28, 29, 30, 31, 32, 33, 34],\n",
      "       [35, 36, 37, 38, 39, 40, 41]])\n",
      "upper=array([[ 0,  1,  2,  3,  4,  5,  6],\n",
      "       [ 7,  8,  9, 10, 11, 12, 13]])\n",
      "center=array([[14, 15, 16, 17, 18, 19, 20],\n",
      "       [21, 22, 23, 24, 25, 26, 27]])\n",
      "lower=array([[28, 29, 30, 31, 32, 33, 34],\n",
      "       [35, 36, 37, 38, 39, 40, 41]])\n"
     ]
    }
   ],
   "source": [
    "a = np.arange(42).reshape((6,7))\n",
    "upper,center,lower = np.split(a,3)\n",
    "print(f'{a=}\\n{upper=}\\n{center=}\\n{lower=}')"
   ]
  },
  {
   "cell_type": "code",
   "execution_count": 151,
   "id": "2815b29c-f1ff-40a8-b7a9-e69c0bc5d2e4",
   "metadata": {
    "editable": true,
    "slideshow": {
     "slide_type": "fragment"
    },
    "tags": []
   },
   "outputs": [],
   "source": [
    "a = np.arange(42).reshape((6,7))\n",
    "# ERROR: array split does not result in an equal division\n",
    "#upper,lower = np.split(a,2,axis=1)"
   ]
  },
  {
   "cell_type": "code",
   "execution_count": 181,
   "id": "cdf3bced-aef0-48dc-b342-c6c466cadd81",
   "metadata": {
    "editable": true,
    "slideshow": {
     "slide_type": "slide"
    },
    "tags": []
   },
   "outputs": [
    {
     "name": "stdout",
     "output_type": "stream",
     "text": [
      "a=array([[ 0,  1,  2,  3,  4,  5],\n",
      "       [ 6,  7,  8,  9, 10, 11],\n",
      "       [12, 13, 14, 15, 16, 17],\n",
      "       [18, 19, 20, 21, 22, 23],\n",
      "       [24, 25, 26, 27, 28, 29],\n",
      "       [30, 31, 32, 33, 34, 35]])\n",
      "upper=array([[0, 1, 2, 3, 4, 5]])\n",
      "center=array([[ 6,  7,  8,  9, 10, 11],\n",
      "       [12, 13, 14, 15, 16, 17]])\n",
      "lower=array([[18, 19, 20, 21, 22, 23],\n",
      "       [24, 25, 26, 27, 28, 29],\n",
      "       [30, 31, 32, 33, 34, 35]])\n"
     ]
    }
   ],
   "source": [
    "a = np.arange(36).reshape((6,6))\n",
    "upper,center,lower = np.split(a,(1,3))\n",
    "print(f'{a=}\\n{upper=}\\n{center=}\\n{lower=}')"
   ]
  },
  {
   "cell_type": "markdown",
   "id": "9d04077d-58eb-41f8-92de-80994b0008aa",
   "metadata": {},
   "source": [
    "<br>"
   ]
  },
  {
   "cell_type": "code",
   "execution_count": 182,
   "id": "50a18f18-5f78-417c-ac49-350b9e07f90e",
   "metadata": {
    "editable": true,
    "slideshow": {
     "slide_type": "fragment"
    },
    "tags": []
   },
   "outputs": [
    {
     "name": "stdout",
     "output_type": "stream",
     "text": [
      "a=array([[ 0,  1,  2,  3,  4,  5,  6],\n",
      "       [ 7,  8,  9, 10, 11, 12, 13]])\n",
      "left=array([[0],\n",
      "       [7]])\n",
      "center=array([[1, 2],\n",
      "       [8, 9]])\n",
      "right=array([[ 3,  4,  5,  6],\n",
      "       [10, 11, 12, 13]])\n"
     ]
    }
   ],
   "source": [
    "a = np.arange(0,14).reshape((2,7))\n",
    "left,center,right = np.split(a,(1,3), axis=1)\n",
    "print(f'{a=}\\n{left=}\\n{center=}\\n{right=}')"
   ]
  },
  {
   "cell_type": "markdown",
   "id": "51ff2d35-3001-4e0e-98c3-8f051191ddc7",
   "metadata": {
    "editable": true,
    "slideshow": {
     "slide_type": "slide"
    },
    "tags": []
   },
   "source": [
    "* `vsplit` and `hsplit` - 2 (or more) dimensional arrays\n",
    "    * `vsplit(a,ii)` == `split(a, ii, axis=0)`\n",
    "    * `hsplit(a,ii)` == `split(a, ii, axis=1)`\n",
    "* `hsplit` - 1 dimensional arrays\n",
    "    * `hsplit(a,ii)` == `split(a, ii)`\n",
    "\n",
    "<br>"
   ]
  },
  {
   "cell_type": "code",
   "execution_count": 183,
   "id": "bf3ac43d-e3a8-46a9-a155-adbaf46f3385",
   "metadata": {
    "editable": true,
    "slideshow": {
     "slide_type": "slide"
    },
    "tags": []
   },
   "outputs": [
    {
     "name": "stdout",
     "output_type": "stream",
     "text": [
      "a=array([[ 0,  1,  2,  3],\n",
      "       [ 4,  5,  6,  7],\n",
      "       [ 8,  9, 10, 11],\n",
      "       [12, 13, 14, 15]])\n",
      "b=array([[0, 1, 2, 3],\n",
      "       [4, 5, 6, 7]])\n",
      "c=array([[ 8,  9, 10, 11],\n",
      "       [12, 13, 14, 15]])\n",
      "d=array([[0, 1, 2, 3],\n",
      "       [4, 5, 6, 7]])\n",
      "e=array([[ 8,  9, 10, 11],\n",
      "       [12, 13, 14, 15]])\n"
     ]
    }
   ],
   "source": [
    "a = np.arange(16).reshape((4,4))\n",
    "b,c = np.vsplit(a,2)\n",
    "d,e = np.split(a,2, axis=0)\n",
    "print(f'{a=}\\n{b=}\\n{c=}\\n{d=}\\n{e=}')"
   ]
  },
  {
   "cell_type": "code",
   "execution_count": 174,
   "id": "71234023-a9a3-4e94-af93-29cccd84af83",
   "metadata": {
    "editable": true,
    "slideshow": {
     "slide_type": "slide"
    },
    "tags": []
   },
   "outputs": [
    {
     "name": "stdout",
     "output_type": "stream",
     "text": [
      "a=array([[ 0,  1,  2,  3],\n",
      "       [ 4,  5,  6,  7],\n",
      "       [ 8,  9, 10, 11],\n",
      "       [12, 13, 14, 15]])\n",
      "b=array([[ 0,  1],\n",
      "       [ 4,  5],\n",
      "       [ 8,  9],\n",
      "       [12, 13]])\n",
      "c=array([[ 2,  3],\n",
      "       [ 6,  7],\n",
      "       [10, 11],\n",
      "       [14, 15]])\n",
      "d=array([[ 0,  1],\n",
      "       [ 4,  5],\n",
      "       [ 8,  9],\n",
      "       [12, 13]])\n",
      "e=array([[ 2,  3],\n",
      "       [ 6,  7],\n",
      "       [10, 11],\n",
      "       [14, 15]])\n"
     ]
    }
   ],
   "source": [
    "a = np.arange(16).reshape((4,4))\n",
    "b,c = np.hsplit(a,2)\n",
    "d,e = np.split(a,2, axis=1)\n",
    "print(f'{a=}\\n{b=}\\n{c=}\\n{d=}\\n{e=}')"
   ]
  },
  {
   "cell_type": "code",
   "execution_count": 175,
   "id": "b6c5e454-f7f1-4ca9-b8df-22da208238ef",
   "metadata": {
    "editable": true,
    "slideshow": {
     "slide_type": "slide"
    },
    "tags": []
   },
   "outputs": [
    {
     "name": "stdout",
     "output_type": "stream",
     "text": [
      "a=array([ 0,  1,  2,  3,  4,  5,  6,  7,  8,  9, 10, 11, 12, 13, 14, 15])\n",
      "b=array([0, 1, 2, 3, 4, 5, 6, 7])\n",
      "c=array([ 8,  9, 10, 11, 12, 13, 14, 15])\n",
      "d=array([0, 1, 2, 3, 4, 5, 6, 7])\n",
      "e=array([ 8,  9, 10, 11, 12, 13, 14, 15])\n"
     ]
    }
   ],
   "source": [
    "a = np.arange(16)\n",
    "b,c = np.hsplit(a,2)\n",
    "d,e = np.split(a,2)\n",
    "print(f'{a=}\\n{b=}\\n{c=}\\n{d=}\\n{e=}')"
   ]
  },
  {
   "cell_type": "code",
   "execution_count": 184,
   "id": "e09c6363-c398-4542-aa21-b7d42a506114",
   "metadata": {},
   "outputs": [],
   "source": [
    "#help(np.vsplit)"
   ]
  },
  {
   "cell_type": "markdown",
   "id": "5a5a3bce-62cc-4ff2-ab43-6620fb51d642",
   "metadata": {
    "editable": true,
    "slideshow": {
     "slide_type": "slide"
    },
    "tags": []
   },
   "source": [
    "## UFuncs - Universal Functions"
   ]
  },
  {
   "cell_type": "markdown",
   "id": "f67fd42a-8e3e-46c3-bb3e-9058818ed0e8",
   "metadata": {
    "editable": true,
    "slideshow": {
     "slide_type": "slide"
    },
    "tags": []
   },
   "source": [
    "## Aggregations Functions"
   ]
  },
  {
   "cell_type": "markdown",
   "id": "b80af315-89f5-4d27-9750-8d5b3c34f9a4",
   "metadata": {
    "editable": true,
    "slideshow": {
     "slide_type": "slide"
    },
    "tags": []
   },
   "source": [
    "## Broadcasting"
   ]
  },
  {
   "cell_type": "markdown",
   "id": "57ad21bd-f872-44bc-9b53-f5075d9b714b",
   "metadata": {
    "editable": true,
    "slideshow": {
     "slide_type": "slide"
    },
    "tags": []
   },
   "source": [
    "## Boolean Manipulation"
   ]
  },
  {
   "cell_type": "markdown",
   "id": "0a366451-dfdc-43fb-bf69-85bbecb909bb",
   "metadata": {
    "editable": true,
    "slideshow": {
     "slide_type": "slide"
    },
    "tags": []
   },
   "source": [
    "## Fancy Indexing"
   ]
  }
 ],
 "metadata": {
  "kernelspec": {
   "display_name": "Python 3 (ipykernel)",
   "language": "python",
   "name": "python3"
  },
  "language_info": {
   "codemirror_mode": {
    "name": "ipython",
    "version": 3
   },
   "file_extension": ".py",
   "mimetype": "text/x-python",
   "name": "python",
   "nbconvert_exporter": "python",
   "pygments_lexer": "ipython3",
   "version": "3.12.6"
  }
 },
 "nbformat": 4,
 "nbformat_minor": 5
}
