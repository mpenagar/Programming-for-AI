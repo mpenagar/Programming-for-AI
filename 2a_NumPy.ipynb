{
 "cells": [
  {
   "cell_type": "markdown",
   "id": "b5610e6f-6d05-4a8e-a4a0-1a273ffc0034",
   "metadata": {
    "editable": true,
    "slideshow": {
     "slide_type": ""
    },
    "tags": []
   },
   "source": [
    "# NumPy"
   ]
  },
  {
   "cell_type": "markdown",
   "id": "c5322638-9544-4caf-89aa-f34ce3493323",
   "metadata": {
    "editable": true,
    "slideshow": {
     "slide_type": "fragment"
    },
    "tags": []
   },
   "source": [
    "* Jake VanderPlas. 2016. *Python Data Science Handbook: Essential Tools for Working with Data*. O'Reilly Media, Inc.\n",
    "* Chapter 2 - Introduction to NumPy\n",
    "* https://github.com/jakevdp/PythonDataScienceHandbook"
   ]
  },
  {
   "cell_type": "code",
   "execution_count": 2,
   "id": "4be931b3-3bbe-498e-8c1c-0dfd12343920",
   "metadata": {
    "editable": true,
    "slideshow": {
     "slide_type": "fragment"
    },
    "tags": []
   },
   "outputs": [
    {
     "data": {
      "text/plain": [
       "'1.26.4'"
      ]
     },
     "execution_count": 2,
     "metadata": {},
     "output_type": "execute_result"
    }
   ],
   "source": [
    "import numpy as np\n",
    "np.__version__"
   ]
  },
  {
   "cell_type": "code",
   "execution_count": 2,
   "id": "fd4a9a01-ff44-462d-9b15-9c9a0b1bd5e5",
   "metadata": {
    "editable": true,
    "slideshow": {
     "slide_type": ""
    },
    "tags": []
   },
   "outputs": [],
   "source": [
    "# type TAB to get the HUGE numpy namespace\n",
    "#np."
   ]
  },
  {
   "cell_type": "markdown",
   "id": "d1e6ccf7-bd0a-4d54-ad95-81a50e6974b3",
   "metadata": {
    "editable": true,
    "jp-MarkdownHeadingCollapsed": true,
    "slideshow": {
     "slide_type": "slide"
    },
    "tags": []
   },
   "source": [
    "## Data Types\n",
    "\n",
    "NumPy provides an alternative implementation for numerical arrays, improving the performance of data-driven computation compared to standard Python built-in lists.\n"
   ]
  },
  {
   "cell_type": "markdown",
   "id": "7810e5a2-5306-4d20-9965-e6bb09af96a1",
   "metadata": {
    "editable": true,
    "slideshow": {
     "slide_type": "slide"
    },
    "tags": []
   },
   "source": [
    "### Python Integers vs C Integers\n",
    "\n",
    "* Python `int`s are *complex* objects (written in C)\n",
    "   * Dynamically-typed language\n",
    "   * Almost infinite integer arithmetic precision\n",
    "```c\n",
    "struct _longobject {\n",
    "    long ob_refcnt;         # reference count\n",
    "    PyTypeObject *ob_type;  # type of the variable\n",
    "    size_t ob_size;         # size of the following data members\n",
    "    long ob_digit[1];       # integer value encoded into a long array\n",
    "};\n",
    "```\n",
    "* C language integers (char, short, int, long, long...) are simple references to a position in memory whose bytes encode an integer value."
   ]
  },
  {
   "cell_type": "markdown",
   "id": "10fe6e07-b6df-41a1-b6aa-2bde7df83133",
   "metadata": {
    "editable": true,
    "slideshow": {
     "slide_type": "slide"
    },
    "tags": []
   },
   "source": [
    "### Python Lists vs NumPy Arrays\n",
    "\n",
    "* Python `list`s are *complex* objects (much more than `int`s)\n",
    "   * `list`s are heterogeneous\n",
    "   * Different object types are different sizes \n",
    "   * `list`s contain an array with <u>references</u> to each object\n",
    "   * Contain a pointer to a block of pointers, each of which points to a Python object\n",
    "* *Standard* Numpy arrays are homogeneus.\n",
    "   * Contain a single pointer to one contiguous block of data."
   ]
  },
  {
   "cell_type": "markdown",
   "id": "1d3a3002-207d-442d-8a4a-ee195f56017b",
   "metadata": {
    "editable": true,
    "slideshow": {
     "slide_type": "slide"
    },
    "tags": []
   },
   "source": [
    "<center><img src=\"img/array_vs_list.png\" alt=\"NumPy array vs python list\" style=\"width: 100%;\"/></center>"
   ]
  },
  {
   "cell_type": "markdown",
   "id": "ec28a983-959d-4775-a5a0-ed747ff2e52c",
   "metadata": {
    "editable": true,
    "jp-MarkdownHeadingCollapsed": true,
    "slideshow": {
     "slide_type": "slide"
    },
    "tags": []
   },
   "source": [
    "## NumPy Arrays"
   ]
  },
  {
   "cell_type": "markdown",
   "id": "f62a3550-b34d-4bf3-a1f8-4429568abf69",
   "metadata": {
    "editable": true,
    "jp-MarkdownHeadingCollapsed": true,
    "slideshow": {
     "slide_type": "slide"
    },
    "tags": []
   },
   "source": [
    "### Creating Arrays from Python Lists\n",
    "\n",
    "* `np.array(some_list)` &rarr; create an (homogeneous) array\n",
    "* `np.array(some_list, dtype=<data type>)` &rarr; create an array of a given type\n",
    "\n",
    "<br>"
   ]
  },
  {
   "cell_type": "code",
   "execution_count": 3,
   "id": "17bf3037-820f-4c98-b057-e113e8ce0584",
   "metadata": {
    "editable": true,
    "slideshow": {
     "slide_type": "fragment"
    },
    "tags": []
   },
   "outputs": [
    {
     "data": {
      "text/plain": [
       "array([1, 4, 2, 5, 3])"
      ]
     },
     "execution_count": 3,
     "metadata": {},
     "output_type": "execute_result"
    }
   ],
   "source": [
    "np.array([1, 4, 2, 5, 3])"
   ]
  },
  {
   "cell_type": "markdown",
   "id": "837795d3-fc4b-490f-a471-b16a0a596368",
   "metadata": {
    "editable": true,
    "slideshow": {
     "slide_type": ""
    },
    "tags": []
   },
   "source": [
    "<br>"
   ]
  },
  {
   "cell_type": "code",
   "execution_count": 4,
   "id": "997c719e-a7cc-46f3-9b84-6e32d624248a",
   "metadata": {
    "editable": true,
    "slideshow": {
     "slide_type": "fragment"
    },
    "tags": []
   },
   "outputs": [
    {
     "data": {
      "text/plain": [
       "array([1., 4., 2., 5., 3.], dtype=float32)"
      ]
     },
     "execution_count": 4,
     "metadata": {},
     "output_type": "execute_result"
    }
   ],
   "source": [
    "np.array([1, 4, 2, 5, 3], dtype='float32')"
   ]
  },
  {
   "cell_type": "markdown",
   "id": "7897d659-6b00-46da-8d93-013334c51ae6",
   "metadata": {
    "editable": true,
    "slideshow": {
     "slide_type": "fragment"
    },
    "tags": []
   },
   "source": [
    "<br>\n",
    "If types do not match, NumPy will upcast if possible:"
   ]
  },
  {
   "cell_type": "code",
   "execution_count": 5,
   "id": "55446c16-23b2-40bc-9fd0-8fd1e4cfee05",
   "metadata": {},
   "outputs": [
    {
     "data": {
      "text/plain": [
       "array([1. , 4. , 2. , 5.9, 3. ])"
      ]
     },
     "execution_count": 5,
     "metadata": {},
     "output_type": "execute_result"
    }
   ],
   "source": [
    "np.array([1, 4, 2, 5.9, 3])"
   ]
  },
  {
   "cell_type": "markdown",
   "id": "72556a94-4ee1-4f6f-a66e-04e22b0b4f17",
   "metadata": {
    "editable": true,
    "slideshow": {
     "slide_type": "fragment"
    },
    "tags": []
   },
   "source": [
    "<br>\n",
    "Nested lists result in multi-dimensional arrays"
   ]
  },
  {
   "cell_type": "code",
   "execution_count": 6,
   "id": "2602aead-d95f-4c30-b7d4-916a081cc09f",
   "metadata": {},
   "outputs": [
    {
     "data": {
      "text/plain": [
       "array([[ 0,  1,  2,  3],\n",
       "       [10, 11, 12, 13],\n",
       "       [20, 21, 22, 23]])"
      ]
     },
     "execution_count": 6,
     "metadata": {},
     "output_type": "execute_result"
    }
   ],
   "source": [
    "np.array([[ 0,  1,  2,  3], [10, 11, 12, 13], [20, 21, 22, 23]])"
   ]
  },
  {
   "cell_type": "markdown",
   "id": "b363c206-a8c2-4da3-a93b-0ce2d93ddcdb",
   "metadata": {
    "editable": true,
    "jp-MarkdownHeadingCollapsed": true,
    "slideshow": {
     "slide_type": "slide"
    },
    "tags": []
   },
   "source": [
    "### NumPy Standard Data Types\n",
    "\n",
    "when constructing an array, the data type (`dtype`) argument can be specified using:\n",
    " * string &rarr; `dtype='float32'`\n",
    " * NumPy object &rarr; `dtype=np.float32`"
   ]
  },
  {
   "cell_type": "markdown",
   "id": "0485c21d-9dbd-4305-87c0-92537aaae168",
   "metadata": {
    "editable": true,
    "slideshow": {
     "slide_type": ""
    },
    "tags": []
   },
   "source": [
    "<br>"
   ]
  },
  {
   "cell_type": "code",
   "execution_count": 7,
   "id": "24e5c96a-8a69-4f97-966b-77700748dc3a",
   "metadata": {
    "editable": true,
    "slideshow": {
     "slide_type": ""
    },
    "tags": []
   },
   "outputs": [
    {
     "data": {
      "text/plain": [
       "array([1., 4., 2., 5., 3.], dtype=float32)"
      ]
     },
     "execution_count": 7,
     "metadata": {},
     "output_type": "execute_result"
    }
   ],
   "source": [
    "np.array([1, 4, 2, 5, 3], dtype='float32')"
   ]
  },
  {
   "cell_type": "markdown",
   "id": "3f35869c-08cb-44e6-80d5-94a44d23a531",
   "metadata": {
    "editable": true,
    "slideshow": {
     "slide_type": ""
    },
    "tags": []
   },
   "source": [
    "<br>"
   ]
  },
  {
   "cell_type": "code",
   "execution_count": 8,
   "id": "46a6ff79-6021-4b19-9769-f37611e76a78",
   "metadata": {
    "editable": true,
    "slideshow": {
     "slide_type": ""
    },
    "tags": []
   },
   "outputs": [
    {
     "data": {
      "text/plain": [
       "array([1., 4., 2., 5., 3.], dtype=float32)"
      ]
     },
     "execution_count": 8,
     "metadata": {},
     "output_type": "execute_result"
    }
   ],
   "source": [
    "np.array([1, 4, 2, 5, 3], dtype=np.float32)"
   ]
  },
  {
   "cell_type": "markdown",
   "id": "2600c815-b11f-42a5-914b-e723c7f958bc",
   "metadata": {
    "editable": true,
    "slideshow": {
     "slide_type": "slide"
    },
    "tags": []
   },
   "source": [
    "|  Data type | Description                                                                   |   |   |   |\n",
    "|:----------:|-------------------------------------------------------------------------------|---|---|---|\n",
    "| bool_      | Boolean (True or False) stored as a byte                                      |   |   |   |\n",
    "| int_       | Default integer type (same as C long; normally either int64 or int32)         |   |   |   |\n",
    "| intc       | Identical to C int (normally int32 or int64)                                  |   |   |   |\n",
    "| intp       | Integer used for indexing (same as C ssize_t; normally either int32 or int64) |   |   |   |\n",
    "| int8       | Byte (-128 to 127)                                                            |   |   |   |\n",
    "| int16      | Integer (-32768 to 32767)                                                     |   |   |   |\n",
    "| int32      | Integer (-2147483648 to 2147483647)                                           |   |   |   |\n",
    "| int64      | Integer (-9223372036854775808 to 9223372036854775807)                         |   |   |   |\n",
    "| uint8      | Unsigned integer (0 to 255)                                                   |   |   |   |\n",
    "| uint16     | Unsigned integer (0 to 65535)                                                 |   |   |   |\n",
    "| uint32     | Unsigned integer (0 to 4294967295)                                            |   |   |   |\n",
    "| uint64     | Unsigned integer (0 to 18446744073709551615)                                  |   |   |   |\n",
    "| float_     | Shorthand for float64.                                                        |   |   |   |\n",
    "| float16    | Half precision float: sign bit, 5 bits exponent, 10 bits mantissa             |   |   |   |\n",
    "| float32    | Single precision float: sign bit, 8 bits exponent, 23 bits mantissa           |   |   |   |\n",
    "| float64    | Double precision float: sign bit, 11 bits exponent, 52 bits mantissa          |   |   |   |\n",
    "| complex_   | Shorthand for complex128.                                                     |   |   |   |\n",
    "| complex64  | Complex number, represented by two 32-bit floats                              |   |   |   |\n",
    "| complex128 | Complex number, represented by two 64-bit floats                              |   |   |   |"
   ]
  },
  {
   "cell_type": "markdown",
   "id": "fa9545be-d1a3-4876-9eb4-013b003e2127",
   "metadata": {
    "editable": true,
    "slideshow": {
     "slide_type": "slide"
    },
    "tags": []
   },
   "source": [
    "### Creating Arrays from Scratch\n",
    "\n",
    "Default values of `dtype` (most of times):\n",
    " * Integers &rarr; `int64`\n",
    " * Reals (floating point) &rarr; `float64`"
   ]
  },
  {
   "cell_type": "markdown",
   "id": "0f41502c-4c85-4216-9267-3d0e5334d7ee",
   "metadata": {
    "editable": true,
    "slideshow": {
     "slide_type": "slide"
    },
    "tags": []
   },
   "source": [
    "<br>\n",
    "\n",
    "* `np.zeros(10)` &rarr; a length-10 array filled with zeros "
   ]
  },
  {
   "cell_type": "markdown",
   "id": "05667f0b-40bd-4615-af45-2f1629f8f0cc",
   "metadata": {
    "editable": true,
    "slideshow": {
     "slide_type": ""
    },
    "tags": []
   },
   "source": [
    "<br>"
   ]
  },
  {
   "cell_type": "code",
   "execution_count": 9,
   "id": "b1a26ba6-a145-4e81-ab8d-e55d849a5bf2",
   "metadata": {
    "editable": true,
    "slideshow": {
     "slide_type": ""
    },
    "tags": []
   },
   "outputs": [
    {
     "data": {
      "text/plain": [
       "array([0., 0., 0., 0., 0., 0., 0., 0., 0., 0.])"
      ]
     },
     "execution_count": 9,
     "metadata": {},
     "output_type": "execute_result"
    }
   ],
   "source": [
    "np.zeros(10)"
   ]
  },
  {
   "cell_type": "markdown",
   "id": "846f3b9a-d9c8-46ae-8d09-888a0dfa25d5",
   "metadata": {
    "editable": true,
    "slideshow": {
     "slide_type": ""
    },
    "tags": []
   },
   "source": [
    "<br>"
   ]
  },
  {
   "cell_type": "code",
   "execution_count": 10,
   "id": "5d69d3df-2574-4d65-a0af-67869846fd95",
   "metadata": {
    "editable": true,
    "slideshow": {
     "slide_type": ""
    },
    "tags": []
   },
   "outputs": [
    {
     "data": {
      "text/plain": [
       "array([0, 0, 0, 0, 0, 0, 0, 0, 0, 0])"
      ]
     },
     "execution_count": 10,
     "metadata": {},
     "output_type": "execute_result"
    }
   ],
   "source": [
    "np.zeros(10, dtype='int64')"
   ]
  },
  {
   "cell_type": "markdown",
   "id": "3011128a-c580-45c7-b3f2-613c1c9f6002",
   "metadata": {
    "editable": true,
    "slideshow": {
     "slide_type": ""
    },
    "tags": []
   },
   "source": [
    "<br>"
   ]
  },
  {
   "cell_type": "code",
   "execution_count": 11,
   "id": "b16550be-0802-4b5e-b204-d0e0dc1d0389",
   "metadata": {
    "editable": true,
    "slideshow": {
     "slide_type": ""
    },
    "tags": []
   },
   "outputs": [
    {
     "data": {
      "text/plain": [
       "array([0., 0., 0., 0., 0., 0., 0., 0., 0., 0.], dtype=float32)"
      ]
     },
     "execution_count": 11,
     "metadata": {},
     "output_type": "execute_result"
    }
   ],
   "source": [
    "np.zeros(10, dtype='float32')"
   ]
  },
  {
   "cell_type": "markdown",
   "id": "4263eb13-9614-4159-b4b8-ea2bcfe51696",
   "metadata": {
    "editable": true,
    "slideshow": {
     "slide_type": ""
    },
    "tags": []
   },
   "source": [
    "<br>"
   ]
  },
  {
   "cell_type": "code",
   "execution_count": 12,
   "id": "023204fd-440b-404f-b48f-2695dc6e3e18",
   "metadata": {
    "editable": true,
    "slideshow": {
     "slide_type": ""
    },
    "tags": []
   },
   "outputs": [
    {
     "data": {
      "text/plain": [
       "array([0, 0, 0, 0, 0, 0, 0, 0, 0, 0], dtype=int32)"
      ]
     },
     "execution_count": 12,
     "metadata": {},
     "output_type": "execute_result"
    }
   ],
   "source": [
    "np.zeros(10, dtype='int32')"
   ]
  },
  {
   "cell_type": "markdown",
   "id": "52684be2-ae51-4fe9-bdc8-18cf06ecc8f9",
   "metadata": {
    "editable": true,
    "slideshow": {
     "slide_type": "slide"
    },
    "tags": []
   },
   "source": [
    "<br>\n",
    "\n",
    "* `np.eye(3)` &rarr; a 3x3 identity matrix"
   ]
  },
  {
   "cell_type": "markdown",
   "id": "c4f19954-563c-438f-991a-e50311027c2d",
   "metadata": {
    "editable": true,
    "slideshow": {
     "slide_type": ""
    },
    "tags": []
   },
   "source": [
    "<br>"
   ]
  },
  {
   "cell_type": "code",
   "execution_count": 13,
   "id": "be3c459d-a20a-4f81-ad24-e1a36855dbee",
   "metadata": {
    "editable": true,
    "slideshow": {
     "slide_type": ""
    },
    "tags": []
   },
   "outputs": [
    {
     "data": {
      "text/plain": [
       "array([[1., 0., 0.],\n",
       "       [0., 1., 0.],\n",
       "       [0., 0., 1.]])"
      ]
     },
     "execution_count": 13,
     "metadata": {},
     "output_type": "execute_result"
    }
   ],
   "source": [
    "np.eye(3)"
   ]
  },
  {
   "cell_type": "markdown",
   "id": "7535d76d-5898-4a0d-acf1-af53b279fcf0",
   "metadata": {
    "editable": true,
    "slideshow": {
     "slide_type": "fragment"
    },
    "tags": []
   },
   "source": [
    "<br>\n",
    "\n",
    "* `np.ones((3,5))` &rarr; a 3x5 array filled with ones"
   ]
  },
  {
   "cell_type": "markdown",
   "id": "50d8267a-eb68-4d53-992e-3034a6a6011c",
   "metadata": {
    "editable": true,
    "slideshow": {
     "slide_type": ""
    },
    "tags": []
   },
   "source": [
    "<br>"
   ]
  },
  {
   "cell_type": "code",
   "execution_count": 14,
   "id": "80c733e1-4b62-4110-8b68-cfef27c24d01",
   "metadata": {
    "editable": true,
    "slideshow": {
     "slide_type": ""
    },
    "tags": []
   },
   "outputs": [
    {
     "data": {
      "text/plain": [
       "array([[1., 1., 1., 1., 1.],\n",
       "       [1., 1., 1., 1., 1.],\n",
       "       [1., 1., 1., 1., 1.]])"
      ]
     },
     "execution_count": 14,
     "metadata": {},
     "output_type": "execute_result"
    }
   ],
   "source": [
    "np.ones((3,5))"
   ]
  },
  {
   "cell_type": "markdown",
   "id": "d2b47f8d-a5d8-4795-9acf-c2c38b1e6f1c",
   "metadata": {
    "editable": true,
    "slideshow": {
     "slide_type": "slide"
    },
    "tags": []
   },
   "source": [
    "<br>\n",
    "\n",
    "* `np.full((3,5), 1.8)` &rarr; a 3x5 array filled with `1.8`"
   ]
  },
  {
   "cell_type": "markdown",
   "id": "8579bc0b-7138-4622-a880-3326198ce37e",
   "metadata": {
    "editable": true,
    "slideshow": {
     "slide_type": ""
    },
    "tags": []
   },
   "source": [
    "<br>"
   ]
  },
  {
   "cell_type": "code",
   "execution_count": 15,
   "id": "e5001011-ab04-4c41-98d7-658885efeddc",
   "metadata": {
    "editable": true,
    "slideshow": {
     "slide_type": ""
    },
    "tags": []
   },
   "outputs": [
    {
     "data": {
      "text/plain": [
       "array([[1.8, 1.8, 1.8, 1.8, 1.8],\n",
       "       [1.8, 1.8, 1.8, 1.8, 1.8],\n",
       "       [1.8, 1.8, 1.8, 1.8, 1.8]])"
      ]
     },
     "execution_count": 15,
     "metadata": {},
     "output_type": "execute_result"
    }
   ],
   "source": [
    "np.full((3,5), 1.8)"
   ]
  },
  {
   "cell_type": "markdown",
   "id": "f573357b-82f9-4496-9e5c-237fd2be64b7",
   "metadata": {
    "editable": true,
    "slideshow": {
     "slide_type": "fragment"
    },
    "tags": []
   },
   "source": [
    "<br>\n",
    "\n",
    "* `np.empty((3,5))` &rarr; an <u>*uninitialized*</u> 3x5 array"
   ]
  },
  {
   "cell_type": "markdown",
   "id": "406d7023-5040-4947-8633-275ebd140c06",
   "metadata": {
    "editable": true,
    "slideshow": {
     "slide_type": ""
    },
    "tags": []
   },
   "source": [
    "<br>"
   ]
  },
  {
   "cell_type": "code",
   "execution_count": 16,
   "id": "09d21137-a3ef-4bc6-a0f6-b94b4ff9c65c",
   "metadata": {
    "editable": true,
    "slideshow": {
     "slide_type": ""
    },
    "tags": []
   },
   "outputs": [
    {
     "data": {
      "text/plain": [
       "array([[1.8, 1.8, 1.8, 1.8, 1.8],\n",
       "       [1.8, 1.8, 1.8, 1.8, 1.8],\n",
       "       [1.8, 1.8, 1.8, 1.8, 1.8]])"
      ]
     },
     "execution_count": 16,
     "metadata": {},
     "output_type": "execute_result"
    }
   ],
   "source": [
    "np.empty((3,5))"
   ]
  },
  {
   "cell_type": "markdown",
   "id": "cccad224-82bb-48a3-ad84-3d0568a50d8c",
   "metadata": {
    "editable": true,
    "slideshow": {
     "slide_type": "slide"
    },
    "tags": []
   },
   "source": [
    "<br>\n",
    "\n",
    "* `np.random.random((3,5))` &rarr; a 3x5 array of uniformly distributed random values in the half-open interval $[0,1)$"
   ]
  },
  {
   "cell_type": "markdown",
   "id": "c590388e-a65c-46cd-ab75-d417c6f39b65",
   "metadata": {
    "editable": true,
    "slideshow": {
     "slide_type": ""
    },
    "tags": []
   },
   "source": [
    "<br>"
   ]
  },
  {
   "cell_type": "code",
   "execution_count": 17,
   "id": "46d14a68-5771-44ae-83ea-53a4ccaeed12",
   "metadata": {
    "editable": true,
    "slideshow": {
     "slide_type": ""
    },
    "tags": []
   },
   "outputs": [
    {
     "data": {
      "text/plain": [
       "array([[0.16933145, 0.00504746, 0.44989633, 0.69080738, 0.99168741],\n",
       "       [0.34172464, 0.24852171, 0.98510573, 0.96600397, 0.64144588],\n",
       "       [0.10106619, 0.29075829, 0.08432125, 0.093919  , 0.25945596]])"
      ]
     },
     "execution_count": 17,
     "metadata": {},
     "output_type": "execute_result"
    }
   ],
   "source": [
    "np.random.random((3,5))"
   ]
  },
  {
   "cell_type": "markdown",
   "id": "ad68d549-ed92-44e3-a7a2-59bb71505d60",
   "metadata": {
    "editable": true,
    "slideshow": {
     "slide_type": "fragment"
    },
    "tags": []
   },
   "source": [
    "<br>\n",
    "\n",
    "* `np.random.seed(int)` &rarr; sets a seed for random number generation (**provides reproducibility**)\n"
   ]
  },
  {
   "cell_type": "markdown",
   "id": "49aa1826-c976-4b63-ae0b-5283e7a776a1",
   "metadata": {
    "editable": true,
    "slideshow": {
     "slide_type": ""
    },
    "tags": []
   },
   "source": [
    "<br>"
   ]
  },
  {
   "cell_type": "code",
   "execution_count": 18,
   "id": "9ccf65f7-4360-42e3-963b-49736fa74ec8",
   "metadata": {
    "editable": true,
    "slideshow": {
     "slide_type": ""
    },
    "tags": []
   },
   "outputs": [
    {
     "data": {
      "text/plain": [
       "array([[0.11505457, 0.60906654, 0.13339096, 0.24058962, 0.32713906],\n",
       "       [0.85913749, 0.66609021, 0.54116221, 0.02901382, 0.7337483 ],\n",
       "       [0.39495002, 0.80204712, 0.25442113, 0.05688494, 0.86664864]])"
      ]
     },
     "execution_count": 18,
     "metadata": {},
     "output_type": "execute_result"
    }
   ],
   "source": [
    "np.random.seed(43)\n",
    "np.random.random((3,5))"
   ]
  },
  {
   "cell_type": "markdown",
   "id": "4068f659-0e06-404f-8b92-9d11d2e492a4",
   "metadata": {
    "editable": true,
    "slideshow": {
     "slide_type": "slide"
    },
    "tags": []
   },
   "source": [
    "<br>\n",
    "\n",
    "* `np.random.normal(10, 2, (3,5))` &rarr; a 3x5 array of normally distributed random values with $\\mu = 10$ and $\\sigma = 2$"
   ]
  },
  {
   "cell_type": "markdown",
   "id": "87d21cca-bf17-47a4-bec2-4b7e3c9f8031",
   "metadata": {
    "editable": true,
    "slideshow": {
     "slide_type": ""
    },
    "tags": []
   },
   "source": [
    "<br>"
   ]
  },
  {
   "cell_type": "code",
   "execution_count": 19,
   "id": "6ba48ef3-6712-473e-a423-dd772a931ffc",
   "metadata": {
    "editable": true,
    "slideshow": {
     "slide_type": ""
    },
    "tags": []
   },
   "outputs": [
    {
     "data": {
      "text/plain": [
       "array([[ 9.06239973,  7.247008  ,  8.96229899,  9.54920845, 10.41643253],\n",
       "       [10.40961276,  9.83619328, 10.67376611,  9.85909104, 11.18066954],\n",
       "       [ 8.80587096, 10.48544469,  9.38402231, 11.21093121,  7.00980231]])"
      ]
     },
     "execution_count": 19,
     "metadata": {},
     "output_type": "execute_result"
    }
   ],
   "source": [
    "np.random.normal(10, 2, (3, 5))"
   ]
  },
  {
   "cell_type": "markdown",
   "id": "9c5ce2cb-c4f3-4fb6-8bd1-1d7322235dec",
   "metadata": {
    "editable": true,
    "slideshow": {
     "slide_type": "fragment"
    },
    "tags": []
   },
   "source": [
    "<br>\n",
    "\n",
    "* `np.random.randint(-7, 3, (3, 5))` &rarr; a 3x5 array of random integers in the half-open interval $[-7,3)$"
   ]
  },
  {
   "cell_type": "markdown",
   "id": "7dc55b98-41ed-4127-981f-6b4fac4e014b",
   "metadata": {
    "editable": true,
    "slideshow": {
     "slide_type": ""
    },
    "tags": []
   },
   "source": [
    "<br>"
   ]
  },
  {
   "cell_type": "code",
   "execution_count": 20,
   "id": "840039e4-b198-40d7-b244-99dd3885374c",
   "metadata": {
    "editable": true,
    "slideshow": {
     "slide_type": ""
    },
    "tags": []
   },
   "outputs": [
    {
     "data": {
      "text/plain": [
       "array([[-2, -2, -2,  1,  0],\n",
       "       [-4, -1, -4, -5, -3],\n",
       "       [-5,  0, -4, -1,  1]])"
      ]
     },
     "execution_count": 20,
     "metadata": {},
     "output_type": "execute_result"
    }
   ],
   "source": [
    "np.random.randint(-7, 3, (3, 5))"
   ]
  },
  {
   "cell_type": "markdown",
   "id": "702d3c7b-09fb-41dc-859b-a3be2ab0db19",
   "metadata": {
    "editable": true,
    "slideshow": {
     "slide_type": "fragment"
    },
    "tags": []
   },
   "source": [
    "<br>\n",
    "\n",
    "* `np.arange(4, 20, 2)` &rarr; an array filled with a linear sequence in the range $[4,20)$ and step $2$"
   ]
  },
  {
   "cell_type": "markdown",
   "id": "0569447c-d243-4ede-bc5f-5501db87f47d",
   "metadata": {
    "editable": true,
    "slideshow": {
     "slide_type": ""
    },
    "tags": []
   },
   "source": [
    "<br>"
   ]
  },
  {
   "cell_type": "code",
   "execution_count": 21,
   "id": "0a3f7903-6715-4145-b983-301ab3088abf",
   "metadata": {
    "editable": true,
    "slideshow": {
     "slide_type": ""
    },
    "tags": []
   },
   "outputs": [
    {
     "data": {
      "text/plain": [
       "array([ 4,  6,  8, 10, 12, 14, 16, 18])"
      ]
     },
     "execution_count": 21,
     "metadata": {},
     "output_type": "execute_result"
    }
   ],
   "source": [
    "np.arange(4, 20, 2)"
   ]
  },
  {
   "cell_type": "markdown",
   "id": "634b5bb2-f77c-4af0-bdfc-a63173365128",
   "metadata": {
    "editable": true,
    "slideshow": {
     "slide_type": "slide"
    },
    "tags": []
   },
   "source": [
    "<br>\n",
    "\n",
    "* `np.linspace(1, 7, 5)` &rarr; an array of five values evenly spaced in the range $[1,7]$"
   ]
  },
  {
   "cell_type": "markdown",
   "id": "794877ff-f7e0-4d87-8de2-e8e2c7da0935",
   "metadata": {
    "editable": true,
    "slideshow": {
     "slide_type": ""
    },
    "tags": []
   },
   "source": [
    "<br>"
   ]
  },
  {
   "cell_type": "code",
   "execution_count": 22,
   "id": "145b95e1-7ef5-4935-863a-8f0cba7f3b67",
   "metadata": {
    "editable": true,
    "slideshow": {
     "slide_type": ""
    },
    "tags": []
   },
   "outputs": [
    {
     "data": {
      "text/plain": [
       "array([1. , 2.5, 4. , 5.5, 7. ])"
      ]
     },
     "execution_count": 22,
     "metadata": {},
     "output_type": "execute_result"
    }
   ],
   "source": [
    "np.linspace(1, 7, 5)"
   ]
  },
  {
   "cell_type": "markdown",
   "id": "4ad92f90-c8a7-4b88-8263-026fcd95d0bc",
   "metadata": {
    "editable": true,
    "slideshow": {
     "slide_type": "slide"
    },
    "tags": []
   },
   "source": [
    "### More on NumPy Arrays\n",
    "\n",
    "* Array dimensions\n",
    "* Array attributes\n",
    "* Array indexing\n",
    "* Array slicing\n",
    "* Reshaping of arrays\n",
    "* Array concatenation and splitting"
   ]
  },
  {
   "cell_type": "markdown",
   "id": "ea5a5da9-c48b-42fc-a17b-7c7a49fe3b84",
   "metadata": {
    "editable": true,
    "slideshow": {
     "slide_type": "slide"
    },
    "tags": []
   },
   "source": [
    "#### Array dimensions\n",
    "\n",
    "NumPy arrays can have any number of dimensions:\n",
    "\n",
    "* 0-dimensional arrays &rarr; **scalars** or **rank-0 tensor**\n",
    "* 1-dimensional arrays &rarr; **vectors** or **rank-1 tensor**\n",
    "* 2-dimensional arrays &rarr; **matrices** or **rank-2 tensor**\n",
    "* 3-dimensional arrays &rarr; **tensors** or **rank-3 tensor**\n",
    "* ...\n",
    "* N-dimensional arrays &rarr; **tensors** or **rank-N tensor**\n"
   ]
  },
  {
   "cell_type": "code",
   "execution_count": 23,
   "id": "d47a53c8-08b6-43c3-96e5-b8bdf5b4d80f",
   "metadata": {
    "editable": true,
    "scrolled": true,
    "slideshow": {
     "slide_type": "slide"
    },
    "tags": []
   },
   "outputs": [
    {
     "data": {
      "text/plain": [
       "array([[[[[4, 7, 8, 5, 6, 4],\n",
       "          [6, 4, 9, 4, 6, 2],\n",
       "          [7, 1, 1, 8, 2, 4]],\n",
       "\n",
       "         [[2, 6, 9, 1, 4, 7],\n",
       "          [5, 7, 8, 5, 6, 9],\n",
       "          [5, 8, 5, 3, 7, 8]]],\n",
       "\n",
       "\n",
       "        [[[9, 9, 2, 9, 6, 6],\n",
       "          [9, 7, 9, 4, 5, 3],\n",
       "          [4, 2, 5, 3, 3, 2]],\n",
       "\n",
       "         [[5, 6, 6, 1, 4, 5],\n",
       "          [8, 2, 3, 8, 4, 2],\n",
       "          [2, 4, 7, 6, 9, 1]]]],\n",
       "\n",
       "\n",
       "\n",
       "       [[[[6, 1, 9, 7, 8, 9],\n",
       "          [9, 8, 2, 5, 2, 7],\n",
       "          [4, 1, 2, 8, 9, 4]],\n",
       "\n",
       "         [[3, 1, 4, 3, 1, 3],\n",
       "          [7, 8, 5, 5, 7, 1],\n",
       "          [5, 7, 1, 5, 7, 4]]],\n",
       "\n",
       "\n",
       "        [[[7, 8, 9, 2, 5, 6],\n",
       "          [2, 9, 1, 3, 3, 8],\n",
       "          [7, 6, 1, 5, 1, 9]],\n",
       "\n",
       "         [[9, 2, 9, 2, 7, 1],\n",
       "          [3, 2, 6, 1, 6, 6],\n",
       "          [9, 4, 3, 1, 6, 6]]]]])"
      ]
     },
     "execution_count": 23,
     "metadata": {},
     "output_type": "execute_result"
    }
   ],
   "source": [
    "np.random.randint(1,10,(2,2,2,3,6))"
   ]
  },
  {
   "cell_type": "markdown",
   "id": "95aec284-9ac7-4059-8aa1-6883c7298eeb",
   "metadata": {
    "editable": true,
    "slideshow": {
     "slide_type": "slide"
    },
    "tags": []
   },
   "source": [
    "#### Array attributes\n",
    "\n",
    "Given a NumPy array `x`:\n",
    "\n",
    "* `x.ndim` &rarr; number of dimensions\n",
    "* `x.shape` &rarr; a tuple of size `x.ndim` containing the size of each dimension\n",
    "* `x.size` &rarr; total size of the array\n",
    "* `x.dtype` &rarr; data type of the array"
   ]
  },
  {
   "cell_type": "markdown",
   "id": "1b12e07f-02c2-4514-ab22-06da341623ba",
   "metadata": {
    "editable": true,
    "slideshow": {
     "slide_type": ""
    },
    "tags": []
   },
   "source": [
    "<br>"
   ]
  },
  {
   "cell_type": "code",
   "execution_count": 24,
   "id": "2192354a-0300-4c74-bb58-c86c7ff9f8bd",
   "metadata": {},
   "outputs": [
    {
     "name": "stdout",
     "output_type": "stream",
     "text": [
      "[[0.9973726  0.48601552 0.32129159 0.973439  ]\n",
      " [0.99871854 0.4452131  0.0447457  0.44706112]\n",
      " [0.7101748  0.62607133 0.67064977 0.97191886]]\n",
      "x.ndim=2  x.shape=(3, 4)  x.size=12  x.dtype=dtype('float64')\n"
     ]
    }
   ],
   "source": [
    "x = np.random.rand(3, 4)\n",
    "print(x)\n",
    "print(f'{x.ndim=}  {x.shape=}  {x.size=}  {x.dtype=}')"
   ]
  },
  {
   "cell_type": "markdown",
   "id": "bc60266f-7d70-4cdc-8ff4-d9cadc62c391",
   "metadata": {
    "editable": true,
    "slideshow": {
     "slide_type": "slide"
    },
    "tags": []
   },
   "source": [
    "#### Array indexing\n",
    "\n",
    "<br>\n",
    "\n",
    "One dimensional arrays are indexed as Python lists:"
   ]
  },
  {
   "cell_type": "code",
   "execution_count": 25,
   "id": "75b46dc2-24d3-41c7-8373-4fd5ca9b48df",
   "metadata": {
    "editable": true,
    "slideshow": {
     "slide_type": ""
    },
    "tags": []
   },
   "outputs": [
    {
     "data": {
      "text/plain": [
       "103"
      ]
     },
     "execution_count": 25,
     "metadata": {},
     "output_type": "execute_result"
    }
   ],
   "source": [
    "x = np.arange(100,110)\n",
    "x[3]"
   ]
  },
  {
   "cell_type": "markdown",
   "id": "cb7ca642-ae2d-44b5-989d-c46d6c84e04c",
   "metadata": {
    "editable": true,
    "slideshow": {
     "slide_type": "fragment"
    },
    "tags": []
   },
   "source": [
    "<br>\n",
    "Negative indexes are valid as with Python lists:"
   ]
  },
  {
   "cell_type": "code",
   "execution_count": 26,
   "id": "64e66c60-84d3-4576-b536-e158dfbc233a",
   "metadata": {
    "editable": true,
    "slideshow": {
     "slide_type": ""
    },
    "tags": []
   },
   "outputs": [
    {
     "data": {
      "text/plain": [
       "(109, 100)"
      ]
     },
     "execution_count": 26,
     "metadata": {},
     "output_type": "execute_result"
    }
   ],
   "source": [
    "x[-1],x[-10]"
   ]
  },
  {
   "cell_type": "markdown",
   "id": "dff74a79-e294-4868-967b-420f56131cca",
   "metadata": {
    "editable": true,
    "slideshow": {
     "slide_type": "fragment"
    },
    "tags": []
   },
   "source": [
    "<br>\n",
    "Multi-dimensional arrays are indexed with a comma-separated tuple of indices"
   ]
  },
  {
   "cell_type": "code",
   "execution_count": 27,
   "id": "792b6d12-63a9-4d37-8782-dfac5b638499",
   "metadata": {
    "editable": true,
    "slideshow": {
     "slide_type": ""
    },
    "tags": []
   },
   "outputs": [
    {
     "name": "stdout",
     "output_type": "stream",
     "text": [
      "[[0.66197124 0.0914502  0.58973101 0.21158101]\n",
      " [0.79507563 0.35030598 0.50243648 0.70353915]\n",
      " [0.17162768 0.60105944 0.16003461 0.8265784 ]]\n",
      "0.21158100640626754 0.17162767591793848\n"
     ]
    }
   ],
   "source": [
    "x = np.random.rand(3,4)\n",
    "print(x)\n",
    "print(x[0,3], x[-1,0])"
   ]
  },
  {
   "cell_type": "markdown",
   "id": "c46c3287-4955-403c-9978-8805927a4e55",
   "metadata": {
    "editable": true,
    "slideshow": {
     "slide_type": "slide"
    },
    "tags": []
   },
   "source": [
    "Values can be modified using any of the above index notation."
   ]
  },
  {
   "cell_type": "code",
   "execution_count": 28,
   "id": "e61913c9-647d-435f-a712-f5a75582f6b4",
   "metadata": {
    "editable": true,
    "slideshow": {
     "slide_type": ""
    },
    "tags": []
   },
   "outputs": [
    {
     "name": "stdout",
     "output_type": "stream",
     "text": [
      "[0 1 2 3 4 5 6 7 8 9]\n",
      "[ 0  1  2  3  4  5  6  7  8 20]\n"
     ]
    }
   ],
   "source": [
    "x = np.arange(10)\n",
    "print(x)\n",
    "x[-1] = 20\n",
    "print(x)"
   ]
  },
  {
   "cell_type": "markdown",
   "id": "235f237a-ee9b-4152-80f0-a0321509f768",
   "metadata": {
    "editable": true,
    "slideshow": {
     "slide_type": "fragment"
    },
    "tags": []
   },
   "source": [
    "<br>\n",
    "NumPy arrays have fixed types. If you set a float value to an element of an int array, the value is truncated."
   ]
  },
  {
   "cell_type": "code",
   "execution_count": 29,
   "id": "1f11bb6e-cc04-47ed-894b-8025a7ccbb00",
   "metadata": {
    "editable": true,
    "slideshow": {
     "slide_type": ""
    },
    "tags": []
   },
   "outputs": [
    {
     "name": "stdout",
     "output_type": "stream",
     "text": [
      "[ 0  1  2  3  4  5  6  7  8 20]\n",
      "[ 0  1  2  3  4  5  6  7  8 17]\n"
     ]
    }
   ],
   "source": [
    "print(x)\n",
    "x[-1] = 17.321\n",
    "print(x)"
   ]
  },
  {
   "cell_type": "markdown",
   "id": "4231c331-deaa-41c9-9e79-fe57054b6cf3",
   "metadata": {
    "editable": true,
    "slideshow": {
     "slide_type": "slide"
    },
    "tags": []
   },
   "source": [
    "#### Array slicing\n",
    "\n",
    "<br>\n",
    "\n",
    "NumPy slicing syntax follows that of the standard Python list\n",
    "\n",
    "* `x[start:stop:step]`\n",
    "* If omitted, default values apply:\n",
    "   * `start=0`\n",
    "   * `stop=size_of_dimension`\n",
    "   * `step=1`"
   ]
  },
  {
   "cell_type": "code",
   "execution_count": 30,
   "id": "cb9ad472-75c1-4d65-91b2-af47cd321ab7",
   "metadata": {
    "editable": true,
    "slideshow": {
     "slide_type": "slide"
    },
    "tags": []
   },
   "outputs": [
    {
     "name": "stdout",
     "output_type": "stream",
     "text": [
      "x[:5]=array([0, 1, 2, 3, 4])\n",
      "x[5:]=array([5, 6, 7, 8, 9])\n",
      "x[4:7]=array([4, 5, 6])\n",
      "x[::2]=array([0, 2, 4, 6, 8])\n",
      "x[::-1]=array([9, 8, 7, 6, 5, 4, 3, 2, 1, 0])\n",
      "x[5::-2]=array([5, 3, 1])\n"
     ]
    }
   ],
   "source": [
    "x = np.arange(10)\n",
    "print(f'{x[:5]=}')\n",
    "print(f'{x[5:]=}')\n",
    "print(f'{x[4:7]=}')\n",
    "print(f'{x[::2]=}')\n",
    "print(f'{x[::-1]=}')\n",
    "print(f'{x[5::-2]=}')"
   ]
  },
  {
   "cell_type": "code",
   "execution_count": 31,
   "id": "d5fd2e70-b530-4a38-8181-e21ed9eb846f",
   "metadata": {
    "editable": true,
    "slideshow": {
     "slide_type": "slide"
    },
    "tags": []
   },
   "outputs": [
    {
     "name": "stdout",
     "output_type": "stream",
     "text": [
      "x=array([[0.33270163, 0.54669719, 0.8307106 , 0.96906706, 0.32753498],\n",
      "       [0.08837382, 0.96348912, 0.98930344, 0.91907709, 0.85048569],\n",
      "       [0.49369274, 0.46861656, 0.55895281, 0.1069022 , 0.89873709]])\n",
      "x[1,:]=array([0.08837382, 0.96348912, 0.98930344, 0.91907709, 0.85048569])\n",
      "x[1]=array([0.08837382, 0.96348912, 0.98930344, 0.91907709, 0.85048569])\n",
      "x[:,1]=array([0.54669719, 0.96348912, 0.46861656])\n",
      "x[:2,3:]=array([[0.96906706, 0.32753498],\n",
      "       [0.91907709, 0.85048569]])\n",
      "x[0,::-1]=array([0.32753498, 0.96906706, 0.8307106 , 0.54669719, 0.33270163])\n",
      "x[::-1,1]=array([0.46861656, 0.96348912, 0.54669719])\n"
     ]
    }
   ],
   "source": [
    "x = np.random.rand(3,5)\n",
    "print(f'{x=}')\n",
    "print(f'{x[1,:]=}')\n",
    "print(f'{x[1]=}') # equivalent\n",
    "print(f'{x[:,1]=}')\n",
    "print(f'{x[:2,3:]=}')\n",
    "print(f'{x[0,::-1]=}')\n",
    "print(f'{x[::-1,1]=}')"
   ]
  },
  {
   "cell_type": "markdown",
   "id": "5881fbac-b89c-4829-b3fd-1a6daaaffac5",
   "metadata": {
    "editable": true,
    "slideshow": {
     "slide_type": "slide"
    },
    "tags": []
   },
   "source": [
    "Unlike Python list slices, array slices return **views** rather than copies:\n",
    "\n",
    "<br>"
   ]
  },
  {
   "cell_type": "code",
   "execution_count": 32,
   "id": "6c026835-40fb-459f-942d-2e55b2a39973",
   "metadata": {
    "editable": true,
    "slideshow": {
     "slide_type": ""
    },
    "tags": []
   },
   "outputs": [
    {
     "name": "stdout",
     "output_type": "stream",
     "text": [
      "x=array([[0.61514721, 0.99204581, 0.6925764 , 0.35473485, 0.17346336],\n",
      "       [0.04616806, 0.32678971, 0.35579443, 0.47938721, 0.65897812],\n",
      "       [0.08594221, 0.29644561, 0.20342314, 0.65215974, 0.57715637]])\n",
      "y=array([0.04616806, 0.35579443, 0.65897812])\n",
      "----------------------------------------\n",
      "y=array([0.        , 0.35579443, 0.65897812])\n",
      "x=array([[0.61514721, 0.99204581, 0.6925764 , 0.35473485, 0.17346336],\n",
      "       [0.        , 0.32678971, 0.35579443, 0.47938721, 0.65897812],\n",
      "       [0.08594221, 0.29644561, 0.20342314, 0.65215974, 0.57715637]])\n"
     ]
    }
   ],
   "source": [
    "x = np.random.rand(3,5)\n",
    "print(f'{x=}')\n",
    "y = x[1,::2]\n",
    "print(f'{y=}')\n",
    "print('-'*40)\n",
    "y[0] = 0\n",
    "print(f'{y=}')\n",
    "print(f'{x=}')"
   ]
  },
  {
   "cell_type": "markdown",
   "id": "89006749-ac77-4ded-b01e-1cc72e475e7f",
   "metadata": {
    "editable": true,
    "slideshow": {
     "slide_type": "slide"
    },
    "tags": []
   },
   "source": [
    "Explicit copies of arrays or subarrays (slices) can be created: `x.copy()`\n",
    "\n",
    "<br>"
   ]
  },
  {
   "cell_type": "code",
   "execution_count": 33,
   "id": "e6a08b88-949f-43fb-a9da-e0553fa5872b",
   "metadata": {
    "editable": true,
    "slideshow": {
     "slide_type": ""
    },
    "tags": []
   },
   "outputs": [
    {
     "name": "stdout",
     "output_type": "stream",
     "text": [
      "x=array([[0.68180214, 0.21692997, 0.02226975, 0.03897417, 0.45671379],\n",
      "       [0.8776101 , 0.53915719, 0.52549328, 0.54422628, 0.51641898],\n",
      "       [0.88635236, 0.4101944 , 0.81952181, 0.832217  , 0.59418099]])\n",
      "y=array([0.8776101 , 0.52549328, 0.51641898])\n",
      "----------------------------------------\n",
      "y=array([0.        , 0.52549328, 0.51641898])\n",
      "x=array([[0.68180214, 0.21692997, 0.02226975, 0.03897417, 0.45671379],\n",
      "       [0.8776101 , 0.53915719, 0.52549328, 0.54422628, 0.51641898],\n",
      "       [0.88635236, 0.4101944 , 0.81952181, 0.832217  , 0.59418099]])\n"
     ]
    }
   ],
   "source": [
    "x = np.random.rand(3,5)\n",
    "print(f'{x=}')\n",
    "y = x[1,::2].copy()\n",
    "print(f'{y=}')\n",
    "print('-'*40)\n",
    "y[0] = 0\n",
    "print(f'{y=}')\n",
    "print(f'{x=}')"
   ]
  },
  {
   "cell_type": "markdown",
   "id": "ba275763-f7e9-40c0-8330-3aea925dcf7a",
   "metadata": {
    "editable": true,
    "slideshow": {
     "slide_type": "slide"
    },
    "tags": []
   },
   "source": [
    "#### Reshaping of arrays\n",
    "\n",
    "* `reshape(a, newshape)` &rarr; a reshaped **view** of an array\n",
    "* `a.reshape(newshape)` &rarr; a reshaped **view** of an array\n",
    "\n",
    "<br>"
   ]
  },
  {
   "cell_type": "code",
   "execution_count": 34,
   "id": "d2f1bcea-f9f2-4190-8451-dae997e070c2",
   "metadata": {},
   "outputs": [
    {
     "data": {
      "text/plain": [
       "array([[0, 1, 2, 3, 4],\n",
       "       [5, 6, 7, 8, 9]])"
      ]
     },
     "execution_count": 34,
     "metadata": {},
     "output_type": "execute_result"
    }
   ],
   "source": [
    "np.reshape(np.arange(10), (2, 5))"
   ]
  },
  {
   "cell_type": "markdown",
   "id": "e3a0a8ea-c26b-4880-b11e-d7aba893999c",
   "metadata": {},
   "source": [
    "<br>"
   ]
  },
  {
   "cell_type": "code",
   "execution_count": 35,
   "id": "97d81737-f026-4e75-a374-a10d13e73567",
   "metadata": {},
   "outputs": [
    {
     "data": {
      "text/plain": [
       "array([[0, 1, 2, 3, 4],\n",
       "       [5, 6, 7, 8, 9]])"
      ]
     },
     "execution_count": 35,
     "metadata": {},
     "output_type": "execute_result"
    }
   ],
   "source": [
    "np.arange(10).reshape((2, 5))"
   ]
  },
  {
   "cell_type": "markdown",
   "id": "8702f403-f626-448a-9d81-5d818f059b48",
   "metadata": {},
   "source": [
    "<br>"
   ]
  },
  {
   "cell_type": "code",
   "execution_count": 36,
   "id": "535ce8a1-b3a7-41b1-b151-7c33947d4250",
   "metadata": {},
   "outputs": [
    {
     "name": "stdout",
     "output_type": "stream",
     "text": [
      "a=array([-8,  1,  2,  3,  4,  5,  6,  7,  8,  9])\n",
      "b=array([[-8,  1,  2,  3,  4],\n",
      "       [ 5,  6,  7,  8,  9]])\n",
      "c=array([[-8,  1,  2,  3,  4,  5,  6,  7,  8,  9]])\n"
     ]
    }
   ],
   "source": [
    "a = np.arange(10)\n",
    "b = a.reshape((2,5))\n",
    "c = b.reshape((1,10))\n",
    "b[0,0] = -8\n",
    "print(f'{a=}\\n{b=}\\n{c=}')"
   ]
  },
  {
   "cell_type": "markdown",
   "id": "8546f387-2ba3-4f89-a43a-1a1b9a70ff06",
   "metadata": {
    "editable": true,
    "slideshow": {
     "slide_type": "slide"
    },
    "tags": []
   },
   "source": [
    "`np.newaxis`, when used in Array slicing adds a new dimension (does a reshape):\n",
    "\n",
    "<br>"
   ]
  },
  {
   "cell_type": "code",
   "execution_count": 37,
   "id": "5072c106-6105-4459-b67b-358c2a424285",
   "metadata": {},
   "outputs": [
    {
     "name": "stdout",
     "output_type": "stream",
     "text": [
      "a=array([-8,  1,  2,  3])\n",
      "b=array([[-8,  1,  2,  3]])\n",
      "c=array([[-8],\n",
      "       [ 1],\n",
      "       [ 2],\n",
      "       [ 3]])\n"
     ]
    }
   ],
   "source": [
    "from numpy import newaxis\n",
    "a = np.arange(4)     # vector\n",
    "b = a[newaxis,:]  # row vector  a.reshape((1,4))\n",
    "c = a[:,newaxis]  # column vector a.reshape((4,1))\n",
    "a[0] = -8\n",
    "print(f'{a=}\\n{b=}\\n{c=}')"
   ]
  },
  {
   "cell_type": "markdown",
   "id": "41731524-94f1-4f3e-aa26-fe85d8ad572b",
   "metadata": {
    "editable": true,
    "slideshow": {
     "slide_type": "slide"
    },
    "tags": []
   },
   "source": [
    "#### Array concatenation and splitting\n",
    "\n",
    "<br>\n",
    "\n",
    "* Array **concatenation** &rarr; combine multiple arrays into one\n",
    "   * `np.concatenate` , `np.vstack` and `np.hstack`\n",
    "* Array **splitting** &rarr; split a single array into multiple arrays\n",
    "   * `np.split` , `np.vsplit` and `np.hsplit`"
   ]
  },
  {
   "cell_type": "markdown",
   "id": "cff0644d-a64e-4619-8f20-6d2467838762",
   "metadata": {
    "editable": true,
    "slideshow": {
     "slide_type": "slide"
    },
    "tags": []
   },
   "source": [
    "* `concatenate((a1, a2, ...), axis=0, out=None, dtype=None, casting=\"same_kind\")`\n",
    "   * `(a1, a2, ...)` &rarr; array sequence\n",
    "   * `axis` &rarr; the axis along which the arrays will be joined\n",
    "   * arrays must have the dimension corresponding to `axis`\n",
    "   * arrays must have the same shape, except in the dimension corresponding to `axis`\n",
    "\n",
    "<br>"
   ]
  },
  {
   "cell_type": "code",
   "execution_count": 38,
   "id": "5bd3f63e-d6a5-40ad-b2bb-187e456f7ab9",
   "metadata": {},
   "outputs": [
    {
     "name": "stdout",
     "output_type": "stream",
     "text": [
      "a=array([0, 1, 2, 3])\n",
      "b=array([4, 5, 6, 7])\n",
      "c=array([ 8,  9, 10, 11])\n",
      "d=array([ 0,  1,  2,  3,  4,  5,  6,  7,  8,  9, 10, 11])\n"
     ]
    }
   ],
   "source": [
    "a = np.arange(0,4)\n",
    "b = np.arange(4,8)\n",
    "c = np.arange(8,12)\n",
    "d = np.concatenate((a,b,c))\n",
    "print(f'{a=}\\n{b=}\\n{c=}\\n{d=}')"
   ]
  },
  {
   "cell_type": "markdown",
   "id": "7030458f-824e-40c2-881f-e054cc246056",
   "metadata": {
    "editable": true,
    "slideshow": {
     "slide_type": ""
    },
    "tags": []
   },
   "source": [
    "<br>"
   ]
  },
  {
   "cell_type": "code",
   "execution_count": 39,
   "id": "e27a4a6f-2d68-487f-8b18-ccff1cdda79e",
   "metadata": {},
   "outputs": [],
   "source": [
    "# ERROR: arrays a,b and c does not have dimension 1\n",
    "#np.concatenate((a,b,c), axis=1)"
   ]
  },
  {
   "cell_type": "code",
   "execution_count": 40,
   "id": "4aa7d9b0-a813-46e7-bc71-27e9705ba561",
   "metadata": {
    "editable": true,
    "slideshow": {
     "slide_type": "slide"
    },
    "tags": []
   },
   "outputs": [
    {
     "name": "stdout",
     "output_type": "stream",
     "text": [
      "a2=array([[0, 1, 2, 3]])\n",
      "b2=array([[4, 5, 6, 7]])\n",
      "c2=array([[ 8,  9, 10, 11]])\n"
     ]
    }
   ],
   "source": [
    "a2,b2,c2 = a[newaxis,:],b[newaxis,:],c[newaxis,:]\n",
    "print(f'{a2=}\\n{b2=}\\n{c2=}')"
   ]
  },
  {
   "cell_type": "markdown",
   "id": "5f9690c6-ff46-444f-ad79-43a60d18f15d",
   "metadata": {
    "editable": true,
    "slideshow": {
     "slide_type": ""
    },
    "tags": []
   },
   "source": [
    "<br>"
   ]
  },
  {
   "cell_type": "code",
   "execution_count": 41,
   "id": "396c04b1-a148-4661-b6f0-9d8f871b4e97",
   "metadata": {},
   "outputs": [
    {
     "data": {
      "text/plain": [
       "array([[ 0,  1,  2,  3],\n",
       "       [ 4,  5,  6,  7],\n",
       "       [ 8,  9, 10, 11]])"
      ]
     },
     "execution_count": 41,
     "metadata": {},
     "output_type": "execute_result"
    }
   ],
   "source": [
    "np.concatenate((a2,b2,c2))"
   ]
  },
  {
   "cell_type": "markdown",
   "id": "430ff8d1-d8a9-4e46-b51e-74ccc43bbd11",
   "metadata": {
    "editable": true,
    "slideshow": {
     "slide_type": ""
    },
    "tags": []
   },
   "source": [
    "<br>"
   ]
  },
  {
   "cell_type": "code",
   "execution_count": 42,
   "id": "eec6c8ff-35c6-4305-a2ca-c3af034cb79e",
   "metadata": {},
   "outputs": [
    {
     "data": {
      "text/plain": [
       "array([[ 0,  1,  2,  3],\n",
       "       [ 4,  5,  6,  7],\n",
       "       [ 8,  9, 10, 11]])"
      ]
     },
     "execution_count": 42,
     "metadata": {},
     "output_type": "execute_result"
    }
   ],
   "source": [
    "np.concatenate((a2,b2,c2), axis=0)"
   ]
  },
  {
   "cell_type": "markdown",
   "id": "dae9c584-4338-4975-b287-1bd5f13c94e7",
   "metadata": {
    "editable": true,
    "slideshow": {
     "slide_type": ""
    },
    "tags": []
   },
   "source": [
    "<br>"
   ]
  },
  {
   "cell_type": "code",
   "execution_count": 43,
   "id": "5a9e395d-2369-4243-9061-a9e10a02124f",
   "metadata": {},
   "outputs": [
    {
     "data": {
      "text/plain": [
       "array([[ 0,  1,  2,  3,  4,  5,  6,  7,  8,  9, 10, 11]])"
      ]
     },
     "execution_count": 43,
     "metadata": {},
     "output_type": "execute_result"
    }
   ],
   "source": [
    "np.concatenate((a2,b2,c2), axis=1)"
   ]
  },
  {
   "cell_type": "markdown",
   "id": "4a627ecd-2160-428f-8b56-85b16d9b7512",
   "metadata": {
    "editable": true,
    "slideshow": {
     "slide_type": "slide"
    },
    "tags": []
   },
   "source": [
    "* `vstack` and `hstack` - 2 (or more) dimensional arrays\n",
    "    * `vstack((a1, a2, ...))` == `concatenate((a1, a2, ...), axis=0)`\n",
    "    * `hstack((a1, a2, ...))` == `concatenate((a1, a2, ...), axis=1)`\n",
    "\n",
    "<br>"
   ]
  },
  {
   "cell_type": "code",
   "execution_count": 44,
   "id": "09953b6f-7f56-4cf1-b5bd-902c10e0e96b",
   "metadata": {
    "editable": true,
    "slideshow": {
     "slide_type": "fragment"
    },
    "tags": []
   },
   "outputs": [
    {
     "name": "stdout",
     "output_type": "stream",
     "text": [
      "a=array([[0, 1, 2, 3],\n",
      "       [4, 5, 6, 7]])\n",
      "b=array([[ 8,  9, 10, 11],\n",
      "       [12, 13, 14, 15]])\n",
      "c=array([[ 0,  1,  2,  3,  8,  9, 10, 11],\n",
      "       [ 4,  5,  6,  7, 12, 13, 14, 15]])\n",
      "d=array([[ 0,  1,  2,  3,  8,  9, 10, 11],\n",
      "       [ 4,  5,  6,  7, 12, 13, 14, 15]])\n",
      "e=array([[ 0,  1,  2,  3],\n",
      "       [ 4,  5,  6,  7],\n",
      "       [ 8,  9, 10, 11],\n",
      "       [12, 13, 14, 15]])\n",
      "f=array([[ 0,  1,  2,  3],\n",
      "       [ 4,  5,  6,  7],\n",
      "       [ 8,  9, 10, 11],\n",
      "       [12, 13, 14, 15]])\n"
     ]
    }
   ],
   "source": [
    "a = np.arange(0,8).reshape((2,4))\n",
    "b = np.arange(8,16).reshape((2,4))\n",
    "c = np.hstack((a,b))\n",
    "d = np.concatenate((a,b), axis=1)\n",
    "e = np.vstack((a,b))\n",
    "f = np.concatenate((a,b), axis=0)\n",
    "print(f'{a=}\\n{b=}\\n{c=}\\n{d=}\\n{e=}\\n{f=}')"
   ]
  },
  {
   "cell_type": "markdown",
   "id": "9ba96603-0c92-4d3d-81e4-a03cabfa7b6e",
   "metadata": {
    "editable": true,
    "slideshow": {
     "slide_type": "slide"
    },
    "tags": []
   },
   "source": [
    "* `vstack` and `hstack` - 1 dimensional arrays\n",
    "    * `vstack((a1, a2, ...))` == `concatenate((a1[newaxis,:], a2[newaxis,:], ...))`\n",
    "    * `hstack((a1, a2, ...))` == `concatenate((a1, a2, ...))`\n",
    "\n",
    "<br>"
   ]
  },
  {
   "cell_type": "code",
   "execution_count": 45,
   "id": "7384268a-f0c6-4fe7-a1b0-81e30a039639",
   "metadata": {},
   "outputs": [
    {
     "name": "stdout",
     "output_type": "stream",
     "text": [
      "a=array([0, 1, 2, 3])\n",
      "b=array([4, 5, 6, 7])\n",
      "c=array([0, 1, 2, 3, 4, 5, 6, 7])\n",
      "d=array([0, 1, 2, 3, 4, 5, 6, 7])\n",
      "e=array([[0, 1, 2, 3],\n",
      "       [4, 5, 6, 7]])\n",
      "f=array([[0, 1, 2, 3],\n",
      "       [4, 5, 6, 7]])\n"
     ]
    }
   ],
   "source": [
    "a = np.arange(0,4)\n",
    "b = np.arange(4,8)\n",
    "c = np.hstack((a,b))\n",
    "d = np.concatenate((a,b))\n",
    "e = np.vstack((a,b))\n",
    "f = np.concatenate((a[newaxis,:],b[newaxis,:]))\n",
    "print(f'{a=}\\n{b=}\\n{c=}\\n{d=}\\n{e=}\\n{f=}')"
   ]
  },
  {
   "cell_type": "markdown",
   "id": "7891c70f-bf93-4b04-a5d7-3675eb386908",
   "metadata": {
    "editable": true,
    "slideshow": {
     "slide_type": "slide"
    },
    "tags": []
   },
   "source": [
    "* `split(a, split_points, axis=0)`\n",
    "   * `a` &rarr; the array to split\n",
    "   *  `split_points`\n",
    "      * $N$ (int) &rarr; array is divided into $N$ equal arrays (or fails)\n",
    "      * integer seq &rarr; split indexes (points)\n",
    "   * `axis` &rarr; the axis along which to split\n",
    "\n",
    "<br>"
   ]
  },
  {
   "cell_type": "code",
   "execution_count": 46,
   "id": "033e7d5d-0630-452e-a13b-8d746703dcb5",
   "metadata": {
    "editable": true,
    "slideshow": {
     "slide_type": "slide"
    },
    "tags": []
   },
   "outputs": [
    {
     "name": "stdout",
     "output_type": "stream",
     "text": [
      "a=array([[ 0,  1,  2,  3,  4,  5,  6],\n",
      "       [ 7,  8,  9, 10, 11, 12, 13],\n",
      "       [14, 15, 16, 17, 18, 19, 20],\n",
      "       [21, 22, 23, 24, 25, 26, 27],\n",
      "       [28, 29, 30, 31, 32, 33, 34],\n",
      "       [35, 36, 37, 38, 39, 40, 41]])\n",
      "upper=array([[ 0,  1,  2,  3,  4,  5,  6],\n",
      "       [ 7,  8,  9, 10, 11, 12, 13]])\n",
      "center=array([[14, 15, 16, 17, 18, 19, 20],\n",
      "       [21, 22, 23, 24, 25, 26, 27]])\n",
      "lower=array([[28, 29, 30, 31, 32, 33, 34],\n",
      "       [35, 36, 37, 38, 39, 40, 41]])\n"
     ]
    }
   ],
   "source": [
    "a = np.arange(42).reshape((6,7))\n",
    "upper,center,lower = np.split(a,3)\n",
    "print(f'{a=}\\n{upper=}\\n{center=}\\n{lower=}')"
   ]
  },
  {
   "cell_type": "code",
   "execution_count": 47,
   "id": "2815b29c-f1ff-40a8-b7a9-e69c0bc5d2e4",
   "metadata": {
    "editable": true,
    "slideshow": {
     "slide_type": "fragment"
    },
    "tags": []
   },
   "outputs": [],
   "source": [
    "a = np.arange(42).reshape((6,7))\n",
    "# ERROR: array split does not result in an equal division\n",
    "#upper,lower = np.split(a,2,axis=1)"
   ]
  },
  {
   "cell_type": "code",
   "execution_count": 48,
   "id": "cdf3bced-aef0-48dc-b342-c6c466cadd81",
   "metadata": {
    "editable": true,
    "slideshow": {
     "slide_type": "slide"
    },
    "tags": []
   },
   "outputs": [
    {
     "name": "stdout",
     "output_type": "stream",
     "text": [
      "a=array([[ 0,  1,  2,  3,  4,  5],\n",
      "       [ 6,  7,  8,  9, 10, 11],\n",
      "       [12, 13, 14, 15, 16, 17],\n",
      "       [18, 19, 20, 21, 22, 23],\n",
      "       [24, 25, 26, 27, 28, 29],\n",
      "       [30, 31, 32, 33, 34, 35]])\n",
      "upper=array([[0, 1, 2, 3, 4, 5]])\n",
      "center=array([[ 6,  7,  8,  9, 10, 11],\n",
      "       [12, 13, 14, 15, 16, 17]])\n",
      "lower=array([[18, 19, 20, 21, 22, 23],\n",
      "       [24, 25, 26, 27, 28, 29],\n",
      "       [30, 31, 32, 33, 34, 35]])\n"
     ]
    }
   ],
   "source": [
    "a = np.arange(36).reshape((6,6))\n",
    "upper,center,lower = np.split(a,(1,3))\n",
    "print(f'{a=}\\n{upper=}\\n{center=}\\n{lower=}')"
   ]
  },
  {
   "cell_type": "markdown",
   "id": "9d04077d-58eb-41f8-92de-80994b0008aa",
   "metadata": {},
   "source": [
    "<br>"
   ]
  },
  {
   "cell_type": "code",
   "execution_count": 49,
   "id": "50a18f18-5f78-417c-ac49-350b9e07f90e",
   "metadata": {
    "editable": true,
    "slideshow": {
     "slide_type": "fragment"
    },
    "tags": []
   },
   "outputs": [
    {
     "name": "stdout",
     "output_type": "stream",
     "text": [
      "a=array([[ 0,  1,  2,  3,  4,  5,  6],\n",
      "       [ 7,  8,  9, 10, 11, 12, 13]])\n",
      "left=array([[0],\n",
      "       [7]])\n",
      "center=array([[1, 2],\n",
      "       [8, 9]])\n",
      "right=array([[ 3,  4,  5,  6],\n",
      "       [10, 11, 12, 13]])\n"
     ]
    }
   ],
   "source": [
    "a = np.arange(0,14).reshape((2,7))\n",
    "left,center,right = np.split(a,(1,3), axis=1)\n",
    "print(f'{a=}\\n{left=}\\n{center=}\\n{right=}')"
   ]
  },
  {
   "cell_type": "markdown",
   "id": "51ff2d35-3001-4e0e-98c3-8f051191ddc7",
   "metadata": {
    "editable": true,
    "slideshow": {
     "slide_type": "slide"
    },
    "tags": []
   },
   "source": [
    "* `vsplit` and `hsplit` - 2 (or more) dimensional arrays\n",
    "    * `vsplit(a,ii)` == `split(a, ii, axis=0)`\n",
    "    * `hsplit(a,ii)` == `split(a, ii, axis=1)`\n",
    "* `hsplit` - 1 dimensional arrays\n",
    "    * `hsplit(a,ii)` == `split(a, ii)`\n",
    "\n",
    "<br>"
   ]
  },
  {
   "cell_type": "code",
   "execution_count": 50,
   "id": "bf3ac43d-e3a8-46a9-a155-adbaf46f3385",
   "metadata": {
    "editable": true,
    "slideshow": {
     "slide_type": "slide"
    },
    "tags": []
   },
   "outputs": [
    {
     "name": "stdout",
     "output_type": "stream",
     "text": [
      "a=array([[ 0,  1,  2,  3],\n",
      "       [ 4,  5,  6,  7],\n",
      "       [ 8,  9, 10, 11],\n",
      "       [12, 13, 14, 15]])\n",
      "b=array([[0, 1, 2, 3],\n",
      "       [4, 5, 6, 7]])\n",
      "c=array([[ 8,  9, 10, 11],\n",
      "       [12, 13, 14, 15]])\n",
      "d=array([[0, 1, 2, 3],\n",
      "       [4, 5, 6, 7]])\n",
      "e=array([[ 8,  9, 10, 11],\n",
      "       [12, 13, 14, 15]])\n"
     ]
    }
   ],
   "source": [
    "a = np.arange(16).reshape((4,4))\n",
    "b,c = np.vsplit(a,2)\n",
    "d,e = np.split(a,2, axis=0)\n",
    "print(f'{a=}\\n{b=}\\n{c=}\\n{d=}\\n{e=}')"
   ]
  },
  {
   "cell_type": "code",
   "execution_count": 51,
   "id": "71234023-a9a3-4e94-af93-29cccd84af83",
   "metadata": {
    "editable": true,
    "slideshow": {
     "slide_type": "slide"
    },
    "tags": []
   },
   "outputs": [
    {
     "name": "stdout",
     "output_type": "stream",
     "text": [
      "a=array([[ 0,  1,  2,  3],\n",
      "       [ 4,  5,  6,  7],\n",
      "       [ 8,  9, 10, 11],\n",
      "       [12, 13, 14, 15]])\n",
      "b=array([[ 0,  1],\n",
      "       [ 4,  5],\n",
      "       [ 8,  9],\n",
      "       [12, 13]])\n",
      "c=array([[ 2,  3],\n",
      "       [ 6,  7],\n",
      "       [10, 11],\n",
      "       [14, 15]])\n",
      "d=array([[ 0,  1],\n",
      "       [ 4,  5],\n",
      "       [ 8,  9],\n",
      "       [12, 13]])\n",
      "e=array([[ 2,  3],\n",
      "       [ 6,  7],\n",
      "       [10, 11],\n",
      "       [14, 15]])\n"
     ]
    }
   ],
   "source": [
    "a = np.arange(16).reshape((4,4))\n",
    "b,c = np.hsplit(a,2)\n",
    "d,e = np.split(a,2, axis=1)\n",
    "print(f'{a=}\\n{b=}\\n{c=}\\n{d=}\\n{e=}')"
   ]
  },
  {
   "cell_type": "code",
   "execution_count": 52,
   "id": "b6c5e454-f7f1-4ca9-b8df-22da208238ef",
   "metadata": {
    "editable": true,
    "slideshow": {
     "slide_type": "slide"
    },
    "tags": []
   },
   "outputs": [
    {
     "name": "stdout",
     "output_type": "stream",
     "text": [
      "a=array([ 0,  1,  2,  3,  4,  5,  6,  7,  8,  9, 10, 11, 12, 13, 14, 15])\n",
      "b=array([0, 1, 2, 3, 4, 5, 6, 7])\n",
      "c=array([ 8,  9, 10, 11, 12, 13, 14, 15])\n",
      "d=array([0, 1, 2, 3, 4, 5, 6, 7])\n",
      "e=array([ 8,  9, 10, 11, 12, 13, 14, 15])\n"
     ]
    }
   ],
   "source": [
    "a = np.arange(16)\n",
    "b,c = np.hsplit(a,2)\n",
    "d,e = np.split(a,2)\n",
    "print(f'{a=}\\n{b=}\\n{c=}\\n{d=}\\n{e=}')"
   ]
  },
  {
   "cell_type": "code",
   "execution_count": 53,
   "id": "e09c6363-c398-4542-aa21-b7d42a506114",
   "metadata": {},
   "outputs": [],
   "source": [
    "#help(np.vsplit)"
   ]
  },
  {
   "cell_type": "markdown",
   "id": "5a5a3bce-62cc-4ff2-ab43-6620fb51d642",
   "metadata": {
    "editable": true,
    "slideshow": {
     "slide_type": "slide"
    },
    "tags": []
   },
   "source": [
    "## UFuncs - Universal Functions\n",
    "\n",
    "Function designed to perform element-wise operations on arrays. Main features:\n",
    "\n",
    "* **Speed and Efficiency**: Instead of looping over arrays to perform the *same* computation on each element, use single highly optimized functions.\n",
    "* **Broadcasting**: support for different but *compatible* shape arrays.\n",
    "* **Type casting**: support for different data types\n",
    "\n"
   ]
  },
  {
   "cell_type": "markdown",
   "id": "384422be-ae3c-4d79-afd3-9174e639cddf",
   "metadata": {
    "editable": true,
    "slideshow": {
     "slide_type": "slide"
    },
    "tags": []
   },
   "source": [
    "### Arithmetic operations\n",
    "<br>"
   ]
  },
  {
   "cell_type": "code",
   "execution_count": 58,
   "id": "20378c5e-763f-4a99-8846-d73f61749276",
   "metadata": {
    "editable": true,
    "slideshow": {
     "slide_type": ""
    },
    "tags": []
   },
   "outputs": [
    {
     "name": "stdout",
     "output_type": "stream",
     "text": [
      "     x = [0 1 2 3 4 5 6 7]\n",
      " x + 5 = [ 5  6  7  8  9 10 11 12]\n",
      " x - 5 = [-5 -4 -3 -2 -1  0  1  2]\n",
      "    -x = [ 0 -1 -2 -3 -4 -5 -6 -7]\n",
      " x * 2 = [ 0  2  4  6  8 10 12 14]\n",
      " x / 2 = [0.  0.5 1.  1.5 2.  2.5 3.  3.5]\n",
      "x // 2 = [0 0 1 1 2 2 3 3]\n",
      " x % 2 = [0 1 0 1 0 1 0 1]\n",
      "x ** 2 = [ 0  1  4  9 16 25 36 49]\n"
     ]
    }
   ],
   "source": [
    "x = np.arange(8)\n",
    "print(\"     x =\", x)\n",
    "print(\" x + 5 =\", x + 5)\n",
    "print(\" x - 5 =\", x - 5)\n",
    "print(\"    -x =\", -x)\n",
    "print(\" x * 2 =\", x * 2)\n",
    "print(\" x / 2 =\", x / 2)\n",
    "print(\"x // 2 =\", x // 2)\n",
    "print(\" x % 2 =\", x % 2)\n",
    "print(\"x ** 2 =\", x ** 2)"
   ]
  },
  {
   "cell_type": "markdown",
   "id": "6eeb2ab0-a4c5-4b1e-a0a9-43d646a5f157",
   "metadata": {
    "editable": true,
    "slideshow": {
     "slide_type": "slide"
    },
    "tags": []
   },
   "source": [
    "Each arithmetic operator is in fact a wrapper around an specific function built into NumPy\n",
    "\n",
    "| Operator\t    | Equivalent ufunc    | Description                           |\n",
    "|---------------|---------------------|---------------------------------------|\n",
    "|``+``          |``np.add``           |Addition (e.g., ``1 + 1 = 2``)         |\n",
    "|``-``          |``np.subtract``      |Subtraction (e.g., ``3 - 2 = 1``)      |\n",
    "|``-``          |``np.negative``      |Unary negation (e.g., ``-2``)          |\n",
    "|``*``          |``np.multiply``      |Multiplication (e.g., ``2 * 3 = 6``)   |\n",
    "|``/``          |``np.divide``        |Division (e.g., ``3 / 2 = 1.5``)       |\n",
    "|``//``         |``np.floor_divide``  |Floor division (e.g., ``3 // 2 = 1``)  |\n",
    "|``**``         |``np.power``         |Exponentiation (e.g., ``2 ** 3 = 8``)  |\n",
    "|``%``          |``np.mod``           |Modulus/remainder (e.g., ``9 % 4 = 1``)|"
   ]
  },
  {
   "cell_type": "markdown",
   "id": "a78e152b-694f-484b-9fa5-ca1d54651538",
   "metadata": {
    "editable": true,
    "slideshow": {
     "slide_type": "slide"
    },
    "tags": []
   },
   "source": [
    "### Trigonometric functions\n",
    "<br>"
   ]
  },
  {
   "cell_type": "code",
   "execution_count": 68,
   "id": "cd7386bc-1031-4c59-a751-bd7cd3c7aaa9",
   "metadata": {},
   "outputs": [
    {
     "name": "stdout",
     "output_type": "stream",
     "text": [
      "x=array([0.        , 1.57079633, 3.14159265])\n",
      "np.sin(theta)=array([0.0000000e+00, 1.0000000e+00, 1.2246468e-16])\n",
      "np.cos(theta)=array([ 1.000000e+00,  6.123234e-17, -1.000000e+00])\n",
      "np.tan(theta)=array([ 0.00000000e+00,  1.63312394e+16, -1.22464680e-16])\n",
      "np.arcsin(x)=array([-1.57079633,  0.        ,  1.57079633])\n",
      "np.arccos(x)=array([3.14159265, 1.57079633, 0.        ])\n",
      "np.arctan(x)=array([-0.78539816,  0.        ,  0.78539816])\n"
     ]
    }
   ],
   "source": [
    "theta = np.linspace(0, np.pi, 3)\n",
    "print(f'{x=}')\n",
    "print(f'{np.sin(theta)=}')\n",
    "print(f'{np.cos(theta)=}')\n",
    "print(f'{np.tan(theta)=}')\n",
    "x = [-1, 0, 1]\n",
    "print(f'{np.arcsin(x)=}')\n",
    "print(f'{np.arccos(x)=}')\n",
    "print(f'{np.arctan(x)=}')"
   ]
  },
  {
   "cell_type": "markdown",
   "id": "5aeb40fc-94b2-441b-8cf7-ce86c4671ee0",
   "metadata": {
    "editable": true,
    "slideshow": {
     "slide_type": "slide"
    },
    "tags": []
   },
   "source": [
    "### More mathematical functions\n",
    "<br>"
   ]
  },
  {
   "cell_type": "markdown",
   "id": "cb9989b6-3206-4647-80c3-0eb7cd07a9b6",
   "metadata": {
    "editable": true,
    "slideshow": {
     "slide_type": "fragment"
    },
    "tags": []
   },
   "source": [
    "* `abs()` , `np.absolute()` or `np.abs()`\n",
    "\n",
    "<br>"
   ]
  },
  {
   "cell_type": "code",
   "execution_count": 64,
   "id": "7f6ccd1f-ffef-45a2-8497-c64fa6dd951f",
   "metadata": {},
   "outputs": [
    {
     "name": "stdout",
     "output_type": "stream",
     "text": [
      "abs(x)=array([2, 1, 0, 1, 2])\n",
      "np.absolute(x)=array([2, 1, 0, 1, 2])\n",
      "np.abs(x)=array([2, 1, 0, 1, 2])\n"
     ]
    }
   ],
   "source": [
    "x = np.array([-2, -1, 0, 1, 2])\n",
    "print(f'{abs(x)=}')\n",
    "print(f'{np.absolute(x)=}')\n",
    "print(f'{np.abs(x)=}')"
   ]
  },
  {
   "cell_type": "markdown",
   "id": "300cf330-66eb-484a-b7fa-e85ca45730d8",
   "metadata": {
    "editable": true,
    "slideshow": {
     "slide_type": "slide"
    },
    "tags": []
   },
   "source": [
    "* `np.exp()` , `np.exp2()` and `np.power()`\n",
    "\n",
    "<br>"
   ]
  },
  {
   "cell_type": "code",
   "execution_count": 76,
   "id": "af764bd9-0760-4e5a-b92f-155b6da56912",
   "metadata": {},
   "outputs": [
    {
     "name": "stdout",
     "output_type": "stream",
     "text": [
      "     x = [0 1 2]\n",
      "   e^x = [1.         2.71828183 7.3890561 ]\n",
      "   2^x = [1. 2. 4.]\n",
      "3^x = [1 3 9]\n",
      "3.14^x = [1.     3.14   9.8596]\n"
     ]
    }
   ],
   "source": [
    "x = np.arange(3)\n",
    "print(\"     x =\", x)\n",
    "print(\"   e^x =\", np.exp(x))\n",
    "print(\"   2^x =\", np.exp2(x))\n",
    "print(\"3^x =\", np.power(3, x))       # keeps int dtype\n",
    "print(\"3.14^x =\", np.power(3.14, x))"
   ]
  },
  {
   "cell_type": "markdown",
   "id": "c6b55766-cdbd-404b-8cc7-365236205b5e",
   "metadata": {
    "editable": true,
    "slideshow": {
     "slide_type": "slide"
    },
    "tags": []
   },
   "source": [
    "* `np.log()` , `np.log2()` and `np.log10()`\n",
    "\n",
    "<br>"
   ]
  },
  {
   "cell_type": "code",
   "execution_count": 75,
   "id": "8fb40c7d-77d9-46f7-ac46-a53e0a07ecbc",
   "metadata": {},
   "outputs": [
    {
     "name": "stdout",
     "output_type": "stream",
     "text": [
      "       x = [ 1.          2.          2.71828183 10.        ]\n",
      "  log(x) = [0.         0.69314718 1.         2.30258509]\n",
      " log2(x) = [0.         1.         1.44269504 3.32192809]\n",
      "log10(x) = [0.         0.30103    0.43429448 1.        ]\n"
     ]
    }
   ],
   "source": [
    "x = np.array([1,2,np.e,10])\n",
    "print(\"       x =\", x)\n",
    "print(\" log2(x) =\", np.log2(x))\n",
    "print(\"  log(x) =\", np.log(x))\n",
    "print(\"log10(x) =\", np.log10(x))"
   ]
  },
  {
   "cell_type": "markdown",
   "id": "9fd63e2a-026a-4438-b135-268999973fd4",
   "metadata": {
    "editable": true,
    "slideshow": {
     "slide_type": "slide"
    },
    "tags": []
   },
   "source": [
    "* `np.sqrt()`\n",
    "\n",
    "<br>"
   ]
  },
  {
   "cell_type": "code",
   "execution_count": 87,
   "id": "2db22612-d817-49c4-b948-f92674272e76",
   "metadata": {},
   "outputs": [
    {
     "name": "stdout",
     "output_type": "stream",
     "text": [
      "      x = [  0.  25.  50.  75. 100.]\n",
      "sqrt(x) = [ 0.          5.          7.07106781  8.66025404 10.        ]\n"
     ]
    }
   ],
   "source": [
    "x = np.linspace(0,100,5)\n",
    "print(\"      x =\", x)\n",
    "print(\"sqrt(x) =\", np.sqrt(x))"
   ]
  },
  {
   "cell_type": "markdown",
   "id": "05933141-ca4f-40ab-b1c6-622367d39483",
   "metadata": {
    "editable": true,
    "slideshow": {
     "slide_type": "fragment"
    },
    "tags": []
   },
   "source": [
    "<br>\n",
    "\n",
    "* `np.round()`\n",
    "\n",
    "<br>"
   ]
  },
  {
   "cell_type": "code",
   "execution_count": 92,
   "id": "f3324cde-4b2d-4fd9-a155-029e8c6a3e74",
   "metadata": {},
   "outputs": [
    {
     "name": "stdout",
     "output_type": "stream",
     "text": [
      "       x = [0.   1.55 3.1  4.65 6.2  7.75 9.3 ]\n",
      "round(x) = [0. 2. 3. 5. 6. 8. 9.]\n"
     ]
    }
   ],
   "source": [
    "x = np.linspace(0,9.3,7)\n",
    "print(\"       x =\", x)\n",
    "print(\"round(x) =\", np.round(x))"
   ]
  },
  {
   "cell_type": "markdown",
   "id": "f67fd42a-8e3e-46c3-bb3e-9058818ed0e8",
   "metadata": {
    "editable": true,
    "slideshow": {
     "slide_type": "slide"
    },
    "tags": []
   },
   "source": [
    "## Aggregations Functions\n",
    "\n",
    "* Takes an array and returns a single scalar (or *smaller* array)\n",
    "* sum, median, max, min, ..."
   ]
  },
  {
   "cell_type": "markdown",
   "id": "af53eb3b-0e44-4927-a008-7205ed826a9b",
   "metadata": {
    "editable": true,
    "slideshow": {
     "slide_type": "fragment"
    },
    "tags": []
   },
   "source": [
    "<br>\n",
    "\n",
    "* `np.sum(a)` or `a.sum()`\n",
    "* **DO NOT** use built-in `sum` function\n",
    "\n",
    "<br>"
   ]
  },
  {
   "cell_type": "code",
   "execution_count": 100,
   "id": "ff69474a-c99f-4499-b114-73809aa5ce2a",
   "metadata": {},
   "outputs": [
    {
     "data": {
      "text/plain": [
       "False"
      ]
     },
     "execution_count": 100,
     "metadata": {},
     "output_type": "execute_result"
    }
   ],
   "source": [
    "x = np.arange(100000)\n",
    "sum(x) == np.sum(x) == x.sum() == 100*101/2"
   ]
  },
  {
   "cell_type": "code",
   "execution_count": 101,
   "id": "6d64eb8d-9442-4dea-b5d9-77b8d63a54af",
   "metadata": {},
   "outputs": [
    {
     "name": "stdout",
     "output_type": "stream",
     "text": [
      "6.03 ms ± 375 μs per loop (mean ± std. dev. of 7 runs, 100 loops each)\n",
      "15.2 μs ± 773 ns per loop (mean ± std. dev. of 7 runs, 100,000 loops each)\n",
      "14 μs ± 157 ns per loop (mean ± std. dev. of 7 runs, 100,000 loops each)\n"
     ]
    }
   ],
   "source": [
    "%timeit sum(x)\n",
    "%timeit np.sum(x)\n",
    "%timeit x.sum()"
   ]
  },
  {
   "cell_type": "markdown",
   "id": "0f9a1d16-1766-4311-a2a2-2113893907d6",
   "metadata": {
    "editable": true,
    "slideshow": {
     "slide_type": "fragment"
    },
    "tags": []
   },
   "source": [
    "<br>\n",
    "\n",
    "* `np.min(a)` or `a.min()` and `np.max(a)` or `a.max()`\n",
    "* **DO NOT** use built-in `min` or `max` functions\n",
    "\n",
    "<br>"
   ]
  },
  {
   "cell_type": "code",
   "execution_count": 102,
   "id": "f8483a44-7922-4186-bae0-f686cb8e1c68",
   "metadata": {},
   "outputs": [
    {
     "data": {
      "text/plain": [
       "True"
      ]
     },
     "execution_count": 102,
     "metadata": {},
     "output_type": "execute_result"
    }
   ],
   "source": [
    "x = np.random.rand(100000)\n",
    "min(x) == np.min(x) == x.min()"
   ]
  },
  {
   "cell_type": "code",
   "execution_count": 103,
   "id": "4ce1c491-6de4-4016-b4b6-c976da26a868",
   "metadata": {},
   "outputs": [
    {
     "name": "stdout",
     "output_type": "stream",
     "text": [
      "4.97 ms ± 11.3 μs per loop (mean ± std. dev. of 7 runs, 100 loops each)\n",
      "16 μs ± 988 ns per loop (mean ± std. dev. of 7 runs, 100,000 loops each)\n",
      "15.5 μs ± 47.6 ns per loop (mean ± std. dev. of 7 runs, 100,000 loops each)\n"
     ]
    }
   ],
   "source": [
    "%timeit min(x)\n",
    "%timeit np.min(x)\n",
    "%timeit x.min()"
   ]
  },
  {
   "cell_type": "markdown",
   "id": "ab2624df-5e67-4ad6-a7cd-f9fa74be02d6",
   "metadata": {
    "editable": true,
    "slideshow": {
     "slide_type": "slide"
    },
    "tags": []
   },
   "source": [
    "### More aggregations functions\n",
    "\n",
    "|Function Name      |   NaN-safe Version  | Description                                   |\n",
    "|-------------------|---------------------|-----------------------------------------------|\n",
    "| ``np.sum``        | ``np.nansum``       | Compute sum of elements                       |\n",
    "| ``np.prod``       | ``np.nanprod``      | Compute product of elements                   |\n",
    "| ``np.mean``       | ``np.nanmean``      | Compute mean of elements                      |\n",
    "| ``np.std``        | ``np.nanstd``       | Compute standard deviation                    |\n",
    "| ``np.var``        | ``np.nanvar``       | Compute variance                              |\n",
    "| ``np.min``        | ``np.nanmin``       | Find minimum value                            |\n",
    "| ``np.max``        | ``np.nanmax``       | Find maximum value                            |\n",
    "| ``np.argmin``     | ``np.nanargmin``    | Find index of minimum value                   |\n",
    "| ``np.argmax``     | ``np.nanargmax``    | Find index of maximum value                   |\n",
    "| ``np.median``     | ``np.nanmedian``    | Compute median of elements                    |\n",
    "| ``np.percentile`` | ``np.nanpercentile``| Compute rank-based statistics of elements     |\n",
    "| ``np.any``        | N/A                 | Evaluate whether any elements are true        |\n",
    "| ``np.all``        | N/A                 | Evaluate whether all elements are true        |\n"
   ]
  },
  {
   "cell_type": "markdown",
   "id": "2677b210-fb9c-4d83-b76e-ff18afef40f1",
   "metadata": {
    "editable": true,
    "slideshow": {
     "slide_type": "slide"
    },
    "tags": []
   },
   "source": [
    "### Multi dimensional aggregates\n",
    "\n",
    "* By default, the aggregate over the entire array.\n",
    "* An additional argument (`axis`) specifying the axe along which the aggregate is computed\n",
    "\n",
    "<br>"
   ]
  },
  {
   "cell_type": "code",
   "execution_count": 108,
   "id": "77ec5e78-4d16-4a09-8d6a-50151bd6f714",
   "metadata": {},
   "outputs": [
    {
     "name": "stdout",
     "output_type": "stream",
     "text": [
      "a=array([[ 0,  1,  2,  3,  4],\n",
      "       [ 5,  6,  7,  8,  9],\n",
      "       [10, 11, 12, 13, 14],\n",
      "       [15, 16, 17, 18, 19]])\n",
      "a.sum()=190\n",
      "a.sum(axis=0)=array([30, 34, 38, 42, 46])\n",
      "a.sum(axis=1)=array([10, 35, 60, 85])\n"
     ]
    }
   ],
   "source": [
    "a = np.arange(20).reshape((4,5))\n",
    "print(f'{a=}')\n",
    "print(f'{a.sum()=}')\n",
    "print(f'{a.sum(axis=0)=}')\n",
    "print(f'{a.sum(axis=1)=}')"
   ]
  },
  {
   "cell_type": "markdown",
   "id": "b80af315-89f5-4d27-9750-8d5b3c34f9a4",
   "metadata": {
    "editable": true,
    "slideshow": {
     "slide_type": "slide"
    },
    "tags": []
   },
   "source": [
    "## Broadcasting\n",
    "\n",
    "The ability to apply binary ufuncs (e.g., addition, subtraction, multiplication, etc.) on arrays of different sizes.\n",
    "\n",
    "<br>"
   ]
  },
  {
   "cell_type": "code",
   "execution_count": 125,
   "id": "3fd4f7ab-7404-4cd3-8685-79722f800137",
   "metadata": {
    "editable": true,
    "slideshow": {
     "slide_type": ""
    },
    "tags": []
   },
   "outputs": [
    {
     "name": "stdout",
     "output_type": "stream",
     "text": [
      "  a = array([0, 1, 2, 3, 4, 5, 6, 7, 8, 9])\n",
      "  b = array([9, 8, 7, 6, 5, 4, 3, 2, 1, 0])\n",
      "a+b = array([9, 9, 9, 9, 9, 9, 9, 9, 9, 9])\n",
      "a+3 = array([ 3,  4,  5,  6,  7,  8,  9, 10, 11, 12])\n"
     ]
    }
   ],
   "source": [
    "a = np.arange(10)\n",
    "b = a[::-1]\n",
    "print(f'{  a = }')\n",
    "print(f'{  b = }')\n",
    "print(f'{a+b = }') \n",
    "print(f'{a+3 = }') # broadcasting"
   ]
  },
  {
   "cell_type": "code",
   "execution_count": 136,
   "id": "1dd249fc-f610-48e7-91ca-6d48f8b12afc",
   "metadata": {
    "editable": true,
    "slideshow": {
     "slide_type": "slide"
    },
    "tags": []
   },
   "outputs": [
    {
     "name": "stdout",
     "output_type": "stream",
     "text": [
      "   a = array([10, 20, 30, 40, 50])  a2 = array([[10, 20, 30, 40, 50]])\n",
      "   b = array([[0, 1, 2, 3, 4],\n",
      "       [5, 6, 7, 8, 9]])\n",
      "   c = array([[ -1],\n",
      "       [-10]])\n",
      " a+a = array([ 20,  40,  60,  80, 100])\n",
      " a+3 = array([13, 23, 33, 43, 53])\n",
      " a+b = array([[10, 21, 32, 43, 54],\n",
      "       [15, 26, 37, 48, 59]])\n",
      " a+c = array([[ 9, 19, 29, 39, 49],\n",
      "       [ 0, 10, 20, 30, 40]])\n",
      "a2+c = array([[ 9, 19, 29, 39, 49],\n",
      "       [ 0, 10, 20, 30, 40]])\n"
     ]
    }
   ],
   "source": [
    "a = np.array([10,20,30,40,50])\n",
    "a2 = a.reshape((1,5))\n",
    "b = np.arange(10).reshape(2,5)\n",
    "c = np.array([[-1],[-10]])\n",
    "print(f'{   a = }  {a2 = }')\n",
    "print(f'{   b = }')\n",
    "print(f'{   c = }')\n",
    "print(f'{ a+a = }')\n",
    "print(f'{ a+3 = }') # broadcasting\n",
    "print(f'{ a+b = }') # broadcasting\n",
    "print(f'{ a+c = }') # broadcasting\n",
    "print(f'{a2+c = }') # broadcasting"
   ]
  },
  {
   "cell_type": "markdown",
   "id": "5285893a-2fe1-4c8b-97f9-73142c0e8fb6",
   "metadata": {
    "editable": true,
    "slideshow": {
     "slide_type": "slide"
    },
    "tags": []
   },
   "source": [
    "### Broadcasting - A visual example\n",
    "\n",
    "<center><img src=\"img/broadcasting.png\" alt=\"broadcasting\" style=\"width: 100%;\"/></center>"
   ]
  },
  {
   "cell_type": "markdown",
   "id": "a2e48b3a-ad82-4bb3-88e6-0fabc9ec3f0f",
   "metadata": {
    "editable": true,
    "slideshow": {
     "slide_type": "slide"
    },
    "tags": []
   },
   "source": [
    "### Broadcasting Rules\n",
    "\n",
    "Given two arrays `x` and `y` with dimensions $(d_1^x,\\dots,d_n^x)$ and $(d_1^y,\\dots,d_m^y)$\n",
    "1. if $n \\ne m$, the shape of the one with fewer dimensions is padded with *ones* on its left side.\n",
    "   * $n < m \\to (1_1,\\dots,1_{m-n},d_1^x,\\dots,d_n^x)$\n",
    "   * $n > m \\to (1_1,\\dots,1_{n-m},d_1^y,\\dots,d_m^y)$\n",
    "   * After the padding, shapes of `x` and `y` are  $(d_1^x,\\dots,d_k^x)$ and $(d_1^y,\\dots,d_k^y)$ , where $k = \\max(n,m)$\n",
    "1. If the shape of the two arrays does not match in any dimension, the array with shape equal to 1 in that dimension is stretched (replicated) to match the other shape.\n",
    "   * After the stretching, $\\forall i \\;\\; d_i^x = 1 \\iff d_i^y = 1$\n",
    "1. If in any dimension the sizes disagree ($\\exists i \\; where \\; d_i^x \\ne d_i^y$), an error is raised\n",
    "   * If no error is raised, shape of `x` and `y` is $(d_1,\\dots,d_k)$\n",
    "3. All dimensions match, and shape of result is $(d_1,\\dots,d_k)$"
   ]
  },
  {
   "cell_type": "markdown",
   "id": "c2b34c64-4569-46f1-b8b7-013ee90427f8",
   "metadata": {
    "editable": true,
    "slideshow": {
     "slide_type": "slide"
    },
    "tags": []
   },
   "source": [
    "**Example 1**"
   ]
  },
  {
   "cell_type": "code",
   "execution_count": 137,
   "id": "3b8c2855-1680-4610-82b3-d66c0980b2d6",
   "metadata": {
    "editable": true,
    "slideshow": {
     "slide_type": ""
    },
    "tags": []
   },
   "outputs": [],
   "source": [
    "M = np.ones((2, 3))\n",
    "a = np.arange(3)"
   ]
  },
  {
   "cell_type": "markdown",
   "id": "fa7de6fe-5083-4098-88be-4d00f4b65d68",
   "metadata": {
    "editable": true,
    "slideshow": {
     "slide_type": ""
    },
    "tags": []
   },
   "source": [
    "- `M.shape == (2, 3)`\n",
    "- `a.shape == (3,)`\n",
    "\n",
    "\n",
    "* Rule1: pad (increase number of dimensions)\n",
    "   * `M.shape` &rarr; `(2, 3)`\n",
    "   * `a.shape` &rarr; `(1, 3)`\n",
    "* Rule2: stretch (`1` &rarr; `j`)\n",
    "   * `M.shape` &rarr; `(2, 3)`\n",
    "   * `a.shape` &rarr; `(2, 3)`\n",
    "* Rule3: check dimensions &rarr; **OK**\n"
   ]
  },
  {
   "cell_type": "code",
   "execution_count": 138,
   "id": "1c5b8b24-fe99-4359-b30f-c86e9f36e7df",
   "metadata": {
    "editable": true,
    "slideshow": {
     "slide_type": ""
    },
    "tags": []
   },
   "outputs": [
    {
     "data": {
      "text/plain": [
       "array([[1., 2., 3.],\n",
       "       [1., 2., 3.]])"
      ]
     },
     "execution_count": 138,
     "metadata": {},
     "output_type": "execute_result"
    }
   ],
   "source": [
    "M + a"
   ]
  },
  {
   "cell_type": "markdown",
   "id": "a5f14c66-2d46-4510-85b8-34ad9a44280e",
   "metadata": {
    "editable": true,
    "slideshow": {
     "slide_type": "slide"
    },
    "tags": []
   },
   "source": [
    "**Example 2**"
   ]
  },
  {
   "cell_type": "code",
   "execution_count": 141,
   "id": "82834851-7aa4-4689-8f2c-aefdb23408d1",
   "metadata": {
    "editable": true,
    "slideshow": {
     "slide_type": ""
    },
    "tags": []
   },
   "outputs": [],
   "source": [
    "a = np.arange(3).reshape((3, 1))\n",
    "b = np.arange(3)"
   ]
  },
  {
   "cell_type": "markdown",
   "id": "0add13e6-19c9-44eb-ac6f-80a9a1e3ead1",
   "metadata": {
    "editable": true,
    "slideshow": {
     "slide_type": ""
    },
    "tags": []
   },
   "source": [
    "- `M.shape == (3, 1)`\n",
    "- `a.shape == (3,)`\n",
    "\n",
    "\n",
    "* Rule1: pad (increase number of dimensions)\n",
    "   * `M.shape` &rarr; `(3, 1)`\n",
    "   * `a.shape` &rarr; `(1, 3)`\n",
    "* Rule2: stretch (`1` &rarr; `j`)\n",
    "   * `M.shape` &rarr; `(3, 3)`\n",
    "   * `a.shape` &rarr; `(3, 3)`\n",
    "* Rule3: check dimensions &rarr; **OK**\n"
   ]
  },
  {
   "cell_type": "code",
   "execution_count": 142,
   "id": "94b25354-0879-4ab9-8e01-36fb875ae090",
   "metadata": {
    "editable": true,
    "slideshow": {
     "slide_type": ""
    },
    "tags": []
   },
   "outputs": [
    {
     "data": {
      "text/plain": [
       "array([[0, 1, 2],\n",
       "       [1, 2, 3],\n",
       "       [2, 3, 4]])"
      ]
     },
     "execution_count": 142,
     "metadata": {},
     "output_type": "execute_result"
    }
   ],
   "source": [
    "a + b"
   ]
  },
  {
   "cell_type": "markdown",
   "id": "b324a4b8-56d0-4e83-90f0-1af3a348722b",
   "metadata": {
    "editable": true,
    "slideshow": {
     "slide_type": "slide"
    },
    "tags": []
   },
   "source": [
    "**Example 3**"
   ]
  },
  {
   "cell_type": "code",
   "execution_count": 144,
   "id": "12fbfecc-b398-4e27-80cf-1a01f632185c",
   "metadata": {
    "editable": true,
    "slideshow": {
     "slide_type": ""
    },
    "tags": []
   },
   "outputs": [],
   "source": [
    "M = np.ones((3, 2))\n",
    "a = np.arange(3)"
   ]
  },
  {
   "cell_type": "markdown",
   "id": "72b1bce7-3afc-492d-aaa7-2c64c9a4ae3c",
   "metadata": {
    "editable": true,
    "slideshow": {
     "slide_type": ""
    },
    "tags": []
   },
   "source": [
    "- `M.shape == (3, 2)`\n",
    "- `a.shape == (3,)`\n",
    "\n",
    "\n",
    "* Rule1: pad (increase number of dimensions)\n",
    "   * `M.shape` &rarr; `(3, 2)`\n",
    "   * `a.shape` &rarr; `(1, 3)`\n",
    "* Rule2: stretch (`1` &rarr; `j`)\n",
    "   * `M.shape` &rarr; `(3, 3)`\n",
    "   * `a.shape` &rarr; `(3, 3)`\n",
    "* Rule3: check dimensions &rarr; **ERROR**\n"
   ]
  },
  {
   "cell_type": "code",
   "execution_count": 148,
   "id": "e02a9c69-38b9-4d6b-8d87-317bd003e0f9",
   "metadata": {
    "editable": true,
    "slideshow": {
     "slide_type": ""
    },
    "tags": []
   },
   "outputs": [],
   "source": [
    "# ERROR: could not broadcast \n",
    "#M + a"
   ]
  },
  {
   "cell_type": "markdown",
   "id": "57ad21bd-f872-44bc-9b53-f5075d9b714b",
   "metadata": {
    "editable": true,
    "slideshow": {
     "slide_type": "slide"
    },
    "tags": []
   },
   "source": [
    "## Booleans and Masking\n",
    "* Comparison operators/ufuncs obtain element wise booleans that result in boolean arrays\n",
    "* Boolean arrays (**masks**) can be used to do selective computations on arrays.\n",
    "* Highly optimized vectorized operations"
   ]
  },
  {
   "cell_type": "code",
   "execution_count": 4,
   "id": "cbfdfe38-d1c4-480c-8d08-9f732caad994",
   "metadata": {},
   "outputs": [
    {
     "name": "stdout",
     "output_type": "stream",
     "text": [
      "        x = array([0, 1, 2, 3, 4, 5, 6])\n",
      "     mask = array([ True, False, False,  True, False, False,  True])\n",
      "  x[mask] = array([0, 3, 6])\n",
      "x[x%3==0] = array([0, 3, 6])\n",
      "        x = array([-10,   1,   2, -10,   4,   5, -10])\n"
     ]
    }
   ],
   "source": [
    "x = np.arange(7)\n",
    "mask = x%3==0\n",
    "print(f'{        x = }')\n",
    "print(f'{     mask = }')\n",
    "print(f'{  x[mask] = }')\n",
    "print(f'{x[x%3==0] = }')\n",
    "x[x%3==0] = -10\n",
    "print(f'{        x = }')"
   ]
  },
  {
   "cell_type": "markdown",
   "id": "8327f6f5-a56d-4b04-8a6f-a710eb7e5dee",
   "metadata": {
    "editable": true,
    "slideshow": {
     "slide_type": "slide"
    },
    "tags": []
   },
   "source": [
    "Each comparison operator is in fact a wrapper around an specific function built into NumPy\n",
    "\n",
    "| Operator\t    | Equivalent ufunc    | \n",
    "|---------------|---------------------|\n",
    "|``>``          |``np.greater``       |\n",
    "|``<``          |``np.less``          |\n",
    "|``>=``         |``np.greater_equal`` |\n",
    "|``<=``         |``np.less_equal``    |\n",
    "|``==``         |``np.equal``         |\n",
    "|``!=``         |``np.not_equal``     |\n"
   ]
  },
  {
   "cell_type": "markdown",
   "id": "3337fbac-2e1d-4691-b2dc-b662b78fdf35",
   "metadata": {
    "editable": true,
    "slideshow": {
     "slide_type": "slide"
    },
    "tags": []
   },
   "source": [
    "Python's bitwise logic operators (``&``, ``|``, ``^``, and ``~``) \n",
    "* Element-wise boolean operations (similar to arithmetic operators)\n",
    "\n",
    "<br>"
   ]
  },
  {
   "cell_type": "code",
   "execution_count": 41,
   "id": "3f1a717e-b2bb-4680-ab4d-8977d8b51b89",
   "metadata": {},
   "outputs": [
    {
     "name": "stdout",
     "output_type": "stream",
     "text": [
      "                x = array([0, 1, 2, 3, 4, 5, 6])\n",
      "             mask = array([ True, False, False,  True, False, False, False])\n",
      "          x[mask] = array([0, 3])\n",
      "x[(x%3==0)&(x<5)] = array([0, 3])\n"
     ]
    }
   ],
   "source": [
    "x = np.arange(7)\n",
    "mask = (x%3==0) & (x<5)\n",
    "print(f'{                x = }')\n",
    "print(f'{             mask = }')\n",
    "print(f'{          x[mask] = }')\n",
    "print(f'{x[(x%3==0)&(x<5)] = }')"
   ]
  },
  {
   "cell_type": "markdown",
   "id": "de91b7b6-f8b1-4c7a-b998-0e70f5a38510",
   "metadata": {
    "editable": true,
    "slideshow": {
     "slide_type": "slide"
    },
    "tags": []
   },
   "source": [
    "Each logic operator is in fact a wrapper around an specific function built into NumPy:\n",
    "\n",
    "| Operator\t    | Equivalent ufunc   | \n",
    "|---------------|--------------------|\n",
    "|``&``          |``np.bitwise_and``  |\n",
    "|  &#124;       |``np.bitwise_or``   |\n",
    "|``^``          |``np.bitwise_xor``  |\n",
    "|``~``          |``np.bitwise_not``  |"
   ]
  },
  {
   "cell_type": "markdown",
   "id": "61f97c71-7c4f-4a22-8623-3485c2c3c582",
   "metadata": {
    "editable": true,
    "slideshow": {
     "slide_type": "slide"
    },
    "tags": []
   },
   "source": [
    "* `np.any(a)` or `a.any()` &rarr; aggregated `True` | `False`\n",
    "* `np.all(a)` or `a.all()` &rarr; aggregated `True` | `False`\n",
    "* `axis` parameter &rarr; aggregation along a particular axe\n",
    "\n",
    "<br>"
   ]
  },
  {
   "cell_type": "code",
   "execution_count": 31,
   "id": "8fb78b8d-8e1e-4ce8-bd39-a6a507b14b49",
   "metadata": {},
   "outputs": [
    {
     "name": "stdout",
     "output_type": "stream",
     "text": [
      "x=array([[0, 1, 2, 3, 4],\n",
      "       [5, 6, 7, 8, 9]])\n",
      "x>7=array([[False, False, False, False, False],\n",
      "       [False, False, False,  True,  True]])\n",
      "np.any(x>7)=True\n",
      "(x>7).any()=True\n",
      "np.all(x>7)=False\n",
      "(x>7).all()=False\n",
      "np.any(x>7, axis=0)=array([False, False, False,  True,  True])\n",
      "np.any(x>7, axis=1)=array([False,  True])\n"
     ]
    }
   ],
   "source": [
    "x = np.arange(10).reshape((2,5))\n",
    "print(f'{x=}')\n",
    "print(f'{x>7=}')\n",
    "print(f'{np.any(x>7)=}')\n",
    "print(f'{(x>7).any()=}')\n",
    "print(f'{np.all(x>7)=}')\n",
    "print(f'{(x>7).all()=}')\n",
    "print(f'{np.any(x>7, axis=0)=}')\n",
    "print(f'{np.any(x>7, axis=1)=}')"
   ]
  },
  {
   "cell_type": "markdown",
   "id": "11e0673a-5d87-41ea-bcc8-c57568d47425",
   "metadata": {
    "editable": true,
    "slideshow": {
     "slide_type": "slide"
    },
    "tags": []
   },
   "source": [
    "Boolean arrays can be summed\n",
    "* `True==1` , `False==0`\n",
    "* `np.sum(a)` or `a.sum()` &rarr; aggregated `True` | `False`\n",
    "* `axis` parameter &rarr; aggregation along a particular axe\n",
    "* **DO NOT** use built-in `sum` function\n",
    "\n",
    "<br>"
   ]
  },
  {
   "cell_type": "code",
   "execution_count": 32,
   "id": "9bf88ff6-d5fc-4fcc-9348-16f7ab25a8a7",
   "metadata": {},
   "outputs": [
    {
     "name": "stdout",
     "output_type": "stream",
     "text": [
      "x=array([[0, 1, 2, 3, 4],\n",
      "       [5, 6, 7, 8, 9]])\n",
      "x>7=array([[False, False, False, False, False],\n",
      "       [False, False, False,  True,  True]])\n",
      "np.sum(x>7)=2\n",
      "(x>7).sum()=2\n",
      "np.sum(x>7, axis=0)=array([0, 0, 0, 1, 1])\n",
      "np.sum(x>7, axis=1)=array([0, 2])\n"
     ]
    }
   ],
   "source": [
    "x = np.arange(10).reshape((2,5))\n",
    "print(f'{x=}')\n",
    "print(f'{x>7=}')\n",
    "print(f'{np.sum(x>7)=}')\n",
    "print(f'{(x>7).sum()=}')\n",
    "print(f'{np.sum(x>7, axis=0)=}')\n",
    "print(f'{np.sum(x>7, axis=1)=}')"
   ]
  },
  {
   "cell_type": "markdown",
   "id": "0a366451-dfdc-43fb-bf69-85bbecb909bb",
   "metadata": {
    "editable": true,
    "slideshow": {
     "slide_type": "slide"
    },
    "tags": []
   },
   "source": [
    "## Fancy Indexing\n",
    "* Use arrays of indices to access multiple array elements\n",
    "* Returns a **copy** of the data (vs slicing view)\n",
    "\n",
    "<br>"
   ]
  },
  {
   "cell_type": "code",
   "execution_count": 18,
   "id": "5c333523-84a6-417e-9fea-e3b72b5570a6",
   "metadata": {},
   "outputs": [
    {
     "name": "stdout",
     "output_type": "stream",
     "text": [
      "     a = array([95, 87, 21, 90, 12, 20, 66, 71, 94, 91])\n",
      "a[ii1] = array([87, 94, 90, 20])\n",
      "a[ii2] = array([87, 94, 90, 20])\n"
     ]
    }
   ],
   "source": [
    "a = np.random.randint(100,size=(10,))\n",
    "ii1 = [1, 8, 3, 5]\n",
    "ii2 = np.array([1, 8, 3, 5])\n",
    "print(f'{     a = }')\n",
    "print(f'{a[ii1] = }')\n",
    "print(f'{a[ii2] = }')"
   ]
  },
  {
   "cell_type": "markdown",
   "id": "a9183a3a-4086-49ba-b5a9-a8dc4b0a2072",
   "metadata": {
    "editable": true,
    "slideshow": {
     "slide_type": "slide"
    },
    "tags": []
   },
   "source": [
    "Fancy indexing can be used with multi-dimensional arrays\n",
    "* Use arrays of indices to access multiple array elements\n",
    "* **Sequential selection**: returns 1-dimensional array\n",
    "\n",
    "<br>"
   ]
  },
  {
   "cell_type": "code",
   "execution_count": 19,
   "id": "c184bfbf-6e88-4776-9d86-b6eca22e2f86",
   "metadata": {
    "editable": true,
    "slideshow": {
     "slide_type": ""
    },
    "tags": []
   },
   "outputs": [
    {
     "name": "stdout",
     "output_type": "stream",
     "text": [
      "    a = array([[ 0,  1,  2,  3,  4],\n",
      "       [ 5,  6,  7,  8,  9],\n",
      "       [10, 11, 12, 13, 14]])\n",
      "a[ii,jj] = array([ 6,  4, 13, 12])\n"
     ]
    }
   ],
   "source": [
    "a = np.arange(15).reshape((3,5))\n",
    "ii = [1, 0, 2, 2]\n",
    "jj = [1, 4, 3, 2]\n",
    "print(f'{    a = }')\n",
    "print(f'{a[ii,jj] = }')\n"
   ]
  },
  {
   "cell_type": "markdown",
   "id": "f844808e-1ecb-4093-85fa-cf6ad1ad60f1",
   "metadata": {
    "editable": true,
    "slideshow": {
     "slide_type": "slide"
    },
    "tags": []
   },
   "source": [
    "Fancy indexing can be combined with simple indexes\n",
    "* kind of *index broadcasting*\n",
    "\n",
    "<br>"
   ]
  },
  {
   "cell_type": "code",
   "execution_count": 21,
   "id": "4c4fc16b-8716-415b-8e2d-c9f07286f269",
   "metadata": {
    "editable": true,
    "slideshow": {
     "slide_type": ""
    },
    "tags": []
   },
   "outputs": [
    {
     "name": "stdout",
     "output_type": "stream",
     "text": [
      "    a = array([[ 0,  1,  2,  3],\n",
      "       [ 4,  5,  6,  7],\n",
      "       [ 8,  9, 10, 11],\n",
      "       [12, 13, 14, 15]])\n",
      "a[1,ii] = array([5, 7, 6])\n",
      "a[ii,2] = array([ 6, 14, 10])\n"
     ]
    }
   ],
   "source": [
    "a = np.arange(16).reshape((4,4))\n",
    "ii = [1, 3, 2]\n",
    "print(f'{    a = }')\n",
    "print(f'{a[1,ii] = }')\n",
    "print(f'{a[ii,2] = }')"
   ]
  },
  {
   "cell_type": "markdown",
   "id": "1e668c0d-cb21-4910-b505-df6cfb9dddda",
   "metadata": {
    "editable": true,
    "slideshow": {
     "slide_type": "slide"
    },
    "tags": []
   },
   "source": [
    "Subarrays can be obtained\n",
    "* Providing only first dimension fancy indexing &rarr; rows\n",
    "* Combining with slicing &rarr; columns\n",
    "\n",
    "<br>"
   ]
  },
  {
   "cell_type": "code",
   "execution_count": 20,
   "id": "ed269efc-ee61-4fff-9a2c-8d7eb62ca8d1",
   "metadata": {
    "editable": true,
    "slideshow": {
     "slide_type": ""
    },
    "tags": []
   },
   "outputs": [
    {
     "name": "stdout",
     "output_type": "stream",
     "text": [
      "    a = array([[ 0,  1,  2,  3,  4],\n",
      "       [ 5,  6,  7,  8,  9],\n",
      "       [10, 11, 12, 13, 14]])\n",
      "a[ii] = array([[10, 11, 12, 13, 14],\n",
      "       [ 0,  1,  2,  3,  4]])\n",
      "a[:,jj] = array([[ 1,  4,  3],\n",
      "       [ 6,  9,  8],\n",
      "       [11, 14, 13]])\n"
     ]
    }
   ],
   "source": [
    "a = np.arange(15).reshape((3,5))\n",
    "ii = [2, 0]\n",
    "jj = [1, 4, 3]\n",
    "print(f'{    a = }')\n",
    "print(f'{a[ii] = }')\n",
    "print(f'{a[:,jj] = }')"
   ]
  }
 ],
 "metadata": {
  "kernelspec": {
   "display_name": "Python 3 (ipykernel)",
   "language": "python",
   "name": "python3"
  },
  "language_info": {
   "codemirror_mode": {
    "name": "ipython",
    "version": 3
   },
   "file_extension": ".py",
   "mimetype": "text/x-python",
   "name": "python",
   "nbconvert_exporter": "python",
   "pygments_lexer": "ipython3",
   "version": "3.12.6"
  }
 },
 "nbformat": 4,
 "nbformat_minor": 5
}
