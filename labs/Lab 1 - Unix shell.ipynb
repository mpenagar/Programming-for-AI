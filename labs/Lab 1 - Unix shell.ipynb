{
 "cells": [
  {
   "cell_type": "markdown",
   "id": "ae19fc35-95da-4f39-99a3-5d3bf67ec285",
   "metadata": {},
   "source": [
    "## Lab 1 - Unix shell"
   ]
  },
  {
   "cell_type": "markdown",
   "id": "529977cb-c1df-4da7-8be3-676734a309ae",
   "metadata": {},
   "source": [
    "**Exercise 1 - Searching for users with highest number of running processes**\n",
    "\n",
    "The shell command `ps -ef` displays information about every running process (the `--no-headers` option eliminates the first line or *header*):  "
   ]
  },
  {
   "cell_type": "code",
   "execution_count": 1,
   "id": "c3c6cb90-dcb6-425c-81d3-22de43feaf9a",
   "metadata": {},
   "outputs": [
    {
     "name": "stdout",
     "output_type": "stream",
     "text": [
      "there are 2350 processes:\n",
      "UID          PID    PPID  C STIME TTY          TIME CMD\n",
      "root           1       0  0 Mar27 ?        00:03:19 /sbin/init\n",
      "root           2       0  0 Mar27 ?        00:00:01 [kthreadd]\n",
      "root           3       2  0 Mar27 ?        00:00:00 [rcu_gp]\n",
      "root           4       2  0 Mar27 ?        00:00:00 [rcu_par_gp]\n",
      "...\n",
      "root     3856561       2  0 Apr07 ?        00:00:08 [kworker/192:2-mm_percpu_wq]\n",
      "root     3999334       2  0 Apr07 ?        00:00:00 [kworker/28:2]\n",
      "root     4190481       2  0 Apr08 ?        00:00:08 [kworker/174:2-events]\n",
      "root     4190492       2  0 Apr08 ?        00:00:06 [kworker/227:1-rcu_gp]\n",
      "root     4190497       2  0 Apr08 ?        00:00:00 [kworker/191:0]\n"
     ]
    }
   ],
   "source": [
    "%%bash\n",
    "n=$(ps -ef --no-headers | wc -l)\n",
    "echo \"there are $n processes:\"\n",
    "ps -ef | head -5\n",
    "echo \"...\"\n",
    "ps -ef | tail -5"
   ]
  },
  {
   "cell_type": "markdown",
   "id": "b490152b-75d0-4401-aa57-147b96768a16",
   "metadata": {},
   "source": [
    "The first column, named `UID`, contains the username. Using only `cut`, `sort` and `uniq` commands, try to get the users with highest number of running processes, sorted in descending order, something such as:\n",
    "```\n",
    "   2279 root\n",
    "     18 ana_mat+\n",
    "     11 jupyter+\n",
    "      8 aandres\n",
    "      7 shima_m+\n",
    "      7 mahdi_m+\n",
    "      4 systemd+\n",
    "      2 kernoops\n",
    "      2 avahi\n",
    "      1 syslog\n",
    "      1 rtkit\n",
    "      1 message+\n",
    "```"
   ]
  },
  {
   "cell_type": "markdown",
   "id": "fb7d5ee5-96fd-4449-a82a-969bc46f5a76",
   "metadata": {},
   "source": [
    "In the previous example, user names are truncated (those ending with a `+`). Try using the command `ps -eo user --no-headers` instead, which only displays the username but does not truncate it. The final result could be something such as:\n",
    "```\n",
    "   2279 root\n",
    "     18 ana_mathmode\n",
    "     11 jupyter-mpenagaricano\n",
    "      8 aandres\n",
    "      7 shima_mathmode\n",
    "      7 mahdi_mathmode\n",
    "      2 kernoops\n",
    "      2 avahi\n",
    "      1 systemd-timesync\n",
    "      1 systemd-resolve\n",
    "      1 systemd-oom\n",
    "      1 systemd-network\n",
    "      1 syslog\n",
    "      1 rtkit\n",
    "      1 messagebus\n",
    "```"
   ]
  },
  {
   "cell_type": "markdown",
   "id": "47c340bb-69e0-47d3-a30c-eefe0560d965",
   "metadata": {},
   "source": [
    "**Exercise 2 - List of open ports**\n",
    "\n",
    "The shell command `netstat -tulpn` lists open ports (add `2> /dev/null` to redirect the `stderr` to null):"
   ]
  },
  {
   "cell_type": "code",
   "execution_count": 2,
   "id": "45aaeb5f-0f30-4d86-bc77-28707c9356b4",
   "metadata": {},
   "outputs": [
    {
     "name": "stdout",
     "output_type": "stream",
     "text": [
      "Active Internet connections (only servers)\n",
      "Proto Recv-Q Send-Q Local Address           Foreign Address         State       PID/Program name    \n",
      "tcp        0      0 127.0.0.1:15001         0.0.0.0:*               LISTEN      -                   \n",
      "tcp        0      0 0.0.0.0:22              0.0.0.0:*               LISTEN      -                   \n",
      "tcp        0      0 127.0.0.1:8099          0.0.0.0:*               LISTEN      -                   \n",
      "...\n",
      "udp        0      0 127.0.0.53:53           0.0.0.0:*                           -                   \n",
      "udp        0      0 0.0.0.0:5353            0.0.0.0:*                           -                   \n",
      "udp        0      0 0.0.0.0:39761           0.0.0.0:*                           -                   \n",
      "udp6       0      0 :::5353                 :::*                                -                   \n",
      "udp6       0      0 :::38216                :::*                                -                   \n"
     ]
    }
   ],
   "source": [
    "%%bash\n",
    "netstat -tulpn 2> /dev/null | head -5\n",
    "echo ...\n",
    "netstat -tulpn 2> /dev/null | tail -5"
   ]
  },
  {
   "cell_type": "markdown",
   "id": "67acd93c-d510-41cc-9d90-6e98058253d6",
   "metadata": {},
   "source": [
    "The first column, named `Proto`, shows to the protocol (`tcp`, `tcp6`, `udp`, `udp6`) and the fourth, named `Local Address`, shows the IP address and port number (`address:port`) on the local machine where a network service is listening or a connection is established. The `127.0.0.1` local address refers to the loopback interface, which is a virtual network interface used for communication **within the same machine**, and The `0.0.0.0` local address is a wildcard address that instructs the service to listen on **all available network interfaces on the machine**, including loopback, local network, and external interfaces.\n",
    "\n",
    "Using only `grep`, `tr`, `cut` and `sort` commands, try to get in a single line the sorted list of ports being used only internally (i.e. `Local Address = 127.0.0.1:port`):\n",
    "```\n",
    "631 3000 8099 15001 34193 34239 34833 35809 38791 39045 40863 41117 42391 43415 43775 45335 45567 45673 46083 46719 47077 48343 48363 49331 50011 52303 53959 54075 54533 56515 57143 57385 57497 58607 60237 60481\n",
    "```\n",
    "**Hint:** The command `tr -s \" \"` squeezes (compresses) multiple consecutive spaces into a single space:"
   ]
  },
  {
   "cell_type": "code",
   "execution_count": 3,
   "id": "08abfeaf-dc08-4d73-8c1d-f1fa6229135d",
   "metadata": {},
   "outputs": [
    {
     "name": "stdout",
     "output_type": "stream",
     "text": [
      "Squeeze the white spaces in this text\n"
     ]
    }
   ],
   "source": [
    "!echo \"Squeeze     the    white  spaces    in    this   text\" | tr -s \" \""
   ]
  },
  {
   "cell_type": "markdown",
   "id": "2e0595fe-c96d-43c2-9e19-f8d14054ca78",
   "metadata": {},
   "source": [
    "**Exercise 3 - Processing the Iris flower data set**\n",
    "\n",
    "The **Iris Flower Data Set** (https://en.wikipedia.org/wiki/Iris_flower_data_set) is a well-known dataset used in statistics, machine learning, and data science. The dataset contains measurements of physical characteristics of three species of iris flowers:\n",
    "* Species: Iris setosa, versicolor, and virginica.\n",
    "* Features: Four numerical measurements (in centimeters) for each flower:\n",
    "   * Sepal length\n",
    "   * Sepal width\n",
    "   * Petal length\n",
    "   * Petal width\n",
    "*Size: 150 samples (50 samples per species).\n",
    "\n",
    "You can see a CSV (Comma-Separated Values) version of the dataset at https://raw.githubusercontent.com/pandas-dev/pandas/refs/heads/main/pandas/tests/io/data/csv/iris.csv :"
   ]
  },
  {
   "cell_type": "code",
   "execution_count": 4,
   "id": "9c0b0129-0805-4fe5-bf7b-aa004161d83a",
   "metadata": {},
   "outputs": [
    {
     "name": "stdout",
     "output_type": "stream",
     "text": [
      "SepalLength,SepalWidth,PetalLength,PetalWidth,Name\n",
      "5.1,3.5,1.4,0.2,Iris-setosa\n",
      "4.9,3.0,1.4,0.2,Iris-setosa\n",
      "4.7,3.2,1.3,0.2,Iris-setosa\n",
      "4.6,3.1,1.5,0.2,Iris-setosa\n",
      "...\n",
      "6.7,3.0,5.2,2.3,Iris-virginica\n",
      "6.3,2.5,5.0,1.9,Iris-virginica\n",
      "6.5,3.0,5.2,2.0,Iris-virginica\n",
      "6.2,3.4,5.4,2.3,Iris-virginica\n",
      "5.9,3.0,5.1,1.8,Iris-virginica"
     ]
    }
   ],
   "source": [
    "%%bash\n",
    "URL=\"https://raw.githubusercontent.com/pandas-dev/pandas/refs/heads/main/pandas/tests/io/data/csv/iris.csv\"\n",
    "curl -s $URL | head -5\n",
    "echo ...\n",
    "curl -s $URL | tail -5"
   ]
  },
  {
   "cell_type": "markdown",
   "id": "cb18aea4-2dac-4bce-b7a4-18132090f69a",
   "metadata": {},
   "source": [
    "Extract, without saving locally the `iris.csv` file, all the unique species names (i.e. uniques values of field `Name`):\n",
    "```\n",
    "Iris-setosa\n",
    "Iris-versicolor\n",
    "Iris-virginica\n",
    "```"
   ]
  },
  {
   "cell_type": "markdown",
   "id": "a96ba861-39fc-4adb-9153-2f2de4a6cbbb",
   "metadata": {},
   "source": [
    "Create, without saving locally the `iris.csv` file, a CSV file for each specie (without a `Name` column). The output of\n",
    "\n",
    "`head -5 *.csv && echo -e \"\\n-------\\n\" && wc -l *.csv`\n",
    "\n",
    "should display:\n",
    "\n",
    "```\n",
    "==> Iris-setosa.csv <==\n",
    "SepalLength,SepalWidth,PetalLength,PetalWidth\n",
    "5.1,3.5,1.4,0.2\n",
    "4.9,3.0,1.4,0.2\n",
    "4.7,3.2,1.3,0.2\n",
    "4.6,3.1,1.5,0.2\n",
    "\n",
    "==> Iris-versicolor.csv <==\n",
    "SepalLength,SepalWidth,PetalLength,PetalWidth\n",
    "7.0,3.2,4.7,1.4\n",
    "6.4,3.2,4.5,1.5\n",
    "6.9,3.1,4.9,1.5\n",
    "5.5,2.3,4.0,1.3\n",
    "\n",
    "==> Iris-virginica.csv <==\n",
    "SepalLength,SepalWidth,PetalLength,PetalWidth\n",
    "6.3,3.3,6.0,2.5\n",
    "5.8,2.7,5.1,1.9\n",
    "7.1,3.0,5.9,2.1\n",
    "6.3,2.9,5.6,1.8\n",
    "\n",
    "-------\n",
    "\n",
    "  51 Iris-setosa.csv\n",
    "  51 Iris-versicolor.csv\n",
    "  51 Iris-virginica.csv\n",
    " 153 total\n",
    "```"
   ]
  }
 ],
 "metadata": {
  "kernelspec": {
   "display_name": "Python 3 (ipykernel)",
   "language": "python",
   "name": "python3"
  },
  "language_info": {
   "codemirror_mode": {
    "name": "ipython",
    "version": 3
   },
   "file_extension": ".py",
   "mimetype": "text/x-python",
   "name": "python",
   "nbconvert_exporter": "python",
   "pygments_lexer": "ipython3",
   "version": "3.12.6"
  }
 },
 "nbformat": 4,
 "nbformat_minor": 5
}
