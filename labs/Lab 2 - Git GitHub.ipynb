{
 "cells": [
  {
   "cell_type": "markdown",
   "id": "ae19fc35-95da-4f39-99a3-5d3bf67ec285",
   "metadata": {},
   "source": [
    "## Lab 2 - Git & GitHub"
   ]
  },
  {
   "cell_type": "markdown",
   "id": "e546e562-b8bb-4cff-a332-e1da3abbd498",
   "metadata": {},
   "source": [
    "**Exercise 1 - Create a Git repository for the exercises**\n",
    "\n",
    "1. Configure your global Git name and email.\n",
    "1. Check the global configuration\n",
    "1. Create a directory named `lab2` and copy there the csv files created on Lab 1.\n",
    "1. Initialize the repository\n",
    "1. Check the status of the repository. There should be `Untracked files`, since you didn't add anything to the repository yet."
   ]
  },
  {
   "cell_type": "markdown",
   "id": "de58f8da-3a0c-4dbd-95b2-8f7b8f50d1de",
   "metadata": {},
   "source": [
    "**Exercise 2 - Create the first commit**\n",
    "\n",
    "1. Stage all the changes\n",
    "1. Create a commit with the message `\"Initializing the repository\"`"
   ]
  },
  {
   "cell_type": "markdown",
   "id": "47c340bb-69e0-47d3-a30c-eefe0560d965",
   "metadata": {},
   "source": [
    "**Exercise 3 - Create and use a development branch**\n",
    "\n",
    "1. Create a new branch called `devel` and switch to it\n",
    "1. Create a new version of the file `Iris-setosa.csv` that should contain only the first 10 lines of the original file.\n",
    "1. Stage all the changes and create e new commit with the message `\"csv changed\"`.\n",
    "1. Check that on branch `devel` the number of lines of the file is `10`, but back on barnch `master` the number of lines is `51`\n",
    "   * On branch `devel`: &nbsp; `wc -l Iris-setosa.csv` &rarr; `51 Iris-setosa.csv`\n",
    "   * On branch `master`: &nbsp; `wc -l Iris-setosa.csv` &rarr; `10 Iris-setosa.csv`"
   ]
  },
  {
   "cell_type": "markdown",
   "id": "5dbcd0d4-d8d8-4ee0-a382-d6599b733db4",
   "metadata": {},
   "source": [
    "**Exercise 4 - Check merge conflicts**\n",
    "\n",
    "Check if merging the `devel` branch into the `master` branch could create any conflict. There are two simple ways:\n",
    "\n",
    "1. Check the merge without comitting\n",
    "2. Merge in a temporary branch\n",
    "\n",
    "Try both alternatives"
   ]
  },
  {
   "cell_type": "markdown",
   "id": "ca758f75-a2c5-48fe-9c0c-2a3d89c18a6f",
   "metadata": {},
   "source": [
    "**Exercise 5 - Merge the `devel` branch into the `master` branch**\n",
    "\n",
    "After the merge:\n",
    "* On branch `devel`: &nbsp; `wc -l Iris-setosa.csv` &rarr; `10 Iris-setosa.csv`\n",
    "* On branch `master`: &nbsp; `wc -l Iris-setosa.csv` &rarr; `10 Iris-setosa.csv`"
   ]
  },
  {
   "cell_type": "markdown",
   "id": "049db7c0-cb60-4e28-bfff-642d895df301",
   "metadata": {},
   "source": [
    "**Exercise 6 - Manage a GitHub Repository**\n",
    "\n",
    "1. Create an new repository at GitHub\n",
    "   * <u>Don't check</u> `Add a README file` &rarr; create empty repository\n",
    "1. Add a **Personal Access Token** to the repository:\n",
    "   * `Profile` &rarr; `Developer Settings` &rarr; `Personal access tokens` &rarr; `Fine-grained tokens` &rarr; `Generate new token`\n",
    "   * Give a name\n",
    "   * `Repository access` &rarr; `Only select repositories` &rarr; select\n",
    "   * `Permissions` &rarr; `Repository permissions` &rarr; `Contents` &rarr; `Read and Write`\n",
    "   * Create and Copy the PAT\n",
    "1. Push the repository to GitHub:\n",
    "    ```bash\n",
    "        %%bash\n",
    "        cd lab2\n",
    "        PAT=\"<HERE YOUR PAT>\"\n",
    "        repo=\"<HERE YOR REPO>\" # mine was mpenagar/lab2\n",
    "        git remote add origin https://${PAT}@github.com/${repo}\n",
    "        git push origin master\n",
    "    ```\n",
    "1. Check changes at GitHub. Now you can:\n",
    "   * Make manual changes on GitHub and merge the changes with your local repository.\n",
    "   * Make changes in your local repository and push them to github"
   ]
  }
 ],
 "metadata": {
  "kernelspec": {
   "display_name": "Python 3 (ipykernel)",
   "language": "python",
   "name": "python3"
  },
  "language_info": {
   "codemirror_mode": {
    "name": "ipython",
    "version": 3
   },
   "file_extension": ".py",
   "mimetype": "text/x-python",
   "name": "python",
   "nbconvert_exporter": "python",
   "pygments_lexer": "ipython3",
   "version": "3.12.6"
  }
 },
 "nbformat": 4,
 "nbformat_minor": 5
}
