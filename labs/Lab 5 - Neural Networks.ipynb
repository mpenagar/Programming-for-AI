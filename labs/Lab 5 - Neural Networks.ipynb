{
 "cells": [
  {
   "cell_type": "markdown",
   "id": "af35aa6d-9142-4e38-b064-4ec5d6383ecf",
   "metadata": {},
   "source": [
    "## Lab 5 - Neural Networks\n",
    "\n",
    "We will try to resolve two relatest task based on two datasets:\n",
    "\n",
    "* Binary classification\n",
    "    * Brain Tumor detection based on X-Ray images of Brain\n",
    "    * https://www.kaggle.com/datasets/preetviradiya/brian-tumor-dataset\n",
    "* Multiclass classification\n",
    "    * Brain Tumors classification based on MRI images\n",
    "    * https://www.kaggle.com/datasets/masoudnickparvar/brain-tumor-mri-dataset\n"
   ]
  },
  {
   "cell_type": "markdown",
   "id": "adf1382c-f5c5-4c3c-8978-79c8576d5c8e",
   "metadata": {},
   "source": [
    "We already know how do download a Kaggle dataset:"
   ]
  },
  {
   "cell_type": "code",
   "execution_count": 1,
   "id": "854d48e7-a6dd-4e49-9c91-aa954f1a5733",
   "metadata": {},
   "outputs": [
    {
     "name": "stdout",
     "output_type": "stream",
     "text": [
      "Warning: Looks like you're using an outdated `kagglehub` version (installed: 0.3.10), please consider upgrading to the latest version (0.3.12).\n"
     ]
    }
   ],
   "source": [
    "import kagglehub\n",
    "path = kagglehub.dataset_download(\"preetviradiya/brian-tumor-dataset\")"
   ]
  },
  {
   "cell_type": "markdown",
   "id": "767e9d57-f487-4b42-a893-a67bee69fd4d",
   "metadata": {},
   "source": [
    "The dataset contains two folders with healthy/non-healthy images:"
   ]
  },
  {
   "cell_type": "code",
   "execution_count": 2,
   "id": "82496a93-78ed-4439-b989-3a02b95f33db",
   "metadata": {},
   "outputs": [
    {
     "name": "stdout",
     "output_type": "stream",
     "text": [
      "total 200\n",
      "drwxr-xr-x 2 jupyter-mpenagaricano jupyter-mpenagaricano 102400 Mar 26 14:13 'Brain Tumor'\n",
      "drwxr-xr-x 2 jupyter-mpenagaricano jupyter-mpenagaricano 102400 Mar 26 14:13  Healthy\n"
     ]
    }
   ],
   "source": [
    "!ls -l \"$path/Brain Tumor Data Set/Brain Tumor Data Set\""
   ]
  },
  {
   "cell_type": "markdown",
   "id": "5d81e630-29c5-4c1c-896e-34db532cdbf9",
   "metadata": {},
   "source": [
    "Keras can automatically load an image dataset and try to infer the labels based on the directory structure:\n",
    "\n",
    "```python\n",
    "keras.utils.image_dataset_from_directory(\n",
    "    directory,\n",
    "    labels=\"inferred\",\n",
    "    label_mode=\"int\",\n",
    "    class_names=None,\n",
    "    color_mode=\"rgb\",\n",
    "    batch_size=32,\n",
    "    image_size=(256, 256),\n",
    "    shuffle=True,\n",
    "    seed=None,\n",
    "    validation_split=None,\n",
    "    subset=None,\n",
    "    interpolation=\"bilinear\",\n",
    "    follow_links=False,\n",
    "    crop_to_aspect_ratio=False,\n",
    "    pad_to_aspect_ratio=False,\n",
    "    data_format=None,\n",
    "    verbose=True,\n",
    ")\n",
    "```"
   ]
  },
  {
   "cell_type": "markdown",
   "id": "cd1d2839-e909-4f47-bb71-f738daf9dbf9",
   "metadata": {},
   "source": [
    "```python\n",
    "from keras.utils import image_dataset_from_directory\n",
    "directory = path + \"/Brain Tumor Data Set/Brain Tumor Data Set\"\n",
    "dataset = image_dataset_from_directory(directory, ...)\n",
    "```"
   ]
  },
  {
   "cell_type": "markdown",
   "id": "f914eb21-3b8b-4061-9ba6-2d23c9881456",
   "metadata": {},
   "source": [
    "`image_dataset_from_directory` returns a `tf.data.Dataset` object (Tensorflow)"
   ]
  },
  {
   "cell_type": "markdown",
   "id": "1f387e79-491d-476a-a850-abf647b072ce",
   "metadata": {},
   "source": [
    "**Exercise 1 - Load de dataset and convert it to numpy arrays**\n",
    "\n",
    "Try to load the binary classification `preetviradiya/brian-tumor-dataset` dataset and extract all the data and labels. Use any online resource or AI as reference."
   ]
  },
  {
   "cell_type": "markdown",
   "id": "ba1f93e0-1dba-4955-828c-6e20b7ed1c78",
   "metadata": {},
   "source": [
    "**Exercise 2 - Create a model and evaluate it**\n",
    "\n",
    "Use a separate test set for the final evaluation."
   ]
  },
  {
   "cell_type": "markdown",
   "id": "866a3247-dd90-4f08-b336-6ed7acd9a509",
   "metadata": {},
   "source": [
    "**Exercise 3 - Try to solve the multiclass problem**\n",
    "\n",
    "Download and extract the data from the `masoudnickparvar/brain-tumor-mri-dataset`dataset, create a model and evaluate it on a separate test set."
   ]
  }
 ],
 "metadata": {
  "kernelspec": {
   "display_name": "Python 3 (ipykernel)",
   "language": "python",
   "name": "python3"
  },
  "language_info": {
   "codemirror_mode": {
    "name": "ipython",
    "version": 3
   },
   "file_extension": ".py",
   "mimetype": "text/x-python",
   "name": "python",
   "nbconvert_exporter": "python",
   "pygments_lexer": "ipython3",
   "version": "3.12.6"
  }
 },
 "nbformat": 4,
 "nbformat_minor": 5
}
