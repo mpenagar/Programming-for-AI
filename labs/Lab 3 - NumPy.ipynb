{
 "cells": [
  {
   "cell_type": "markdown",
   "id": "e26a3fca-74e1-472a-ac71-7076538e66bb",
   "metadata": {},
   "source": [
    "## Lab 3 - NumPy"
   ]
  },
  {
   "cell_type": "markdown",
   "id": "e546e562-b8bb-4cff-a332-e1da3abbd498",
   "metadata": {},
   "source": [
    "We will use the **100 numpy exercises** by Nicolas P. Rougier:\n",
    "\n",
    "* https://github.com/rougier/numpy-100\n",
    "\n",
    "The repository contains 100 NumPy exercises with hints and solutions. Clone the repository. Inside the repository, create a notebook and run the initialize.py module:"
   ]
  },
  {
   "cell_type": "code",
   "execution_count": 1,
   "id": "74f466f6-bb55-4184-bc6f-4c983ca5ec4e",
   "metadata": {},
   "outputs": [
    {
     "name": "stdout",
     "output_type": "stream",
     "text": [
      "Defaulting to user installation because normal site-packages is not writeable\n",
      "Requirement already satisfied: mdutils in /home/jupyter-mpenagaricano/.local/lib/python3.12/site-packages (1.6.0)\n"
     ]
    }
   ],
   "source": [
    "!pip install mdutils  # for dependencies\n",
    "%run initialise.py"
   ]
  },
  {
   "cell_type": "markdown",
   "id": "de58f8da-3a0c-4dbd-95b2-8f7b8f50d1de",
   "metadata": {},
   "source": [
    "There are 4 functions that you can use:\n",
    "* `question(n)`: displays question number `n` \n",
    "* `hint(n)`: displays hint for question number `n` \n",
    "* `answer(n)`: displays answer for question number `n` \n",
    "* `pick(n)`: displays a random question\n",
    "\n",
    "For example:"
   ]
  },
  {
   "cell_type": "code",
   "execution_count": 2,
   "id": "01531903-d46b-4849-884e-8980390cf99b",
   "metadata": {},
   "outputs": [
    {
     "name": "stdout",
     "output_type": "stream",
     "text": [
      "1. Import the numpy package under the name `np` (★☆☆)\n"
     ]
    }
   ],
   "source": [
    "question(1)"
   ]
  },
  {
   "cell_type": "code",
   "execution_count": 3,
   "id": "84226887-bd7e-4968-a72b-371d4e9e6b65",
   "metadata": {},
   "outputs": [
    {
     "name": "stdout",
     "output_type": "stream",
     "text": [
      "hint: import … as\n"
     ]
    }
   ],
   "source": [
    "hint(1)"
   ]
  },
  {
   "cell_type": "code",
   "execution_count": 4,
   "id": "8de6dcd0-bd2d-4474-86d0-2bf09e04cc42",
   "metadata": {},
   "outputs": [
    {
     "name": "stdout",
     "output_type": "stream",
     "text": [
      "import numpy as np\n"
     ]
    }
   ],
   "source": [
    "answer(1)"
   ]
  },
  {
   "cell_type": "markdown",
   "id": "1b879dbb-6720-49be-b609-7b5b855bb676",
   "metadata": {},
   "source": [
    "The `answer(n)` function shows just one possible solution, there could be more than one. Try to answer the following questions:\n",
    "\n",
    "* `8`, `10`, `15`, `25`, `42`, `45`, `50`, `58`, `70` and `72` "
   ]
  }
 ],
 "metadata": {
  "kernelspec": {
   "display_name": "Python 3 (ipykernel)",
   "language": "python",
   "name": "python3"
  },
  "language_info": {
   "codemirror_mode": {
    "name": "ipython",
    "version": 3
   },
   "file_extension": ".py",
   "mimetype": "text/x-python",
   "name": "python",
   "nbconvert_exporter": "python",
   "pygments_lexer": "ipython3",
   "version": "3.12.6"
  }
 },
 "nbformat": 4,
 "nbformat_minor": 5
}
