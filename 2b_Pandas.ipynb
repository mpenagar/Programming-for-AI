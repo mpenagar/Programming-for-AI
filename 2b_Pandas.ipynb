{
 "cells": [
  {
   "cell_type": "markdown",
   "id": "3646d26a-0bd6-442b-97de-32d4018e0fc9",
   "metadata": {
    "editable": true,
    "slideshow": {
     "slide_type": ""
    },
    "tags": []
   },
   "source": [
    "# Pandas"
   ]
  },
  {
   "cell_type": "markdown",
   "id": "ea0466e0-7771-4b14-b5a5-a5a4b18a7f0e",
   "metadata": {
    "editable": true,
    "slideshow": {
     "slide_type": "fragment"
    },
    "tags": []
   },
   "source": [
    "* Jake VanderPlas. 2016. *Python Data Science Handbook: Essential Tools for Working with Data*. O'Reilly Media, Inc.\n",
    "* Chapter 3 - Data Manipulation with Pandas\n",
    "* https://github.com/jakevdp/PythonDataScienceHandbook"
   ]
  },
  {
   "cell_type": "markdown",
   "id": "b67fa7f9-a9a9-44d9-8078-793cedb169ff",
   "metadata": {
    "editable": true,
    "slideshow": {
     "slide_type": "slide"
    },
    "tags": []
   },
   "source": [
    "Pandas provides:\n",
    "\n",
    "* Ritch I/O Capabilities (read/write data from/to CSV, Excel, SQL, JSON, etc.)\n",
    "* 1-dimensional (**Series**) and 2-dimensional tabular (**DataFrame**) data structures.\n",
    "* Data flexibility (handles missing data, time series, and heterogeneous data types).\n",
    "* Labeled Rows and columns for data alignment\n",
    "* Flexible indexing, slicing, fancy indexing, and subsetting of large datasets."
   ]
  },
  {
   "cell_type": "code",
   "execution_count": 22,
   "id": "a118fb2c-d422-40f0-8782-d60c20ea18f2",
   "metadata": {
    "editable": true,
    "slideshow": {
     "slide_type": "slide"
    },
    "tags": []
   },
   "outputs": [
    {
     "data": {
      "text/plain": [
       "'2.2.3'"
      ]
     },
     "execution_count": 22,
     "metadata": {},
     "output_type": "execute_result"
    }
   ],
   "source": [
    "import numpy as np\n",
    "import pandas as pd\n",
    "pd.__version__\n"
   ]
  },
  {
   "cell_type": "code",
   "execution_count": 4,
   "id": "3ece8ed2-0611-4861-8bfa-87aa9f80998b",
   "metadata": {
    "editable": true,
    "slideshow": {
     "slide_type": ""
    },
    "tags": []
   },
   "outputs": [],
   "source": [
    "# type TAB to get the numpy namespace\n",
    "#pd."
   ]
  },
  {
   "cell_type": "markdown",
   "id": "48741545-7532-4613-ad95-4f31a8941976",
   "metadata": {
    "editable": true,
    "slideshow": {
     "slide_type": "slide"
    },
    "tags": []
   },
   "source": [
    "## Pandas Series\n",
    "\n",
    "* One-dimensional array of indexed data\n",
    "* Two attributes:\n",
    "   * `values` : NumPy array\n",
    "   * `index` : an array-like object of type `pd.Index"
   ]
  },
  {
   "cell_type": "code",
   "execution_count": 13,
   "id": "02a353e5-2ea3-4086-b89d-0b7494291091",
   "metadata": {
    "editable": true,
    "slideshow": {
     "slide_type": ""
    },
    "tags": []
   },
   "outputs": [
    {
     "name": "stdout",
     "output_type": "stream",
     "text": [
      "d =\n",
      "0    0.25\n",
      "1    0.50\n",
      "2    0.75\n",
      "3    1.00\n",
      "dtype: float64\n",
      "d.values = array([0.25, 0.5 , 0.75, 1.  ])\n",
      " d.index = RangeIndex(start=0, stop=4, step=1)\n"
     ]
    }
   ],
   "source": [
    "d = pd.Series([0.25, 0.5, 0.75, 1.0])\n",
    "print(f'd =\\n{d}')\n",
    "print(f'{d.values = }')\n",
    "print(f'{ d.index = }')"
   ]
  },
  {
   "cell_type": "markdown",
   "id": "221b0d75-d496-44a5-90cf-0556ebd1e41b",
   "metadata": {
    "editable": true,
    "slideshow": {
     "slide_type": "slide"
    },
    "tags": []
   },
   "source": [
    "Series can be created from NumPy arrays:"
   ]
  },
  {
   "cell_type": "code",
   "execution_count": 15,
   "id": "86754485-bfeb-413f-8e55-452fccbcfc4f",
   "metadata": {
    "editable": true,
    "slideshow": {
     "slide_type": ""
    },
    "tags": []
   },
   "outputs": [
    {
     "data": {
      "text/plain": [
       "0    0.0\n",
       "1    0.8\n",
       "2    1.6\n",
       "3    2.4\n",
       "4    3.2\n",
       "5    4.0\n",
       "dtype: float64"
      ]
     },
     "execution_count": 15,
     "metadata": {},
     "output_type": "execute_result"
    }
   ],
   "source": [
    "d = pd.Series(np.linspace(0,4,6))\n",
    "d"
   ]
  },
  {
   "cell_type": "markdown",
   "id": "326e5361-a53f-4c7e-af02-577c23519577",
   "metadata": {
    "editable": true,
    "slideshow": {
     "slide_type": "slide"
    },
    "tags": []
   },
   "source": [
    "A series can be indexed just like a NumPy array:"
   ]
  },
  {
   "cell_type": "code",
   "execution_count": 27,
   "id": "7a636c34-41fb-47e9-a7cb-f362aadbe75c",
   "metadata": {
    "editable": true,
    "slideshow": {
     "slide_type": ""
    },
    "tags": []
   },
   "outputs": [
    {
     "name": "stdout",
     "output_type": "stream",
     "text": [
      "      d[3] = 13\n",
      "     d[3:] = 3    13\n",
      "4    14\n",
      "5    15\n",
      "6    16\n",
      "7    17\n",
      "8    18\n",
      "9    19\n",
      "dtype: int64\n",
      "    d[3:4] = 3    13\n",
      "dtype: int64\n",
      "d[[1,3,0]] = 1    11\n",
      "3    13\n",
      "0    10\n",
      "dtype: int64\n",
      "    d[[1]] = 1    11\n",
      "dtype: int64\n"
     ]
    }
   ],
   "source": [
    "d = pd.Series(np.arange(10,20))\n",
    "print(f'{      d[3] = }')       # simple index --> scalar\n",
    "print(f'{     d[3:] = }')      # slice --> series\n",
    "print(f'{    d[3:4] = }')     # slice --> series\n",
    "print(f'{d[[1,3,0]] = }') # fancy index --> series\n",
    "print(f'{    d[[1]] = }')     # fancy index --> series"
   ]
  },
  {
   "cell_type": "markdown",
   "id": "4c0e17b3-16ce-46eb-a545-a97432c92504",
   "metadata": {
    "editable": true,
    "slideshow": {
     "slide_type": "slide"
    },
    "tags": []
   },
   "source": [
    "But... Pandas Series has an explicit **index** (vs. NumPy implicit integer index)\n",
    "   * Defaults to integer index"
   ]
  },
  {
   "cell_type": "code",
   "execution_count": 38,
   "id": "1fb23eb8-f303-44d1-a1cc-8e0a22fdd9b9",
   "metadata": {},
   "outputs": [
    {
     "name": "stdout",
     "output_type": "stream",
     "text": [
      "d =\n",
      "a    0\n",
      "b    1\n",
      "c    2\n",
      "d    3\n",
      "e    4\n",
      "dtype: int64\n",
      "d[\"b\"] = 1\n"
     ]
    }
   ],
   "source": [
    "d = pd.Series(np.arange(5), index=[\"a\",\"b\",\"c\",\"d\",\"e\"])\n",
    "print(f'd =\\n{d}')\n",
    "# WARNING \"treating keys as positions is deprecated\"  --> use serie.iloc[pos]\n",
    "#print(f'{d[1] = }')\n",
    "print(f'{d[\"b\"] = }')"
   ]
  },
  {
   "cell_type": "code",
   "execution_count": 40,
   "id": "9d28d083-9adb-4be8-8d8e-d60a32e1869b",
   "metadata": {
    "editable": true,
    "slideshow": {
     "slide_type": "slide"
    },
    "tags": []
   },
   "outputs": [
    {
     "name": "stdout",
     "output_type": "stream",
     "text": [
      "d =\n",
      "3      0\n",
      "23     1\n",
      "1      2\n",
      "2      3\n",
      "456    4\n",
      "dtype: int64\n",
      "d[456] = 4\n"
     ]
    }
   ],
   "source": [
    "d = pd.Series(np.arange(5), index=[3,23,1,2,456])\n",
    "print(f'd =\\n{d}')\n",
    "print(f'{d[456] = }')"
   ]
  },
  {
   "cell_type": "markdown",
   "id": "ba5f604c-0ca8-4283-acc9-dee033d14332",
   "metadata": {
    "editable": true,
    "slideshow": {
     "slide_type": ""
    },
    "tags": []
   },
   "source": [
    "<br>\n",
    "\n",
    "* Series are kind of python dictionary $\\{index_{typed \\,\\&\\, ordered} \\to value_{typed}\\}$ "
   ]
  },
  {
   "cell_type": "markdown",
   "id": "c3045edf-44c1-4766-be98-bc7ab8611ec3",
   "metadata": {
    "editable": true,
    "slideshow": {
     "slide_type": "slide"
    },
    "tags": []
   },
   "source": [
    "## Pandas DataFrame"
   ]
  },
  {
   "cell_type": "markdown",
   "id": "f49af1d7-1360-490c-80c5-a4b2733a9e5c",
   "metadata": {
    "editable": true,
    "slideshow": {
     "slide_type": "slide"
    },
    "tags": []
   },
   "source": [
    "## Pandas Index"
   ]
  },
  {
   "cell_type": "markdown",
   "id": "1e7e231f-e223-4ee0-8fe7-fbe673f13d27",
   "metadata": {
    "editable": true,
    "slideshow": {
     "slide_type": "slide"
    },
    "tags": []
   },
   "source": [
    "## Indeing and Selection"
   ]
  },
  {
   "cell_type": "markdown",
   "id": "f4e1fe69-7cdb-4625-9066-21d273e9aa6a",
   "metadata": {
    "editable": true,
    "slideshow": {
     "slide_type": "slide"
    },
    "tags": []
   },
   "source": [
    "## Operating on Data"
   ]
  },
  {
   "cell_type": "markdown",
   "id": "ba83c058-6fe3-4f80-80f2-340d8221442b",
   "metadata": {
    "editable": true,
    "slideshow": {
     "slide_type": "slide"
    },
    "tags": []
   },
   "source": [
    "## Handling Missing Data"
   ]
  },
  {
   "cell_type": "markdown",
   "id": "68d0ae86-5336-432d-9493-8d9c7237511e",
   "metadata": {
    "editable": true,
    "slideshow": {
     "slide_type": "slide"
    },
    "tags": []
   },
   "source": [
    "## Hierarchical Indexing???"
   ]
  },
  {
   "cell_type": "markdown",
   "id": "76844609-ae41-4884-9313-22fabbc6bdc9",
   "metadata": {},
   "source": [
    "## Combining Datasets: Concat and Append"
   ]
  },
  {
   "cell_type": "code",
   "execution_count": null,
   "id": "f61c6699-430b-4f92-b5fc-ad4c168d9fa2",
   "metadata": {},
   "outputs": [],
   "source": []
  }
 ],
 "metadata": {
  "kernelspec": {
   "display_name": "Python 3 (ipykernel)",
   "language": "python",
   "name": "python3"
  },
  "language_info": {
   "codemirror_mode": {
    "name": "ipython",
    "version": 3
   },
   "file_extension": ".py",
   "mimetype": "text/x-python",
   "name": "python",
   "nbconvert_exporter": "python",
   "pygments_lexer": "ipython3",
   "version": "3.12.6"
  }
 },
 "nbformat": 4,
 "nbformat_minor": 5
}
