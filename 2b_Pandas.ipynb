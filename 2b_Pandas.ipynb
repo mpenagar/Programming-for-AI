{
 "cells": [
  {
   "cell_type": "markdown",
   "id": "3646d26a-0bd6-442b-97de-32d4018e0fc9",
   "metadata": {
    "editable": true,
    "slideshow": {
     "slide_type": ""
    },
    "tags": []
   },
   "source": [
    "# Pandas"
   ]
  },
  {
   "cell_type": "markdown",
   "id": "ea0466e0-7771-4b14-b5a5-a5a4b18a7f0e",
   "metadata": {
    "editable": true,
    "slideshow": {
     "slide_type": "fragment"
    },
    "tags": []
   },
   "source": [
    "* Jake VanderPlas. 2016. *Python Data Science Handbook: Essential Tools for Working with Data*. O'Reilly Media, Inc.\n",
    "* Chapter 3 - Data Manipulation with Pandas\n",
    "* https://github.com/jakevdp/PythonDataScienceHandbook"
   ]
  },
  {
   "cell_type": "markdown",
   "id": "b67fa7f9-a9a9-44d9-8078-793cedb169ff",
   "metadata": {
    "editable": true,
    "slideshow": {
     "slide_type": "slide"
    },
    "tags": []
   },
   "source": [
    "Pandas provides:\n",
    "\n",
    "* Ritch I/O Capabilities (read/write data from/to CSV, Excel, SQL, JSON, etc.)\n",
    "* 1-dimensional (**Series**) and 2-dimensional tabular (**DataFrame**) data structures.\n",
    "* Data flexibility (handles missing data, time series, and heterogeneous data types).\n",
    "* Labeled Rows and columns for data alignment\n",
    "* Flexible indexing, slicing, fancy indexing, and subsetting of large datasets."
   ]
  },
  {
   "cell_type": "code",
   "execution_count": 1,
   "id": "a118fb2c-d422-40f0-8782-d60c20ea18f2",
   "metadata": {
    "editable": true,
    "slideshow": {
     "slide_type": "slide"
    },
    "tags": []
   },
   "outputs": [
    {
     "data": {
      "text/plain": [
       "'2.2.3'"
      ]
     },
     "execution_count": 1,
     "metadata": {},
     "output_type": "execute_result"
    }
   ],
   "source": [
    "import numpy as np\n",
    "import pandas as pd\n",
    "pd.__version__"
   ]
  },
  {
   "cell_type": "code",
   "execution_count": 2,
   "id": "3ece8ed2-0611-4861-8bfa-87aa9f80998b",
   "metadata": {
    "editable": true,
    "slideshow": {
     "slide_type": ""
    },
    "tags": []
   },
   "outputs": [],
   "source": [
    "# type TAB to get the numpy namespace\n",
    "#pd."
   ]
  },
  {
   "cell_type": "markdown",
   "id": "48741545-7532-4613-ad95-4f31a8941976",
   "metadata": {
    "editable": true,
    "slideshow": {
     "slide_type": "slide"
    },
    "tags": []
   },
   "source": [
    "## Pandas Series\n",
    "\n",
    "* One-dimensional array of indexed data\n",
    "* Two attributes:\n",
    "   * `values` : NumPy array\n",
    "   * `index` : an array-like object of type `pd.Index"
   ]
  },
  {
   "cell_type": "code",
   "execution_count": 3,
   "id": "02a353e5-2ea3-4086-b89d-0b7494291091",
   "metadata": {
    "editable": true,
    "slideshow": {
     "slide_type": ""
    },
    "tags": []
   },
   "outputs": [
    {
     "name": "stdout",
     "output_type": "stream",
     "text": [
      "d =\n",
      "0    0.25\n",
      "1    0.50\n",
      "2    0.75\n",
      "3    1.00\n",
      "dtype: float64\n",
      "d.values = array([0.25, 0.5 , 0.75, 1.  ])\n",
      " d.index = RangeIndex(start=0, stop=4, step=1)\n"
     ]
    }
   ],
   "source": [
    "d = pd.Series([0.25, 0.5, 0.75, 1.0])\n",
    "print(f'd =\\n{d}')\n",
    "print(f'{d.values = }')\n",
    "print(f'{ d.index = }')"
   ]
  },
  {
   "cell_type": "markdown",
   "id": "221b0d75-d496-44a5-90cf-0556ebd1e41b",
   "metadata": {
    "editable": true,
    "slideshow": {
     "slide_type": "slide"
    },
    "tags": []
   },
   "source": [
    "Series can be created from NumPy arrays:"
   ]
  },
  {
   "cell_type": "code",
   "execution_count": 4,
   "id": "86754485-bfeb-413f-8e55-452fccbcfc4f",
   "metadata": {
    "editable": true,
    "slideshow": {
     "slide_type": ""
    },
    "tags": []
   },
   "outputs": [
    {
     "data": {
      "text/plain": [
       "0    0.0\n",
       "1    0.8\n",
       "2    1.6\n",
       "3    2.4\n",
       "4    3.2\n",
       "5    4.0\n",
       "dtype: float64"
      ]
     },
     "execution_count": 4,
     "metadata": {},
     "output_type": "execute_result"
    }
   ],
   "source": [
    "d = pd.Series(np.linspace(0,4,6))\n",
    "d"
   ]
  },
  {
   "cell_type": "markdown",
   "id": "326e5361-a53f-4c7e-af02-577c23519577",
   "metadata": {
    "editable": true,
    "slideshow": {
     "slide_type": "slide"
    },
    "tags": []
   },
   "source": [
    "A series can be indexed just like a NumPy array:"
   ]
  },
  {
   "cell_type": "code",
   "execution_count": 5,
   "id": "7a636c34-41fb-47e9-a7cb-f362aadbe75c",
   "metadata": {
    "editable": true,
    "slideshow": {
     "slide_type": ""
    },
    "tags": []
   },
   "outputs": [
    {
     "name": "stdout",
     "output_type": "stream",
     "text": [
      "      d[3] = 13\n",
      "     d[3:] = 3    13\n",
      "4    14\n",
      "dtype: int64\n",
      "    d[3:4] = 3    13\n",
      "dtype: int64\n",
      "d[[1,3,0]] = 1    11\n",
      "3    13\n",
      "0    10\n",
      "dtype: int64\n",
      "    d[[1]] = 1    11\n",
      "dtype: int64\n"
     ]
    }
   ],
   "source": [
    "d = pd.Series(np.arange(10,15))\n",
    "print(f'{      d[3] = }')  # simple index --> scalar\n",
    "print(f'{     d[3:] = }')  # slice --> series\n",
    "print(f'{    d[3:4] = }')  # slice --> series\n",
    "print(f'{d[[1,3,0]] = }')  # fancy index --> series\n",
    "print(f'{    d[[1]] = }')  # fancy index --> series"
   ]
  },
  {
   "cell_type": "markdown",
   "id": "4c0e17b3-16ce-46eb-a545-a97432c92504",
   "metadata": {
    "editable": true,
    "slideshow": {
     "slide_type": "slide"
    },
    "tags": []
   },
   "source": [
    "But... Pandas Series has an explicit **index** (vs. NumPy implicit integer index)\n",
    "   * Defaults to integer index"
   ]
  },
  {
   "cell_type": "code",
   "execution_count": 6,
   "id": "1fb23eb8-f303-44d1-a1cc-8e0a22fdd9b9",
   "metadata": {},
   "outputs": [
    {
     "name": "stdout",
     "output_type": "stream",
     "text": [
      "d =\n",
      "a    10\n",
      "b    11\n",
      "c    12\n",
      "d    13\n",
      "e    14\n",
      "dtype: int64\n",
      "d[\"b\"] = 11\n"
     ]
    }
   ],
   "source": [
    "d = pd.Series(np.arange(10,15), index=[\"a\",\"b\",\"c\",\"d\",\"e\"])\n",
    "print(f'd =\\n{d}')\n",
    "# WARNING \"treating keys as positions is deprecated\"  --> use serie.iloc[pos]\n",
    "#print(f'{d[1] = }')\n",
    "print(f'{d[\"b\"] = }')"
   ]
  },
  {
   "cell_type": "code",
   "execution_count": 7,
   "id": "9d28d083-9adb-4be8-8d8e-d60a32e1869b",
   "metadata": {
    "editable": true,
    "slideshow": {
     "slide_type": "slide"
    },
    "tags": []
   },
   "outputs": [
    {
     "name": "stdout",
     "output_type": "stream",
     "text": [
      "d =\n",
      "3      10\n",
      "23     11\n",
      "1      12\n",
      "2      13\n",
      "456    14\n",
      "dtype: int64\n",
      "d[456] = 14\n"
     ]
    }
   ],
   "source": [
    "d = pd.Series(np.arange(10,15), index=[3,23,1,2,456])\n",
    "print(f'd =\\n{d}')\n",
    "print(f'{d[456] = }')"
   ]
  },
  {
   "cell_type": "markdown",
   "id": "ba5f604c-0ca8-4283-acc9-dee033d14332",
   "metadata": {
    "editable": true,
    "slideshow": {
     "slide_type": "slide"
    },
    "tags": []
   },
   "source": [
    "* Series are kind of specialized Python dictionaries $\\{index_{typed \\,\\&\\, ordered} \\to value_{typed}\\}$ \n",
    "* `pd.Series(dict)` &rarr; create a Series from a dictionary\n",
    "* `pd.Series.to_dict()` &rarr; create a dictionary from a Series<br><br>"
   ]
  },
  {
   "cell_type": "code",
   "execution_count": 8,
   "id": "39eb466e-29a3-4e0a-bbad-499ca28cb28d",
   "metadata": {},
   "outputs": [
    {
     "name": "stdout",
     "output_type": "stream",
     "text": [
      "d1 =\n",
      "3      10\n",
      "23     11\n",
      "1      12\n",
      "2      13\n",
      "456    14\n",
      "dtype: int64\n",
      "x = {3: 10, 23: 11, 1: 12, 2: 13, 456: 14}\n",
      "d2 =\n",
      "3      10\n",
      "23     11\n",
      "1      12\n",
      "2      13\n",
      "456    14\n",
      "dtype: int64\n"
     ]
    }
   ],
   "source": [
    "d1 = pd.Series(np.arange(10,15), index=[3,23,1,2,456])\n",
    "x = d1.to_dict()\n",
    "d2 = pd.Series(x)\n",
    "print(f'd1 =\\n{d1}')\n",
    "print(f'{x = }')\n",
    "print(f'd2 =\\n{d2}')"
   ]
  },
  {
   "cell_type": "markdown",
   "id": "79c9e60d-3ea4-44d6-a105-5fe7bc3f23d4",
   "metadata": {
    "editable": true,
    "slideshow": {
     "slide_type": "slide"
    },
    "tags": []
   },
   "source": [
    "**Slicing & Fancy Indexing** works with <u>any kind of index</u><br/><br/>"
   ]
  },
  {
   "cell_type": "code",
   "execution_count": 9,
   "id": "cd63a1fe-78ca-4bce-b2d6-a7c4d32abc36",
   "metadata": {},
   "outputs": [
    {
     "name": "stdout",
     "output_type": "stream",
     "text": [
      "        d[2] = 13\n",
      "       d[2:] = 1      12\n",
      "2      13\n",
      "456    14\n",
      "dtype: int64\n",
      "     d[23:2] = Series([], dtype: int64)\n",
      " d[[1,23,3]] = 1     12\n",
      "23    11\n",
      "3     10\n",
      "dtype: int64\n",
      "    d[[456]] = 456    14\n",
      "dtype: int64\n"
     ]
    }
   ],
   "source": [
    "d = pd.Series(np.arange(10,15), index=[3,23,1,2,456])\n",
    "print(f'{        d[2] = }')  # simple index --> scalar\n",
    "print(f'{       d[2:] = }')  # slice --> series\n",
    "print(f'{     d[23:2] = }')  # slice --> series\n",
    "print(f'{ d[[1,23,3]] = }')  # fancy index --> series\n",
    "print(f'{    d[[456]] = }')  # fancy index --> series"
   ]
  },
  {
   "cell_type": "markdown",
   "id": "c3045edf-44c1-4766-be98-bc7ab8611ec3",
   "metadata": {
    "editable": true,
    "slideshow": {
     "slide_type": "slide"
    },
    "tags": []
   },
   "source": [
    "## Pandas DataFrame\n",
    "\n",
    "* DataFrames are kind of specialized Python dictionaries $\\{index_{typed \\,\\&\\, ordered} \\to series\\}$ with a common row index\n",
    "* Kind of *Series of Series* with a common row index\n",
    "\n",
    "<br>"
   ]
  },
  {
   "cell_type": "code",
   "execution_count": 31,
   "id": "9d2218c9-fd47-4312-91bd-ae49f84f7192",
   "metadata": {
    "editable": true,
    "slideshow": {
     "slide_type": ""
    },
    "tags": []
   },
   "outputs": [
    {
     "data": {
      "text/html": [
       "<div>\n",
       "<style scoped>\n",
       "    .dataframe tbody tr th:only-of-type {\n",
       "        vertical-align: middle;\n",
       "    }\n",
       "\n",
       "    .dataframe tbody tr th {\n",
       "        vertical-align: top;\n",
       "    }\n",
       "\n",
       "    .dataframe thead th {\n",
       "        text-align: right;\n",
       "    }\n",
       "</style>\n",
       "<table border=\"1\" class=\"dataframe\">\n",
       "  <thead>\n",
       "    <tr style=\"text-align: right;\">\n",
       "      <th></th>\n",
       "      <th>population</th>\n",
       "      <th>area</th>\n",
       "    </tr>\n",
       "  </thead>\n",
       "  <tbody>\n",
       "    <tr>\n",
       "      <th>California</th>\n",
       "      <td>39538223</td>\n",
       "      <td>423967</td>\n",
       "    </tr>\n",
       "    <tr>\n",
       "      <th>Texas</th>\n",
       "      <td>29145505</td>\n",
       "      <td>695662</td>\n",
       "    </tr>\n",
       "    <tr>\n",
       "      <th>Florida</th>\n",
       "      <td>21538187</td>\n",
       "      <td>170312</td>\n",
       "    </tr>\n",
       "    <tr>\n",
       "      <th>New York</th>\n",
       "      <td>20201249</td>\n",
       "      <td>141297</td>\n",
       "    </tr>\n",
       "  </tbody>\n",
       "</table>\n",
       "</div>"
      ],
      "text/plain": [
       "            population    area\n",
       "California    39538223  423967\n",
       "Texas         29145505  695662\n",
       "Florida       21538187  170312\n",
       "New York      20201249  141297"
      ]
     },
     "execution_count": 31,
     "metadata": {},
     "output_type": "execute_result"
    }
   ],
   "source": [
    "cities = ['California','Texas','Florida','New York']\n",
    "population = pd.Series([39538223,29145505,21538187,20201249], index=cities)\n",
    "area = pd.Series([423967, 695662, 170312, 141297], index=cities)\n",
    "states = pd.DataFrame({'population':population, 'area':area})\n",
    "states"
   ]
  },
  {
   "cell_type": "markdown",
   "id": "770109e5-1eba-401c-b181-14211065dcac",
   "metadata": {
    "editable": true,
    "jp-MarkdownHeadingCollapsed": true,
    "slideshow": {
     "slide_type": "slide"
    },
    "tags": []
   },
   "source": [
    "* Like the Series, DataFrame has an `index` attribute (*row index*)\n",
    "* DataFrame has a `columns` attribute (*column index*)\n",
    "* Both are of type `pd.Index`\n",
    "\n",
    "<br>"
   ]
  },
  {
   "cell_type": "code",
   "execution_count": 33,
   "id": "94ade78e-e9e0-489a-a58a-2e27f64a6cc5",
   "metadata": {},
   "outputs": [
    {
     "data": {
      "text/plain": [
       "Index(['California', 'Texas', 'Florida', 'New York'], dtype='object')"
      ]
     },
     "execution_count": 33,
     "metadata": {},
     "output_type": "execute_result"
    }
   ],
   "source": [
    "states.index"
   ]
  },
  {
   "cell_type": "code",
   "execution_count": 34,
   "id": "aeb41b14-5f59-450c-a440-00f0e2f4968e",
   "metadata": {},
   "outputs": [
    {
     "data": {
      "text/plain": [
       "Index(['population', 'area'], dtype='object')"
      ]
     },
     "execution_count": 34,
     "metadata": {},
     "output_type": "execute_result"
    }
   ],
   "source": [
    "states.columns"
   ]
  },
  {
   "cell_type": "code",
   "execution_count": 35,
   "id": "43fe3497-beb1-422a-8a52-5fbbccfd43d8",
   "metadata": {},
   "outputs": [
    {
     "data": {
      "text/plain": [
       "True"
      ]
     },
     "execution_count": 35,
     "metadata": {},
     "output_type": "execute_result"
    }
   ],
   "source": [
    "type(states.index) == type(states.columns) == pd.Index"
   ]
  },
  {
   "cell_type": "markdown",
   "id": "f49af1d7-1360-490c-80c5-a4b2733a9e5c",
   "metadata": {
    "editable": true,
    "slideshow": {
     "slide_type": "slide"
    },
    "tags": []
   },
   "source": [
    "A DataFrame can be constructed from a single series:<br><br>"
   ]
  },
  {
   "cell_type": "code",
   "execution_count": 39,
   "id": "aa3cd16c-9aa2-4d34-a187-6e2c2669ca81",
   "metadata": {},
   "outputs": [
    {
     "data": {
      "text/html": [
       "<div>\n",
       "<style scoped>\n",
       "    .dataframe tbody tr th:only-of-type {\n",
       "        vertical-align: middle;\n",
       "    }\n",
       "\n",
       "    .dataframe tbody tr th {\n",
       "        vertical-align: top;\n",
       "    }\n",
       "\n",
       "    .dataframe thead th {\n",
       "        text-align: right;\n",
       "    }\n",
       "</style>\n",
       "<table border=\"1\" class=\"dataframe\">\n",
       "  <thead>\n",
       "    <tr style=\"text-align: right;\">\n",
       "      <th></th>\n",
       "      <th>population</th>\n",
       "    </tr>\n",
       "  </thead>\n",
       "  <tbody>\n",
       "    <tr>\n",
       "      <th>California</th>\n",
       "      <td>39538223</td>\n",
       "    </tr>\n",
       "    <tr>\n",
       "      <th>Texas</th>\n",
       "      <td>29145505</td>\n",
       "    </tr>\n",
       "    <tr>\n",
       "      <th>Florida</th>\n",
       "      <td>21538187</td>\n",
       "    </tr>\n",
       "    <tr>\n",
       "      <th>New York</th>\n",
       "      <td>20201249</td>\n",
       "    </tr>\n",
       "  </tbody>\n",
       "</table>\n",
       "</div>"
      ],
      "text/plain": [
       "            population\n",
       "California    39538223\n",
       "Texas         29145505\n",
       "Florida       21538187\n",
       "New York      20201249"
      ]
     },
     "execution_count": 39,
     "metadata": {},
     "output_type": "execute_result"
    }
   ],
   "source": [
    "cities = ['California','Texas','Florida','New York']\n",
    "population = pd.Series([39538223,29145505,21538187,20201249], index=cities)\n",
    "states = pd.DataFrame(population, columns=['population'])\n",
    "states"
   ]
  },
  {
   "cell_type": "markdown",
   "id": "9db6fa3b-6978-4fbe-928f-383ddf4fa168",
   "metadata": {
    "editable": true,
    "slideshow": {
     "slide_type": "slide"
    },
    "tags": []
   },
   "source": [
    "A DataFrame can be constructed from a dictionary of series:<br><br>"
   ]
  },
  {
   "cell_type": "code",
   "execution_count": 37,
   "id": "d688e105-88d8-41bc-a6a8-0977202ef676",
   "metadata": {},
   "outputs": [
    {
     "data": {
      "text/html": [
       "<div>\n",
       "<style scoped>\n",
       "    .dataframe tbody tr th:only-of-type {\n",
       "        vertical-align: middle;\n",
       "    }\n",
       "\n",
       "    .dataframe tbody tr th {\n",
       "        vertical-align: top;\n",
       "    }\n",
       "\n",
       "    .dataframe thead th {\n",
       "        text-align: right;\n",
       "    }\n",
       "</style>\n",
       "<table border=\"1\" class=\"dataframe\">\n",
       "  <thead>\n",
       "    <tr style=\"text-align: right;\">\n",
       "      <th></th>\n",
       "      <th>population</th>\n",
       "      <th>area</th>\n",
       "    </tr>\n",
       "  </thead>\n",
       "  <tbody>\n",
       "    <tr>\n",
       "      <th>California</th>\n",
       "      <td>39538223</td>\n",
       "      <td>423967</td>\n",
       "    </tr>\n",
       "    <tr>\n",
       "      <th>Texas</th>\n",
       "      <td>29145505</td>\n",
       "      <td>695662</td>\n",
       "    </tr>\n",
       "    <tr>\n",
       "      <th>Florida</th>\n",
       "      <td>21538187</td>\n",
       "      <td>170312</td>\n",
       "    </tr>\n",
       "    <tr>\n",
       "      <th>New York</th>\n",
       "      <td>20201249</td>\n",
       "      <td>141297</td>\n",
       "    </tr>\n",
       "  </tbody>\n",
       "</table>\n",
       "</div>"
      ],
      "text/plain": [
       "            population    area\n",
       "California    39538223  423967\n",
       "Texas         29145505  695662\n",
       "Florida       21538187  170312\n",
       "New York      20201249  141297"
      ]
     },
     "execution_count": 37,
     "metadata": {},
     "output_type": "execute_result"
    }
   ],
   "source": [
    "cities = ['California','Texas','Florida','New York']\n",
    "population = pd.Series([39538223,29145505,21538187,20201249], index=cities)\n",
    "area = pd.Series([423967, 695662, 170312, 141297], index=cities)\n",
    "states = pd.DataFrame({'population':population, 'area':area})\n",
    "states"
   ]
  },
  {
   "cell_type": "markdown",
   "id": "2041e8fe-9df3-4506-8a8c-6985e710a573",
   "metadata": {
    "editable": true,
    "slideshow": {
     "slide_type": "slide"
    },
    "tags": []
   },
   "source": [
    "A DataFrame can be constructed from list of dictionaries:<br><br>"
   ]
  },
  {
   "cell_type": "code",
   "execution_count": 49,
   "id": "cc6925fb-80e2-43fa-8afc-efca76ccf275",
   "metadata": {},
   "outputs": [
    {
     "data": {
      "text/html": [
       "<div>\n",
       "<style scoped>\n",
       "    .dataframe tbody tr th:only-of-type {\n",
       "        vertical-align: middle;\n",
       "    }\n",
       "\n",
       "    .dataframe tbody tr th {\n",
       "        vertical-align: top;\n",
       "    }\n",
       "\n",
       "    .dataframe thead th {\n",
       "        text-align: right;\n",
       "    }\n",
       "</style>\n",
       "<table border=\"1\" class=\"dataframe\">\n",
       "  <thead>\n",
       "    <tr style=\"text-align: right;\">\n",
       "      <th></th>\n",
       "      <th>population</th>\n",
       "      <th>area</th>\n",
       "    </tr>\n",
       "  </thead>\n",
       "  <tbody>\n",
       "    <tr>\n",
       "      <th>California</th>\n",
       "      <td>39538223</td>\n",
       "      <td>423967</td>\n",
       "    </tr>\n",
       "    <tr>\n",
       "      <th>Texas</th>\n",
       "      <td>29145505</td>\n",
       "      <td>695662</td>\n",
       "    </tr>\n",
       "    <tr>\n",
       "      <th>Florida</th>\n",
       "      <td>21538187</td>\n",
       "      <td>170312</td>\n",
       "    </tr>\n",
       "    <tr>\n",
       "      <th>New York</th>\n",
       "      <td>20201249</td>\n",
       "      <td>141297</td>\n",
       "    </tr>\n",
       "  </tbody>\n",
       "</table>\n",
       "</div>"
      ],
      "text/plain": [
       "            population    area\n",
       "California    39538223  423967\n",
       "Texas         29145505  695662\n",
       "Florida       21538187  170312\n",
       "New York      20201249  141297"
      ]
     },
     "execution_count": 49,
     "metadata": {},
     "output_type": "execute_result"
    }
   ],
   "source": [
    "data = [\n",
    "    {'population':39538223, 'area':423967},\n",
    "    {'population':29145505, 'area':695662},\n",
    "    {'population':21538187, 'area':170312},\n",
    "    {'population':20201249, 'area':141297}\n",
    "]\n",
    "states = pd.DataFrame(data, index=[\"California\",\"Texas\",\"Florida\",\"New York\"])\n",
    "states"
   ]
  },
  {
   "cell_type": "markdown",
   "id": "4188365b-f1bf-4ef3-bbfe-c49c50eecbb2",
   "metadata": {
    "editable": true,
    "slideshow": {
     "slide_type": "slide"
    },
    "tags": []
   },
   "source": [
    "A DataFrame can be constructed from a two-dimensional NumPy array:<br><br>"
   ]
  },
  {
   "cell_type": "code",
   "execution_count": 50,
   "id": "ba8a16ce-5cf3-41ff-9ef9-edad24e1c905",
   "metadata": {},
   "outputs": [
    {
     "data": {
      "text/html": [
       "<div>\n",
       "<style scoped>\n",
       "    .dataframe tbody tr th:only-of-type {\n",
       "        vertical-align: middle;\n",
       "    }\n",
       "\n",
       "    .dataframe tbody tr th {\n",
       "        vertical-align: top;\n",
       "    }\n",
       "\n",
       "    .dataframe thead th {\n",
       "        text-align: right;\n",
       "    }\n",
       "</style>\n",
       "<table border=\"1\" class=\"dataframe\">\n",
       "  <thead>\n",
       "    <tr style=\"text-align: right;\">\n",
       "      <th></th>\n",
       "      <th>population</th>\n",
       "      <th>area</th>\n",
       "    </tr>\n",
       "  </thead>\n",
       "  <tbody>\n",
       "    <tr>\n",
       "      <th>California</th>\n",
       "      <td>39538223</td>\n",
       "      <td>423967</td>\n",
       "    </tr>\n",
       "    <tr>\n",
       "      <th>Texas</th>\n",
       "      <td>29145505</td>\n",
       "      <td>695662</td>\n",
       "    </tr>\n",
       "    <tr>\n",
       "      <th>Florida</th>\n",
       "      <td>21538187</td>\n",
       "      <td>170312</td>\n",
       "    </tr>\n",
       "    <tr>\n",
       "      <th>New York</th>\n",
       "      <td>20201249</td>\n",
       "      <td>141297</td>\n",
       "    </tr>\n",
       "  </tbody>\n",
       "</table>\n",
       "</div>"
      ],
      "text/plain": [
       "            population    area\n",
       "California    39538223  423967\n",
       "Texas         29145505  695662\n",
       "Florida       21538187  170312\n",
       "New York      20201249  141297"
      ]
     },
     "execution_count": 50,
     "metadata": {},
     "output_type": "execute_result"
    }
   ],
   "source": [
    "data = np.array([[39538223,   423967],\n",
    "          [29145505,   695662],\n",
    "          [21538187,   170312],\n",
    "          [20201249,   141297]])\n",
    "states = pd.DataFrame(data,\n",
    "                      columns=[\"population\",\"area\"],\n",
    "                      index=[\"California\",\"Texas\",\"Florida\",\"New York\"])\n",
    "states"
   ]
  },
  {
   "cell_type": "markdown",
   "id": "85a93a3f-989a-4e09-9e3d-a92745d4e4e4",
   "metadata": {
    "editable": true,
    "slideshow": {
     "slide_type": "slide"
    },
    "tags": []
   },
   "source": [
    "A DataFrame can integrate indexes in different orders<br><br>"
   ]
  },
  {
   "cell_type": "code",
   "execution_count": 62,
   "id": "ad6f6ab0-24c3-4468-8337-b883180909d4",
   "metadata": {},
   "outputs": [
    {
     "data": {
      "text/html": [
       "<div>\n",
       "<style scoped>\n",
       "    .dataframe tbody tr th:only-of-type {\n",
       "        vertical-align: middle;\n",
       "    }\n",
       "\n",
       "    .dataframe tbody tr th {\n",
       "        vertical-align: top;\n",
       "    }\n",
       "\n",
       "    .dataframe thead th {\n",
       "        text-align: right;\n",
       "    }\n",
       "</style>\n",
       "<table border=\"1\" class=\"dataframe\">\n",
       "  <thead>\n",
       "    <tr style=\"text-align: right;\">\n",
       "      <th></th>\n",
       "      <th>population</th>\n",
       "      <th>area</th>\n",
       "    </tr>\n",
       "  </thead>\n",
       "  <tbody>\n",
       "    <tr>\n",
       "      <th>California</th>\n",
       "      <td>39538223</td>\n",
       "      <td>423967</td>\n",
       "    </tr>\n",
       "    <tr>\n",
       "      <th>Florida</th>\n",
       "      <td>21538187</td>\n",
       "      <td>170312</td>\n",
       "    </tr>\n",
       "    <tr>\n",
       "      <th>New York</th>\n",
       "      <td>20201249</td>\n",
       "      <td>141297</td>\n",
       "    </tr>\n",
       "    <tr>\n",
       "      <th>Texas</th>\n",
       "      <td>29145505</td>\n",
       "      <td>695662</td>\n",
       "    </tr>\n",
       "  </tbody>\n",
       "</table>\n",
       "</div>"
      ],
      "text/plain": [
       "            population    area\n",
       "California    39538223  423967\n",
       "Florida       21538187  170312\n",
       "New York      20201249  141297\n",
       "Texas         29145505  695662"
      ]
     },
     "execution_count": 62,
     "metadata": {},
     "output_type": "execute_result"
    }
   ],
   "source": [
    "cities1 = ['California','Texas','Florida','New York']\n",
    "population = pd.Series([39538223,29145505,21538187,20201249], index=cities1)\n",
    "cities2 = ['Texas','Florida','New York','California']\n",
    "area = pd.Series([695662, 170312, 141297, 423967], index=cities2)\n",
    "states = pd.DataFrame({'population':population, 'area':area})\n",
    "states"
   ]
  },
  {
   "cell_type": "markdown",
   "id": "1c24c2ca-3f56-4035-b832-13ca13b67188",
   "metadata": {
    "editable": true,
    "slideshow": {
     "slide_type": "slide"
    },
    "tags": []
   },
   "source": [
    "A DataFrame can integrate indexes with different values\n",
    "* *Missing* values are filled with `NaN`s <br><br>"
   ]
  },
  {
   "cell_type": "code",
   "execution_count": 64,
   "id": "ae300a20-bf80-4c34-92b5-814788c2dc88",
   "metadata": {},
   "outputs": [
    {
     "data": {
      "text/html": [
       "<div>\n",
       "<style scoped>\n",
       "    .dataframe tbody tr th:only-of-type {\n",
       "        vertical-align: middle;\n",
       "    }\n",
       "\n",
       "    .dataframe tbody tr th {\n",
       "        vertical-align: top;\n",
       "    }\n",
       "\n",
       "    .dataframe thead th {\n",
       "        text-align: right;\n",
       "    }\n",
       "</style>\n",
       "<table border=\"1\" class=\"dataframe\">\n",
       "  <thead>\n",
       "    <tr style=\"text-align: right;\">\n",
       "      <th></th>\n",
       "      <th>population</th>\n",
       "      <th>area</th>\n",
       "    </tr>\n",
       "  </thead>\n",
       "  <tbody>\n",
       "    <tr>\n",
       "      <th>California</th>\n",
       "      <td>39538223.0</td>\n",
       "      <td>NaN</td>\n",
       "    </tr>\n",
       "    <tr>\n",
       "      <th>Florida</th>\n",
       "      <td>21538187.0</td>\n",
       "      <td>170312.0</td>\n",
       "    </tr>\n",
       "    <tr>\n",
       "      <th>New York</th>\n",
       "      <td>NaN</td>\n",
       "      <td>141297.0</td>\n",
       "    </tr>\n",
       "    <tr>\n",
       "      <th>Texas</th>\n",
       "      <td>29145505.0</td>\n",
       "      <td>695662.0</td>\n",
       "    </tr>\n",
       "  </tbody>\n",
       "</table>\n",
       "</div>"
      ],
      "text/plain": [
       "            population      area\n",
       "California  39538223.0       NaN\n",
       "Florida     21538187.0  170312.0\n",
       "New York           NaN  141297.0\n",
       "Texas       29145505.0  695662.0"
      ]
     },
     "execution_count": 64,
     "metadata": {},
     "output_type": "execute_result"
    }
   ],
   "source": [
    "cities1 = ['California','Texas','Florida']\n",
    "population = pd.Series([39538223,29145505,21538187], index=cities1)\n",
    "cities2 = ['Texas','Florida','New York']\n",
    "area = pd.Series([695662, 170312, 141297], index=cities2)\n",
    "states = pd.DataFrame({'population':population, 'area':area})\n",
    "states"
   ]
  },
  {
   "cell_type": "markdown",
   "id": "1554378b-f66a-4d2a-8895-882d6925ec7f",
   "metadata": {
    "editable": true,
    "slideshow": {
     "slide_type": "slide"
    },
    "tags": []
   },
   "source": [
    "## Pandas Index"
   ]
  },
  {
   "cell_type": "markdown",
   "id": "1e7e231f-e223-4ee0-8fe7-fbe673f13d27",
   "metadata": {
    "editable": true,
    "slideshow": {
     "slide_type": "slide"
    },
    "tags": []
   },
   "source": [
    "## Indeing and Selection"
   ]
  },
  {
   "cell_type": "markdown",
   "id": "f4e1fe69-7cdb-4625-9066-21d273e9aa6a",
   "metadata": {
    "editable": true,
    "slideshow": {
     "slide_type": "slide"
    },
    "tags": []
   },
   "source": [
    "## Operating on Data"
   ]
  },
  {
   "cell_type": "markdown",
   "id": "ba83c058-6fe3-4f80-80f2-340d8221442b",
   "metadata": {
    "editable": true,
    "slideshow": {
     "slide_type": "slide"
    },
    "tags": []
   },
   "source": [
    "## Handling Missing Data"
   ]
  },
  {
   "cell_type": "markdown",
   "id": "68d0ae86-5336-432d-9493-8d9c7237511e",
   "metadata": {
    "editable": true,
    "slideshow": {
     "slide_type": "slide"
    },
    "tags": []
   },
   "source": [
    "## Hierarchical Indexing???"
   ]
  },
  {
   "cell_type": "markdown",
   "id": "76844609-ae41-4884-9313-22fabbc6bdc9",
   "metadata": {},
   "source": [
    "## Combining Datasets: Concat and Append"
   ]
  },
  {
   "cell_type": "code",
   "execution_count": null,
   "id": "f61c6699-430b-4f92-b5fc-ad4c168d9fa2",
   "metadata": {},
   "outputs": [],
   "source": []
  }
 ],
 "metadata": {
  "kernelspec": {
   "display_name": "Python 3 (ipykernel)",
   "language": "python",
   "name": "python3"
  },
  "language_info": {
   "codemirror_mode": {
    "name": "ipython",
    "version": 3
   },
   "file_extension": ".py",
   "mimetype": "text/x-python",
   "name": "python",
   "nbconvert_exporter": "python",
   "pygments_lexer": "ipython3",
   "version": "3.12.6"
  }
 },
 "nbformat": 4,
 "nbformat_minor": 5
}
