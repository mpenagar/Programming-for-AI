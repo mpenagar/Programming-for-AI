{
 "cells": [
  {
   "cell_type": "markdown",
   "metadata": {
    "editable": true,
    "slideshow": {
     "slide_type": "slide"
    },
    "tags": []
   },
   "source": [
    "# Introduction to Git & GitHub"
   ]
  },
  {
   "cell_type": "markdown",
   "metadata": {
    "editable": true,
    "slideshow": {
     "slide_type": "slide"
    },
    "tags": []
   },
   "source": [
    "## Git, a Distributed Version Control System "
   ]
  },
  {
   "cell_type": "markdown",
   "metadata": {
    "editable": true,
    "slideshow": {
     "slide_type": "fragment"
    },
    "tags": []
   },
   "source": [
    "* Created in 2005 for the development of the Linux kernel."
   ]
  },
  {
   "cell_type": "markdown",
   "metadata": {
    "editable": true,
    "slideshow": {
     "slide_type": "fragment"
    },
    "tags": []
   },
   "source": [
    "* **Version Control**: Tracks changes made to files over time, letting you revert to previous versions, compare changes or recover lost work."
   ]
  },
  {
   "cell_type": "markdown",
   "metadata": {
    "editable": true,
    "slideshow": {
     "slide_type": "fragment"
    },
    "tags": []
   },
   "source": [
    "* **Distributed**: Every developer has a full copy of the repository, including its full history, so they can work offline and sync later or recover from central server failure."
   ]
  },
  {
   "cell_type": "markdown",
   "metadata": {
    "editable": true,
    "slideshow": {
     "slide_type": "fragment"
    },
    "tags": []
   },
   "source": [
    "* **Branching and Merging**: Easy to create branches for experimenting or developing features, then merge them back into the main codebase. Allows collavorative work on the same project simultaneously without overwriting each other's work"
   ]
  },
  {
   "cell_type": "markdown",
   "metadata": {
    "editable": true,
    "slideshow": {
     "slide_type": "fragment"
    },
    "tags": []
   },
   "source": [
    "* **Fast and Lightweight**: Optimized for speed and efficiency, handling large projects with minimal overhead."
   ]
  },
  {
   "cell_type": "markdown",
   "metadata": {
    "editable": true,
    "slideshow": {
     "slide_type": "slide"
    },
    "tags": []
   },
   "source": [
    "### Centralized vs Distributed Version Control System "
   ]
  },
  {
   "cell_type": "markdown",
   "metadata": {
    "editable": true,
    "slideshow": {
     "slide_type": "fragment"
    },
    "tags": []
   },
   "source": [
    "<center><img src=\"img/centralized_vcs.webp\" alt=\"Centralized Version Control System\" style=\"width: 50%;\"/></center>"
   ]
  },
  {
   "cell_type": "markdown",
   "metadata": {
    "editable": true,
    "slideshow": {
     "slide_type": "fragment"
    },
    "tags": []
   },
   "source": [
    "<center><img src=\"img/distributed_vcs.webp\" alt=\"Distributed Version Control System\" style=\"width: 50%;\"/></center>"
   ]
  },
  {
   "cell_type": "markdown",
   "metadata": {
    "editable": true,
    "slideshow": {
     "slide_type": "slide"
    },
    "tags": []
   },
   "source": [
    "## Git - The three stages\n",
    "\n",
    "Files in a repository go through three stages (phases):"
   ]
  },
  {
   "cell_type": "markdown",
   "metadata": {
    "editable": true,
    "slideshow": {
     "slide_type": "fragment"
    },
    "tags": []
   },
   "source": [
    "1. **Untracked/Modified**: It is either a new file that Git hasn’t seen yet (untracked) or a known file that has changed but not yet been indexed (modified).\n",
    "> &rarr; Area: *Working Directory or Workspace*"
   ]
  },
  {
   "cell_type": "markdown",
   "metadata": {
    "editable": true,
    "slideshow": {
     "slide_type": "fragment"
    },
    "tags": []
   },
   "source": [
    "2. **Staged**: The file has been added to git's version control but changes have not been committed.\n",
    "> &rarr; Area: *Staging or Index* "
   ]
  },
  {
   "cell_type": "markdown",
   "metadata": {
    "editable": true,
    "slideshow": {
     "slide_type": "fragment"
    },
    "tags": []
   },
   "source": [
    "3. **Committed**: : the change has been committed (a new snapshot is created).\n",
    "> &rarr; Area: Local/Remote repository"
   ]
  },
  {
   "cell_type": "markdown",
   "metadata": {
    "editable": true,
    "slideshow": {
     "slide_type": "slide"
    },
    "tags": []
   },
   "source": [
    "Git commands provide the means to move them from one stage to another stage:\n",
    "\n",
    "<center><img src=\"img/git_commands2.webp\" alt=\"git_commands\" style=\"width: 70%;\"/></center>"
   ]
  },
  {
   "cell_type": "markdown",
   "metadata": {
    "editable": true,
    "slideshow": {
     "slide_type": "slide"
    },
    "tags": []
   },
   "source": [
    "## Git - Initial Setup"
   ]
  },
  {
   "cell_type": "markdown",
   "metadata": {
    "editable": true,
    "slideshow": {
     "slide_type": "fragment"
    },
    "tags": []
   },
   "source": [
    "Git needs to be able to <u>identify you</u> and provide a <u>means of contact</u>. When you first start working with Git, you need to do a couple of initial setup steps to configure this information:\n",
    "\n",
    "```bash\n",
    "git config --global user.name \"Your name\"\n",
    "git config --global user.email \"your.email@yourmailserver.com\"\n",
    "```"
   ]
  },
  {
   "cell_type": "code",
   "execution_count": 1,
   "metadata": {
    "editable": true,
    "slideshow": {
     "slide_type": ""
    },
    "tags": []
   },
   "outputs": [],
   "source": [
    "%%bash\n",
    "git config --global user.name \"Mikel Penagarikano\"\n",
    "git config --global user.email \"mpenagar@yahoo.es\""
   ]
  },
  {
   "cell_type": "markdown",
   "metadata": {
    "editable": true,
    "slideshow": {
     "slide_type": "fragment"
    },
    "tags": []
   },
   "source": [
    "The command `git config --list` displays the existing Git config settings:"
   ]
  },
  {
   "cell_type": "code",
   "execution_count": 2,
   "metadata": {
    "editable": true,
    "slideshow": {
     "slide_type": ""
    },
    "tags": []
   },
   "outputs": [
    {
     "name": "stdout",
     "output_type": "stream",
     "text": [
      "filter.lfs.clean=git-lfs clean -- %f\n",
      "filter.lfs.smudge=git-lfs smudge -- %f\n",
      "filter.lfs.process=git-lfs filter-process\n",
      "filter.lfs.required=true\n",
      "user.email=mpenagar@yahoo.es\n",
      "user.name=Mikel Penagarikano\n"
     ]
    }
   ],
   "source": [
    "!cd && git config --list"
   ]
  },
  {
   "cell_type": "markdown",
   "metadata": {
    "editable": true,
    "slideshow": {
     "slide_type": "slide"
    },
    "tags": []
   },
   "source": [
    "## Non-collaborative Git workflow cycle"
   ]
  },
  {
   "cell_type": "markdown",
   "metadata": {
    "editable": true,
    "slideshow": {
     "slide_type": "slide"
    },
    "tags": []
   },
   "source": [
    "1. **Initialize or Clone project**:\n",
    "   * <u>New Project</u>: Inside the project folder, `git init` creates a new repository\n",
    "   * <u>Existing Project</u>: Anywhere, `git clone <repository_url>` downloads a copy of a remote repository.\n"
   ]
  },
  {
   "cell_type": "code",
   "execution_count": 3,
   "metadata": {
    "editable": true,
    "slideshow": {
     "slide_type": "fragment"
    },
    "tags": []
   },
   "outputs": [
    {
     "name": "stdout",
     "output_type": "stream",
     "text": [
      "\u001b[33mhint: Using 'master' as the name for the initial branch. This default branch name\u001b[m\n",
      "\u001b[33mhint: is subject to change. To configure the initial branch name to use in all\u001b[m\n",
      "\u001b[33mhint: of your new repositories, which will suppress this warning, call:\u001b[m\n",
      "\u001b[33mhint: \u001b[m\n",
      "\u001b[33mhint: \tgit config --global init.defaultBranch <name>\u001b[m\n",
      "\u001b[33mhint: \u001b[m\n",
      "\u001b[33mhint: Names commonly chosen instead of 'master' are 'main', 'trunk' and\u001b[m\n",
      "\u001b[33mhint: 'development'. The just-created branch can be renamed via this command:\u001b[m\n",
      "\u001b[33mhint: \u001b[m\n",
      "\u001b[33mhint: \tgit branch -m <name>\u001b[m\n",
      "Initialized empty Git repository in /home/jupyter-mpenagaricano/my_project/.git/\n"
     ]
    }
   ],
   "source": [
    "!rm -rf ~/my_project\n",
    "!cd && mkdir my_project && cd my_project && git init"
   ]
  },
  {
   "cell_type": "markdown",
   "metadata": {
    "editable": true,
    "slideshow": {
     "slide_type": "slide"
    },
    "tags": []
   },
   "source": [
    "2. **Make Changes**:\n",
    "   * Create, edit, remove files..."
   ]
  },
  {
   "cell_type": "code",
   "execution_count": 4,
   "metadata": {
    "editable": true,
    "slideshow": {
     "slide_type": "fragment"
    },
    "tags": []
   },
   "outputs": [
    {
     "name": "stdout",
     "output_type": "stream",
     "text": [
      "  99968  824538 4455996 bible.txt\n",
      "  12871   25741  207567 words.txt\n",
      " 112839  850279 4663563 total\n",
      "total 4556\n",
      "-rw-r--r-- 1 jupyter-mpenagaricano jupyter-mpenagaricano 4455996 Apr  6 16:37 bible.txt\n",
      "-rw-r--r-- 1 jupyter-mpenagaricano jupyter-mpenagaricano  207567 Apr  6 16:37 words.txt\n"
     ]
    }
   ],
   "source": [
    "%%bash\n",
    "cd ~/my_project\n",
    "curl https://www.gutenberg.org/cache/epub/10/pg10.txt -o bible.txt 2> /dev/null\n",
    "cat bible.txt | \\\n",
    "    tr [:upper:] [:lower:] | tr -c '[:alpha:]\\n' ' ' | tr ' ' '\\n' | \\\n",
    "    sort | uniq -c | sort -nr > words.txt\n",
    "wc *\n",
    "ls -l"
   ]
  },
  {
   "cell_type": "markdown",
   "metadata": {
    "editable": true,
    "slideshow": {
     "slide_type": "slide"
    },
    "tags": []
   },
   "source": [
    "3. **Stage Changes**:\n",
    "   * Choose which changes you want to include in the next commit and add them to the Staging Area\n",
    "      * `git add <filename>` Add a specific file\n",
    "      * `git add .` Recursively add all files in the directory\n",
    "   * Review changes\n",
    "      * `git status` Review changes made to the staging"
   ]
  },
  {
   "cell_type": "code",
   "execution_count": 5,
   "metadata": {
    "editable": true,
    "slideshow": {
     "slide_type": "fragment"
    },
    "tags": []
   },
   "outputs": [
    {
     "name": "stdout",
     "output_type": "stream",
     "text": [
      "On branch master\n",
      "\n",
      "No commits yet\n",
      "\n",
      "Changes to be committed:\n",
      "  (use \"git rm --cached <file>...\" to unstage)\n",
      "\t\u001b[32mnew file:   bible.txt\u001b[m\n",
      "\n",
      "Untracked files:\n",
      "  (use \"git add <file>...\" to include in what will be committed)\n",
      "\t\u001b[31mwords.txt\u001b[m\n",
      "\n"
     ]
    }
   ],
   "source": [
    "!cd ~/my_project && git add bible.txt && git status"
   ]
  },
  {
   "cell_type": "code",
   "execution_count": 6,
   "metadata": {
    "editable": true,
    "slideshow": {
     "slide_type": "slide"
    },
    "tags": []
   },
   "outputs": [
    {
     "name": "stdout",
     "output_type": "stream",
     "text": [
      "On branch master\n",
      "\n",
      "No commits yet\n",
      "\n",
      "Changes to be committed:\n",
      "  (use \"git rm --cached <file>...\" to unstage)\n",
      "\t\u001b[32mnew file:   bible.txt\u001b[m\n",
      "\t\u001b[32mnew file:   words.txt\u001b[m\n",
      "\n"
     ]
    }
   ],
   "source": [
    "!cd ~/my_project && git add . && git status"
   ]
  },
  {
   "cell_type": "markdown",
   "metadata": {
    "editable": true,
    "slideshow": {
     "slide_type": "slide"
    },
    "tags": []
   },
   "source": [
    "4. **Commit Changes**:\n",
    "   * Save the staged changes as a permanent snapshot in your <u>Local Repository</u>.\n",
    "   * Add a descriptive message explaining what was changed and why.\n",
    "   * `git commit -m \"Your descriptive commit message\"`"
   ]
  },
  {
   "cell_type": "code",
   "execution_count": 7,
   "metadata": {
    "editable": true,
    "slideshow": {
     "slide_type": "slide"
    },
    "tags": []
   },
   "outputs": [
    {
     "name": "stdout",
     "output_type": "stream",
     "text": [
      "[master (root-commit) fc05cdd] My first commitment\n",
      " 2 files changed, 112839 insertions(+)\n",
      " create mode 100644 bible.txt\n",
      " create mode 100644 words.txt\n",
      "On branch master\n",
      "nothing to commit, working tree clean\n"
     ]
    }
   ],
   "source": [
    "!cd ~/my_project && git commit -m \"My first commitment\" && git status"
   ]
  },
  {
   "cell_type": "markdown",
   "metadata": {
    "editable": true,
    "slideshow": {
     "slide_type": "slide"
    },
    "tags": []
   },
   "source": [
    "Most frequent task: commit all changes to <u>existing tracked files</u>.\n",
    "\n",
    "* `git commit -a` which is equivalent to:\n",
    "   * `git add -u && git commit`\n",
    "   * `-u` option: Stages already tracked files (modified/deleted but not new ones)\n",
    "* If there are new files &rarr; `git add . && git commit`"
   ]
  },
  {
   "cell_type": "code",
   "execution_count": 8,
   "metadata": {
    "editable": true,
    "slideshow": {
     "slide_type": "slide"
    },
    "tags": []
   },
   "outputs": [
    {
     "name": "stdout",
     "output_type": "stream",
     "text": [
      "bible.txt  words.txt\n"
     ]
    }
   ],
   "source": [
    "!ls ~/my_project"
   ]
  },
  {
   "cell_type": "code",
   "execution_count": 9,
   "metadata": {
    "editable": true,
    "slideshow": {
     "slide_type": "fragment"
    },
    "tags": []
   },
   "outputs": [
    {
     "name": "stdout",
     "output_type": "stream",
     "text": [
      "[master 48d8779] git test\n",
      " 1 file changed, 1 insertion(+)\n"
     ]
    }
   ],
   "source": [
    "!cd ~/my_project && echo \"some text\" >> bible.txt && git commit -a -m \"git test\""
   ]
  },
  {
   "cell_type": "code",
   "execution_count": 10,
   "metadata": {
    "editable": true,
    "slideshow": {
     "slide_type": "fragment"
    },
    "tags": []
   },
   "outputs": [
    {
     "name": "stdout",
     "output_type": "stream",
     "text": [
      "On branch master\n",
      "Untracked files:\n",
      "  (use \"git add <file>...\" to include in what will be committed)\n",
      "\t\u001b[31mtest.txt\u001b[m\n",
      "\n",
      "nothing added to commit but untracked files present (use \"git add\" to track)\n"
     ]
    }
   ],
   "source": [
    "!cd ~/my_project && echo \"some text\" > test.txt && git commit -a -m \"git test\""
   ]
  },
  {
   "cell_type": "code",
   "execution_count": 11,
   "metadata": {
    "editable": true,
    "slideshow": {
     "slide_type": "fragment"
    },
    "tags": []
   },
   "outputs": [
    {
     "name": "stdout",
     "output_type": "stream",
     "text": [
      "[master c24f5aa] git test 2\n",
      " 1 file changed, 1 insertion(+)\n",
      " create mode 100644 test.txt\n"
     ]
    }
   ],
   "source": [
    "!cd ~/my_project && git add . && git commit -m \"git test 2\""
   ]
  },
  {
   "cell_type": "markdown",
   "metadata": {
    "editable": true,
    "slideshow": {
     "slide_type": "slide"
    },
    "tags": []
   },
   "source": [
    "## Branching & Merging"
   ]
  },
  {
   "cell_type": "markdown",
   "metadata": {
    "editable": true,
    "slideshow": {
     "slide_type": "fragment"
    },
    "tags": []
   },
   "source": [
    "Git branching and merging are key features that <u>allow to work on different tasks/features without affecting the main codebase</u>. \n",
    "\n",
    "<center><img src=\"img/git_branch_merge.png\" alt=\"git branch and merge\" style=\"width: 90%;\"/></center>"
   ]
  },
  {
   "cell_type": "markdown",
   "metadata": {
    "editable": true,
    "slideshow": {
     "slide_type": "slide"
    },
    "tags": []
   },
   "source": [
    "There can be many branches and all of them (as well as the the master/main branch) can evolve simultaneously.\n",
    "\n",
    "<center><img src=\"img/git-branches.png\" alt=\"git branchs\" style=\"width: 70%;\"/></center>"
   ]
  },
  {
   "cell_type": "markdown",
   "metadata": {
    "editable": true,
    "slideshow": {
     "slide_type": "slide"
    },
    "tags": []
   },
   "source": [
    "### Branching in Git\n",
    "\n",
    "* New branches can be created on demand\n",
    "```bash\n",
    "git branch new_branch_name\n",
    "```\n",
    "* Workspace can be switched to any existing branch\n",
    "```bash\n",
    "git checkout a_branch_name  # old style\n",
    "git switch a_branch_name  # new style\n",
    "```\n",
    "* Branch creation and switch in a single command:\n",
    "```bash\n",
    "git checkout -b a_branch_name  # old style\n",
    "git switch -c a_branch_name  # new style\n",
    "```  "
   ]
  },
  {
   "cell_type": "code",
   "execution_count": 12,
   "metadata": {},
   "outputs": [
    {
     "name": "stderr",
     "output_type": "stream",
     "text": [
      "Switched to a new branch 'test1'\n"
     ]
    },
    {
     "name": "stdout",
     "output_type": "stream",
     "text": [
      "[test1 d8e6616] the message\n",
      " 1 file changed, 1 insertion(+)\n",
      " create mode 100644 new_feature.txt\n"
     ]
    }
   ],
   "source": [
    "%%bash\n",
    "cd ~/my_project\n",
    "git switch -c \"test1\"\n",
    "echo \"some text\" > new_feature.txt\n",
    "git add . && git commit -m \"the message\""
   ]
  },
  {
   "cell_type": "code",
   "execution_count": 13,
   "metadata": {
    "editable": true,
    "slideshow": {
     "slide_type": "slide"
    },
    "tags": []
   },
   "outputs": [
    {
     "name": "stdout",
     "output_type": "stream",
     "text": [
      "▬▬▬ ls ▬▬▬\n",
      "bible.txt\n",
      "new_feature.txt\n",
      "test.txt\n",
      "words.txt\n"
     ]
    },
    {
     "name": "stderr",
     "output_type": "stream",
     "text": [
      "Switched to branch 'master'\n"
     ]
    },
    {
     "name": "stdout",
     "output_type": "stream",
     "text": [
      "▬▬▬ ls ▬▬▬\n",
      "bible.txt\n",
      "test.txt\n",
      "words.txt\n"
     ]
    },
    {
     "name": "stderr",
     "output_type": "stream",
     "text": [
      "Switched to branch 'test1'\n"
     ]
    },
    {
     "name": "stdout",
     "output_type": "stream",
     "text": [
      "▬▬▬ ls ▬▬▬\n",
      "bible.txt\n",
      "new_feature.txt\n",
      "test.txt\n",
      "words.txt\n"
     ]
    }
   ],
   "source": [
    "%%bash\n",
    "cd ~/my_project\n",
    "echo \"▬▬▬ ls ▬▬▬\" && ls\n",
    "git switch master\n",
    "echo \"▬▬▬ ls ▬▬▬\" && ls\n",
    "git switch test1\n",
    "echo \"▬▬▬ ls ▬▬▬\" && ls"
   ]
  },
  {
   "cell_type": "markdown",
   "metadata": {
    "editable": true,
    "slideshow": {
     "slide_type": "slide"
    },
    "tags": []
   },
   "source": [
    "### Merging in Git"
   ]
  },
  {
   "cell_type": "markdown",
   "metadata": {
    "editable": true,
    "slideshow": {
     "slide_type": "fragment"
    },
    "tags": []
   },
   "source": [
    "* Combine changes from one branch into another\n",
    "   * Typically: `feature/bug` branch &rarr; `master/main` branch\n",
    "   * `git merge src_branch_name`: merges the source branch into the current branch"
   ]
  },
  {
   "cell_type": "markdown",
   "metadata": {
    "editable": true,
    "slideshow": {
     "slide_type": "fragment"
    },
    "tags": []
   },
   "source": [
    "* Steps:\n",
    "    1. **Find the Common Ancestor**: last common commit between the branches.\n",
    "    2. **Compare the Changes**\n",
    "    3. **Apply the Changes**... If possible &rarr; **Merge Conflicts**"
   ]
  },
  {
   "cell_type": "markdown",
   "metadata": {
    "editable": true,
    "slideshow": {
     "slide_type": "slide"
    },
    "tags": []
   },
   "source": [
    "### Merge Conflicts\n",
    "\n",
    "A **merge conflict** happens whenever there are irreconcilable changes in both branches: \n",
    "\n",
    "* Different changes to the same lines in a text file\n",
    "* Different changes to a binary file\n",
    "* One branch deleted a file that the other branch modified\n",
    "* Different content in newly added file\n",
    "* Different changes to file permissions/modes\n",
    "* Different renaming of a file\n",
    "\n",
    "&rarr; **merge conflicts must be manually corrected**\n"
   ]
  },
  {
   "cell_type": "code",
   "execution_count": 14,
   "metadata": {
    "editable": true,
    "slideshow": {
     "slide_type": "slide"
    },
    "tags": []
   },
   "outputs": [
    {
     "name": "stderr",
     "output_type": "stream",
     "text": [
      "Already on 'test1'\n"
     ]
    },
    {
     "name": "stdout",
     "output_type": "stream",
     "text": [
      "▬▬▬ ls ▬▬▬\n",
      "bible.txt\n",
      "new_feature.txt\n",
      "test.txt\n",
      "words.txt\n"
     ]
    },
    {
     "name": "stderr",
     "output_type": "stream",
     "text": [
      "Switched to branch 'master'\n"
     ]
    },
    {
     "name": "stdout",
     "output_type": "stream",
     "text": [
      "▬▬▬ ls ▬▬▬\n",
      "bible.txt\n",
      "test.txt\n",
      "words.txt\n",
      "▬▬▬ git merge test1 ▬▬▬\n",
      "Updating c24f5aa..d8e6616\n",
      "Fast-forward\n",
      " new_feature.txt | 1 +\n",
      " 1 file changed, 1 insertion(+)\n",
      " create mode 100644 new_feature.txt\n",
      "▬▬▬ ls ▬▬▬\n",
      "bible.txt\n",
      "new_feature.txt\n",
      "test.txt\n",
      "words.txt\n"
     ]
    }
   ],
   "source": [
    "%%bash\n",
    "cd ~/my_project\n",
    "git switch test1\n",
    "echo \"▬▬▬ ls ▬▬▬\" && ls\n",
    "git switch master\n",
    "echo \"▬▬▬ ls ▬▬▬\" && ls\n",
    "echo \"▬▬▬ git merge test1 ▬▬▬\" && git merge test1\n",
    "echo \"▬▬▬ ls ▬▬▬\" && ls"
   ]
  },
  {
   "cell_type": "markdown",
   "metadata": {
    "editable": true,
    "slideshow": {
     "slide_type": "slide"
    },
    "tags": []
   },
   "source": [
    "An example of irreconcilable changes (conflicts):"
   ]
  },
  {
   "cell_type": "code",
   "execution_count": 15,
   "metadata": {
    "editable": true,
    "slideshow": {
     "slide_type": ""
    },
    "tags": []
   },
   "outputs": [
    {
     "name": "stderr",
     "output_type": "stream",
     "text": [
      "Switched to branch 'test1'\n"
     ]
    },
    {
     "name": "stdout",
     "output_type": "stream",
     "text": [
      "[test1 91454bb] the message\n",
      " 1 file changed, 1 insertion(+)\n"
     ]
    },
    {
     "name": "stderr",
     "output_type": "stream",
     "text": [
      "Switched to branch 'master'\n"
     ]
    },
    {
     "name": "stdout",
     "output_type": "stream",
     "text": [
      "[master ab885ee] the message\n",
      " 1 file changed, 1 insertion(+)\n"
     ]
    }
   ],
   "source": [
    "%%bash\n",
    "cd ~/my_project\n",
    "git switch test1\n",
    "echo \"something xxx\" >>  new_feature.txt \n",
    "git add . && git commit -m \"the message\"\n",
    "git switch master\n",
    "echo \"something yyy\" >>  new_feature.txt \n",
    "git add . && git commit -m \"the message\""
   ]
  },
  {
   "cell_type": "code",
   "execution_count": 16,
   "metadata": {
    "editable": true,
    "slideshow": {
     "slide_type": "fragment"
    },
    "tags": []
   },
   "outputs": [
    {
     "name": "stdout",
     "output_type": "stream",
     "text": [
      "Auto-merging new_feature.txt\n",
      "CONFLICT (content): Merge conflict in new_feature.txt\n",
      "Automatic merge failed; fix conflicts and then commit the result.\n",
      "▬▬▬ ERROR!!! ▬▬▬\n"
     ]
    }
   ],
   "source": [
    "%%bash\n",
    "cd ~/my_project\n",
    "git merge test1 || echo \"▬▬▬ ERROR!!! ▬▬▬\""
   ]
  },
  {
   "cell_type": "markdown",
   "metadata": {
    "editable": true,
    "slideshow": {
     "slide_type": "slide"
    },
    "tags": []
   },
   "source": [
    "**If the merging fails**:\n",
    "1. The merge process is paused\n",
    "1. The repository is left in a special *Merging* state\n",
    "1. Non-conflicting files are updated (staged or added to the index)\n",
    "1. Conflict marks (text) is added to conflicting text files\n",
    "\n",
    "**Two alternatives**:\n",
    "* Manually resolve the conflicts and commit\n",
    "   * Edit file &rarr; `git add <file>` &rarr; `git commit`\n",
    "* Abort the merge\n",
    "   * `git merge --abort`"
   ]
  },
  {
   "cell_type": "markdown",
   "metadata": {
    "editable": true,
    "slideshow": {
     "slide_type": "slide"
    },
    "tags": []
   },
   "source": [
    "<u>*Merging* state</u> example:"
   ]
  },
  {
   "cell_type": "code",
   "execution_count": 17,
   "metadata": {
    "editable": true,
    "slideshow": {
     "slide_type": ""
    },
    "tags": []
   },
   "outputs": [
    {
     "name": "stdout",
     "output_type": "stream",
     "text": [
      "some text\n",
      "<<<<<<< HEAD\n",
      "something yyy\n",
      "=======\n",
      "something xxx\n",
      ">>>>>>> test1\n"
     ]
    },
    {
     "name": "stderr",
     "output_type": "stream",
     "text": [
      "fatal: cannot switch branch while merging\n",
      "Consider \"git merge --quit\" or \"git worktree add\".\n"
     ]
    },
    {
     "name": "stdout",
     "output_type": "stream",
     "text": [
      "▬▬▬ ERROR!!! ▬▬▬\n"
     ]
    }
   ],
   "source": [
    "%%bash\n",
    "cd ~/my_project\n",
    "cat new_feature.txt\n",
    "git switch test1 && cat new_feature.txt || echo \"▬▬▬ ERROR!!! ▬▬▬\""
   ]
  },
  {
   "cell_type": "markdown",
   "metadata": {
    "editable": true,
    "slideshow": {
     "slide_type": "slide"
    },
    "tags": []
   },
   "source": [
    "#### Manually resolve the conflicts and commit"
   ]
  },
  {
   "cell_type": "code",
   "execution_count": 18,
   "metadata": {
    "editable": true,
    "slideshow": {
     "slide_type": ""
    },
    "tags": []
   },
   "outputs": [
    {
     "name": "stdout",
     "output_type": "stream",
     "text": [
      "some text\n",
      "something zzz\n"
     ]
    }
   ],
   "source": [
    "%%bash\n",
    "cd ~/my_project\n",
    "head -1 new_feature.txt > tmp_file\n",
    "echo \"something zzz\" >> tmp_file\n",
    "mv tmp_file new_feature.txt\n",
    "cat new_feature.txt"
   ]
  },
  {
   "cell_type": "code",
   "execution_count": 19,
   "metadata": {
    "editable": true,
    "slideshow": {
     "slide_type": "fragment"
    },
    "tags": []
   },
   "outputs": [
    {
     "name": "stdout",
     "output_type": "stream",
     "text": [
      "[master 81cb968] the message\n"
     ]
    }
   ],
   "source": [
    "%%bash\n",
    "cd ~/my_project\n",
    "git add new_feature.txt\n",
    "git commit -m \"the message\""
   ]
  },
  {
   "cell_type": "code",
   "execution_count": 23,
   "metadata": {
    "editable": true,
    "slideshow": {
     "slide_type": "fragment"
    },
    "tags": []
   },
   "outputs": [
    {
     "name": "stderr",
     "output_type": "stream",
     "text": [
      "Switched to branch 'test1'\n"
     ]
    },
    {
     "name": "stdout",
     "output_type": "stream",
     "text": [
      "some text\n",
      "something xxx\n"
     ]
    },
    {
     "name": "stderr",
     "output_type": "stream",
     "text": [
      "Switched to branch 'master'\n"
     ]
    },
    {
     "name": "stdout",
     "output_type": "stream",
     "text": [
      "some text\n",
      "something zzz\n"
     ]
    }
   ],
   "source": [
    "%%bash\n",
    "cd ~/my_project\n",
    "git switch test1 && cat new_feature.txt\n",
    "git switch master && cat new_feature.txt"
   ]
  },
  {
   "cell_type": "markdown",
   "metadata": {
    "editable": true,
    "slideshow": {
     "slide_type": "slide"
    },
    "tags": []
   },
   "source": [
    "#### Best practices instead of direct merging"
   ]
  },
  {
   "cell_type": "markdown",
   "metadata": {
    "editable": true,
    "slideshow": {
     "slide_type": ""
    },
    "tags": []
   },
   "source": [
    "First, let create a conflict:"
   ]
  },
  {
   "cell_type": "code",
   "execution_count": 31,
   "metadata": {
    "editable": true,
    "slideshow": {
     "slide_type": ""
    },
    "tags": []
   },
   "outputs": [
    {
     "name": "stderr",
     "output_type": "stream",
     "text": [
      "Switched to branch 'test1'\n"
     ]
    },
    {
     "name": "stdout",
     "output_type": "stream",
     "text": [
      "[test1 339a501] the message\n",
      " 1 file changed, 1 insertion(+)\n"
     ]
    },
    {
     "name": "stderr",
     "output_type": "stream",
     "text": [
      "Switched to branch 'master'\n"
     ]
    },
    {
     "name": "stdout",
     "output_type": "stream",
     "text": [
      "[master 7c97562] the message\n",
      " 1 file changed, 1 insertion(+)\n"
     ]
    }
   ],
   "source": [
    "%%bash\n",
    "cd ~/my_project\n",
    "git switch test1\n",
    "echo \"something xxx\" >> new_feature.txt\n",
    "git add . && git commit -m \"the message\"\n",
    "git switch master\n",
    "echo \"something yyy\" >> new_feature.txt\n",
    "git add . && git commit -m \"the message\""
   ]
  },
  {
   "cell_type": "markdown",
   "metadata": {
    "editable": true,
    "slideshow": {
     "slide_type": "slide"
    },
    "tags": []
   },
   "source": [
    "#### Best practices 1: check the merge without commiting"
   ]
  },
  {
   "cell_type": "code",
   "execution_count": 32,
   "metadata": {
    "editable": true,
    "slideshow": {
     "slide_type": "fragment"
    },
    "tags": []
   },
   "outputs": [
    {
     "name": "stdout",
     "output_type": "stream",
     "text": [
      "Auto-merging new_feature.txt\n",
      "CONFLICT (content): Merge conflict in new_feature.txt\n",
      "Automatic merge failed; fix conflicts and then commit the result.\n"
     ]
    }
   ],
   "source": [
    "%%bash\n",
    "cd ~/my_project\n",
    "git merge --no-commit --no-ff test1 || git merge --abort"
   ]
  },
  {
   "cell_type": "markdown",
   "metadata": {
    "editable": true,
    "slideshow": {
     "slide_type": ""
    },
    "tags": []
   },
   "source": [
    "* `git merge --no-commit --no-ff` &rarr; does not commit or fast forward\n",
    "* `|| git merge --abort` &rarr; if merge fails, abort it"
   ]
  },
  {
   "cell_type": "markdown",
   "metadata": {
    "editable": true,
    "slideshow": {
     "slide_type": "slide"
    },
    "tags": []
   },
   "source": [
    "#### Best practices 2: merge in a temporary branch"
   ]
  },
  {
   "cell_type": "code",
   "execution_count": 33,
   "metadata": {
    "editable": true,
    "slideshow": {
     "slide_type": "fragment"
    },
    "tags": []
   },
   "outputs": [
    {
     "name": "stderr",
     "output_type": "stream",
     "text": [
      "Already on 'master'\n",
      "Switched to a new branch 'tmp_branch_check'\n"
     ]
    },
    {
     "name": "stdout",
     "output_type": "stream",
     "text": [
      "Auto-merging new_feature.txt\n",
      "CONFLICT (content): Merge conflict in new_feature.txt\n",
      "Automatic merge failed; fix conflicts and then commit the result.\n"
     ]
    },
    {
     "name": "stderr",
     "output_type": "stream",
     "text": [
      "Switched to branch 'master'\n"
     ]
    },
    {
     "name": "stdout",
     "output_type": "stream",
     "text": [
      "Deleted branch tmp_branch_check (was 7c97562).\n"
     ]
    }
   ],
   "source": [
    "%%bash\n",
    "cd ~/my_project\n",
    "git switch master\n",
    "git switch -c tmp_branch_check\n",
    "git merge test1 || git merge --abort\n",
    "git switch master\n",
    "git branch -d tmp_branch_check"
   ]
  },
  {
   "cell_type": "markdown",
   "metadata": {
    "editable": true,
    "slideshow": {
     "slide_type": "slide"
    },
    "tags": []
   },
   "source": [
    "## Working with Remote Repositories"
   ]
  },
  {
   "cell_type": "markdown",
   "metadata": {
    "editable": true,
    "slideshow": {
     "slide_type": ""
    },
    "tags": []
   },
   "source": [
    " Remote repositories serve as common points for developers to synchronize their work. Key concepts:\n",
    "\n",
    " * **Remote** &rarr; URL references/aliases\n",
    " * **Cloning** &rarr; downloading a remote repository for the first time\n",
    " * **Fetching** &rarr; downloading new data from a remote repository\n",
    " * **Pulling** &rarr; downloading and merging new data from a remote repository\n",
    " * **Pushing** &rarr; uploading and merging new data to a remote repository"
   ]
  },
  {
   "cell_type": "markdown",
   "metadata": {
    "editable": true,
    "slideshow": {
     "slide_type": "slide"
    },
    "tags": []
   },
   "source": [
    "### Remote\n",
    "* A reference (a name associated with a URL) that points to another copy of the repository (hosted in GitHub, GitLab, private server...).\n",
    "* A cloned repository already has a remote called `origin`\n",
    "* `git remote -v` &rarr; display configured remotes"
   ]
  },
  {
   "cell_type": "code",
   "execution_count": 37,
   "metadata": {
    "editable": true,
    "slideshow": {
     "slide_type": ""
    },
    "tags": []
   },
   "outputs": [
    {
     "name": "stdout",
     "output_type": "stream",
     "text": [
      "origin\thttps://github.com/iurteagalab/stats_for_ai (fetch)\n",
      "origin\thttps://github.com/iurteagalab/stats_for_ai (push)\n"
     ]
    }
   ],
   "source": [
    "!cd ~/stats_for_ai && git remote -v"
   ]
  },
  {
   "cell_type": "markdown",
   "metadata": {
    "editable": true,
    "slideshow": {
     "slide_type": "slide"
    },
    "tags": []
   },
   "source": [
    "### Cloning\n",
    "* Usually the first step.\n",
    "* Downloads the entire repository from the remote URL.\n",
    "* Creates a new directory, initializes a full local Git repository, sets up the `origin` remote and checks out the default branch (`main` or `master`).\n",
    "* Creates *remote-tracking branches* (`origin/main` or `origin/master` and all other branches)\n",
    "* `git clone <repository-url>`"
   ]
  },
  {
   "cell_type": "code",
   "execution_count": 48,
   "metadata": {
    "editable": true,
    "slideshow": {
     "slide_type": ""
    },
    "tags": []
   },
   "outputs": [
    {
     "name": "stderr",
     "output_type": "stream",
     "text": [
      "Cloning into 'Programming-for-AI'...\n"
     ]
    },
    {
     "name": "stdout",
     "output_type": "stream",
     "text": [
      "origin\thttps://github.com/mpenagar/Programming-for-AI (fetch)\n",
      "origin\thttps://github.com/mpenagar/Programming-for-AI (push)\n"
     ]
    }
   ],
   "source": [
    "%%bash\n",
    "cd ~/tmp\n",
    "rm -rf Programming-for-AI\n",
    "git clone https://github.com/mpenagar/Programming-for-AI\n",
    "cd Programming-for-AI\n",
    "git remote -v"
   ]
  },
  {
   "cell_type": "markdown",
   "metadata": {
    "editable": true,
    "slideshow": {
     "slide_type": "slide"
    },
    "tags": []
   },
   "source": [
    "### Fetching\n",
    "* Downloads from a remote (`origin` by default) all the new data.\n",
    "* Updates *remote-tracking branches* (`origin/main` or `origin/master` and all other branches)\n",
    "* Does not change any local branch. \n",
    "* `git fetch origin` &rarr; update remote-tracking branch from `origin`\n",
    "\n",
    "An updated *remote-tracking branch* can be merged like any other branch \n",
    "* `git merge origin/main` &rarr; merge the remote changes"
   ]
  },
  {
   "cell_type": "markdown",
   "metadata": {
    "editable": true,
    "slideshow": {
     "slide_type": "fragment"
    },
    "tags": []
   },
   "source": [
    "### Pulling\n",
    "* Fetches a remote and then merges a branch (`git fetch` + `git merge`)\n",
    "* There is no way to check conflicts\n",
    "* `git remote -v` &rarr; display configured remotes"
   ]
  },
  {
   "cell_type": "markdown",
   "metadata": {
    "editable": true,
    "slideshow": {
     "slide_type": "slide"
    },
    "tags": []
   },
   "source": [
    "### Pushing\n",
    "* Updates a branch of the remote repository.\n",
    "* Remote branch cannot be ahead of local branch\n",
    "   * Local branch must include all the commits present on the remote branch.\n",
    "   * `git pull` (or better, `git fetch` + check + `git merge`) before `git push`\n",
    "* `git push <remote> <branch>` &rarr; use local branch to update remote branch\n",
    "* `git push --force <remote> <branch>` &rarr; **(DANGER!)** force push (if remote is ahead)"
   ]
  }
 ],
 "metadata": {
  "celltoolbar": "Slideshow",
  "kernelspec": {
   "display_name": "Python 3 (ipykernel)",
   "language": "python",
   "name": "python3"
  },
  "language_info": {
   "codemirror_mode": {
    "name": "ipython",
    "version": 3
   },
   "file_extension": ".py",
   "mimetype": "text/x-python",
   "name": "python",
   "nbconvert_exporter": "python",
   "pygments_lexer": "ipython3",
   "version": "3.12.6"
  }
 },
 "nbformat": 4,
 "nbformat_minor": 4
}
