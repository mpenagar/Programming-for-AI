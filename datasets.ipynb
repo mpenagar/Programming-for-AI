{
 "cells": [
  {
   "cell_type": "markdown",
   "id": "aa6fcac2-df4a-4c30-867c-e25162f77fa6",
   "metadata": {},
   "source": [
    "Datasets:\n",
    "\n",
    "* Multi-class Classification Task &rarr; Iris Dataset\n",
    "   * Number of Instances: 150\n",
    "   * Number of Features: 4 (sepal length, sepal width, petal length, petal width)\n",
    "   * Number of classes: 4\n",
    "* Binary Classification Task &rarr; Breast Cancer Wisconsin (Diagnostic) Dataset\n",
    "   * Number of Instances: 569\n",
    "   * Number of Features: 30 (real-valued features computed from digitized images of cell nuclei)\n",
    "   * Number of classes: 2 (Malignant/Benign)\n",
    "* Regression Task &rarr; Wine Quality Dataset\n",
    "   * Number of Instances: 4,900\n",
    "   * Number of Features: 11 (physicochemical tests)\n",
    "   * Prediction: quality score\n",
    "* "
   ]
  }
 ],
 "metadata": {
  "kernelspec": {
   "display_name": "Python 3 (ipykernel)",
   "language": "python",
   "name": "python3"
  },
  "language_info": {
   "codemirror_mode": {
    "name": "ipython",
    "version": 3
   },
   "file_extension": ".py",
   "mimetype": "text/x-python",
   "name": "python",
   "nbconvert_exporter": "python",
   "pygments_lexer": "ipython3",
   "version": "3.12.6"
  }
 },
 "nbformat": 4,
 "nbformat_minor": 5
}
